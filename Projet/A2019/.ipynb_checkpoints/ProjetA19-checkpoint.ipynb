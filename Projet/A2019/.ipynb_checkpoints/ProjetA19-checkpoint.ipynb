{
 "cells": [
  {
   "cell_type": "markdown",
   "metadata": {},
   "source": [
    "\n",
    "# MTH3302 : Méthodes probabilistes et statistiques pour l'I.A.\n",
    "\n",
    "Jonathan Jalbert<br/>\n",
    "Professeur adjoint au Département de mathématiques et de génie industriel<br/>\n",
    "Polytechnique Montréal<br/>\n",
    "\n",
    "Le projet a été développé à l'aide de Alice Breton, étudiante à la maîtrise en génie informatique. Elle a suivi le cours lors de la session Hiver 2019.\n",
    "\n",
    "\n",
    "\n",
    "# Projet : Débordement d'égouts\n",
    "\n",
    "La description du projet est disponible à l'adresse suivante :\n",
    "https://www.kaggle.com/t/a238b752c33a41d9803c2cdde6bfc929\n",
    "\n",
    "Ce calepin Jupyter de base permet de charger et de nettoyer les données fournies. La dernière section détaille la génération du fichier des prédictions afin de le soumettre sur Kaggle dans le bon format.\n",
    "\n",
    "Dans un premier temps, vous devrez récupérer l'archive *data.zip* sur Moodle. Ce dossier contient les fichiers suivants :\n",
    "- surverses.csv\n",
    "- precipitation.csv\n",
    "- ouvrages-surverses.csv\n",
    "- test.csv\n",
    "\n",
    "Veuillez le décompresser dans le répertoire de ce calepin.\n",
    "\n",
    "Le fichier *surverse.csv* répertorie s'il y a surverse (1) ou non (0) au cours de la journée pour les 170 ouvrages de débordement de 2013 à 2018 pour les mois de mai à octobre (inclusivement). Des renseignements additionnels sur les données sont disponibles à l'adresse suivante :\n",
    "\n",
    "http://donnees.ville.montreal.qc.ca/dataset/debordement\n",
    "\n",
    "\n",
    "Le fichier *precipitation.csv* contient les précipitations horaires en dixième de *mm* enregistrées à 5 stations pluviométriques de 2013 à 2019 :\n",
    "- McTavish (7024745)\n",
    "- Ste-Anne-de-Bellevue (702FHL8)\n",
    "- Montreal/Pierre Elliott Trudeau Intl (702S006)\n",
    "- Montreal/St-Hubert (7027329)\n",
    "- L’Assomption (7014160)\n",
    "\n",
    "Plus d'informations sur les précipitations sont disponibles à l'adresse suivante :\n",
    "\n",
    "https://climat.meteo.gc.ca/climate_data/hourly_data_f.html?hlyRange=2008-01-08%7C2019-11-12&dlyRange=2002-12-23%7C2019-11-12&mlyRange=%7C&StationID=30165&Prov=QC&urlExtension=_f.html&searchType=stnName&optLimit=yearRange&StartYear=1840&EndYear=2019&selRowPerPage=25&Line=17&searchMethod=contains&Month=11&Day=12&txtStationName=montreal&timeframe=1&Year=2019\n",
    "\n",
    "Le fichier *ouvrages-surverses.csv* contient différentes caractéristiques des ouvrages de débordement. \n",
    "\n",
    "http://donnees.ville.montreal.qc.ca/dataset/ouvrage-surverse\n",
    "\n",
    "Le fichier *test.csv* contient les ouvrages et les jours pour lesquels vous devez prédire s'il y a eu surverse (true) ou non (false). Notez que l'on s'intéresse ici à 5 ouvrages de débordement localisés tout autour de l'Ile de Montréal :\n",
    "- 3260-01D dans Rivière-des-Prairies \n",
    "- 3350-07D dans Ahunstic \n",
    "- 4240-01D dans Pointe-aux-Trembles \n",
    "- 4350-01D dans le Vieux-Montréal \n",
    "- 4380-01D dans Verdun\n",
    "\n",
    "#### Remarque\n",
    "\n",
    "Dans le projet, on ne s'intéresse qu'aux surverses occasionnées par les précipitations. On ignore les surverses occasionnées par \n",
    "- fonte de neige (F)\n",
    "- travaux planifiés et entretien (TPL)\n",
    "- urgence (U)\n",
    "- autre (AUT)\n",
    "\n",
    "On suppose que lorsqu'il n'y a pas de raison pour la surverse, il s'agit d'une surverse causée par les précipitations. Puisque Nous nous intéresserons uniquement aux surverses occasionnées par les précipitations liquides, nous ne considérons que les mois de mai à octobre inclusivement."
   ]
  },
  {
   "cell_type": "code",
   "execution_count": 518,
   "metadata": {},
   "outputs": [],
   "source": [
    "using CSV, DataFrames, Statistics, Dates, Gadfly, Missings"
   ]
  },
  {
   "cell_type": "markdown",
   "metadata": {},
   "source": [
    "# Chargement des données et nettoyage préliminaire"
   ]
  },
  {
   "cell_type": "markdown",
   "metadata": {},
   "source": [
    "## Chargement des surverses"
   ]
  },
  {
   "cell_type": "code",
   "execution_count": 519,
   "metadata": {},
   "outputs": [
    {
     "data": {
      "text/html": [
       "<table class=\"data-frame\"><thead><tr><th></th><th>NO_OUVRAGE</th><th>DATE</th><th>SURVERSE</th><th>RAISON</th></tr><tr><th></th><th>String</th><th>Date</th><th>Int64⍰</th><th>String⍰</th></tr></thead><tbody><p>5 rows × 4 columns</p><tr><th>1</th><td>0642-01D</td><td>2013-05-01</td><td>0</td><td>missing</td></tr><tr><th>2</th><td>0642-01D</td><td>2013-05-02</td><td>0</td><td>missing</td></tr><tr><th>3</th><td>0642-01D</td><td>2013-05-03</td><td>0</td><td>missing</td></tr><tr><th>4</th><td>0642-01D</td><td>2013-05-04</td><td>0</td><td>missing</td></tr><tr><th>5</th><td>0642-01D</td><td>2013-05-05</td><td>0</td><td>missing</td></tr></tbody></table>"
      ],
      "text/latex": [
       "\\begin{tabular}{r|cccc}\n",
       "\t& NO\\_OUVRAGE & DATE & SURVERSE & RAISON\\\\\n",
       "\t\\hline\n",
       "\t& String & Date & Int64⍰ & String⍰\\\\\n",
       "\t\\hline\n",
       "\t1 & 0642-01D & 2013-05-01 & 0 &  \\\\\n",
       "\t2 & 0642-01D & 2013-05-02 & 0 &  \\\\\n",
       "\t3 & 0642-01D & 2013-05-03 & 0 &  \\\\\n",
       "\t4 & 0642-01D & 2013-05-04 & 0 &  \\\\\n",
       "\t5 & 0642-01D & 2013-05-05 & 0 &  \\\\\n",
       "\\end{tabular}\n"
      ],
      "text/plain": [
       "5×4 DataFrame\n",
       "│ Row │ NO_OUVRAGE │ DATE       │ SURVERSE │ RAISON  │\n",
       "│     │ \u001b[90mString\u001b[39m     │ \u001b[90mDate\u001b[39m       │ \u001b[90mInt64⍰\u001b[39m   │ \u001b[90mString⍰\u001b[39m │\n",
       "├─────┼────────────┼────────────┼──────────┼─────────┤\n",
       "│ 1   │ 0642-01D   │ 2013-05-01 │ 0        │ \u001b[90mmissing\u001b[39m │\n",
       "│ 2   │ 0642-01D   │ 2013-05-02 │ 0        │ \u001b[90mmissing\u001b[39m │\n",
       "│ 3   │ 0642-01D   │ 2013-05-03 │ 0        │ \u001b[90mmissing\u001b[39m │\n",
       "│ 4   │ 0642-01D   │ 2013-05-04 │ 0        │ \u001b[90mmissing\u001b[39m │\n",
       "│ 5   │ 0642-01D   │ 2013-05-05 │ 0        │ \u001b[90mmissing\u001b[39m │"
      ]
     },
     "execution_count": 519,
     "metadata": {},
     "output_type": "execute_result"
    }
   ],
   "source": [
    "data = CSV.read(\"data/surverses.csv\",missingstring=\"-99999\")\n",
    "first(data,5)"
   ]
  },
  {
   "cell_type": "markdown",
   "metadata": {},
   "source": [
    "## Nettoyage des données sur les surverses\n",
    "\n",
    "#### Extraction des surverses pour les mois de mai à octobre inclusivement"
   ]
  },
  {
   "cell_type": "code",
   "execution_count": 520,
   "metadata": {},
   "outputs": [
    {
     "data": {
      "text/html": [
       "<table class=\"data-frame\"><thead><tr><th></th><th>NO_OUVRAGE</th><th>DATE</th><th>SURVERSE</th><th>RAISON</th></tr><tr><th></th><th>String</th><th>Date</th><th>Int64⍰</th><th>String⍰</th></tr></thead><tbody><p>5 rows × 4 columns</p><tr><th>1</th><td>0642-01D</td><td>2013-05-01</td><td>0</td><td>missing</td></tr><tr><th>2</th><td>0642-01D</td><td>2013-05-02</td><td>0</td><td>missing</td></tr><tr><th>3</th><td>0642-01D</td><td>2013-05-03</td><td>0</td><td>missing</td></tr><tr><th>4</th><td>0642-01D</td><td>2013-05-04</td><td>0</td><td>missing</td></tr><tr><th>5</th><td>0642-01D</td><td>2013-05-05</td><td>0</td><td>missing</td></tr></tbody></table>"
      ],
      "text/latex": [
       "\\begin{tabular}{r|cccc}\n",
       "\t& NO\\_OUVRAGE & DATE & SURVERSE & RAISON\\\\\n",
       "\t\\hline\n",
       "\t& String & Date & Int64⍰ & String⍰\\\\\n",
       "\t\\hline\n",
       "\t1 & 0642-01D & 2013-05-01 & 0 &  \\\\\n",
       "\t2 & 0642-01D & 2013-05-02 & 0 &  \\\\\n",
       "\t3 & 0642-01D & 2013-05-03 & 0 &  \\\\\n",
       "\t4 & 0642-01D & 2013-05-04 & 0 &  \\\\\n",
       "\t5 & 0642-01D & 2013-05-05 & 0 &  \\\\\n",
       "\\end{tabular}\n"
      ],
      "text/plain": [
       "5×4 DataFrame\n",
       "│ Row │ NO_OUVRAGE │ DATE       │ SURVERSE │ RAISON  │\n",
       "│     │ \u001b[90mString\u001b[39m     │ \u001b[90mDate\u001b[39m       │ \u001b[90mInt64⍰\u001b[39m   │ \u001b[90mString⍰\u001b[39m │\n",
       "├─────┼────────────┼────────────┼──────────┼─────────┤\n",
       "│ 1   │ 0642-01D   │ 2013-05-01 │ 0        │ \u001b[90mmissing\u001b[39m │\n",
       "│ 2   │ 0642-01D   │ 2013-05-02 │ 0        │ \u001b[90mmissing\u001b[39m │\n",
       "│ 3   │ 0642-01D   │ 2013-05-03 │ 0        │ \u001b[90mmissing\u001b[39m │\n",
       "│ 4   │ 0642-01D   │ 2013-05-04 │ 0        │ \u001b[90mmissing\u001b[39m │\n",
       "│ 5   │ 0642-01D   │ 2013-05-05 │ 0        │ \u001b[90mmissing\u001b[39m │"
      ]
     },
     "execution_count": 520,
     "metadata": {},
     "output_type": "execute_result"
    }
   ],
   "source": [
    "data = filter(row -> month(row.DATE) > 4, data) \n",
    "data = filter(row -> month(row.DATE) < 11, data) \n",
    "first(data,5)"
   ]
  },
  {
   "cell_type": "markdown",
   "metadata": {},
   "source": [
    "#### Remplacement des valeurs *missing* dans la colonne :RAISON par \"Inconnue\""
   ]
  },
  {
   "cell_type": "code",
   "execution_count": 521,
   "metadata": {},
   "outputs": [
    {
     "data": {
      "text/html": [
       "<table class=\"data-frame\"><thead><tr><th></th><th>NO_OUVRAGE</th><th>DATE</th><th>SURVERSE</th><th>RAISON</th></tr><tr><th></th><th>String</th><th>Date</th><th>Int64⍰</th><th>String</th></tr></thead><tbody><p>5 rows × 4 columns</p><tr><th>1</th><td>0642-01D</td><td>2013-05-01</td><td>0</td><td>Inconnue</td></tr><tr><th>2</th><td>0642-01D</td><td>2013-05-02</td><td>0</td><td>Inconnue</td></tr><tr><th>3</th><td>0642-01D</td><td>2013-05-03</td><td>0</td><td>Inconnue</td></tr><tr><th>4</th><td>0642-01D</td><td>2013-05-04</td><td>0</td><td>Inconnue</td></tr><tr><th>5</th><td>0642-01D</td><td>2013-05-05</td><td>0</td><td>Inconnue</td></tr></tbody></table>"
      ],
      "text/latex": [
       "\\begin{tabular}{r|cccc}\n",
       "\t& NO\\_OUVRAGE & DATE & SURVERSE & RAISON\\\\\n",
       "\t\\hline\n",
       "\t& String & Date & Int64⍰ & String\\\\\n",
       "\t\\hline\n",
       "\t1 & 0642-01D & 2013-05-01 & 0 & Inconnue \\\\\n",
       "\t2 & 0642-01D & 2013-05-02 & 0 & Inconnue \\\\\n",
       "\t3 & 0642-01D & 2013-05-03 & 0 & Inconnue \\\\\n",
       "\t4 & 0642-01D & 2013-05-04 & 0 & Inconnue \\\\\n",
       "\t5 & 0642-01D & 2013-05-05 & 0 & Inconnue \\\\\n",
       "\\end{tabular}\n"
      ],
      "text/plain": [
       "5×4 DataFrame\n",
       "│ Row │ NO_OUVRAGE │ DATE       │ SURVERSE │ RAISON   │\n",
       "│     │ \u001b[90mString\u001b[39m     │ \u001b[90mDate\u001b[39m       │ \u001b[90mInt64⍰\u001b[39m   │ \u001b[90mString\u001b[39m   │\n",
       "├─────┼────────────┼────────────┼──────────┼──────────┤\n",
       "│ 1   │ 0642-01D   │ 2013-05-01 │ 0        │ Inconnue │\n",
       "│ 2   │ 0642-01D   │ 2013-05-02 │ 0        │ Inconnue │\n",
       "│ 3   │ 0642-01D   │ 2013-05-03 │ 0        │ Inconnue │\n",
       "│ 4   │ 0642-01D   │ 2013-05-04 │ 0        │ Inconnue │\n",
       "│ 5   │ 0642-01D   │ 2013-05-05 │ 0        │ Inconnue │"
      ]
     },
     "execution_count": 521,
     "metadata": {},
     "output_type": "execute_result"
    }
   ],
   "source": [
    "raison = coalesce.(data[:,:RAISON],\"Inconnue\")\n",
    "data[!,:RAISON] = raison\n",
    "first(data,5)"
   ]
  },
  {
   "cell_type": "markdown",
   "metadata": {},
   "source": [
    "#### Exlusion des surverses coccasionnées par d'autres facteurs que les précipitations liquides\n",
    "\n",
    "Ces facteurs correspondent à : \n",
    "- la fonte de neige (F), \n",
    "- les travaux planifiés et entretien (TPL)\n",
    "- urgence (U)\n",
    "- autre (AUT)"
   ]
  },
  {
   "cell_type": "code",
   "execution_count": 522,
   "metadata": {},
   "outputs": [
    {
     "data": {
      "text/html": [
       "<table class=\"data-frame\"><thead><tr><th></th><th>NO_OUVRAGE</th><th>DATE</th><th>SURVERSE</th></tr><tr><th></th><th>String</th><th>Date</th><th>Int64⍰</th></tr></thead><tbody><p>176,667 rows × 3 columns</p><tr><th>1</th><td>0642-01D</td><td>2013-05-01</td><td>0</td></tr><tr><th>2</th><td>0642-01D</td><td>2013-05-02</td><td>0</td></tr><tr><th>3</th><td>0642-01D</td><td>2013-05-03</td><td>0</td></tr><tr><th>4</th><td>0642-01D</td><td>2013-05-04</td><td>0</td></tr><tr><th>5</th><td>0642-01D</td><td>2013-05-05</td><td>0</td></tr><tr><th>6</th><td>0642-01D</td><td>2013-05-06</td><td>0</td></tr><tr><th>7</th><td>0642-01D</td><td>2013-05-07</td><td>0</td></tr><tr><th>8</th><td>0642-01D</td><td>2013-05-08</td><td>0</td></tr><tr><th>9</th><td>0642-01D</td><td>2013-05-09</td><td>0</td></tr><tr><th>10</th><td>0642-01D</td><td>2013-05-10</td><td>0</td></tr><tr><th>11</th><td>0642-01D</td><td>2013-05-11</td><td>0</td></tr><tr><th>12</th><td>0642-01D</td><td>2013-05-12</td><td>0</td></tr><tr><th>13</th><td>0642-01D</td><td>2013-05-13</td><td>0</td></tr><tr><th>14</th><td>0642-01D</td><td>2013-05-14</td><td>0</td></tr><tr><th>15</th><td>0642-01D</td><td>2013-05-15</td><td>0</td></tr><tr><th>16</th><td>0642-01D</td><td>2013-05-16</td><td>0</td></tr><tr><th>17</th><td>0642-01D</td><td>2013-05-17</td><td>0</td></tr><tr><th>18</th><td>0642-01D</td><td>2013-05-18</td><td>0</td></tr><tr><th>19</th><td>0642-01D</td><td>2013-05-19</td><td>0</td></tr><tr><th>20</th><td>0642-01D</td><td>2013-05-20</td><td>0</td></tr><tr><th>21</th><td>0642-01D</td><td>2013-05-21</td><td>0</td></tr><tr><th>22</th><td>0642-01D</td><td>2013-05-22</td><td>0</td></tr><tr><th>23</th><td>0642-01D</td><td>2013-05-23</td><td>0</td></tr><tr><th>24</th><td>0642-01D</td><td>2013-05-24</td><td>0</td></tr><tr><th>25</th><td>0642-01D</td><td>2013-05-25</td><td>0</td></tr><tr><th>26</th><td>0642-01D</td><td>2013-05-26</td><td>0</td></tr><tr><th>27</th><td>0642-01D</td><td>2013-05-27</td><td>0</td></tr><tr><th>28</th><td>0642-01D</td><td>2013-05-28</td><td>0</td></tr><tr><th>29</th><td>0642-01D</td><td>2013-05-29</td><td>0</td></tr><tr><th>30</th><td>0642-01D</td><td>2013-05-30</td><td>0</td></tr><tr><th>&vellip;</th><td>&vellip;</td><td>&vellip;</td><td>&vellip;</td></tr></tbody></table>"
      ],
      "text/latex": [
       "\\begin{tabular}{r|ccc}\n",
       "\t& NO\\_OUVRAGE & DATE & SURVERSE\\\\\n",
       "\t\\hline\n",
       "\t& String & Date & Int64⍰\\\\\n",
       "\t\\hline\n",
       "\t1 & 0642-01D & 2013-05-01 & 0 \\\\\n",
       "\t2 & 0642-01D & 2013-05-02 & 0 \\\\\n",
       "\t3 & 0642-01D & 2013-05-03 & 0 \\\\\n",
       "\t4 & 0642-01D & 2013-05-04 & 0 \\\\\n",
       "\t5 & 0642-01D & 2013-05-05 & 0 \\\\\n",
       "\t6 & 0642-01D & 2013-05-06 & 0 \\\\\n",
       "\t7 & 0642-01D & 2013-05-07 & 0 \\\\\n",
       "\t8 & 0642-01D & 2013-05-08 & 0 \\\\\n",
       "\t9 & 0642-01D & 2013-05-09 & 0 \\\\\n",
       "\t10 & 0642-01D & 2013-05-10 & 0 \\\\\n",
       "\t11 & 0642-01D & 2013-05-11 & 0 \\\\\n",
       "\t12 & 0642-01D & 2013-05-12 & 0 \\\\\n",
       "\t13 & 0642-01D & 2013-05-13 & 0 \\\\\n",
       "\t14 & 0642-01D & 2013-05-14 & 0 \\\\\n",
       "\t15 & 0642-01D & 2013-05-15 & 0 \\\\\n",
       "\t16 & 0642-01D & 2013-05-16 & 0 \\\\\n",
       "\t17 & 0642-01D & 2013-05-17 & 0 \\\\\n",
       "\t18 & 0642-01D & 2013-05-18 & 0 \\\\\n",
       "\t19 & 0642-01D & 2013-05-19 & 0 \\\\\n",
       "\t20 & 0642-01D & 2013-05-20 & 0 \\\\\n",
       "\t21 & 0642-01D & 2013-05-21 & 0 \\\\\n",
       "\t22 & 0642-01D & 2013-05-22 & 0 \\\\\n",
       "\t23 & 0642-01D & 2013-05-23 & 0 \\\\\n",
       "\t24 & 0642-01D & 2013-05-24 & 0 \\\\\n",
       "\t25 & 0642-01D & 2013-05-25 & 0 \\\\\n",
       "\t26 & 0642-01D & 2013-05-26 & 0 \\\\\n",
       "\t27 & 0642-01D & 2013-05-27 & 0 \\\\\n",
       "\t28 & 0642-01D & 2013-05-28 & 0 \\\\\n",
       "\t29 & 0642-01D & 2013-05-29 & 0 \\\\\n",
       "\t30 & 0642-01D & 2013-05-30 & 0 \\\\\n",
       "\t$\\dots$ & $\\dots$ & $\\dots$ & $\\dots$ \\\\\n",
       "\\end{tabular}\n"
      ],
      "text/plain": [
       "176667×3 DataFrame\n",
       "│ Row    │ NO_OUVRAGE │ DATE       │ SURVERSE │\n",
       "│        │ \u001b[90mString\u001b[39m     │ \u001b[90mDate\u001b[39m       │ \u001b[90mInt64⍰\u001b[39m   │\n",
       "├────────┼────────────┼────────────┼──────────┤\n",
       "│ 1      │ 0642-01D   │ 2013-05-01 │ 0        │\n",
       "│ 2      │ 0642-01D   │ 2013-05-02 │ 0        │\n",
       "│ 3      │ 0642-01D   │ 2013-05-03 │ 0        │\n",
       "│ 4      │ 0642-01D   │ 2013-05-04 │ 0        │\n",
       "│ 5      │ 0642-01D   │ 2013-05-05 │ 0        │\n",
       "│ 6      │ 0642-01D   │ 2013-05-06 │ 0        │\n",
       "│ 7      │ 0642-01D   │ 2013-05-07 │ 0        │\n",
       "│ 8      │ 0642-01D   │ 2013-05-08 │ 0        │\n",
       "│ 9      │ 0642-01D   │ 2013-05-09 │ 0        │\n",
       "│ 10     │ 0642-01D   │ 2013-05-10 │ 0        │\n",
       "⋮\n",
       "│ 176657 │ 4560-02D   │ 2018-10-21 │ \u001b[90mmissing\u001b[39m  │\n",
       "│ 176658 │ 4560-02D   │ 2018-10-22 │ \u001b[90mmissing\u001b[39m  │\n",
       "│ 176659 │ 4560-02D   │ 2018-10-23 │ \u001b[90mmissing\u001b[39m  │\n",
       "│ 176660 │ 4560-02D   │ 2018-10-24 │ \u001b[90mmissing\u001b[39m  │\n",
       "│ 176661 │ 4560-02D   │ 2018-10-25 │ \u001b[90mmissing\u001b[39m  │\n",
       "│ 176662 │ 4560-02D   │ 2018-10-26 │ \u001b[90mmissing\u001b[39m  │\n",
       "│ 176663 │ 4560-02D   │ 2018-10-27 │ \u001b[90mmissing\u001b[39m  │\n",
       "│ 176664 │ 4560-02D   │ 2018-10-28 │ \u001b[90mmissing\u001b[39m  │\n",
       "│ 176665 │ 4560-02D   │ 2018-10-29 │ \u001b[90mmissing\u001b[39m  │\n",
       "│ 176666 │ 4560-02D   │ 2018-10-30 │ \u001b[90mmissing\u001b[39m  │\n",
       "│ 176667 │ 4560-02D   │ 2018-10-31 │ \u001b[90mmissing\u001b[39m  │"
      ]
     },
     "execution_count": 522,
     "metadata": {},
     "output_type": "execute_result"
    }
   ],
   "source": [
    "data = filter(row -> row.RAISON ∈ [\"P\",\"Inconnue\",\"TS\"], data) \n",
    "select!(data, [:NO_OUVRAGE, :DATE, :SURVERSE])\n",
    "first(data,5)\n",
    "data"
   ]
  },
  {
   "cell_type": "code",
   "execution_count": null,
   "metadata": {},
   "outputs": [],
   "source": []
  },
  {
   "cell_type": "markdown",
   "metadata": {},
   "source": [
    "#### Exclusion des lignes où :SURVERSE est manquante"
   ]
  },
  {
   "cell_type": "code",
   "execution_count": 523,
   "metadata": {},
   "outputs": [],
   "source": [
    "surverse_df = dropmissing(data, disallowmissing=true);"
   ]
  },
  {
   "cell_type": "code",
   "execution_count": 524,
   "metadata": {},
   "outputs": [
    {
     "name": "stderr",
     "output_type": "stream",
     "text": [
      "┌ Warning: `getindex(df::DataFrame, col_ind::ColumnIndex)` is deprecated, use `df[!, col_ind]` instead.\n",
      "│   caller = top-level scope at In[524]:1\n",
      "└ @ Core In[524]:1\n",
      "┌ Warning: `getindex(df::DataFrame, col_ind::ColumnIndex)` is deprecated, use `df[!, col_ind]` instead.\n",
      "│   caller = top-level scope at In[524]:2\n",
      "└ @ Core In[524]:2\n"
     ]
    },
    {
     "data": {
      "text/plain": [
       "1-element Array{Int64,1}:\n",
       " 161098"
      ]
     },
     "execution_count": 524,
     "metadata": {},
     "output_type": "execute_result"
    }
   ],
   "source": [
    "n₁ = sum(x->x==1, surverse_df[:SURVERSE], dims=1) \n",
    "n₀ = sum(x->x==0, surverse_df[:SURVERSE], dims=1) \n",
    "n = n₀ + n₁"
   ]
  },
  {
   "cell_type": "code",
   "execution_count": 525,
   "metadata": {},
   "outputs": [],
   "source": [
    "filtervals = [\"3260-01D\"; \"3350-07D\"; \"4240-01D\"; \"4350-01D\"; \"4380-01D\"]\n",
    "surverse_df1 = filter(row-> row.NO_OUVRAGE == filtervals[1], surverse_df)\n",
    "surverse_df2 = filter(row-> row.NO_OUVRAGE == filtervals[2], surverse_df)\n",
    "surverse_df3 = filter(row-> row.NO_OUVRAGE == filtervals[3], surverse_df)\n",
    "surverse_df4 = filter(row-> row.NO_OUVRAGE == filtervals[4], surverse_df)\n",
    "surverse_df5 = filter(row-> row.NO_OUVRAGE == filtervals[5], surverse_df);"
   ]
  },
  {
   "cell_type": "code",
   "execution_count": 526,
   "metadata": {},
   "outputs": [
    {
     "data": {
      "text/plain": [
       "0-element Array{Int64,1}"
      ]
     },
     "execution_count": 526,
     "metadata": {},
     "output_type": "execute_result"
    }
   ],
   "source": [
    "#### on prend pour chaque ouvrage le nombre de fois ou il a eu surver et non\n",
    "n₁ = Int64[]\n",
    "n₀  = Int64[]\n",
    "n  = Int64[]"
   ]
  },
  {
   "cell_type": "code",
   "execution_count": 527,
   "metadata": {},
   "outputs": [
    {
     "name": "stderr",
     "output_type": "stream",
     "text": [
      "┌ Warning: `getindex(df::DataFrame, col_ind::ColumnIndex)` is deprecated, use `df[!, col_ind]` instead.\n",
      "│   caller = top-level scope at In[527]:1\n",
      "└ @ Core In[527]:1\n",
      "┌ Warning: `getindex(df::DataFrame, col_ind::ColumnIndex)` is deprecated, use `df[!, col_ind]` instead.\n",
      "│   caller = top-level scope at In[527]:3\n",
      "└ @ Core In[527]:3\n"
     ]
    },
    {
     "data": {
      "text/plain": [
       "1-element Array{Int64,1}:\n",
       " 1097"
      ]
     },
     "execution_count": 527,
     "metadata": {},
     "output_type": "execute_result"
    }
   ],
   "source": [
    "n1₁ = sum(x->x==1, surverse_df1[:SURVERSE], dims=1) \n",
    "push!(n₁, n1₁[1])\n",
    "n1₀ = sum(x->x==0, surverse_df1[:SURVERSE], dims=1)  \n",
    "push!(n₀, n1₀[1])\n",
    "n1= n1₁[1] + n1₀[1]\n",
    "push!(n, n1)"
   ]
  },
  {
   "cell_type": "code",
   "execution_count": 528,
   "metadata": {},
   "outputs": [
    {
     "name": "stderr",
     "output_type": "stream",
     "text": [
      "┌ Warning: `getindex(df::DataFrame, col_ind::ColumnIndex)` is deprecated, use `df[!, col_ind]` instead.\n",
      "│   caller = top-level scope at In[528]:1\n",
      "└ @ Core In[528]:1\n",
      "┌ Warning: `getindex(df::DataFrame, col_ind::ColumnIndex)` is deprecated, use `df[!, col_ind]` instead.\n",
      "│   caller = top-level scope at In[528]:3\n",
      "└ @ Core In[528]:3\n"
     ]
    },
    {
     "data": {
      "text/plain": [
       "2-element Array{Int64,1}:\n",
       " 1097\n",
       "  729"
      ]
     },
     "execution_count": 528,
     "metadata": {},
     "output_type": "execute_result"
    }
   ],
   "source": [
    "n1₁ = sum(x->x==1, surverse_df2[:SURVERSE], dims=1) \n",
    "push!(n₁, n1₁[1])\n",
    "n1₀ = sum(x->x==0, surverse_df2[:SURVERSE], dims=1)  \n",
    "push!(n₀, n1₀[1])\n",
    "n1= n1₁[1] + n1₀[1]\n",
    "push!(n, n1)"
   ]
  },
  {
   "cell_type": "code",
   "execution_count": 529,
   "metadata": {},
   "outputs": [
    {
     "name": "stderr",
     "output_type": "stream",
     "text": [
      "┌ Warning: `getindex(df::DataFrame, col_ind::ColumnIndex)` is deprecated, use `df[!, col_ind]` instead.\n",
      "│   caller = top-level scope at In[529]:1\n",
      "└ @ Core In[529]:1\n",
      "┌ Warning: `getindex(df::DataFrame, col_ind::ColumnIndex)` is deprecated, use `df[!, col_ind]` instead.\n",
      "│   caller = top-level scope at In[529]:3\n",
      "└ @ Core In[529]:3\n"
     ]
    },
    {
     "data": {
      "text/plain": [
       "3-element Array{Int64,1}:\n",
       " 1097\n",
       "  729\n",
       " 1100"
      ]
     },
     "execution_count": 529,
     "metadata": {},
     "output_type": "execute_result"
    }
   ],
   "source": [
    "n1₁ = sum(x->x==1, surverse_df3[:SURVERSE], dims=1) \n",
    "push!(n₁, n1₁[1])\n",
    "n1₀ = sum(x->x==0, surverse_df3[:SURVERSE], dims=1)  \n",
    "push!(n₀, n1₀[1])\n",
    "n1= n1₁[1] + n1₀[1]\n",
    "push!(n, n1)"
   ]
  },
  {
   "cell_type": "code",
   "execution_count": 530,
   "metadata": {},
   "outputs": [
    {
     "name": "stderr",
     "output_type": "stream",
     "text": [
      "┌ Warning: `getindex(df::DataFrame, col_ind::ColumnIndex)` is deprecated, use `df[!, col_ind]` instead.\n",
      "│   caller = top-level scope at In[530]:1\n",
      "└ @ Core In[530]:1\n",
      "┌ Warning: `getindex(df::DataFrame, col_ind::ColumnIndex)` is deprecated, use `df[!, col_ind]` instead.\n",
      "│   caller = top-level scope at In[530]:3\n",
      "└ @ Core In[530]:3\n"
     ]
    },
    {
     "data": {
      "text/plain": [
       "4-element Array{Int64,1}:\n",
       " 1097\n",
       "  729\n",
       " 1100\n",
       " 1100"
      ]
     },
     "execution_count": 530,
     "metadata": {},
     "output_type": "execute_result"
    }
   ],
   "source": [
    "n1₁ = sum(x->x==1, surverse_df4[:SURVERSE], dims=1) \n",
    "push!(n₁, n1₁[1])\n",
    "n1₀ = sum(x->x==0, surverse_df4[:SURVERSE], dims=1)  \n",
    "push!(n₀, n1₀[1])\n",
    "n1= n1₁[1] + n1₀[1]\n",
    "push!(n, n1)"
   ]
  },
  {
   "cell_type": "code",
   "execution_count": 531,
   "metadata": {},
   "outputs": [
    {
     "name": "stderr",
     "output_type": "stream",
     "text": [
      "┌ Warning: `getindex(df::DataFrame, col_ind::ColumnIndex)` is deprecated, use `df[!, col_ind]` instead.\n",
      "│   caller = top-level scope at In[531]:1\n",
      "└ @ Core In[531]:1\n",
      "┌ Warning: `getindex(df::DataFrame, col_ind::ColumnIndex)` is deprecated, use `df[!, col_ind]` instead.\n",
      "│   caller = top-level scope at In[531]:3\n",
      "└ @ Core In[531]:3\n"
     ]
    },
    {
     "data": {
      "text/plain": [
       "5-element Array{Int64,1}:\n",
       " 1097\n",
       "  729\n",
       " 1100\n",
       " 1100\n",
       " 1103"
      ]
     },
     "execution_count": 531,
     "metadata": {},
     "output_type": "execute_result"
    }
   ],
   "source": [
    "n1₁ = sum(x->x==1, surverse_df5[:SURVERSE], dims=1) \n",
    "push!(n₁, n1₁[1])\n",
    "n1₀ = sum(x->x==0, surverse_df5[:SURVERSE], dims=1)  \n",
    "push!(n₀, n1₀[1])\n",
    "n1= n1₁[1] + n1₀[1]\n",
    "push!(n, n1)"
   ]
  },
  {
   "cell_type": "code",
   "execution_count": 532,
   "metadata": {},
   "outputs": [
    {
     "data": {
      "text/plain": [
       "5-element Array{Int64,1}:\n",
       " 1097\n",
       "  729\n",
       " 1100\n",
       " 1100\n",
       " 1103"
      ]
     },
     "execution_count": 532,
     "metadata": {},
     "output_type": "execute_result"
    }
   ],
   "source": [
    "n"
   ]
  },
  {
   "cell_type": "markdown",
   "metadata": {},
   "source": [
    "## Chargement des précipitations"
   ]
  },
  {
   "cell_type": "code",
   "execution_count": 533,
   "metadata": {},
   "outputs": [
    {
     "ename": "UndefVarError",
     "evalue": "UndefVarError: test not defined",
     "output_type": "error",
     "traceback": [
      "UndefVarError: test not defined",
      "",
      "Stacktrace:",
      " [1] top-level scope at In[533]:3"
     ]
    }
   ],
   "source": [
    "databefore = CSV.read(\"data/precipitations.csv\",missingstring=\"-99999\")\n",
    "rename!(databefore, Symbol(\"St-Hubert\")=>:StHubert)\n",
    "first(test,5)"
   ]
  },
  {
   "cell_type": "code",
   "execution_count": 534,
   "metadata": {},
   "outputs": [
    {
     "data": {
      "text/html": [
       "<table class=\"data-frame\"><thead><tr><th></th><th>date</th><th>heure</th><th>McTavish</th><th>Bellevue</th><th>Assomption</th><th>Trudeau</th><th>StHubert</th></tr><tr><th></th><th>Date</th><th>Int64</th><th>Int64⍰</th><th>Int64⍰</th><th>Int64⍰</th><th>Int64⍰</th><th>Int64⍰</th></tr></thead><tbody><p>5 rows × 7 columns</p><tr><th>1</th><td>2013-01-01</td><td>0</td><td>0</td><td>0</td><td>0</td><td>0</td><td>missing</td></tr><tr><th>2</th><td>2013-01-01</td><td>1</td><td>0</td><td>0</td><td>0</td><td>0</td><td>missing</td></tr><tr><th>3</th><td>2013-01-01</td><td>2</td><td>0</td><td>0</td><td>0</td><td>0</td><td>missing</td></tr><tr><th>4</th><td>2013-01-01</td><td>3</td><td>0</td><td>0</td><td>0</td><td>0</td><td>missing</td></tr><tr><th>5</th><td>2013-01-01</td><td>4</td><td>0</td><td>0</td><td>0</td><td>0</td><td>missing</td></tr></tbody></table>"
      ],
      "text/latex": [
       "\\begin{tabular}{r|ccccccc}\n",
       "\t& date & heure & McTavish & Bellevue & Assomption & Trudeau & StHubert\\\\\n",
       "\t\\hline\n",
       "\t& Date & Int64 & Int64⍰ & Int64⍰ & Int64⍰ & Int64⍰ & Int64⍰\\\\\n",
       "\t\\hline\n",
       "\t1 & 2013-01-01 & 0 & 0 & 0 & 0 & 0 &  \\\\\n",
       "\t2 & 2013-01-01 & 1 & 0 & 0 & 0 & 0 &  \\\\\n",
       "\t3 & 2013-01-01 & 2 & 0 & 0 & 0 & 0 &  \\\\\n",
       "\t4 & 2013-01-01 & 3 & 0 & 0 & 0 & 0 &  \\\\\n",
       "\t5 & 2013-01-01 & 4 & 0 & 0 & 0 & 0 &  \\\\\n",
       "\\end{tabular}\n"
      ],
      "text/plain": [
       "5×7 DataFrame. Omitted printing of 1 columns\n",
       "│ Row │ date       │ heure │ McTavish │ Bellevue │ Assomption │ Trudeau │\n",
       "│     │ \u001b[90mDate\u001b[39m       │ \u001b[90mInt64\u001b[39m │ \u001b[90mInt64⍰\u001b[39m   │ \u001b[90mInt64⍰\u001b[39m   │ \u001b[90mInt64⍰\u001b[39m     │ \u001b[90mInt64⍰\u001b[39m  │\n",
       "├─────┼────────────┼───────┼──────────┼──────────┼────────────┼─────────┤\n",
       "│ 1   │ 2013-01-01 │ 0     │ 0        │ 0        │ 0          │ 0       │\n",
       "│ 2   │ 2013-01-01 │ 1     │ 0        │ 0        │ 0          │ 0       │\n",
       "│ 3   │ 2013-01-01 │ 2     │ 0        │ 0        │ 0          │ 0       │\n",
       "│ 4   │ 2013-01-01 │ 3     │ 0        │ 0        │ 0          │ 0       │\n",
       "│ 5   │ 2013-01-01 │ 4     │ 0        │ 0        │ 0          │ 0       │"
      ]
     },
     "execution_count": 534,
     "metadata": {},
     "output_type": "execute_result"
    }
   ],
   "source": [
    "data = CSV.read(\"data/precipitations.csv\",missingstring=\"-99999\")\n",
    "rename!(data, Symbol(\"St-Hubert\")=>:StHubert)\n",
    "first(data,5)"
   ]
  },
  {
   "cell_type": "markdown",
   "metadata": {},
   "source": [
    "## Nettoyage des données sur les précipitations\n",
    "\n",
    "#### Extraction des précipitations des mois de mai à octobre inclusivement"
   ]
  },
  {
   "cell_type": "code",
   "execution_count": null,
   "metadata": {},
   "outputs": [],
   "source": []
  },
  {
   "cell_type": "code",
   "execution_count": 535,
   "metadata": {},
   "outputs": [
    {
     "data": {
      "text/html": [
       "<table class=\"data-frame\"><thead><tr><th></th><th>date</th><th>heure</th><th>McTavish</th><th>Bellevue</th><th>Assomption</th><th>Trudeau</th><th>StHubert</th></tr><tr><th></th><th>Date</th><th>Int64</th><th>Int64⍰</th><th>Int64⍰</th><th>Int64⍰</th><th>Int64⍰</th><th>Int64⍰</th></tr></thead><tbody><p>2,996 rows × 7 columns</p><tr><th>1</th><td>2013-04-01</td><td>22</td><td>0</td><td>0</td><td>0</td><td>0</td><td>missing</td></tr><tr><th>2</th><td>2013-04-01</td><td>23</td><td>0</td><td>0</td><td>0</td><td>0</td><td>missing</td></tr><tr><th>3</th><td>2013-04-02</td><td>22</td><td>0</td><td>0</td><td>0</td><td>0</td><td>missing</td></tr><tr><th>4</th><td>2013-04-02</td><td>23</td><td>0</td><td>0</td><td>0</td><td>0</td><td>missing</td></tr><tr><th>5</th><td>2013-04-03</td><td>22</td><td>0</td><td>0</td><td>0</td><td>0</td><td>missing</td></tr><tr><th>6</th><td>2013-04-03</td><td>23</td><td>0</td><td>0</td><td>0</td><td>0</td><td>missing</td></tr><tr><th>7</th><td>2013-04-04</td><td>22</td><td>0</td><td>0</td><td>0</td><td>0</td><td>missing</td></tr><tr><th>8</th><td>2013-04-04</td><td>23</td><td>0</td><td>0</td><td>0</td><td>0</td><td>missing</td></tr><tr><th>9</th><td>2013-04-05</td><td>22</td><td>0</td><td>0</td><td>0</td><td>0</td><td>missing</td></tr><tr><th>10</th><td>2013-04-05</td><td>23</td><td>0</td><td>0</td><td>0</td><td>0</td><td>missing</td></tr><tr><th>11</th><td>2013-04-06</td><td>22</td><td>0</td><td>0</td><td>0</td><td>0</td><td>missing</td></tr><tr><th>12</th><td>2013-04-06</td><td>23</td><td>0</td><td>0</td><td>0</td><td>0</td><td>missing</td></tr><tr><th>13</th><td>2013-04-07</td><td>22</td><td>0</td><td>0</td><td>0</td><td>0</td><td>missing</td></tr><tr><th>14</th><td>2013-04-07</td><td>23</td><td>0</td><td>0</td><td>0</td><td>0</td><td>missing</td></tr><tr><th>15</th><td>2013-04-08</td><td>22</td><td>0</td><td>0</td><td>0</td><td>0</td><td>missing</td></tr><tr><th>16</th><td>2013-04-08</td><td>23</td><td>0</td><td>0</td><td>0</td><td>0</td><td>missing</td></tr><tr><th>17</th><td>2013-04-09</td><td>22</td><td>0</td><td>0</td><td>0</td><td>0</td><td>missing</td></tr><tr><th>18</th><td>2013-04-09</td><td>23</td><td>0</td><td>0</td><td>0</td><td>0</td><td>missing</td></tr><tr><th>19</th><td>2013-04-10</td><td>22</td><td>0</td><td>0</td><td>0</td><td>0</td><td>missing</td></tr><tr><th>20</th><td>2013-04-10</td><td>23</td><td>0</td><td>0</td><td>0</td><td>0</td><td>missing</td></tr><tr><th>21</th><td>2013-04-11</td><td>22</td><td>0</td><td>0</td><td>0</td><td>0</td><td>missing</td></tr><tr><th>22</th><td>2013-04-11</td><td>23</td><td>0</td><td>0</td><td>0</td><td>0</td><td>missing</td></tr><tr><th>23</th><td>2013-04-12</td><td>22</td><td>11</td><td>3</td><td>10</td><td>6</td><td>missing</td></tr><tr><th>24</th><td>2013-04-12</td><td>23</td><td>0</td><td>0</td><td>0</td><td>0</td><td>missing</td></tr><tr><th>25</th><td>2013-04-13</td><td>22</td><td>0</td><td>0</td><td>0</td><td>0</td><td>missing</td></tr><tr><th>26</th><td>2013-04-13</td><td>23</td><td>0</td><td>0</td><td>0</td><td>0</td><td>missing</td></tr><tr><th>27</th><td>2013-04-14</td><td>22</td><td>0</td><td>0</td><td>0</td><td>0</td><td>missing</td></tr><tr><th>28</th><td>2013-04-14</td><td>23</td><td>0</td><td>0</td><td>0</td><td>0</td><td>missing</td></tr><tr><th>29</th><td>2013-04-15</td><td>22</td><td>0</td><td>0</td><td>0</td><td>0</td><td>missing</td></tr><tr><th>30</th><td>2013-04-15</td><td>23</td><td>0</td><td>0</td><td>0</td><td>0</td><td>missing</td></tr><tr><th>&vellip;</th><td>&vellip;</td><td>&vellip;</td><td>&vellip;</td><td>&vellip;</td><td>&vellip;</td><td>&vellip;</td><td>&vellip;</td></tr></tbody></table>"
      ],
      "text/latex": [
       "\\begin{tabular}{r|ccccccc}\n",
       "\t& date & heure & McTavish & Bellevue & Assomption & Trudeau & StHubert\\\\\n",
       "\t\\hline\n",
       "\t& Date & Int64 & Int64⍰ & Int64⍰ & Int64⍰ & Int64⍰ & Int64⍰\\\\\n",
       "\t\\hline\n",
       "\t1 & 2013-04-01 & 22 & 0 & 0 & 0 & 0 &  \\\\\n",
       "\t2 & 2013-04-01 & 23 & 0 & 0 & 0 & 0 &  \\\\\n",
       "\t3 & 2013-04-02 & 22 & 0 & 0 & 0 & 0 &  \\\\\n",
       "\t4 & 2013-04-02 & 23 & 0 & 0 & 0 & 0 &  \\\\\n",
       "\t5 & 2013-04-03 & 22 & 0 & 0 & 0 & 0 &  \\\\\n",
       "\t6 & 2013-04-03 & 23 & 0 & 0 & 0 & 0 &  \\\\\n",
       "\t7 & 2013-04-04 & 22 & 0 & 0 & 0 & 0 &  \\\\\n",
       "\t8 & 2013-04-04 & 23 & 0 & 0 & 0 & 0 &  \\\\\n",
       "\t9 & 2013-04-05 & 22 & 0 & 0 & 0 & 0 &  \\\\\n",
       "\t10 & 2013-04-05 & 23 & 0 & 0 & 0 & 0 &  \\\\\n",
       "\t11 & 2013-04-06 & 22 & 0 & 0 & 0 & 0 &  \\\\\n",
       "\t12 & 2013-04-06 & 23 & 0 & 0 & 0 & 0 &  \\\\\n",
       "\t13 & 2013-04-07 & 22 & 0 & 0 & 0 & 0 &  \\\\\n",
       "\t14 & 2013-04-07 & 23 & 0 & 0 & 0 & 0 &  \\\\\n",
       "\t15 & 2013-04-08 & 22 & 0 & 0 & 0 & 0 &  \\\\\n",
       "\t16 & 2013-04-08 & 23 & 0 & 0 & 0 & 0 &  \\\\\n",
       "\t17 & 2013-04-09 & 22 & 0 & 0 & 0 & 0 &  \\\\\n",
       "\t18 & 2013-04-09 & 23 & 0 & 0 & 0 & 0 &  \\\\\n",
       "\t19 & 2013-04-10 & 22 & 0 & 0 & 0 & 0 &  \\\\\n",
       "\t20 & 2013-04-10 & 23 & 0 & 0 & 0 & 0 &  \\\\\n",
       "\t21 & 2013-04-11 & 22 & 0 & 0 & 0 & 0 &  \\\\\n",
       "\t22 & 2013-04-11 & 23 & 0 & 0 & 0 & 0 &  \\\\\n",
       "\t23 & 2013-04-12 & 22 & 11 & 3 & 10 & 6 &  \\\\\n",
       "\t24 & 2013-04-12 & 23 & 0 & 0 & 0 & 0 &  \\\\\n",
       "\t25 & 2013-04-13 & 22 & 0 & 0 & 0 & 0 &  \\\\\n",
       "\t26 & 2013-04-13 & 23 & 0 & 0 & 0 & 0 &  \\\\\n",
       "\t27 & 2013-04-14 & 22 & 0 & 0 & 0 & 0 &  \\\\\n",
       "\t28 & 2013-04-14 & 23 & 0 & 0 & 0 & 0 &  \\\\\n",
       "\t29 & 2013-04-15 & 22 & 0 & 0 & 0 & 0 &  \\\\\n",
       "\t30 & 2013-04-15 & 23 & 0 & 0 & 0 & 0 &  \\\\\n",
       "\t$\\dots$ & $\\dots$ & $\\dots$ & $\\dots$ & $\\dots$ & $\\dots$ & $\\dots$ & $\\dots$ \\\\\n",
       "\\end{tabular}\n"
      ],
      "text/plain": [
       "2996×7 DataFrame. Omitted printing of 1 columns\n",
       "│ Row  │ date       │ heure │ McTavish │ Bellevue │ Assomption │ Trudeau │\n",
       "│      │ \u001b[90mDate\u001b[39m       │ \u001b[90mInt64\u001b[39m │ \u001b[90mInt64⍰\u001b[39m   │ \u001b[90mInt64⍰\u001b[39m   │ \u001b[90mInt64⍰\u001b[39m     │ \u001b[90mInt64⍰\u001b[39m  │\n",
       "├──────┼────────────┼───────┼──────────┼──────────┼────────────┼─────────┤\n",
       "│ 1    │ 2013-04-01 │ 22    │ 0        │ 0        │ 0          │ 0       │\n",
       "│ 2    │ 2013-04-01 │ 23    │ 0        │ 0        │ 0          │ 0       │\n",
       "│ 3    │ 2013-04-02 │ 22    │ 0        │ 0        │ 0          │ 0       │\n",
       "│ 4    │ 2013-04-02 │ 23    │ 0        │ 0        │ 0          │ 0       │\n",
       "│ 5    │ 2013-04-03 │ 22    │ 0        │ 0        │ 0          │ 0       │\n",
       "│ 6    │ 2013-04-03 │ 23    │ 0        │ 0        │ 0          │ 0       │\n",
       "│ 7    │ 2013-04-04 │ 22    │ 0        │ 0        │ 0          │ 0       │\n",
       "│ 8    │ 2013-04-04 │ 23    │ 0        │ 0        │ 0          │ 0       │\n",
       "│ 9    │ 2013-04-05 │ 22    │ 0        │ 0        │ 0          │ 0       │\n",
       "│ 10   │ 2013-04-05 │ 23    │ 0        │ 0        │ 0          │ 0       │\n",
       "⋮\n",
       "│ 2986 │ 2019-10-26 │ 23    │ 0        │ \u001b[90mmissing\u001b[39m  │ \u001b[90mmissing\u001b[39m    │ 0       │\n",
       "│ 2987 │ 2019-10-27 │ 22    │ 2        │ \u001b[90mmissing\u001b[39m  │ \u001b[90mmissing\u001b[39m    │ 0       │\n",
       "│ 2988 │ 2019-10-27 │ 23    │ 2        │ \u001b[90mmissing\u001b[39m  │ \u001b[90mmissing\u001b[39m    │ 0       │\n",
       "│ 2989 │ 2019-10-28 │ 22    │ 0        │ \u001b[90mmissing\u001b[39m  │ \u001b[90mmissing\u001b[39m    │ 0       │\n",
       "│ 2990 │ 2019-10-28 │ 23    │ 0        │ \u001b[90mmissing\u001b[39m  │ \u001b[90mmissing\u001b[39m    │ 0       │\n",
       "│ 2991 │ 2019-10-29 │ 22    │ 0        │ \u001b[90mmissing\u001b[39m  │ \u001b[90mmissing\u001b[39m    │ 0       │\n",
       "│ 2992 │ 2019-10-29 │ 23    │ 0        │ \u001b[90mmissing\u001b[39m  │ \u001b[90mmissing\u001b[39m    │ 0       │\n",
       "│ 2993 │ 2019-10-30 │ 22    │ \u001b[90mmissing\u001b[39m  │ \u001b[90mmissing\u001b[39m  │ \u001b[90mmissing\u001b[39m    │ \u001b[90mmissing\u001b[39m │\n",
       "│ 2994 │ 2019-10-30 │ 23    │ \u001b[90mmissing\u001b[39m  │ \u001b[90mmissing\u001b[39m  │ \u001b[90mmissing\u001b[39m    │ \u001b[90mmissing\u001b[39m │\n",
       "│ 2995 │ 2019-10-31 │ 22    │ \u001b[90mmissing\u001b[39m  │ \u001b[90mmissing\u001b[39m  │ \u001b[90mmissing\u001b[39m    │ \u001b[90mmissing\u001b[39m │\n",
       "│ 2996 │ 2019-10-31 │ 23    │ \u001b[90mmissing\u001b[39m  │ \u001b[90mmissing\u001b[39m  │ \u001b[90mmissing\u001b[39m    │ \u001b[90mmissing\u001b[39m │"
      ]
     },
     "execution_count": 535,
     "metadata": {},
     "output_type": "execute_result"
    }
   ],
   "source": [
    "data = filter(row -> month(row.date) > 4, data) \n",
    "data = filter(row -> month(row.date) < 11, data) \n",
    "databefore = filter(row -> month(row.date) > 3, databefore) \n",
    "databefore = filter(row -> month(row.date) < 11, databefore) \n",
    "databefore = filter(row -> row.heure >= 23, databefore) "
   ]
  },
  {
   "cell_type": "code",
   "execution_count": null,
   "metadata": {},
   "outputs": [],
   "source": []
  },
  {
   "cell_type": "markdown",
   "metadata": {},
   "source": [
    "# Analyse exploratoire\n",
    "\n",
    "Cette section consitue une analyse exploratoire superficielle permettant de voir s'il existe un lien entre les précipitations et les surverses.\n",
    "\n",
    "Prenons arbitrairement l'ouvrage de débordement près du Bota-Bota (4350-01D). La station météorologique la plus proche est McTavish. Prenons deux variables explicatives simple :\n",
    "- la somme journalière des précipitations\n",
    "- le taux horaire maximum journalier de précipitations\n",
    "\n",
    "#### Calcul de la quantité journalière de précipitations pour chacune des stations météorologiques"
   ]
  },
  {
   "cell_type": "code",
   "execution_count": 536,
   "metadata": {},
   "outputs": [
    {
     "data": {
      "text/html": [
       "<table class=\"data-frame\"><thead><tr><th></th><th>date</th><th>McTavish</th><th>Bellevue</th><th>Assomption</th><th>Trudeau</th><th>StHubert</th></tr><tr><th></th><th>Date</th><th>Int64⍰</th><th>Int64⍰</th><th>Int64⍰</th><th>Int64⍰</th><th>Int64⍰</th></tr></thead><tbody><p>5 rows × 6 columns</p><tr><th>1</th><td>2013-05-01</td><td>0</td><td>0</td><td>0</td><td>0</td><td>missing</td></tr><tr><th>2</th><td>2013-05-02</td><td>0</td><td>0</td><td>0</td><td>0</td><td>missing</td></tr><tr><th>3</th><td>2013-05-03</td><td>0</td><td>0</td><td>0</td><td>0</td><td>missing</td></tr><tr><th>4</th><td>2013-05-04</td><td>0</td><td>0</td><td>0</td><td>0</td><td>missing</td></tr><tr><th>5</th><td>2013-05-05</td><td>0</td><td>0</td><td>0</td><td>0</td><td>missing</td></tr></tbody></table>"
      ],
      "text/latex": [
       "\\begin{tabular}{r|cccccc}\n",
       "\t& date & McTavish & Bellevue & Assomption & Trudeau & StHubert\\\\\n",
       "\t\\hline\n",
       "\t& Date & Int64⍰ & Int64⍰ & Int64⍰ & Int64⍰ & Int64⍰\\\\\n",
       "\t\\hline\n",
       "\t1 & 2013-05-01 & 0 & 0 & 0 & 0 &  \\\\\n",
       "\t2 & 2013-05-02 & 0 & 0 & 0 & 0 &  \\\\\n",
       "\t3 & 2013-05-03 & 0 & 0 & 0 & 0 &  \\\\\n",
       "\t4 & 2013-05-04 & 0 & 0 & 0 & 0 &  \\\\\n",
       "\t5 & 2013-05-05 & 0 & 0 & 0 & 0 &  \\\\\n",
       "\\end{tabular}\n"
      ],
      "text/plain": [
       "5×6 DataFrame\n",
       "│ Row │ date       │ McTavish │ Bellevue │ Assomption │ Trudeau │ StHubert │\n",
       "│     │ \u001b[90mDate\u001b[39m       │ \u001b[90mInt64⍰\u001b[39m   │ \u001b[90mInt64⍰\u001b[39m   │ \u001b[90mInt64⍰\u001b[39m     │ \u001b[90mInt64⍰\u001b[39m  │ \u001b[90mInt64⍰\u001b[39m   │\n",
       "├─────┼────────────┼──────────┼──────────┼────────────┼─────────┼──────────┤\n",
       "│ 1   │ 2013-05-01 │ 0        │ 0        │ 0          │ 0       │ \u001b[90mmissing\u001b[39m  │\n",
       "│ 2   │ 2013-05-02 │ 0        │ 0        │ 0          │ 0       │ \u001b[90mmissing\u001b[39m  │\n",
       "│ 3   │ 2013-05-03 │ 0        │ 0        │ 0          │ 0       │ \u001b[90mmissing\u001b[39m  │\n",
       "│ 4   │ 2013-05-04 │ 0        │ 0        │ 0          │ 0       │ \u001b[90mmissing\u001b[39m  │\n",
       "│ 5   │ 2013-05-05 │ 0        │ 0        │ 0          │ 0       │ \u001b[90mmissing\u001b[39m  │"
      ]
     },
     "execution_count": 536,
     "metadata": {},
     "output_type": "execute_result"
    }
   ],
   "source": [
    "pcp_sum = by(data, :date,  McTavish = :McTavish=>sum, Bellevue = :Bellevue=>sum, \n",
    "   Assomption = :Assomption=>sum, Trudeau = :Trudeau=>sum, StHubert = :StHubert=>sum)\n",
    "first(pcp_sum ,5)"
   ]
  },
  {
   "cell_type": "code",
   "execution_count": 537,
   "metadata": {},
   "outputs": [
    {
     "data": {
      "text/html": [
       "<table class=\"data-frame\"><thead><tr><th></th><th>date</th><th>McTavish</th><th>Bellevue</th><th>Assomption</th><th>Trudeau</th><th>StHubert</th></tr><tr><th></th><th>Date</th><th>Int64⍰</th><th>Int64⍰</th><th>Int64⍰</th><th>Int64⍰</th><th>Int64⍰</th></tr></thead><tbody><p>1,498 rows × 6 columns</p><tr><th>1</th><td>2013-04-01</td><td>0</td><td>0</td><td>0</td><td>0</td><td>missing</td></tr><tr><th>2</th><td>2013-04-02</td><td>0</td><td>0</td><td>0</td><td>0</td><td>missing</td></tr><tr><th>3</th><td>2013-04-03</td><td>0</td><td>0</td><td>0</td><td>0</td><td>missing</td></tr><tr><th>4</th><td>2013-04-04</td><td>0</td><td>0</td><td>0</td><td>0</td><td>missing</td></tr><tr><th>5</th><td>2013-04-05</td><td>0</td><td>0</td><td>0</td><td>0</td><td>missing</td></tr><tr><th>6</th><td>2013-04-06</td><td>0</td><td>0</td><td>0</td><td>0</td><td>missing</td></tr><tr><th>7</th><td>2013-04-07</td><td>0</td><td>0</td><td>0</td><td>0</td><td>missing</td></tr><tr><th>8</th><td>2013-04-08</td><td>0</td><td>0</td><td>0</td><td>0</td><td>missing</td></tr><tr><th>9</th><td>2013-04-09</td><td>0</td><td>0</td><td>0</td><td>0</td><td>missing</td></tr><tr><th>10</th><td>2013-04-10</td><td>0</td><td>0</td><td>0</td><td>0</td><td>missing</td></tr><tr><th>11</th><td>2013-04-11</td><td>0</td><td>0</td><td>0</td><td>0</td><td>missing</td></tr><tr><th>12</th><td>2013-04-12</td><td>11</td><td>3</td><td>10</td><td>6</td><td>missing</td></tr><tr><th>13</th><td>2013-04-13</td><td>0</td><td>0</td><td>0</td><td>0</td><td>missing</td></tr><tr><th>14</th><td>2013-04-14</td><td>0</td><td>0</td><td>0</td><td>0</td><td>missing</td></tr><tr><th>15</th><td>2013-04-15</td><td>0</td><td>0</td><td>0</td><td>0</td><td>missing</td></tr><tr><th>16</th><td>2013-04-16</td><td>0</td><td>0</td><td>0</td><td>0</td><td>missing</td></tr><tr><th>17</th><td>2013-04-17</td><td>0</td><td>0</td><td>0</td><td>0</td><td>missing</td></tr><tr><th>18</th><td>2013-04-18</td><td>0</td><td>0</td><td>0</td><td>0</td><td>missing</td></tr><tr><th>19</th><td>2013-04-19</td><td>0</td><td>0</td><td>0</td><td>3</td><td>missing</td></tr><tr><th>20</th><td>2013-04-20</td><td>0</td><td>0</td><td>0</td><td>0</td><td>missing</td></tr><tr><th>21</th><td>2013-04-21</td><td>0</td><td>0</td><td>0</td><td>0</td><td>missing</td></tr><tr><th>22</th><td>2013-04-22</td><td>0</td><td>0</td><td>0</td><td>0</td><td>missing</td></tr><tr><th>23</th><td>2013-04-23</td><td>0</td><td>0</td><td>0</td><td>0</td><td>missing</td></tr><tr><th>24</th><td>2013-04-24</td><td>20</td><td>19</td><td>20</td><td>27</td><td>missing</td></tr><tr><th>25</th><td>2013-04-25</td><td>0</td><td>0</td><td>0</td><td>0</td><td>missing</td></tr><tr><th>26</th><td>2013-04-26</td><td>0</td><td>0</td><td>0</td><td>0</td><td>missing</td></tr><tr><th>27</th><td>2013-04-27</td><td>0</td><td>0</td><td>0</td><td>0</td><td>missing</td></tr><tr><th>28</th><td>2013-04-28</td><td>0</td><td>0</td><td>0</td><td>0</td><td>missing</td></tr><tr><th>29</th><td>2013-04-29</td><td>0</td><td>0</td><td>0</td><td>0</td><td>missing</td></tr><tr><th>30</th><td>2013-04-30</td><td>0</td><td>0</td><td>0</td><td>0</td><td>missing</td></tr><tr><th>&vellip;</th><td>&vellip;</td><td>&vellip;</td><td>&vellip;</td><td>&vellip;</td><td>&vellip;</td><td>&vellip;</td></tr></tbody></table>"
      ],
      "text/latex": [
       "\\begin{tabular}{r|cccccc}\n",
       "\t& date & McTavish & Bellevue & Assomption & Trudeau & StHubert\\\\\n",
       "\t\\hline\n",
       "\t& Date & Int64⍰ & Int64⍰ & Int64⍰ & Int64⍰ & Int64⍰\\\\\n",
       "\t\\hline\n",
       "\t1 & 2013-04-01 & 0 & 0 & 0 & 0 &  \\\\\n",
       "\t2 & 2013-04-02 & 0 & 0 & 0 & 0 &  \\\\\n",
       "\t3 & 2013-04-03 & 0 & 0 & 0 & 0 &  \\\\\n",
       "\t4 & 2013-04-04 & 0 & 0 & 0 & 0 &  \\\\\n",
       "\t5 & 2013-04-05 & 0 & 0 & 0 & 0 &  \\\\\n",
       "\t6 & 2013-04-06 & 0 & 0 & 0 & 0 &  \\\\\n",
       "\t7 & 2013-04-07 & 0 & 0 & 0 & 0 &  \\\\\n",
       "\t8 & 2013-04-08 & 0 & 0 & 0 & 0 &  \\\\\n",
       "\t9 & 2013-04-09 & 0 & 0 & 0 & 0 &  \\\\\n",
       "\t10 & 2013-04-10 & 0 & 0 & 0 & 0 &  \\\\\n",
       "\t11 & 2013-04-11 & 0 & 0 & 0 & 0 &  \\\\\n",
       "\t12 & 2013-04-12 & 11 & 3 & 10 & 6 &  \\\\\n",
       "\t13 & 2013-04-13 & 0 & 0 & 0 & 0 &  \\\\\n",
       "\t14 & 2013-04-14 & 0 & 0 & 0 & 0 &  \\\\\n",
       "\t15 & 2013-04-15 & 0 & 0 & 0 & 0 &  \\\\\n",
       "\t16 & 2013-04-16 & 0 & 0 & 0 & 0 &  \\\\\n",
       "\t17 & 2013-04-17 & 0 & 0 & 0 & 0 &  \\\\\n",
       "\t18 & 2013-04-18 & 0 & 0 & 0 & 0 &  \\\\\n",
       "\t19 & 2013-04-19 & 0 & 0 & 0 & 3 &  \\\\\n",
       "\t20 & 2013-04-20 & 0 & 0 & 0 & 0 &  \\\\\n",
       "\t21 & 2013-04-21 & 0 & 0 & 0 & 0 &  \\\\\n",
       "\t22 & 2013-04-22 & 0 & 0 & 0 & 0 &  \\\\\n",
       "\t23 & 2013-04-23 & 0 & 0 & 0 & 0 &  \\\\\n",
       "\t24 & 2013-04-24 & 20 & 19 & 20 & 27 &  \\\\\n",
       "\t25 & 2013-04-25 & 0 & 0 & 0 & 0 &  \\\\\n",
       "\t26 & 2013-04-26 & 0 & 0 & 0 & 0 &  \\\\\n",
       "\t27 & 2013-04-27 & 0 & 0 & 0 & 0 &  \\\\\n",
       "\t28 & 2013-04-28 & 0 & 0 & 0 & 0 &  \\\\\n",
       "\t29 & 2013-04-29 & 0 & 0 & 0 & 0 &  \\\\\n",
       "\t30 & 2013-04-30 & 0 & 0 & 0 & 0 &  \\\\\n",
       "\t$\\dots$ & $\\dots$ & $\\dots$ & $\\dots$ & $\\dots$ & $\\dots$ & $\\dots$ \\\\\n",
       "\\end{tabular}\n"
      ],
      "text/plain": [
       "1498×6 DataFrame\n",
       "│ Row  │ date       │ McTavish │ Bellevue │ Assomption │ Trudeau │ StHubert │\n",
       "│      │ \u001b[90mDate\u001b[39m       │ \u001b[90mInt64⍰\u001b[39m   │ \u001b[90mInt64⍰\u001b[39m   │ \u001b[90mInt64⍰\u001b[39m     │ \u001b[90mInt64⍰\u001b[39m  │ \u001b[90mInt64⍰\u001b[39m   │\n",
       "├──────┼────────────┼──────────┼──────────┼────────────┼─────────┼──────────┤\n",
       "│ 1    │ 2013-04-01 │ 0        │ 0        │ 0          │ 0       │ \u001b[90mmissing\u001b[39m  │\n",
       "│ 2    │ 2013-04-02 │ 0        │ 0        │ 0          │ 0       │ \u001b[90mmissing\u001b[39m  │\n",
       "│ 3    │ 2013-04-03 │ 0        │ 0        │ 0          │ 0       │ \u001b[90mmissing\u001b[39m  │\n",
       "│ 4    │ 2013-04-04 │ 0        │ 0        │ 0          │ 0       │ \u001b[90mmissing\u001b[39m  │\n",
       "│ 5    │ 2013-04-05 │ 0        │ 0        │ 0          │ 0       │ \u001b[90mmissing\u001b[39m  │\n",
       "│ 6    │ 2013-04-06 │ 0        │ 0        │ 0          │ 0       │ \u001b[90mmissing\u001b[39m  │\n",
       "│ 7    │ 2013-04-07 │ 0        │ 0        │ 0          │ 0       │ \u001b[90mmissing\u001b[39m  │\n",
       "│ 8    │ 2013-04-08 │ 0        │ 0        │ 0          │ 0       │ \u001b[90mmissing\u001b[39m  │\n",
       "│ 9    │ 2013-04-09 │ 0        │ 0        │ 0          │ 0       │ \u001b[90mmissing\u001b[39m  │\n",
       "│ 10   │ 2013-04-10 │ 0        │ 0        │ 0          │ 0       │ \u001b[90mmissing\u001b[39m  │\n",
       "⋮\n",
       "│ 1488 │ 2019-10-21 │ 0        │ \u001b[90mmissing\u001b[39m  │ \u001b[90mmissing\u001b[39m    │ 0       │ 0        │\n",
       "│ 1489 │ 2019-10-22 │ 53       │ \u001b[90mmissing\u001b[39m  │ \u001b[90mmissing\u001b[39m    │ 75      │ 43       │\n",
       "│ 1490 │ 2019-10-23 │ 0        │ \u001b[90mmissing\u001b[39m  │ \u001b[90mmissing\u001b[39m    │ 0       │ 0        │\n",
       "│ 1491 │ 2019-10-24 │ 0        │ \u001b[90mmissing\u001b[39m  │ \u001b[90mmissing\u001b[39m    │ 0       │ 0        │\n",
       "│ 1492 │ 2019-10-25 │ 0        │ \u001b[90mmissing\u001b[39m  │ \u001b[90mmissing\u001b[39m    │ 0       │ 0        │\n",
       "│ 1493 │ 2019-10-26 │ 0        │ \u001b[90mmissing\u001b[39m  │ \u001b[90mmissing\u001b[39m    │ 0       │ 0        │\n",
       "│ 1494 │ 2019-10-27 │ 4        │ \u001b[90mmissing\u001b[39m  │ \u001b[90mmissing\u001b[39m    │ 0       │ 2        │\n",
       "│ 1495 │ 2019-10-28 │ 0        │ \u001b[90mmissing\u001b[39m  │ \u001b[90mmissing\u001b[39m    │ 0       │ 0        │\n",
       "│ 1496 │ 2019-10-29 │ 0        │ \u001b[90mmissing\u001b[39m  │ \u001b[90mmissing\u001b[39m    │ 0       │ 0        │\n",
       "│ 1497 │ 2019-10-30 │ \u001b[90mmissing\u001b[39m  │ \u001b[90mmissing\u001b[39m  │ \u001b[90mmissing\u001b[39m    │ \u001b[90mmissing\u001b[39m │ \u001b[90mmissing\u001b[39m  │\n",
       "│ 1498 │ 2019-10-31 │ \u001b[90mmissing\u001b[39m  │ \u001b[90mmissing\u001b[39m  │ \u001b[90mmissing\u001b[39m    │ \u001b[90mmissing\u001b[39m │ \u001b[90mmissing\u001b[39m  │"
      ]
     },
     "execution_count": 537,
     "metadata": {},
     "output_type": "execute_result"
    }
   ],
   "source": [
    "pcpBefore_sum = by(databefore, :date,  McTavish = :McTavish=>sum, Bellevue = :Bellevue=>sum, \n",
    "   Assomption = :Assomption=>sum, Trudeau = :Trudeau=>sum, StHubert = :StHubert=>sum)\n",
    "\n"
   ]
  },
  {
   "cell_type": "code",
   "execution_count": null,
   "metadata": {},
   "outputs": [],
   "source": []
  },
  {
   "cell_type": "code",
   "execution_count": null,
   "metadata": {},
   "outputs": [],
   "source": []
  },
  {
   "cell_type": "code",
   "execution_count": null,
   "metadata": {},
   "outputs": [],
   "source": []
  },
  {
   "cell_type": "code",
   "execution_count": null,
   "metadata": {},
   "outputs": [],
   "source": []
  },
  {
   "cell_type": "code",
   "execution_count": 538,
   "metadata": {},
   "outputs": [],
   "source": [
    "for j=1:size(pcpBefore_sum,1)\n",
    "    means = 0\n",
    "    sum = 0\n",
    "    alo = names(pcpBefore_sum)\n",
    "    for col in alo\n",
    "        if col != alo[1]\n",
    "            if !ismissing(pcpBefore_sum[j, col]) \n",
    "                sum = sum +1\n",
    "                means = means + pcpBefore_sum[j, col]\n",
    "            end\n",
    "        end\n",
    "    end\n",
    "    if sum != 0\n",
    "        means = means / sum\n",
    "    end\n",
    "    for col in alo\n",
    "        if ismissing(pcpBefore_sum[j, col]) && col != alo[1]\n",
    "            tests = floor(means)\n",
    "            pcpBefore_sum[j, col] = tests\n",
    "        end\n",
    "    end\n",
    "end\n"
   ]
  },
  {
   "cell_type": "code",
   "execution_count": 539,
   "metadata": {},
   "outputs": [],
   "source": [
    "\n",
    "for j=1:size(pcp_sum,1)\n",
    "    means = 0\n",
    "    sum = 0\n",
    "    alo = names(pcp_sum)\n",
    "    for col in alo\n",
    "        if col != alo[1]\n",
    "            if !ismissing(pcp_sum[j, col]) \n",
    "                sum = sum +1\n",
    "                means = means + pcp_sum[j, col]\n",
    "            end\n",
    "        end\n",
    "    end\n",
    "    if sum != 0\n",
    "        means = means / sum\n",
    "    end\n",
    "    for col in alo\n",
    "        if ismissing(pcp_sum[j, col]) && col != alo[1]\n",
    "            tests = floor(means)\n",
    "            pcp_sum[j, col] = tests\n",
    "        end\n",
    "    end\n",
    "end\n"
   ]
  },
  {
   "cell_type": "code",
   "execution_count": 540,
   "metadata": {},
   "outputs": [
    {
     "data": {
      "text/html": [
       "<table class=\"data-frame\"><thead><tr><th></th><th>date</th><th>McTavish</th><th>Bellevue</th><th>Assomption</th><th>Trudeau</th><th>StHubert</th></tr><tr><th></th><th>Date</th><th>Int64⍰</th><th>Int64⍰</th><th>Int64⍰</th><th>Int64⍰</th><th>Int64⍰</th></tr></thead><tbody><p>1,498 rows × 6 columns</p><tr><th>1</th><td>2013-04-01</td><td>0</td><td>0</td><td>0</td><td>0</td><td>missing</td></tr><tr><th>2</th><td>2013-04-02</td><td>0</td><td>0</td><td>0</td><td>0</td><td>missing</td></tr><tr><th>3</th><td>2013-04-03</td><td>0</td><td>0</td><td>0</td><td>0</td><td>missing</td></tr><tr><th>4</th><td>2013-04-04</td><td>0</td><td>0</td><td>0</td><td>0</td><td>missing</td></tr><tr><th>5</th><td>2013-04-05</td><td>0</td><td>0</td><td>0</td><td>0</td><td>missing</td></tr><tr><th>6</th><td>2013-04-06</td><td>0</td><td>0</td><td>0</td><td>0</td><td>missing</td></tr><tr><th>7</th><td>2013-04-07</td><td>0</td><td>0</td><td>0</td><td>0</td><td>missing</td></tr><tr><th>8</th><td>2013-04-08</td><td>0</td><td>0</td><td>0</td><td>0</td><td>missing</td></tr><tr><th>9</th><td>2013-04-09</td><td>0</td><td>0</td><td>0</td><td>0</td><td>missing</td></tr><tr><th>10</th><td>2013-04-10</td><td>0</td><td>0</td><td>0</td><td>0</td><td>missing</td></tr><tr><th>11</th><td>2013-04-11</td><td>0</td><td>0</td><td>0</td><td>0</td><td>missing</td></tr><tr><th>12</th><td>2013-04-12</td><td>11</td><td>3</td><td>10</td><td>6</td><td>missing</td></tr><tr><th>13</th><td>2013-04-13</td><td>0</td><td>0</td><td>0</td><td>0</td><td>missing</td></tr><tr><th>14</th><td>2013-04-14</td><td>0</td><td>0</td><td>0</td><td>0</td><td>missing</td></tr><tr><th>15</th><td>2013-04-15</td><td>0</td><td>0</td><td>0</td><td>0</td><td>missing</td></tr><tr><th>16</th><td>2013-04-16</td><td>0</td><td>0</td><td>0</td><td>0</td><td>missing</td></tr><tr><th>17</th><td>2013-04-17</td><td>0</td><td>0</td><td>0</td><td>0</td><td>missing</td></tr><tr><th>18</th><td>2013-04-18</td><td>0</td><td>0</td><td>0</td><td>0</td><td>missing</td></tr><tr><th>19</th><td>2013-04-19</td><td>0</td><td>0</td><td>0</td><td>3</td><td>missing</td></tr><tr><th>20</th><td>2013-04-20</td><td>0</td><td>0</td><td>0</td><td>0</td><td>missing</td></tr><tr><th>21</th><td>2013-04-21</td><td>0</td><td>0</td><td>0</td><td>0</td><td>missing</td></tr><tr><th>22</th><td>2013-04-22</td><td>0</td><td>0</td><td>0</td><td>0</td><td>missing</td></tr><tr><th>23</th><td>2013-04-23</td><td>0</td><td>0</td><td>0</td><td>0</td><td>missing</td></tr><tr><th>24</th><td>2013-04-24</td><td>20</td><td>19</td><td>20</td><td>18</td><td>missing</td></tr><tr><th>25</th><td>2013-04-25</td><td>0</td><td>0</td><td>0</td><td>0</td><td>missing</td></tr><tr><th>26</th><td>2013-04-26</td><td>0</td><td>0</td><td>0</td><td>0</td><td>missing</td></tr><tr><th>27</th><td>2013-04-27</td><td>0</td><td>0</td><td>0</td><td>0</td><td>missing</td></tr><tr><th>28</th><td>2013-04-28</td><td>0</td><td>0</td><td>0</td><td>0</td><td>missing</td></tr><tr><th>29</th><td>2013-04-29</td><td>0</td><td>0</td><td>0</td><td>0</td><td>missing</td></tr><tr><th>30</th><td>2013-04-30</td><td>0</td><td>0</td><td>0</td><td>0</td><td>missing</td></tr><tr><th>&vellip;</th><td>&vellip;</td><td>&vellip;</td><td>&vellip;</td><td>&vellip;</td><td>&vellip;</td><td>&vellip;</td></tr></tbody></table>"
      ],
      "text/latex": [
       "\\begin{tabular}{r|cccccc}\n",
       "\t& date & McTavish & Bellevue & Assomption & Trudeau & StHubert\\\\\n",
       "\t\\hline\n",
       "\t& Date & Int64⍰ & Int64⍰ & Int64⍰ & Int64⍰ & Int64⍰\\\\\n",
       "\t\\hline\n",
       "\t1 & 2013-04-01 & 0 & 0 & 0 & 0 &  \\\\\n",
       "\t2 & 2013-04-02 & 0 & 0 & 0 & 0 &  \\\\\n",
       "\t3 & 2013-04-03 & 0 & 0 & 0 & 0 &  \\\\\n",
       "\t4 & 2013-04-04 & 0 & 0 & 0 & 0 &  \\\\\n",
       "\t5 & 2013-04-05 & 0 & 0 & 0 & 0 &  \\\\\n",
       "\t6 & 2013-04-06 & 0 & 0 & 0 & 0 &  \\\\\n",
       "\t7 & 2013-04-07 & 0 & 0 & 0 & 0 &  \\\\\n",
       "\t8 & 2013-04-08 & 0 & 0 & 0 & 0 &  \\\\\n",
       "\t9 & 2013-04-09 & 0 & 0 & 0 & 0 &  \\\\\n",
       "\t10 & 2013-04-10 & 0 & 0 & 0 & 0 &  \\\\\n",
       "\t11 & 2013-04-11 & 0 & 0 & 0 & 0 &  \\\\\n",
       "\t12 & 2013-04-12 & 11 & 3 & 10 & 6 &  \\\\\n",
       "\t13 & 2013-04-13 & 0 & 0 & 0 & 0 &  \\\\\n",
       "\t14 & 2013-04-14 & 0 & 0 & 0 & 0 &  \\\\\n",
       "\t15 & 2013-04-15 & 0 & 0 & 0 & 0 &  \\\\\n",
       "\t16 & 2013-04-16 & 0 & 0 & 0 & 0 &  \\\\\n",
       "\t17 & 2013-04-17 & 0 & 0 & 0 & 0 &  \\\\\n",
       "\t18 & 2013-04-18 & 0 & 0 & 0 & 0 &  \\\\\n",
       "\t19 & 2013-04-19 & 0 & 0 & 0 & 3 &  \\\\\n",
       "\t20 & 2013-04-20 & 0 & 0 & 0 & 0 &  \\\\\n",
       "\t21 & 2013-04-21 & 0 & 0 & 0 & 0 &  \\\\\n",
       "\t22 & 2013-04-22 & 0 & 0 & 0 & 0 &  \\\\\n",
       "\t23 & 2013-04-23 & 0 & 0 & 0 & 0 &  \\\\\n",
       "\t24 & 2013-04-24 & 20 & 19 & 20 & 18 &  \\\\\n",
       "\t25 & 2013-04-25 & 0 & 0 & 0 & 0 &  \\\\\n",
       "\t26 & 2013-04-26 & 0 & 0 & 0 & 0 &  \\\\\n",
       "\t27 & 2013-04-27 & 0 & 0 & 0 & 0 &  \\\\\n",
       "\t28 & 2013-04-28 & 0 & 0 & 0 & 0 &  \\\\\n",
       "\t29 & 2013-04-29 & 0 & 0 & 0 & 0 &  \\\\\n",
       "\t30 & 2013-04-30 & 0 & 0 & 0 & 0 &  \\\\\n",
       "\t$\\dots$ & $\\dots$ & $\\dots$ & $\\dots$ & $\\dots$ & $\\dots$ & $\\dots$ \\\\\n",
       "\\end{tabular}\n"
      ],
      "text/plain": [
       "1498×6 DataFrame\n",
       "│ Row  │ date       │ McTavish │ Bellevue │ Assomption │ Trudeau │ StHubert │\n",
       "│      │ \u001b[90mDate\u001b[39m       │ \u001b[90mInt64⍰\u001b[39m   │ \u001b[90mInt64⍰\u001b[39m   │ \u001b[90mInt64⍰\u001b[39m     │ \u001b[90mInt64⍰\u001b[39m  │ \u001b[90mInt64⍰\u001b[39m   │\n",
       "├──────┼────────────┼──────────┼──────────┼────────────┼─────────┼──────────┤\n",
       "│ 1    │ 2013-04-01 │ 0        │ 0        │ 0          │ 0       │ \u001b[90mmissing\u001b[39m  │\n",
       "│ 2    │ 2013-04-02 │ 0        │ 0        │ 0          │ 0       │ \u001b[90mmissing\u001b[39m  │\n",
       "│ 3    │ 2013-04-03 │ 0        │ 0        │ 0          │ 0       │ \u001b[90mmissing\u001b[39m  │\n",
       "│ 4    │ 2013-04-04 │ 0        │ 0        │ 0          │ 0       │ \u001b[90mmissing\u001b[39m  │\n",
       "│ 5    │ 2013-04-05 │ 0        │ 0        │ 0          │ 0       │ \u001b[90mmissing\u001b[39m  │\n",
       "│ 6    │ 2013-04-06 │ 0        │ 0        │ 0          │ 0       │ \u001b[90mmissing\u001b[39m  │\n",
       "│ 7    │ 2013-04-07 │ 0        │ 0        │ 0          │ 0       │ \u001b[90mmissing\u001b[39m  │\n",
       "│ 8    │ 2013-04-08 │ 0        │ 0        │ 0          │ 0       │ \u001b[90mmissing\u001b[39m  │\n",
       "│ 9    │ 2013-04-09 │ 0        │ 0        │ 0          │ 0       │ \u001b[90mmissing\u001b[39m  │\n",
       "│ 10   │ 2013-04-10 │ 0        │ 0        │ 0          │ 0       │ \u001b[90mmissing\u001b[39m  │\n",
       "⋮\n",
       "│ 1488 │ 2019-10-21 │ 0        │ \u001b[90mmissing\u001b[39m  │ \u001b[90mmissing\u001b[39m    │ 0       │ 0        │\n",
       "│ 1489 │ 2019-10-22 │ 31       │ \u001b[90mmissing\u001b[39m  │ \u001b[90mmissing\u001b[39m    │ 53      │ 28       │\n",
       "│ 1490 │ 2019-10-23 │ 0        │ \u001b[90mmissing\u001b[39m  │ \u001b[90mmissing\u001b[39m    │ 0       │ 0        │\n",
       "│ 1491 │ 2019-10-24 │ 0        │ \u001b[90mmissing\u001b[39m  │ \u001b[90mmissing\u001b[39m    │ 0       │ 0        │\n",
       "│ 1492 │ 2019-10-25 │ 0        │ \u001b[90mmissing\u001b[39m  │ \u001b[90mmissing\u001b[39m    │ 0       │ 0        │\n",
       "│ 1493 │ 2019-10-26 │ 0        │ \u001b[90mmissing\u001b[39m  │ \u001b[90mmissing\u001b[39m    │ 0       │ 0        │\n",
       "│ 1494 │ 2019-10-27 │ 2        │ \u001b[90mmissing\u001b[39m  │ \u001b[90mmissing\u001b[39m    │ 0       │ 2        │\n",
       "│ 1495 │ 2019-10-28 │ 0        │ \u001b[90mmissing\u001b[39m  │ \u001b[90mmissing\u001b[39m    │ 0       │ 0        │\n",
       "│ 1496 │ 2019-10-29 │ 0        │ \u001b[90mmissing\u001b[39m  │ \u001b[90mmissing\u001b[39m    │ 0       │ 0        │\n",
       "│ 1497 │ 2019-10-30 │ \u001b[90mmissing\u001b[39m  │ \u001b[90mmissing\u001b[39m  │ \u001b[90mmissing\u001b[39m    │ \u001b[90mmissing\u001b[39m │ \u001b[90mmissing\u001b[39m  │\n",
       "│ 1498 │ 2019-10-31 │ \u001b[90mmissing\u001b[39m  │ \u001b[90mmissing\u001b[39m  │ \u001b[90mmissing\u001b[39m    │ \u001b[90mmissing\u001b[39m │ \u001b[90mmissing\u001b[39m  │"
      ]
     },
     "execution_count": 540,
     "metadata": {},
     "output_type": "execute_result"
    }
   ],
   "source": [
    "\n",
    "pcpBefore_max = by(databefore, :date,  McTavish = :McTavish=>maximum, Bellevue = :Bellevue=>maximum, \n",
    "   Assomption = :Assomption=>maximum, Trudeau = :Trudeau=>maximum, StHubert = :StHubert=>maximum)\n"
   ]
  },
  {
   "cell_type": "code",
   "execution_count": null,
   "metadata": {},
   "outputs": [],
   "source": []
  },
  {
   "cell_type": "code",
   "execution_count": null,
   "metadata": {},
   "outputs": [],
   "source": []
  },
  {
   "cell_type": "markdown",
   "metadata": {},
   "source": [
    "#### Extraction du taux horaire journalier maximum des précipitations pour chacune des stations météorologiques"
   ]
  },
  {
   "cell_type": "code",
   "execution_count": 541,
   "metadata": {},
   "outputs": [
    {
     "data": {
      "text/html": [
       "<table class=\"data-frame\"><thead><tr><th></th><th>date</th><th>McTavish</th><th>Bellevue</th><th>Assomption</th><th>Trudeau</th><th>StHubert</th></tr><tr><th></th><th>Date</th><th>Int64⍰</th><th>Int64⍰</th><th>Int64⍰</th><th>Int64⍰</th><th>Int64⍰</th></tr></thead><tbody><p>5 rows × 6 columns</p><tr><th>1</th><td>2013-05-01</td><td>0</td><td>0</td><td>0</td><td>0</td><td>missing</td></tr><tr><th>2</th><td>2013-05-02</td><td>0</td><td>0</td><td>0</td><td>0</td><td>missing</td></tr><tr><th>3</th><td>2013-05-03</td><td>0</td><td>0</td><td>0</td><td>0</td><td>missing</td></tr><tr><th>4</th><td>2013-05-04</td><td>0</td><td>0</td><td>0</td><td>0</td><td>missing</td></tr><tr><th>5</th><td>2013-05-05</td><td>0</td><td>0</td><td>0</td><td>0</td><td>missing</td></tr></tbody></table>"
      ],
      "text/latex": [
       "\\begin{tabular}{r|cccccc}\n",
       "\t& date & McTavish & Bellevue & Assomption & Trudeau & StHubert\\\\\n",
       "\t\\hline\n",
       "\t& Date & Int64⍰ & Int64⍰ & Int64⍰ & Int64⍰ & Int64⍰\\\\\n",
       "\t\\hline\n",
       "\t1 & 2013-05-01 & 0 & 0 & 0 & 0 &  \\\\\n",
       "\t2 & 2013-05-02 & 0 & 0 & 0 & 0 &  \\\\\n",
       "\t3 & 2013-05-03 & 0 & 0 & 0 & 0 &  \\\\\n",
       "\t4 & 2013-05-04 & 0 & 0 & 0 & 0 &  \\\\\n",
       "\t5 & 2013-05-05 & 0 & 0 & 0 & 0 &  \\\\\n",
       "\\end{tabular}\n"
      ],
      "text/plain": [
       "5×6 DataFrame\n",
       "│ Row │ date       │ McTavish │ Bellevue │ Assomption │ Trudeau │ StHubert │\n",
       "│     │ \u001b[90mDate\u001b[39m       │ \u001b[90mInt64⍰\u001b[39m   │ \u001b[90mInt64⍰\u001b[39m   │ \u001b[90mInt64⍰\u001b[39m     │ \u001b[90mInt64⍰\u001b[39m  │ \u001b[90mInt64⍰\u001b[39m   │\n",
       "├─────┼────────────┼──────────┼──────────┼────────────┼─────────┼──────────┤\n",
       "│ 1   │ 2013-05-01 │ 0        │ 0        │ 0          │ 0       │ \u001b[90mmissing\u001b[39m  │\n",
       "│ 2   │ 2013-05-02 │ 0        │ 0        │ 0          │ 0       │ \u001b[90mmissing\u001b[39m  │\n",
       "│ 3   │ 2013-05-03 │ 0        │ 0        │ 0          │ 0       │ \u001b[90mmissing\u001b[39m  │\n",
       "│ 4   │ 2013-05-04 │ 0        │ 0        │ 0          │ 0       │ \u001b[90mmissing\u001b[39m  │\n",
       "│ 5   │ 2013-05-05 │ 0        │ 0        │ 0          │ 0       │ \u001b[90mmissing\u001b[39m  │"
      ]
     },
     "execution_count": 541,
     "metadata": {},
     "output_type": "execute_result"
    }
   ],
   "source": [
    "pcp_max = by(data, :date,  McTavish = :McTavish=>maximum, Bellevue = :Bellevue=>maximum, \n",
    "   Assomption = :Assomption=>maximum, Trudeau = :Trudeau=>maximum, StHubert = :StHubert=>maximum)\n",
    "first(pcp_max,5)"
   ]
  },
  {
   "cell_type": "code",
   "execution_count": 542,
   "metadata": {},
   "outputs": [],
   "source": [
    "for j=1:size(pcp_max,1)\n",
    "    means = 0\n",
    "    sum = 0\n",
    "    alo = names(pcp_max)\n",
    "    for col in alo\n",
    "        if col != alo[1]\n",
    "            if !ismissing(pcp_max[j, col]) \n",
    "                sum = sum +1\n",
    "                means = means + pcp_max[j, col]\n",
    "            end\n",
    "        end\n",
    "    end\n",
    "    if sum != 0\n",
    "        means = means / sum\n",
    "    end\n",
    "    for col in alo\n",
    "        if ismissing(pcp_max[j, col]) && col != alo[1]\n",
    "            tests = floor(means)\n",
    "            pcp_max[j, col] = tests\n",
    "        end\n",
    "    end\n",
    "end"
   ]
  },
  {
   "cell_type": "code",
   "execution_count": 543,
   "metadata": {},
   "outputs": [],
   "source": [
    "for j=1:size(pcpBefore_max,1)\n",
    "    means = 0\n",
    "    sum = 0\n",
    "    alo = names(pcpBefore_max)\n",
    "    for col in alo\n",
    "        if col != alo[1]\n",
    "            if !ismissing(pcpBefore_max[j, col]) \n",
    "                sum = sum +1\n",
    "                means = means + pcpBefore_max[j, col]\n",
    "            end\n",
    "        end\n",
    "    end\n",
    "    if sum != 0\n",
    "        means = means / sum\n",
    "    end\n",
    "    for col in alo\n",
    "        if ismissing(pcpBefore_max[j, col]) && col != alo[1]\n",
    "            tests = floor(means)\n",
    "            pcpBefore_max[j, col] = tests\n",
    "        end\n",
    "    end\n",
    "end"
   ]
  },
  {
   "cell_type": "code",
   "execution_count": 544,
   "metadata": {},
   "outputs": [
    {
     "name": "stderr",
     "output_type": "stream",
     "text": [
      "┌ Warning: `getindex(df::DataFrame, col_ind::ColumnIndex)` is deprecated, use `df[!, col_ind]` instead.\n",
      "│   caller = top-level scope at In[544]:16\n",
      "└ @ Core In[544]:16\n",
      "┌ Warning: `getindex(df::DataFrame, col_ind::ColumnIndex)` is deprecated, use `df[!, col_ind]` instead.\n",
      "│   caller = top-level scope at In[544]:16\n",
      "└ @ Core In[544]:16\n"
     ]
    }
   ],
   "source": [
    "p = DataFrame(McTavish =Float64[])\n",
    "for j=1:size(pcpBefore_max,1)\n",
    "    alo = names(pcpBefore_max)\n",
    "    means = 0\n",
    "    sum = 0\n",
    "    for col in alo\n",
    "        if col != alo[1]\n",
    "            if !ismissing(pcpBefore_max[j, col]) \n",
    "                sum = sum +1\n",
    "                means = means + pcpBefore_max[j, col]\n",
    "            end\n",
    "        end\n",
    "    end\n",
    "    push!(p, means/sum)\n",
    "end\n",
    "pcpBefore_max = DataFrame(date = pcpBefore_max[:date]; McTavish =p[:McTavish]);\n"
   ]
  },
  {
   "cell_type": "code",
   "execution_count": 545,
   "metadata": {},
   "outputs": [
    {
     "name": "stderr",
     "output_type": "stream",
     "text": [
      "┌ Warning: `getindex(df::DataFrame, col_ind::ColumnIndex)` is deprecated, use `df[!, col_ind]` instead.\n",
      "│   caller = top-level scope at In[545]:16\n",
      "└ @ Core In[545]:16\n",
      "┌ Warning: `getindex(df::DataFrame, col_ind::ColumnIndex)` is deprecated, use `df[!, col_ind]` instead.\n",
      "│   caller = top-level scope at In[545]:16\n",
      "└ @ Core In[545]:16\n"
     ]
    }
   ],
   "source": [
    "p = DataFrame(McTavish =Float64[])\n",
    "for j=1:size(pcpBefore_sum,1)\n",
    "    alo = names(pcpBefore_sum)\n",
    "    means = 0\n",
    "    sum = 0\n",
    "    for col in alo\n",
    "        if col != alo[1]\n",
    "            if !ismissing(pcpBefore_sum[j, col]) \n",
    "                sum = sum +1\n",
    "                means = means + pcpBefore_sum[j, col]\n",
    "            end\n",
    "        end\n",
    "    end\n",
    "    push!(p, means/sum)\n",
    "end\n",
    "pcpBefore_sum = DataFrame(date = pcpBefore_sum[:date]; McTavish =p[:McTavish]);"
   ]
  },
  {
   "cell_type": "code",
   "execution_count": 546,
   "metadata": {},
   "outputs": [
    {
     "name": "stderr",
     "output_type": "stream",
     "text": [
      "┌ Warning: `getindex(df::DataFrame, col_ind::ColumnIndex)` is deprecated, use `df[!, col_ind]` instead.\n",
      "│   caller = top-level scope at In[546]:16\n",
      "└ @ Core In[546]:16\n",
      "┌ Warning: `getindex(df::DataFrame, col_ind::ColumnIndex)` is deprecated, use `df[!, col_ind]` instead.\n",
      "│   caller = top-level scope at In[546]:16\n",
      "└ @ Core In[546]:16\n"
     ]
    },
    {
     "data": {
      "text/html": [
       "<table class=\"data-frame\"><thead><tr><th></th><th>date</th><th>McTavish</th></tr><tr><th></th><th>Date</th><th>Float64</th></tr></thead><tbody><p>1,288 rows × 2 columns</p><tr><th>1</th><td>2013-05-01</td><td>0.0</td></tr><tr><th>2</th><td>2013-05-02</td><td>0.0</td></tr><tr><th>3</th><td>2013-05-03</td><td>0.0</td></tr><tr><th>4</th><td>2013-05-04</td><td>0.0</td></tr><tr><th>5</th><td>2013-05-05</td><td>0.0</td></tr><tr><th>6</th><td>2013-05-06</td><td>0.0</td></tr><tr><th>7</th><td>2013-05-07</td><td>0.0</td></tr><tr><th>8</th><td>2013-05-08</td><td>0.0</td></tr><tr><th>9</th><td>2013-05-09</td><td>7.2</td></tr><tr><th>10</th><td>2013-05-10</td><td>6.0</td></tr><tr><th>11</th><td>2013-05-11</td><td>47.2</td></tr><tr><th>12</th><td>2013-05-12</td><td>2.4</td></tr><tr><th>13</th><td>2013-05-13</td><td>2.4</td></tr><tr><th>14</th><td>2013-05-14</td><td>0.0</td></tr><tr><th>15</th><td>2013-05-15</td><td>8.4</td></tr><tr><th>16</th><td>2013-05-16</td><td>0.0</td></tr><tr><th>17</th><td>2013-05-17</td><td>0.0</td></tr><tr><th>18</th><td>2013-05-18</td><td>0.0</td></tr><tr><th>19</th><td>2013-05-19</td><td>9.2</td></tr><tr><th>20</th><td>2013-05-20</td><td>26.4</td></tr><tr><th>21</th><td>2013-05-21</td><td>23.6</td></tr><tr><th>22</th><td>2013-05-22</td><td>6.4</td></tr><tr><th>23</th><td>2013-05-23</td><td>85.2</td></tr><tr><th>24</th><td>2013-05-24</td><td>18.2</td></tr><tr><th>25</th><td>2013-05-25</td><td>20.6</td></tr><tr><th>26</th><td>2013-05-26</td><td>24.6</td></tr><tr><th>27</th><td>2013-05-27</td><td>0.0</td></tr><tr><th>28</th><td>2013-05-28</td><td>11.0</td></tr><tr><th>29</th><td>2013-05-29</td><td>53.6</td></tr><tr><th>30</th><td>2013-05-30</td><td>0.0</td></tr><tr><th>&vellip;</th><td>&vellip;</td><td>&vellip;</td></tr></tbody></table>"
      ],
      "text/latex": [
       "\\begin{tabular}{r|cc}\n",
       "\t& date & McTavish\\\\\n",
       "\t\\hline\n",
       "\t& Date & Float64\\\\\n",
       "\t\\hline\n",
       "\t1 & 2013-05-01 & 0.0 \\\\\n",
       "\t2 & 2013-05-02 & 0.0 \\\\\n",
       "\t3 & 2013-05-03 & 0.0 \\\\\n",
       "\t4 & 2013-05-04 & 0.0 \\\\\n",
       "\t5 & 2013-05-05 & 0.0 \\\\\n",
       "\t6 & 2013-05-06 & 0.0 \\\\\n",
       "\t7 & 2013-05-07 & 0.0 \\\\\n",
       "\t8 & 2013-05-08 & 0.0 \\\\\n",
       "\t9 & 2013-05-09 & 7.2 \\\\\n",
       "\t10 & 2013-05-10 & 6.0 \\\\\n",
       "\t11 & 2013-05-11 & 47.2 \\\\\n",
       "\t12 & 2013-05-12 & 2.4 \\\\\n",
       "\t13 & 2013-05-13 & 2.4 \\\\\n",
       "\t14 & 2013-05-14 & 0.0 \\\\\n",
       "\t15 & 2013-05-15 & 8.4 \\\\\n",
       "\t16 & 2013-05-16 & 0.0 \\\\\n",
       "\t17 & 2013-05-17 & 0.0 \\\\\n",
       "\t18 & 2013-05-18 & 0.0 \\\\\n",
       "\t19 & 2013-05-19 & 9.2 \\\\\n",
       "\t20 & 2013-05-20 & 26.4 \\\\\n",
       "\t21 & 2013-05-21 & 23.6 \\\\\n",
       "\t22 & 2013-05-22 & 6.4 \\\\\n",
       "\t23 & 2013-05-23 & 85.2 \\\\\n",
       "\t24 & 2013-05-24 & 18.2 \\\\\n",
       "\t25 & 2013-05-25 & 20.6 \\\\\n",
       "\t26 & 2013-05-26 & 24.6 \\\\\n",
       "\t27 & 2013-05-27 & 0.0 \\\\\n",
       "\t28 & 2013-05-28 & 11.0 \\\\\n",
       "\t29 & 2013-05-29 & 53.6 \\\\\n",
       "\t30 & 2013-05-30 & 0.0 \\\\\n",
       "\t$\\dots$ & $\\dots$ & $\\dots$ \\\\\n",
       "\\end{tabular}\n"
      ],
      "text/plain": [
       "1288×2 DataFrame\n",
       "│ Row  │ date       │ McTavish │\n",
       "│      │ \u001b[90mDate\u001b[39m       │ \u001b[90mFloat64\u001b[39m  │\n",
       "├──────┼────────────┼──────────┤\n",
       "│ 1    │ 2013-05-01 │ 0.0      │\n",
       "│ 2    │ 2013-05-02 │ 0.0      │\n",
       "│ 3    │ 2013-05-03 │ 0.0      │\n",
       "│ 4    │ 2013-05-04 │ 0.0      │\n",
       "│ 5    │ 2013-05-05 │ 0.0      │\n",
       "│ 6    │ 2013-05-06 │ 0.0      │\n",
       "│ 7    │ 2013-05-07 │ 0.0      │\n",
       "│ 8    │ 2013-05-08 │ 0.0      │\n",
       "│ 9    │ 2013-05-09 │ 7.2      │\n",
       "│ 10   │ 2013-05-10 │ 6.0      │\n",
       "⋮\n",
       "│ 1278 │ 2019-10-21 │ 0.0      │\n",
       "│ 1279 │ 2019-10-22 │ 37.2     │\n",
       "│ 1280 │ 2019-10-23 │ 50.2     │\n",
       "│ 1281 │ 2019-10-24 │ 0.0      │\n",
       "│ 1282 │ 2019-10-25 │ 0.0      │\n",
       "│ 1283 │ 2019-10-26 │ 0.0      │\n",
       "│ 1284 │ 2019-10-27 │ 94.2     │\n",
       "│ 1285 │ 2019-10-28 │ 2.2      │\n",
       "│ 1286 │ 2019-10-29 │ 0.4      │\n",
       "│ 1287 │ 2019-10-30 │ 0.0      │\n",
       "│ 1288 │ 2019-10-31 │ 0.0      │"
      ]
     },
     "execution_count": 546,
     "metadata": {},
     "output_type": "execute_result"
    }
   ],
   "source": [
    "p = DataFrame(McTavish =Float64[])\n",
    "for j=1:size(pcp_max,1)\n",
    "    alo = names(pcp_max)\n",
    "    means = 0\n",
    "    sum = 0\n",
    "    for col in alo\n",
    "        if col != alo[1]\n",
    "            if !ismissing(pcp_max[j, col]) \n",
    "                sum = sum +1\n",
    "                means = means + pcp_max[j, col]\n",
    "            end\n",
    "        end\n",
    "    end\n",
    "    push!(p, means/sum)\n",
    "end\n",
    "pcp_max = DataFrame(date = pcp_max[:date]; McTavish =p[:McTavish])"
   ]
  },
  {
   "cell_type": "code",
   "execution_count": 547,
   "metadata": {},
   "outputs": [
    {
     "name": "stderr",
     "output_type": "stream",
     "text": [
      "┌ Warning: `getindex(df::DataFrame, col_ind::ColumnIndex)` is deprecated, use `df[!, col_ind]` instead.\n",
      "│   caller = top-level scope at In[547]:16\n",
      "└ @ Core In[547]:16\n",
      "┌ Warning: `getindex(df::DataFrame, col_ind::ColumnIndex)` is deprecated, use `df[!, col_ind]` instead.\n",
      "│   caller = top-level scope at In[547]:16\n",
      "└ @ Core In[547]:16\n"
     ]
    },
    {
     "data": {
      "text/html": [
       "<table class=\"data-frame\"><thead><tr><th></th><th>date</th><th>McTavish</th></tr><tr><th></th><th>Date</th><th>Float64</th></tr></thead><tbody><p>1,288 rows × 2 columns</p><tr><th>1</th><td>2013-05-01</td><td>0.0</td></tr><tr><th>2</th><td>2013-05-02</td><td>0.0</td></tr><tr><th>3</th><td>2013-05-03</td><td>0.0</td></tr><tr><th>4</th><td>2013-05-04</td><td>0.0</td></tr><tr><th>5</th><td>2013-05-05</td><td>0.0</td></tr><tr><th>6</th><td>2013-05-06</td><td>0.0</td></tr><tr><th>7</th><td>2013-05-07</td><td>0.0</td></tr><tr><th>8</th><td>2013-05-08</td><td>0.0</td></tr><tr><th>9</th><td>2013-05-09</td><td>7.2</td></tr><tr><th>10</th><td>2013-05-10</td><td>6.0</td></tr><tr><th>11</th><td>2013-05-11</td><td>134.6</td></tr><tr><th>12</th><td>2013-05-12</td><td>2.4</td></tr><tr><th>13</th><td>2013-05-13</td><td>2.4</td></tr><tr><th>14</th><td>2013-05-14</td><td>0.0</td></tr><tr><th>15</th><td>2013-05-15</td><td>16.4</td></tr><tr><th>16</th><td>2013-05-16</td><td>0.0</td></tr><tr><th>17</th><td>2013-05-17</td><td>0.0</td></tr><tr><th>18</th><td>2013-05-18</td><td>0.0</td></tr><tr><th>19</th><td>2013-05-19</td><td>16.2</td></tr><tr><th>20</th><td>2013-05-20</td><td>52.6</td></tr><tr><th>21</th><td>2013-05-21</td><td>45.0</td></tr><tr><th>22</th><td>2013-05-22</td><td>6.4</td></tr><tr><th>23</th><td>2013-05-23</td><td>168.0</td></tr><tr><th>24</th><td>2013-05-24</td><td>61.0</td></tr><tr><th>25</th><td>2013-05-25</td><td>87.2</td></tr><tr><th>26</th><td>2013-05-26</td><td>144.6</td></tr><tr><th>27</th><td>2013-05-27</td><td>0.0</td></tr><tr><th>28</th><td>2013-05-28</td><td>11.0</td></tr><tr><th>29</th><td>2013-05-29</td><td>116.2</td></tr><tr><th>30</th><td>2013-05-30</td><td>0.0</td></tr><tr><th>&vellip;</th><td>&vellip;</td><td>&vellip;</td></tr></tbody></table>"
      ],
      "text/latex": [
       "\\begin{tabular}{r|cc}\n",
       "\t& date & McTavish\\\\\n",
       "\t\\hline\n",
       "\t& Date & Float64\\\\\n",
       "\t\\hline\n",
       "\t1 & 2013-05-01 & 0.0 \\\\\n",
       "\t2 & 2013-05-02 & 0.0 \\\\\n",
       "\t3 & 2013-05-03 & 0.0 \\\\\n",
       "\t4 & 2013-05-04 & 0.0 \\\\\n",
       "\t5 & 2013-05-05 & 0.0 \\\\\n",
       "\t6 & 2013-05-06 & 0.0 \\\\\n",
       "\t7 & 2013-05-07 & 0.0 \\\\\n",
       "\t8 & 2013-05-08 & 0.0 \\\\\n",
       "\t9 & 2013-05-09 & 7.2 \\\\\n",
       "\t10 & 2013-05-10 & 6.0 \\\\\n",
       "\t11 & 2013-05-11 & 134.6 \\\\\n",
       "\t12 & 2013-05-12 & 2.4 \\\\\n",
       "\t13 & 2013-05-13 & 2.4 \\\\\n",
       "\t14 & 2013-05-14 & 0.0 \\\\\n",
       "\t15 & 2013-05-15 & 16.4 \\\\\n",
       "\t16 & 2013-05-16 & 0.0 \\\\\n",
       "\t17 & 2013-05-17 & 0.0 \\\\\n",
       "\t18 & 2013-05-18 & 0.0 \\\\\n",
       "\t19 & 2013-05-19 & 16.2 \\\\\n",
       "\t20 & 2013-05-20 & 52.6 \\\\\n",
       "\t21 & 2013-05-21 & 45.0 \\\\\n",
       "\t22 & 2013-05-22 & 6.4 \\\\\n",
       "\t23 & 2013-05-23 & 168.0 \\\\\n",
       "\t24 & 2013-05-24 & 61.0 \\\\\n",
       "\t25 & 2013-05-25 & 87.2 \\\\\n",
       "\t26 & 2013-05-26 & 144.6 \\\\\n",
       "\t27 & 2013-05-27 & 0.0 \\\\\n",
       "\t28 & 2013-05-28 & 11.0 \\\\\n",
       "\t29 & 2013-05-29 & 116.2 \\\\\n",
       "\t30 & 2013-05-30 & 0.0 \\\\\n",
       "\t$\\dots$ & $\\dots$ & $\\dots$ \\\\\n",
       "\\end{tabular}\n"
      ],
      "text/plain": [
       "1288×2 DataFrame\n",
       "│ Row  │ date       │ McTavish │\n",
       "│      │ \u001b[90mDate\u001b[39m       │ \u001b[90mFloat64\u001b[39m  │\n",
       "├──────┼────────────┼──────────┤\n",
       "│ 1    │ 2013-05-01 │ 0.0      │\n",
       "│ 2    │ 2013-05-02 │ 0.0      │\n",
       "│ 3    │ 2013-05-03 │ 0.0      │\n",
       "│ 4    │ 2013-05-04 │ 0.0      │\n",
       "│ 5    │ 2013-05-05 │ 0.0      │\n",
       "│ 6    │ 2013-05-06 │ 0.0      │\n",
       "│ 7    │ 2013-05-07 │ 0.0      │\n",
       "│ 8    │ 2013-05-08 │ 0.0      │\n",
       "│ 9    │ 2013-05-09 │ 7.2      │\n",
       "│ 10   │ 2013-05-10 │ 6.0      │\n",
       "⋮\n",
       "│ 1278 │ 2019-10-21 │ 0.0      │\n",
       "│ 1279 │ 2019-10-22 │ 108.2    │\n",
       "│ 1280 │ 2019-10-23 │ 138.2    │\n",
       "│ 1281 │ 2019-10-24 │ 0.0      │\n",
       "│ 1282 │ 2019-10-25 │ 0.0      │\n",
       "│ 1283 │ 2019-10-26 │ 0.0      │\n",
       "│ 1284 │ 2019-10-27 │ 378.2    │\n",
       "│ 1285 │ 2019-10-28 │ 5.0      │\n",
       "│ 1286 │ 2019-10-29 │ 0.4      │\n",
       "│ 1287 │ 2019-10-30 │ 0.0      │\n",
       "│ 1288 │ 2019-10-31 │ 0.0      │"
      ]
     },
     "execution_count": 547,
     "metadata": {},
     "output_type": "execute_result"
    }
   ],
   "source": [
    "p = DataFrame(McTavish =Float64[])\n",
    "for j=1:size(pcp_sum,1)\n",
    "    alo = names(pcp_sum)\n",
    "    means = 0\n",
    "    sum = 0\n",
    "    for col in alo\n",
    "        if col != alo[1]\n",
    "            if !ismissing(pcp_sum[j, col]) \n",
    "                sum = sum +1\n",
    "                means = means + pcp_sum[j, col]\n",
    "            end\n",
    "        end\n",
    "    end\n",
    "    push!(p, means/sum)\n",
    "end\n",
    "pcp_sum = DataFrame(date = pcp_sum[:date]; McTavish =p[:McTavish])"
   ]
  },
  {
   "cell_type": "markdown",
   "metadata": {},
   "source": [
    "#### Inclusion dans un dataframe de ces deux variables explicatives potentielles"
   ]
  },
  {
   "cell_type": "code",
   "execution_count": null,
   "metadata": {},
   "outputs": [],
   "source": []
  },
  {
   "cell_type": "code",
   "execution_count": 548,
   "metadata": {},
   "outputs": [],
   "source": [
    "ouvrage = \"4350-01D\"\n",
    "moyenneSumSurverses = Float64[]\n",
    "moyenneMaxSurverses = Float64[]\n",
    "moyenneSumBeforeSurverses = Float64[]\n",
    "moyenneMaxBeforeSurverses = Float64[]\n",
    "varianceSumSurverses = Float64[];\n",
    "varianceMaxSurverses = Float64[];\n",
    "varianceSumBeforeSurverses = Float64[]\n",
    "varianceMaxBeforeSurverses = Float64[]\n",
    "\n",
    "moyenneSumNonSurverses = Float64[]\n",
    "moyenneMaxNonSurverses = Float64[]\n",
    "moyenneSumBeforeNonSurverses = Float64[]\n",
    "moyenneMaxBeforeNonSurverses = Float64[]\n",
    "varianceSumNonSurverses = Float64[]\n",
    "varianceMaxNonSurverses = Float64[]\n",
    "varianceMaxBeforeNonSurverses = Float64[]\n",
    "varianceSumBeforeNonSurverses = Float64[]\n",
    "for j=1:size(filtervals,1)\n",
    "    dfSurverse = filter(row -> row.NO_OUVRAGE == filtervals[j]  && row.SURVERSE ==1, surverse_df)\n",
    "    dfNonSurverse = filter(row -> row.NO_OUVRAGE == filtervals[j]  && row.SURVERSE ==0, surverse_df)\n",
    "\n",
    "\n",
    "    moyenneSumSurverse = 0;\n",
    "    moyenneMaxSurverse = 0;\n",
    "    moyenneSumBeforeSurverse = 0;\n",
    "    moyenneMaxBeforeSurverse = 0;\n",
    "    for i=1:size(dfSurverse,1)\n",
    "\n",
    "        ind = findfirst(pcp_sum[:,:date] .== dfSurverse[i,:DATE])\n",
    "        moyenneSumSurverse = moyenneSumSurverse +  pcp_sum[ind,:McTavish]\n",
    "        \n",
    "        indmax = findfirst(pcp_max[:,:date] .== dfSurverse[i,:DATE])\n",
    "        moyenneMaxSurverse = moyenneMaxSurverse +  pcp_max[indmax,:McTavish]\n",
    "        \n",
    "        indx = findfirst(pcpBefore_sum[:,:date] .== (dfSurverse[i,:DATE]-Dates.Day(1)))\n",
    "        sumBeforeToadd = pcpBefore_sum[indx,:McTavish]\n",
    "        \n",
    "        moyenneSumBeforeSurverse = moyenneSumBeforeSurverse +  sumBeforeToadd\n",
    "        indx = findfirst(pcpBefore_max[:,:date] .== (dfSurverse[i,:DATE]-Dates.Day(1)))\n",
    "        sumBeforeToadd = pcpBefore_max[indx,:McTavish]\n",
    "        moyenneMaxBeforeSurverse = moyenneMaxBeforeSurverse +  sumBeforeToadd\n",
    "    end\n",
    "    moyenneSumSurverse = moyenneSumSurverse / size(dfSurverse,1)\n",
    "    push!(moyenneSumSurverses, moyenneSumSurverse)\n",
    "    moyenneMaxSurverse = moyenneMaxSurverse / size(dfSurverse,1)\n",
    "    push!(moyenneMaxSurverses, moyenneMaxSurverse)\n",
    "    moyenneSumBeforeSurverse = moyenneSumBeforeSurverse / size(dfSurverse,1)\n",
    "    push!(moyenneSumBeforeSurverses, moyenneSumBeforeSurverse)\n",
    "    moyenneMaxBeforeSurverse = moyenneMaxBeforeSurverse / size(dfSurverse,1)\n",
    "    push!(moyenneMaxBeforeSurverses, moyenneMaxBeforeSurverse)\n",
    "    \n",
    "    moyenneSumNonSurverse = 0;\n",
    "    moyenneMaxNonSurverse = 0;\n",
    "    moyenneSumBeforeNonSurverse = 0;\n",
    "    moyenneMaxBeforeNonSurverse = 0;\n",
    "    for i=1:size(dfNonSurverse,1)\n",
    "\n",
    "        ind = findfirst(pcp_sum[:,:date] .== dfNonSurverse[i,:DATE])\n",
    "        moyenneSumNonSurverse = moyenneSumNonSurverse +  pcp_sum[ind,:McTavish]\n",
    "        \n",
    "        ind = findfirst(pcp_max[:,:date] .== dfNonSurverse[i,:DATE])\n",
    "        moyenneMaxNonSurverse = moyenneMaxNonSurverse +  pcp_max[ind,:McTavish]\n",
    "        \n",
    "        indx = findfirst(pcpBefore_sum[:,:date] .== (dfNonSurverse[i,:DATE]-Dates.Day(1)))\n",
    "        sumBeforeToadd = pcpBefore_sum[indx,:McTavish]\n",
    "        moyenneSumBeforeNonSurverse = moyenneSumBeforeNonSurverse +  sumBeforeToadd\n",
    "        \n",
    "        indx = findfirst(pcpBefore_max[:,:date] .== (dfNonSurverse[i,:DATE]-Dates.Day(1)))\n",
    "        sumBeforeToadd = pcpBefore_max[indx,:McTavish]\n",
    "        moyenneMaxBeforeNonSurverse = moyenneMaxBeforeNonSurverse +  sumBeforeToadd\n",
    "    end\n",
    "    moyenneSumNonSurverse = moyenneSumNonSurverse / size(dfNonSurverse,1)\n",
    "    push!(moyenneSumNonSurverses, moyenneSumNonSurverse)\n",
    "    moyenneMaxNonSurverse = moyenneMaxNonSurverse / size(dfNonSurverse,1)\n",
    "    push!(moyenneMaxNonSurverses, moyenneMaxNonSurverse)\n",
    "    \n",
    "    moyenneSumBeforeNonSurverse = moyenneSumBeforeNonSurverse / size(dfNonSurverse,1)\n",
    "    push!(moyenneSumBeforeNonSurverses, moyenneSumBeforeNonSurverse)\n",
    "    moyenneMaxBeforeNonSurverse = moyenneMaxBeforeNonSurverse / size(dfNonSurverse,1)\n",
    "    push!(moyenneMaxBeforeNonSurverses, moyenneMaxBeforeNonSurverse)\n",
    "    \n",
    "    \n",
    "    #### maintenant la variance\n",
    "    varianceSumSurverse = 0;\n",
    "    varianceMaxSurverse = 0;\n",
    "    varianceSumBeforeSurverse = 0;\n",
    "    varianceMaxBeforeSurverse = 0;\n",
    "    for i=1:size(dfSurverse,1)\n",
    "\n",
    "        ind = findfirst(pcp_sum[:,:date] .== dfSurverse[i,:DATE])\n",
    "        varianceSumSurverse = varianceSumSurverse +  (pcp_sum[ind,:McTavish]-moyenneSumSurverse)^2\n",
    "\n",
    "        ind = findfirst(pcp_max[:,:date] .== dfSurverse[i,:DATE])\n",
    "        varianceMaxSurverse = varianceMaxSurverse +  (pcp_max[ind,:McTavish]-moyenneMaxSurverse)^2\n",
    "        \n",
    "        indx = findfirst(pcpBefore_sum[:,:date] .== (dfSurverse[i,:DATE]-Dates.Day(1)))\n",
    "        sumBeforeToadd = pcpBefore_sum[indx,:McTavish]\n",
    "        \n",
    "        varianceSumBeforeSurverse = varianceSumBeforeSurverse +  (sumBeforeToadd - moyenneSumBeforeSurverse)^2\n",
    "        \n",
    "        indx = findfirst(pcpBefore_max[:,:date] .== (dfSurverse[i,:DATE]-Dates.Day(1)))\n",
    "        sumBeforeToadd = pcpBefore_max[indx,:McTavish]\n",
    "        varianceMaxBeforeSurverse = varianceMaxBeforeSurverse +  (sumBeforeToadd-moyenneMaxBeforeSurverse)^2\n",
    "    end\n",
    "    varianceSumSurverse = varianceSumSurverse / size(dfSurverse,1)\n",
    "    push!(varianceSumSurverses, varianceSumSurverse)\n",
    "    varianceMaxSurverse = varianceMaxSurverse / size(dfSurverse,1)\n",
    "    push!(varianceMaxSurverses, varianceMaxSurverse)\n",
    "\n",
    "    varianceSumBeforeSurverse = varianceSumBeforeSurverse / size(dfSurverse,1)\n",
    "    push!(varianceSumBeforeSurverses, varianceSumBeforeSurverse)\n",
    "    varianceMaxBeforeSurverse = varianceMaxBeforeSurverse / size(dfSurverse,1)\n",
    "    push!(varianceMaxBeforeSurverses,varianceMaxBeforeSurverse)\n",
    "    \n",
    "    varianceSumNonSurverse = 0;\n",
    "    varianceMaxNonSurverse = 0;\n",
    "    varianceSumBeforeNonSurverse = 0;\n",
    "    varianceMaxBeforeNonSurverse = 0;\n",
    "    for i=1:size(dfNonSurverse,1)\n",
    "\n",
    "        ind = findfirst(pcp_sum[:,:date] .== dfNonSurverse[i,:DATE])\n",
    "        varianceSumNonSurverse = varianceSumNonSurverse +  (pcp_sum[ind,:McTavish]-moyenneSumNonSurverse)^2\n",
    "\n",
    "        ind = findfirst(pcp_max[:,:date] .== dfNonSurverse[i,:DATE])\n",
    "        varianceMaxNonSurverse = varianceMaxNonSurverse +  (pcp_max[ind,:McTavish]-moyenneMaxNonSurverse)^2\n",
    "        \n",
    "        indx = findfirst(pcpBefore_sum[:,:date] .== (dfNonSurverse[i,:DATE]-Dates.Day(1)))\n",
    "        sumBeforeToadd = pcpBefore_sum[indx,:McTavish]\n",
    "        varianceSumBeforeNonSurverse = varianceSumBeforeNonSurverse +  (sumBeforeToadd - moyenneSumBeforeNonSurverse)^2\n",
    "        \n",
    "        indx = findfirst(pcpBefore_max[:,:date] .== (dfNonSurverse[i,:DATE]-Dates.Day(1)))\n",
    "        sumBeforeToadd = pcpBefore_max[indx,:McTavish]\n",
    "        varianceMaxBeforeNonSurverse = varianceMaxBeforeNonSurverse +  (sumBeforeToadd-moyenneMaxBeforeNonSurverse)^2\n",
    "    end\n",
    "    varianceSumNonSurverse = varianceSumNonSurverse / size(dfNonSurverse,1)\n",
    "    push!(varianceSumNonSurverses, varianceSumNonSurverse)\n",
    "    varianceMaxNonSurverse = varianceMaxNonSurverse / size(dfNonSurverse,1)\n",
    "    push!(varianceMaxNonSurverses, varianceMaxNonSurverse) \n",
    "    \n",
    "    varianceSumBeforeNonSurverse = varianceSumBeforeNonSurverse / size(dfNonSurverse,1)\n",
    "    push!(varianceSumBeforeNonSurverses, varianceSumBeforeNonSurverse)\n",
    "    varianceMaxBeforeNonSurverse = varianceMaxBeforeNonSurverse / size(dfNonSurverse,1)\n",
    "    push!(varianceMaxBeforeNonSurverses,varianceMaxBeforeNonSurverse)\n",
    "    \n",
    "   \n",
    "end"
   ]
  },
  {
   "cell_type": "code",
   "execution_count": null,
   "metadata": {},
   "outputs": [],
   "source": []
  },
  {
   "cell_type": "code",
   "execution_count": null,
   "metadata": {},
   "outputs": [],
   "source": []
  },
  {
   "cell_type": "markdown",
   "metadata": {},
   "source": [
    "#### Traçage des distribution de la somme des précipitations en fonction des surverses ou non\n",
    "\n",
    "On remarque que les deux distributions sont très différentes. Ceci suggère que la somme des précipitations à la station McTavish a un effet sur les surverses au Bota-Bota."
   ]
  },
  {
   "cell_type": "code",
   "execution_count": null,
   "metadata": {},
   "outputs": [],
   "source": []
  },
  {
   "cell_type": "markdown",
   "metadata": {},
   "source": [
    "#### Traçage des distribution de la somme des précipitations en fonction des surverses ou non\n",
    "\n",
    "On remarque que les deux distributions sont très différentes. Ceci suggère que le maximum journalier des précipitations à la station McTavish a un effet sur les surverses au Bota-Bota."
   ]
  },
  {
   "cell_type": "code",
   "execution_count": null,
   "metadata": {},
   "outputs": [],
   "source": []
  },
  {
   "cell_type": "markdown",
   "metadata": {},
   "source": [
    "# Création du fichier de prédictions pour soumettre sur Kaggle\n",
    "\n",
    "Dans ce cas-ci, nous prédirons une surverse avec une probabilité de 1/2 sans considérer aucune variable explicative."
   ]
  },
  {
   "cell_type": "code",
   "execution_count": 549,
   "metadata": {},
   "outputs": [
    {
     "data": {
      "text/html": [
       "<table class=\"data-frame\"><thead><tr><th></th><th>NO_OUVRAGE</th><th>DATE</th></tr><tr><th></th><th>String</th><th>Date</th></tr></thead><tbody><p>5 rows × 2 columns</p><tr><th>1</th><td>3260-01D</td><td>2019-05-02</td></tr><tr><th>2</th><td>3260-01D</td><td>2019-05-09</td></tr><tr><th>3</th><td>3260-01D</td><td>2019-05-10</td></tr><tr><th>4</th><td>3260-01D</td><td>2019-05-15</td></tr><tr><th>5</th><td>3260-01D</td><td>2019-05-20</td></tr></tbody></table>"
      ],
      "text/latex": [
       "\\begin{tabular}{r|cc}\n",
       "\t& NO\\_OUVRAGE & DATE\\\\\n",
       "\t\\hline\n",
       "\t& String & Date\\\\\n",
       "\t\\hline\n",
       "\t1 & 3260-01D & 2019-05-02 \\\\\n",
       "\t2 & 3260-01D & 2019-05-09 \\\\\n",
       "\t3 & 3260-01D & 2019-05-10 \\\\\n",
       "\t4 & 3260-01D & 2019-05-15 \\\\\n",
       "\t5 & 3260-01D & 2019-05-20 \\\\\n",
       "\\end{tabular}\n"
      ],
      "text/plain": [
       "5×2 DataFrame\n",
       "│ Row │ NO_OUVRAGE │ DATE       │\n",
       "│     │ \u001b[90mString\u001b[39m     │ \u001b[90mDate\u001b[39m       │\n",
       "├─────┼────────────┼────────────┤\n",
       "│ 1   │ 3260-01D   │ 2019-05-02 │\n",
       "│ 2   │ 3260-01D   │ 2019-05-09 │\n",
       "│ 3   │ 3260-01D   │ 2019-05-10 │\n",
       "│ 4   │ 3260-01D   │ 2019-05-15 │\n",
       "│ 5   │ 3260-01D   │ 2019-05-20 │"
      ]
     },
     "execution_count": 549,
     "metadata": {},
     "output_type": "execute_result"
    }
   ],
   "source": [
    "\n",
    "testfile = CSV.read(\"data/test.csv\")\n",
    "first(testfile,5)"
   ]
  },
  {
   "cell_type": "code",
   "execution_count": null,
   "metadata": {},
   "outputs": [],
   "source": []
  },
  {
   "cell_type": "code",
   "execution_count": null,
   "metadata": {},
   "outputs": [],
   "source": []
  },
  {
   "cell_type": "code",
   "execution_count": 550,
   "metadata": {},
   "outputs": [
    {
     "data": {
      "text/plain": [
       "2"
      ]
     },
     "execution_count": 550,
     "metadata": {},
     "output_type": "execute_result"
    }
   ],
   "source": [
    "surverse = Int[]\n",
    "        count =0;\n",
    "for i=1:size(testfile,1)\n",
    "    indproba = findfirst(filtervals[:] .== testfile[i,:NO_OUVRAGE])\n",
    "    ind = findfirst(pcp_sum[:,:date] .== testfile[i,:DATE])\n",
    "    sum = pcp_sum[ind,:McTavish]\n",
    "    ind = findfirst(pcp_max[:,:date] .== testfile[i,:DATE])\n",
    "    max = pcp_max[ind,:McTavish]\n",
    "\n",
    "    indx = findfirst(pcpBefore_max[:,:date] .== (testfile[i,:DATE]-Dates.Day(1)))\n",
    "    maxBeforeadd = pcpBefore_max[indx,:McTavish]\n",
    "    indx = findfirst(pcpBefore_sum[:,:date] .== (testfile[i,:DATE]-Dates.Day(1)))\n",
    "    sumBeforeadd = pcpBefore_sum[indx,:McTavish]\n",
    "    \n",
    "    Psurverse = n₁[indproba]/n[indproba]\n",
    "\n",
    "    pSumSurverses = (1/sqrt(2*π*varianceSumSurverses[indproba])) - (1/2)*(((sum-moyenneSumSurverses[indproba])^2)/varianceSumSurverses[indproba])\n",
    "\n",
    "    pMaxSurverses = (1/sqrt(2*π*varianceMaxSurverses[indproba])) - (1/2)*(((max-moyenneMaxSurverses[indproba])^2)/varianceMaxSurverses[indproba])\n",
    "    pSumBeforeSurverses = (1/sqrt(2*π*varianceSumBeforeSurverses[indproba])) - (1/2)*(((sumBeforeadd-moyenneSumBeforeSurverses[indproba])^2)/varianceSumBeforeSurverses[indproba])\n",
    "\n",
    "    pMaxBeforeSurverses = (1/sqrt(2*π*varianceMaxBeforeSurverses[indproba])) - (1/2)*(((maxBeforeadd-moyenneMaxBeforeSurverses[indproba])^2)/varianceMaxBeforeSurverses[indproba])\n",
    "     \n",
    "\n",
    "    Pnonsurverse = n₀[indproba]/n[indproba]\n",
    "    pSumNonSurverses = (1/sqrt(2*π*varianceSumNonSurverses[indproba])) - (1/2)*(((sum-moyenneSumNonSurverses[indproba])^2)/varianceSumNonSurverses[indproba])\n",
    "    pMaxNonSurverses = (1/sqrt(2*π*varianceMaxNonSurverses[indproba])) - (1/2)*(((max-moyenneMaxNonSurverses[indproba])^2)/varianceMaxNonSurverses[indproba])\n",
    "    pSumBeforeNonSurverses = (1/sqrt(2*π*varianceSumBeforeNonSurverses[indproba])) - (1/2)*(((sumBeforeadd-moyenneSumBeforeNonSurverses[indproba])^2)/varianceSumBeforeNonSurverses[indproba])\n",
    "    pMaxBeforeNonSurverses = (1/sqrt(2*π*varianceMaxBeforeNonSurverses[indproba])) - (1/2)*(((maxBeforeadd-moyenneMaxBeforeNonSurverses[indproba])^2)/varianceMaxBeforeNonSurverses[indproba])\n",
    "\n",
    "    pxSsurverse = pSumSurverses * pMaxSurverses#* pSumBeforeSurverses * pMaxBeforeSurverses\n",
    "    \n",
    "    pxSnonsurverse = pSumNonSurverses * pMaxNonSurverses# * pSumBeforeNonSurverses# * pMaxBeforeNonSurverses\n",
    "    \n",
    "    psurverse = (pxSsurverse * Psurverse)/(pxSsurverse * Psurverse + pxSnonsurverse*Pnonsurverse)\n",
    "    isSurverse = psurverse<0.5\n",
    "    \n",
    "    if isSurverse==1\n",
    "        push!(surverse, 1);\n",
    "    else\n",
    "        pxSsurverse = pSumSurverses * pMaxSurverses* pSumBeforeSurverses #* pMaxBeforeSurverses\n",
    "    \n",
    "        pxSnonsurverse = pSumNonSurverses * pMaxNonSurverses * pSumBeforeNonSurverses # * pMaxBeforeNonSurverses\n",
    "        psurverse = (pxSsurverse * Psurverse)/(pxSsurverse * Psurverse + pxSnonsurverse*Pnonsurverse)\n",
    "        testets = (psurverse<0.5)&& (sum!=0) && (sumBeforeadd!=0)\n",
    "        if testets==1\n",
    "            count+=1\n",
    "        end\n",
    "        push!(surverse, testets);\n",
    "                \n",
    "    end\n",
    "end\n",
    "# Pour chacune des lignes du fichier test, comportant un ouvrage et une date, une prédiction est requise.\n",
    "# Dans ce cas-ci, utilisons une prédiction les plus naîve. \n",
    "# On prédit avec une chance sur deux qu'il y ait surverse, sans utiliser de variables explicatives\n",
    "\n",
    "\n",
    "\n",
    "# Création du fichier sampleSubmission.csv pour soumettre sur Kaggle\n",
    "ID = testfile[:,:NO_OUVRAGE].*\"_\".*string.(testfile[:,:DATE])\n",
    "sampleSubmission = DataFrame(ID = ID, Surverse=surverse)\n",
    "CSV.write(\"result16.csv\",sampleSubmission)\n",
    "\n",
    "# Vous pouvez par la suite déposer le fichier sampleSubmission.csv sur Kaggle.\n",
    "count"
   ]
  },
  {
   "cell_type": "code",
   "execution_count": 553,
   "metadata": {},
   "outputs": [
    {
     "data": {
      "text/plain": [
       "\"sumBefore.csv\""
      ]
     },
     "execution_count": 553,
     "metadata": {},
     "output_type": "execute_result"
    }
   ],
   "source": [
    "CSV.write(\"sumBefore.csv\", pcpBefore_sum)\n",
    "#CSV.write(\"sum.csv\", pcp_sum)"
   ]
  },
  {
   "cell_type": "code",
   "execution_count": null,
   "metadata": {},
   "outputs": [],
   "source": []
  }
 ],
 "metadata": {
  "@webio": {
   "lastCommId": null,
   "lastKernelId": null
  },
  "kernelspec": {
   "display_name": "Julia 1.3.0",
   "language": "julia",
   "name": "julia-1.3"
  },
  "language_info": {
   "file_extension": ".jl",
   "mimetype": "application/julia",
   "name": "julia",
   "version": "1.3.0"
  }
 },
 "nbformat": 4,
 "nbformat_minor": 2
}
