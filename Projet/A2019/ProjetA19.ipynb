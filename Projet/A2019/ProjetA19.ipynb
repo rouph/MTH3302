{
 "cells": [
  {
   "cell_type": "markdown",
   "metadata": {},
   "source": [
    "\n",
    "# MTH3302 : Méthodes probabilistes et statistiques pour l'I.A.\n",
    "\n",
    "Jonathan Jalbert<br/>\n",
    "Professeur adjoint au Département de mathématiques et de génie industriel<br/>\n",
    "Polytechnique Montréal<br/>\n",
    "\n",
    "Le projet a été développé à l'aide de Alice Breton, étudiante à la maîtrise en génie informatique. Elle a suivi le cours lors de la session Hiver 2019.\n",
    "\n",
    "\n",
    "\n",
    "# Projet : Débordement d'égouts\n",
    "\n",
    "La description du projet est disponible à l'adresse suivante :\n",
    "https://www.kaggle.com/t/a238b752c33a41d9803c2cdde6bfc929\n",
    "\n",
    "Ce calepin Jupyter de base permet de charger et de nettoyer les données fournies. La dernière section détaille la génération du fichier des prédictions afin de le soumettre sur Kaggle dans le bon format.\n",
    "\n",
    "Dans un premier temps, vous devrez récupérer l'archive *data.zip* sur Moodle. Ce dossier contient les fichiers suivants :\n",
    "- surverses.csv\n",
    "- precipitation.csv\n",
    "- ouvrages-surverses.csv\n",
    "- test.csv\n",
    "\n",
    "Veuillez le décompresser dans le répertoire de ce calepin.\n",
    "\n",
    "Le fichier *surverse.csv* répertorie s'il y a surverse (1) ou non (0) au cours de la journée pour les 170 ouvrages de débordement de 2013 à 2018 pour les mois de mai à octobre (inclusivement). Des renseignements additionnels sur les données sont disponibles à l'adresse suivante :\n",
    "\n",
    "http://donnees.ville.montreal.qc.ca/dataset/debordement\n",
    "\n",
    "\n",
    "Le fichier *precipitation.csv* contient les précipitations horaires en dixième de *mm* enregistrées à 5 stations pluviométriques de 2013 à 2019 :\n",
    "- McTavish (7024745)\n",
    "- Ste-Anne-de-Bellevue (702FHL8)\n",
    "- Montreal/Pierre Elliott Trudeau Intl (702S006)\n",
    "- Montreal/St-Hubert (7027329)\n",
    "- L’Assomption (7014160)\n",
    "\n",
    "Plus d'informations sur les précipitations sont disponibles à l'adresse suivante :\n",
    "\n",
    "https://climat.meteo.gc.ca/climate_data/hourly_data_f.html?hlyRange=2008-01-08%7C2019-11-12&dlyRange=2002-12-23%7C2019-11-12&mlyRange=%7C&StationID=30165&Prov=QC&urlExtension=_f.html&searchType=stnName&optLimit=yearRange&StartYear=1840&EndYear=2019&selRowPerPage=25&Line=17&searchMethod=contains&Month=11&Day=12&txtStationName=montreal&timeframe=1&Year=2019\n",
    "\n",
    "Le fichier *ouvrages-surverses.csv* contient différentes caractéristiques des ouvrages de débordement. \n",
    "\n",
    "http://donnees.ville.montreal.qc.ca/dataset/ouvrage-surverse\n",
    "\n",
    "Le fichier *test.csv* contient les ouvrages et les jours pour lesquels vous devez prédire s'il y a eu surverse (true) ou non (false). Notez que l'on s'intéresse ici à 5 ouvrages de débordement localisés tout autour de l'Ile de Montréal :\n",
    "- 3260-01D dans Rivière-des-Prairies \n",
    "- 3350-07D dans Ahunstic \n",
    "- 4240-01D dans Pointe-aux-Trembles \n",
    "- 4350-01D dans le Vieux-Montréal \n",
    "- 4380-01D dans Verdun\n",
    "\n",
    "#### Remarque\n",
    "\n",
    "Dans le projet, on ne s'intéresse qu'aux surverses occasionnées par les précipitations. On ignore les surverses occasionnées par \n",
    "- fonte de neige (F)\n",
    "- travaux planifiés et entretien (TPL)\n",
    "- urgence (U)\n",
    "- autre (AUT)\n",
    "\n",
    "On suppose que lorsqu'il n'y a pas de raison pour la surverse, il s'agit d'une surverse causée par les précipitations. Puisque Nous nous intéresserons uniquement aux surverses occasionnées par les précipitations liquides, nous ne considérons que les mois de mai à octobre inclusivement."
   ]
  },
  {
   "cell_type": "code",
   "execution_count": 31,
   "metadata": {},
   "outputs": [],
   "source": [
    "using CSV, DataFrames, Statistics, Dates, Gadfly, Missings"
   ]
  },
  {
   "cell_type": "markdown",
   "metadata": {},
   "source": [
    "# Chargement des données et nettoyage préliminaire"
   ]
  },
  {
   "cell_type": "markdown",
   "metadata": {},
   "source": [
    "## Chargement des surverses"
   ]
  },
  {
   "cell_type": "code",
   "execution_count": 32,
   "metadata": {},
   "outputs": [
    {
     "data": {
      "text/html": [
       "<table class=\"data-frame\"><thead><tr><th></th><th>NO_OUVRAGE</th><th>DATE</th><th>SURVERSE</th><th>RAISON</th></tr><tr><th></th><th>String</th><th>Date</th><th>Int64⍰</th><th>String⍰</th></tr></thead><tbody><p>5 rows × 4 columns</p><tr><th>1</th><td>0642-01D</td><td>2013-05-01</td><td>0</td><td>missing</td></tr><tr><th>2</th><td>0642-01D</td><td>2013-05-02</td><td>0</td><td>missing</td></tr><tr><th>3</th><td>0642-01D</td><td>2013-05-03</td><td>0</td><td>missing</td></tr><tr><th>4</th><td>0642-01D</td><td>2013-05-04</td><td>0</td><td>missing</td></tr><tr><th>5</th><td>0642-01D</td><td>2013-05-05</td><td>0</td><td>missing</td></tr></tbody></table>"
      ],
      "text/latex": [
       "\\begin{tabular}{r|cccc}\n",
       "\t& NO\\_OUVRAGE & DATE & SURVERSE & RAISON\\\\\n",
       "\t\\hline\n",
       "\t& String & Date & Int64⍰ & String⍰\\\\\n",
       "\t\\hline\n",
       "\t1 & 0642-01D & 2013-05-01 & 0 &  \\\\\n",
       "\t2 & 0642-01D & 2013-05-02 & 0 &  \\\\\n",
       "\t3 & 0642-01D & 2013-05-03 & 0 &  \\\\\n",
       "\t4 & 0642-01D & 2013-05-04 & 0 &  \\\\\n",
       "\t5 & 0642-01D & 2013-05-05 & 0 &  \\\\\n",
       "\\end{tabular}\n"
      ],
      "text/plain": [
       "5×4 DataFrame\n",
       "│ Row │ NO_OUVRAGE │ DATE       │ SURVERSE │ RAISON  │\n",
       "│     │ \u001b[90mString\u001b[39m     │ \u001b[90mDate\u001b[39m       │ \u001b[90mInt64⍰\u001b[39m   │ \u001b[90mString⍰\u001b[39m │\n",
       "├─────┼────────────┼────────────┼──────────┼─────────┤\n",
       "│ 1   │ 0642-01D   │ 2013-05-01 │ 0        │ \u001b[90mmissing\u001b[39m │\n",
       "│ 2   │ 0642-01D   │ 2013-05-02 │ 0        │ \u001b[90mmissing\u001b[39m │\n",
       "│ 3   │ 0642-01D   │ 2013-05-03 │ 0        │ \u001b[90mmissing\u001b[39m │\n",
       "│ 4   │ 0642-01D   │ 2013-05-04 │ 0        │ \u001b[90mmissing\u001b[39m │\n",
       "│ 5   │ 0642-01D   │ 2013-05-05 │ 0        │ \u001b[90mmissing\u001b[39m │"
      ]
     },
     "execution_count": 32,
     "metadata": {},
     "output_type": "execute_result"
    }
   ],
   "source": [
    "data = CSV.read(\"data/surverses.csv\",missingstring=\"-99999\")\n",
    "first(data,5)"
   ]
  },
  {
   "cell_type": "markdown",
   "metadata": {},
   "source": [
    "## Nettoyage des données sur les surverses\n",
    "\n",
    "#### Extraction des surverses pour les mois de mai à octobre inclusivement"
   ]
  },
  {
   "cell_type": "code",
   "execution_count": 33,
   "metadata": {},
   "outputs": [
    {
     "data": {
      "text/html": [
       "<table class=\"data-frame\"><thead><tr><th></th><th>NO_OUVRAGE</th><th>DATE</th><th>SURVERSE</th><th>RAISON</th></tr><tr><th></th><th>String</th><th>Date</th><th>Int64⍰</th><th>String⍰</th></tr></thead><tbody><p>5 rows × 4 columns</p><tr><th>1</th><td>0642-01D</td><td>2013-05-01</td><td>0</td><td>missing</td></tr><tr><th>2</th><td>0642-01D</td><td>2013-05-02</td><td>0</td><td>missing</td></tr><tr><th>3</th><td>0642-01D</td><td>2013-05-03</td><td>0</td><td>missing</td></tr><tr><th>4</th><td>0642-01D</td><td>2013-05-04</td><td>0</td><td>missing</td></tr><tr><th>5</th><td>0642-01D</td><td>2013-05-05</td><td>0</td><td>missing</td></tr></tbody></table>"
      ],
      "text/latex": [
       "\\begin{tabular}{r|cccc}\n",
       "\t& NO\\_OUVRAGE & DATE & SURVERSE & RAISON\\\\\n",
       "\t\\hline\n",
       "\t& String & Date & Int64⍰ & String⍰\\\\\n",
       "\t\\hline\n",
       "\t1 & 0642-01D & 2013-05-01 & 0 &  \\\\\n",
       "\t2 & 0642-01D & 2013-05-02 & 0 &  \\\\\n",
       "\t3 & 0642-01D & 2013-05-03 & 0 &  \\\\\n",
       "\t4 & 0642-01D & 2013-05-04 & 0 &  \\\\\n",
       "\t5 & 0642-01D & 2013-05-05 & 0 &  \\\\\n",
       "\\end{tabular}\n"
      ],
      "text/plain": [
       "5×4 DataFrame\n",
       "│ Row │ NO_OUVRAGE │ DATE       │ SURVERSE │ RAISON  │\n",
       "│     │ \u001b[90mString\u001b[39m     │ \u001b[90mDate\u001b[39m       │ \u001b[90mInt64⍰\u001b[39m   │ \u001b[90mString⍰\u001b[39m │\n",
       "├─────┼────────────┼────────────┼──────────┼─────────┤\n",
       "│ 1   │ 0642-01D   │ 2013-05-01 │ 0        │ \u001b[90mmissing\u001b[39m │\n",
       "│ 2   │ 0642-01D   │ 2013-05-02 │ 0        │ \u001b[90mmissing\u001b[39m │\n",
       "│ 3   │ 0642-01D   │ 2013-05-03 │ 0        │ \u001b[90mmissing\u001b[39m │\n",
       "│ 4   │ 0642-01D   │ 2013-05-04 │ 0        │ \u001b[90mmissing\u001b[39m │\n",
       "│ 5   │ 0642-01D   │ 2013-05-05 │ 0        │ \u001b[90mmissing\u001b[39m │"
      ]
     },
     "execution_count": 33,
     "metadata": {},
     "output_type": "execute_result"
    }
   ],
   "source": [
    "data = filter(row -> month(row.DATE) > 4, data) \n",
    "data = filter(row -> month(row.DATE) < 11, data) \n",
    "first(data,5)"
   ]
  },
  {
   "cell_type": "markdown",
   "metadata": {},
   "source": [
    "#### Remplacement des valeurs *missing* dans la colonne :RAISON par \"Inconnue\""
   ]
  },
  {
   "cell_type": "code",
   "execution_count": 34,
   "metadata": {},
   "outputs": [
    {
     "data": {
      "text/html": [
       "<table class=\"data-frame\"><thead><tr><th></th><th>NO_OUVRAGE</th><th>DATE</th><th>SURVERSE</th><th>RAISON</th></tr><tr><th></th><th>String</th><th>Date</th><th>Int64⍰</th><th>String</th></tr></thead><tbody><p>5 rows × 4 columns</p><tr><th>1</th><td>0642-01D</td><td>2013-05-01</td><td>0</td><td>Inconnue</td></tr><tr><th>2</th><td>0642-01D</td><td>2013-05-02</td><td>0</td><td>Inconnue</td></tr><tr><th>3</th><td>0642-01D</td><td>2013-05-03</td><td>0</td><td>Inconnue</td></tr><tr><th>4</th><td>0642-01D</td><td>2013-05-04</td><td>0</td><td>Inconnue</td></tr><tr><th>5</th><td>0642-01D</td><td>2013-05-05</td><td>0</td><td>Inconnue</td></tr></tbody></table>"
      ],
      "text/latex": [
       "\\begin{tabular}{r|cccc}\n",
       "\t& NO\\_OUVRAGE & DATE & SURVERSE & RAISON\\\\\n",
       "\t\\hline\n",
       "\t& String & Date & Int64⍰ & String\\\\\n",
       "\t\\hline\n",
       "\t1 & 0642-01D & 2013-05-01 & 0 & Inconnue \\\\\n",
       "\t2 & 0642-01D & 2013-05-02 & 0 & Inconnue \\\\\n",
       "\t3 & 0642-01D & 2013-05-03 & 0 & Inconnue \\\\\n",
       "\t4 & 0642-01D & 2013-05-04 & 0 & Inconnue \\\\\n",
       "\t5 & 0642-01D & 2013-05-05 & 0 & Inconnue \\\\\n",
       "\\end{tabular}\n"
      ],
      "text/plain": [
       "5×4 DataFrame\n",
       "│ Row │ NO_OUVRAGE │ DATE       │ SURVERSE │ RAISON   │\n",
       "│     │ \u001b[90mString\u001b[39m     │ \u001b[90mDate\u001b[39m       │ \u001b[90mInt64⍰\u001b[39m   │ \u001b[90mString\u001b[39m   │\n",
       "├─────┼────────────┼────────────┼──────────┼──────────┤\n",
       "│ 1   │ 0642-01D   │ 2013-05-01 │ 0        │ Inconnue │\n",
       "│ 2   │ 0642-01D   │ 2013-05-02 │ 0        │ Inconnue │\n",
       "│ 3   │ 0642-01D   │ 2013-05-03 │ 0        │ Inconnue │\n",
       "│ 4   │ 0642-01D   │ 2013-05-04 │ 0        │ Inconnue │\n",
       "│ 5   │ 0642-01D   │ 2013-05-05 │ 0        │ Inconnue │"
      ]
     },
     "execution_count": 34,
     "metadata": {},
     "output_type": "execute_result"
    }
   ],
   "source": [
    "raison = coalesce.(data[:,:RAISON],\"Inconnue\")\n",
    "data[!,:RAISON] = raison\n",
    "first(data,5)"
   ]
  },
  {
   "cell_type": "markdown",
   "metadata": {},
   "source": [
    "#### Exlusion des surverses coccasionnées par d'autres facteurs que les précipitations liquides\n",
    "\n",
    "Ces facteurs correspondent à : \n",
    "- la fonte de neige (F), \n",
    "- les travaux planifiés et entretien (TPL)\n",
    "- urgence (U)\n",
    "- autre (AUT)"
   ]
  },
  {
   "cell_type": "code",
   "execution_count": 35,
   "metadata": {},
   "outputs": [
    {
     "data": {
      "text/html": [
       "<table class=\"data-frame\"><thead><tr><th></th><th>NO_OUVRAGE</th><th>DATE</th><th>SURVERSE</th></tr><tr><th></th><th>String</th><th>Date</th><th>Int64⍰</th></tr></thead><tbody><p>176,667 rows × 3 columns</p><tr><th>1</th><td>0642-01D</td><td>2013-05-01</td><td>0</td></tr><tr><th>2</th><td>0642-01D</td><td>2013-05-02</td><td>0</td></tr><tr><th>3</th><td>0642-01D</td><td>2013-05-03</td><td>0</td></tr><tr><th>4</th><td>0642-01D</td><td>2013-05-04</td><td>0</td></tr><tr><th>5</th><td>0642-01D</td><td>2013-05-05</td><td>0</td></tr><tr><th>6</th><td>0642-01D</td><td>2013-05-06</td><td>0</td></tr><tr><th>7</th><td>0642-01D</td><td>2013-05-07</td><td>0</td></tr><tr><th>8</th><td>0642-01D</td><td>2013-05-08</td><td>0</td></tr><tr><th>9</th><td>0642-01D</td><td>2013-05-09</td><td>0</td></tr><tr><th>10</th><td>0642-01D</td><td>2013-05-10</td><td>0</td></tr><tr><th>11</th><td>0642-01D</td><td>2013-05-11</td><td>0</td></tr><tr><th>12</th><td>0642-01D</td><td>2013-05-12</td><td>0</td></tr><tr><th>13</th><td>0642-01D</td><td>2013-05-13</td><td>0</td></tr><tr><th>14</th><td>0642-01D</td><td>2013-05-14</td><td>0</td></tr><tr><th>15</th><td>0642-01D</td><td>2013-05-15</td><td>0</td></tr><tr><th>16</th><td>0642-01D</td><td>2013-05-16</td><td>0</td></tr><tr><th>17</th><td>0642-01D</td><td>2013-05-17</td><td>0</td></tr><tr><th>18</th><td>0642-01D</td><td>2013-05-18</td><td>0</td></tr><tr><th>19</th><td>0642-01D</td><td>2013-05-19</td><td>0</td></tr><tr><th>20</th><td>0642-01D</td><td>2013-05-20</td><td>0</td></tr><tr><th>21</th><td>0642-01D</td><td>2013-05-21</td><td>0</td></tr><tr><th>22</th><td>0642-01D</td><td>2013-05-22</td><td>0</td></tr><tr><th>23</th><td>0642-01D</td><td>2013-05-23</td><td>0</td></tr><tr><th>24</th><td>0642-01D</td><td>2013-05-24</td><td>0</td></tr><tr><th>25</th><td>0642-01D</td><td>2013-05-25</td><td>0</td></tr><tr><th>26</th><td>0642-01D</td><td>2013-05-26</td><td>0</td></tr><tr><th>27</th><td>0642-01D</td><td>2013-05-27</td><td>0</td></tr><tr><th>28</th><td>0642-01D</td><td>2013-05-28</td><td>0</td></tr><tr><th>29</th><td>0642-01D</td><td>2013-05-29</td><td>0</td></tr><tr><th>30</th><td>0642-01D</td><td>2013-05-30</td><td>0</td></tr><tr><th>&vellip;</th><td>&vellip;</td><td>&vellip;</td><td>&vellip;</td></tr></tbody></table>"
      ],
      "text/latex": [
       "\\begin{tabular}{r|ccc}\n",
       "\t& NO\\_OUVRAGE & DATE & SURVERSE\\\\\n",
       "\t\\hline\n",
       "\t& String & Date & Int64⍰\\\\\n",
       "\t\\hline\n",
       "\t1 & 0642-01D & 2013-05-01 & 0 \\\\\n",
       "\t2 & 0642-01D & 2013-05-02 & 0 \\\\\n",
       "\t3 & 0642-01D & 2013-05-03 & 0 \\\\\n",
       "\t4 & 0642-01D & 2013-05-04 & 0 \\\\\n",
       "\t5 & 0642-01D & 2013-05-05 & 0 \\\\\n",
       "\t6 & 0642-01D & 2013-05-06 & 0 \\\\\n",
       "\t7 & 0642-01D & 2013-05-07 & 0 \\\\\n",
       "\t8 & 0642-01D & 2013-05-08 & 0 \\\\\n",
       "\t9 & 0642-01D & 2013-05-09 & 0 \\\\\n",
       "\t10 & 0642-01D & 2013-05-10 & 0 \\\\\n",
       "\t11 & 0642-01D & 2013-05-11 & 0 \\\\\n",
       "\t12 & 0642-01D & 2013-05-12 & 0 \\\\\n",
       "\t13 & 0642-01D & 2013-05-13 & 0 \\\\\n",
       "\t14 & 0642-01D & 2013-05-14 & 0 \\\\\n",
       "\t15 & 0642-01D & 2013-05-15 & 0 \\\\\n",
       "\t16 & 0642-01D & 2013-05-16 & 0 \\\\\n",
       "\t17 & 0642-01D & 2013-05-17 & 0 \\\\\n",
       "\t18 & 0642-01D & 2013-05-18 & 0 \\\\\n",
       "\t19 & 0642-01D & 2013-05-19 & 0 \\\\\n",
       "\t20 & 0642-01D & 2013-05-20 & 0 \\\\\n",
       "\t21 & 0642-01D & 2013-05-21 & 0 \\\\\n",
       "\t22 & 0642-01D & 2013-05-22 & 0 \\\\\n",
       "\t23 & 0642-01D & 2013-05-23 & 0 \\\\\n",
       "\t24 & 0642-01D & 2013-05-24 & 0 \\\\\n",
       "\t25 & 0642-01D & 2013-05-25 & 0 \\\\\n",
       "\t26 & 0642-01D & 2013-05-26 & 0 \\\\\n",
       "\t27 & 0642-01D & 2013-05-27 & 0 \\\\\n",
       "\t28 & 0642-01D & 2013-05-28 & 0 \\\\\n",
       "\t29 & 0642-01D & 2013-05-29 & 0 \\\\\n",
       "\t30 & 0642-01D & 2013-05-30 & 0 \\\\\n",
       "\t$\\dots$ & $\\dots$ & $\\dots$ & $\\dots$ \\\\\n",
       "\\end{tabular}\n"
      ],
      "text/plain": [
       "176667×3 DataFrame\n",
       "│ Row    │ NO_OUVRAGE │ DATE       │ SURVERSE │\n",
       "│        │ \u001b[90mString\u001b[39m     │ \u001b[90mDate\u001b[39m       │ \u001b[90mInt64⍰\u001b[39m   │\n",
       "├────────┼────────────┼────────────┼──────────┤\n",
       "│ 1      │ 0642-01D   │ 2013-05-01 │ 0        │\n",
       "│ 2      │ 0642-01D   │ 2013-05-02 │ 0        │\n",
       "│ 3      │ 0642-01D   │ 2013-05-03 │ 0        │\n",
       "│ 4      │ 0642-01D   │ 2013-05-04 │ 0        │\n",
       "│ 5      │ 0642-01D   │ 2013-05-05 │ 0        │\n",
       "│ 6      │ 0642-01D   │ 2013-05-06 │ 0        │\n",
       "│ 7      │ 0642-01D   │ 2013-05-07 │ 0        │\n",
       "│ 8      │ 0642-01D   │ 2013-05-08 │ 0        │\n",
       "│ 9      │ 0642-01D   │ 2013-05-09 │ 0        │\n",
       "│ 10     │ 0642-01D   │ 2013-05-10 │ 0        │\n",
       "⋮\n",
       "│ 176657 │ 4560-02D   │ 2018-10-21 │ \u001b[90mmissing\u001b[39m  │\n",
       "│ 176658 │ 4560-02D   │ 2018-10-22 │ \u001b[90mmissing\u001b[39m  │\n",
       "│ 176659 │ 4560-02D   │ 2018-10-23 │ \u001b[90mmissing\u001b[39m  │\n",
       "│ 176660 │ 4560-02D   │ 2018-10-24 │ \u001b[90mmissing\u001b[39m  │\n",
       "│ 176661 │ 4560-02D   │ 2018-10-25 │ \u001b[90mmissing\u001b[39m  │\n",
       "│ 176662 │ 4560-02D   │ 2018-10-26 │ \u001b[90mmissing\u001b[39m  │\n",
       "│ 176663 │ 4560-02D   │ 2018-10-27 │ \u001b[90mmissing\u001b[39m  │\n",
       "│ 176664 │ 4560-02D   │ 2018-10-28 │ \u001b[90mmissing\u001b[39m  │\n",
       "│ 176665 │ 4560-02D   │ 2018-10-29 │ \u001b[90mmissing\u001b[39m  │\n",
       "│ 176666 │ 4560-02D   │ 2018-10-30 │ \u001b[90mmissing\u001b[39m  │\n",
       "│ 176667 │ 4560-02D   │ 2018-10-31 │ \u001b[90mmissing\u001b[39m  │"
      ]
     },
     "execution_count": 35,
     "metadata": {},
     "output_type": "execute_result"
    }
   ],
   "source": [
    "data = filter(row -> row.RAISON ∈ [\"P\",\"Inconnue\",\"TS\"], data) \n",
    "select!(data, [:NO_OUVRAGE, :DATE, :SURVERSE])\n",
    "first(data,5)\n",
    "data"
   ]
  },
  {
   "cell_type": "code",
   "execution_count": null,
   "metadata": {},
   "outputs": [],
   "source": []
  },
  {
   "cell_type": "markdown",
   "metadata": {},
   "source": [
    "#### Exclusion des lignes où :SURVERSE est manquante"
   ]
  },
  {
   "cell_type": "code",
   "execution_count": 36,
   "metadata": {},
   "outputs": [],
   "source": [
    "surverse_df = dropmissing(data, disallowmissing=true);"
   ]
  },
  {
   "cell_type": "code",
   "execution_count": 37,
   "metadata": {},
   "outputs": [
    {
     "name": "stderr",
     "output_type": "stream",
     "text": [
      "┌ Warning: `getindex(df::DataFrame, col_ind::ColumnIndex)` is deprecated, use `df[!, col_ind]` instead.\n",
      "│   caller = top-level scope at In[37]:1\n",
      "└ @ Core In[37]:1\n",
      "┌ Warning: `getindex(df::DataFrame, col_ind::ColumnIndex)` is deprecated, use `df[!, col_ind]` instead.\n",
      "│   caller = top-level scope at In[37]:2\n",
      "└ @ Core In[37]:2\n"
     ]
    },
    {
     "data": {
      "text/plain": [
       "1-element Array{Int64,1}:\n",
       " 161098"
      ]
     },
     "execution_count": 37,
     "metadata": {},
     "output_type": "execute_result"
    }
   ],
   "source": [
    "n₁ = sum(x->x==1, surverse_df[:SURVERSE], dims=1) \n",
    "n₀ = sum(x->x==0, surverse_df[:SURVERSE], dims=1) \n",
    "n = n₀ + n₁"
   ]
  },
  {
   "cell_type": "code",
   "execution_count": 38,
   "metadata": {},
   "outputs": [],
   "source": [
    "filtervals = [\"3260-01D\"; \"3350-07D\"; \"4240-01D\"; \"4350-01D\"; \"4380-01D\"]\n",
    "surverse_df1 = filter(row-> row.NO_OUVRAGE == filtervals[1], surverse_df)\n",
    "surverse_df2 = filter(row-> row.NO_OUVRAGE == filtervals[2], surverse_df)\n",
    "surverse_df3 = filter(row-> row.NO_OUVRAGE == filtervals[3], surverse_df)\n",
    "surverse_df4 = filter(row-> row.NO_OUVRAGE == filtervals[4], surverse_df)\n",
    "surverse_df5 = filter(row-> row.NO_OUVRAGE == filtervals[5], surverse_df);"
   ]
  },
  {
   "cell_type": "code",
   "execution_count": 39,
   "metadata": {},
   "outputs": [
    {
     "data": {
      "text/plain": [
       "0-element Array{Int64,1}"
      ]
     },
     "execution_count": 39,
     "metadata": {},
     "output_type": "execute_result"
    }
   ],
   "source": [
    "#### on prend pour chaque ouvrage le nombre de fois ou il a eu surver et non\n",
    "n₁ = Int64[]\n",
    "n₀  = Int64[]\n",
    "n  = Int64[]"
   ]
  },
  {
   "cell_type": "code",
   "execution_count": 40,
   "metadata": {},
   "outputs": [
    {
     "name": "stderr",
     "output_type": "stream",
     "text": [
      "┌ Warning: `getindex(df::DataFrame, col_ind::ColumnIndex)` is deprecated, use `df[!, col_ind]` instead.\n",
      "│   caller = top-level scope at In[40]:1\n",
      "└ @ Core In[40]:1\n",
      "┌ Warning: `getindex(df::DataFrame, col_ind::ColumnIndex)` is deprecated, use `df[!, col_ind]` instead.\n",
      "│   caller = top-level scope at In[40]:3\n",
      "└ @ Core In[40]:3\n"
     ]
    },
    {
     "data": {
      "text/plain": [
       "1-element Array{Int64,1}:\n",
       " 1097"
      ]
     },
     "execution_count": 40,
     "metadata": {},
     "output_type": "execute_result"
    }
   ],
   "source": [
    "n1₁ = sum(x->x==1, surverse_df1[:SURVERSE], dims=1) \n",
    "push!(n₁, n1₁[1])\n",
    "n1₀ = sum(x->x==0, surverse_df1[:SURVERSE], dims=1)  \n",
    "push!(n₀, n1₀[1])\n",
    "n1= n1₁[1] + n1₀[1]\n",
    "push!(n, n1)"
   ]
  },
  {
   "cell_type": "code",
   "execution_count": 41,
   "metadata": {},
   "outputs": [
    {
     "name": "stderr",
     "output_type": "stream",
     "text": [
      "┌ Warning: `getindex(df::DataFrame, col_ind::ColumnIndex)` is deprecated, use `df[!, col_ind]` instead.\n",
      "│   caller = top-level scope at In[41]:1\n",
      "└ @ Core In[41]:1\n",
      "┌ Warning: `getindex(df::DataFrame, col_ind::ColumnIndex)` is deprecated, use `df[!, col_ind]` instead.\n",
      "│   caller = top-level scope at In[41]:3\n",
      "└ @ Core In[41]:3\n"
     ]
    },
    {
     "data": {
      "text/plain": [
       "2-element Array{Int64,1}:\n",
       " 1097\n",
       "  729"
      ]
     },
     "execution_count": 41,
     "metadata": {},
     "output_type": "execute_result"
    }
   ],
   "source": [
    "n1₁ = sum(x->x==1, surverse_df2[:SURVERSE], dims=1) \n",
    "push!(n₁, n1₁[1])\n",
    "n1₀ = sum(x->x==0, surverse_df2[:SURVERSE], dims=1)  \n",
    "push!(n₀, n1₀[1])\n",
    "n1= n1₁[1] + n1₀[1]\n",
    "push!(n, n1)"
   ]
  },
  {
   "cell_type": "code",
   "execution_count": 42,
   "metadata": {},
   "outputs": [
    {
     "name": "stderr",
     "output_type": "stream",
     "text": [
      "┌ Warning: `getindex(df::DataFrame, col_ind::ColumnIndex)` is deprecated, use `df[!, col_ind]` instead.\n",
      "│   caller = top-level scope at In[42]:1\n",
      "└ @ Core In[42]:1\n",
      "┌ Warning: `getindex(df::DataFrame, col_ind::ColumnIndex)` is deprecated, use `df[!, col_ind]` instead.\n",
      "│   caller = top-level scope at In[42]:3\n",
      "└ @ Core In[42]:3\n"
     ]
    },
    {
     "data": {
      "text/plain": [
       "3-element Array{Int64,1}:\n",
       " 1097\n",
       "  729\n",
       " 1100"
      ]
     },
     "execution_count": 42,
     "metadata": {},
     "output_type": "execute_result"
    }
   ],
   "source": [
    "n1₁ = sum(x->x==1, surverse_df3[:SURVERSE], dims=1) \n",
    "push!(n₁, n1₁[1])\n",
    "n1₀ = sum(x->x==0, surverse_df3[:SURVERSE], dims=1)  \n",
    "push!(n₀, n1₀[1])\n",
    "n1= n1₁[1] + n1₀[1]\n",
    "push!(n, n1)"
   ]
  },
  {
   "cell_type": "code",
   "execution_count": 43,
   "metadata": {},
   "outputs": [
    {
     "name": "stderr",
     "output_type": "stream",
     "text": [
      "┌ Warning: `getindex(df::DataFrame, col_ind::ColumnIndex)` is deprecated, use `df[!, col_ind]` instead.\n",
      "│   caller = top-level scope at In[43]:1\n",
      "└ @ Core In[43]:1\n",
      "┌ Warning: `getindex(df::DataFrame, col_ind::ColumnIndex)` is deprecated, use `df[!, col_ind]` instead.\n",
      "│   caller = top-level scope at In[43]:3\n",
      "└ @ Core In[43]:3\n"
     ]
    },
    {
     "data": {
      "text/plain": [
       "4-element Array{Int64,1}:\n",
       " 1097\n",
       "  729\n",
       " 1100\n",
       " 1100"
      ]
     },
     "execution_count": 43,
     "metadata": {},
     "output_type": "execute_result"
    }
   ],
   "source": [
    "n1₁ = sum(x->x==1, surverse_df4[:SURVERSE], dims=1) \n",
    "push!(n₁, n1₁[1])\n",
    "n1₀ = sum(x->x==0, surverse_df4[:SURVERSE], dims=1)  \n",
    "push!(n₀, n1₀[1])\n",
    "n1= n1₁[1] + n1₀[1]\n",
    "push!(n, n1)"
   ]
  },
  {
   "cell_type": "code",
   "execution_count": 44,
   "metadata": {},
   "outputs": [
    {
     "name": "stderr",
     "output_type": "stream",
     "text": [
      "┌ Warning: `getindex(df::DataFrame, col_ind::ColumnIndex)` is deprecated, use `df[!, col_ind]` instead.\n",
      "│   caller = top-level scope at In[44]:1\n",
      "└ @ Core In[44]:1\n",
      "┌ Warning: `getindex(df::DataFrame, col_ind::ColumnIndex)` is deprecated, use `df[!, col_ind]` instead.\n",
      "│   caller = top-level scope at In[44]:3\n",
      "└ @ Core In[44]:3\n"
     ]
    },
    {
     "data": {
      "text/plain": [
       "5-element Array{Int64,1}:\n",
       " 1097\n",
       "  729\n",
       " 1100\n",
       " 1100\n",
       " 1103"
      ]
     },
     "execution_count": 44,
     "metadata": {},
     "output_type": "execute_result"
    }
   ],
   "source": [
    "n1₁ = sum(x->x==1, surverse_df5[:SURVERSE], dims=1) \n",
    "push!(n₁, n1₁[1])\n",
    "n1₀ = sum(x->x==0, surverse_df5[:SURVERSE], dims=1)  \n",
    "push!(n₀, n1₀[1])\n",
    "n1= n1₁[1] + n1₀[1]\n",
    "push!(n, n1)"
   ]
  },
  {
   "cell_type": "code",
   "execution_count": 203,
   "metadata": {},
   "outputs": [
    {
     "data": {
      "text/plain": [
       "5-element Array{Int64,1}:\n",
       " 1097\n",
       "  729\n",
       " 1100\n",
       " 1100\n",
       " 1103"
      ]
     },
     "execution_count": 203,
     "metadata": {},
     "output_type": "execute_result"
    }
   ],
   "source": [
    "n"
   ]
  },
  {
   "cell_type": "markdown",
   "metadata": {},
   "source": [
    "## Chargement des précipitations"
   ]
  },
  {
   "cell_type": "code",
   "execution_count": 204,
   "metadata": {},
   "outputs": [
    {
     "data": {
      "text/html": [
       "<table class=\"data-frame\"><thead><tr><th></th><th>date</th><th>heure</th><th>McTavish</th><th>Bellevue</th><th>Assomption</th><th>Trudeau</th><th>StHubert</th></tr><tr><th></th><th>Date</th><th>Int64</th><th>Int64⍰</th><th>Int64⍰</th><th>Int64⍰</th><th>Int64⍰</th><th>Int64⍰</th></tr></thead><tbody><p>5 rows × 7 columns</p><tr><th>1</th><td>2013-01-01</td><td>0</td><td>0</td><td>0</td><td>0</td><td>0</td><td>missing</td></tr><tr><th>2</th><td>2013-01-01</td><td>1</td><td>0</td><td>0</td><td>0</td><td>0</td><td>missing</td></tr><tr><th>3</th><td>2013-01-01</td><td>2</td><td>0</td><td>0</td><td>0</td><td>0</td><td>missing</td></tr><tr><th>4</th><td>2013-01-01</td><td>3</td><td>0</td><td>0</td><td>0</td><td>0</td><td>missing</td></tr><tr><th>5</th><td>2013-01-01</td><td>4</td><td>0</td><td>0</td><td>0</td><td>0</td><td>missing</td></tr></tbody></table>"
      ],
      "text/latex": [
       "\\begin{tabular}{r|ccccccc}\n",
       "\t& date & heure & McTavish & Bellevue & Assomption & Trudeau & StHubert\\\\\n",
       "\t\\hline\n",
       "\t& Date & Int64 & Int64⍰ & Int64⍰ & Int64⍰ & Int64⍰ & Int64⍰\\\\\n",
       "\t\\hline\n",
       "\t1 & 2013-01-01 & 0 & 0 & 0 & 0 & 0 &  \\\\\n",
       "\t2 & 2013-01-01 & 1 & 0 & 0 & 0 & 0 &  \\\\\n",
       "\t3 & 2013-01-01 & 2 & 0 & 0 & 0 & 0 &  \\\\\n",
       "\t4 & 2013-01-01 & 3 & 0 & 0 & 0 & 0 &  \\\\\n",
       "\t5 & 2013-01-01 & 4 & 0 & 0 & 0 & 0 &  \\\\\n",
       "\\end{tabular}\n"
      ],
      "text/plain": [
       "5×7 DataFrame. Omitted printing of 1 columns\n",
       "│ Row │ date       │ heure │ McTavish │ Bellevue │ Assomption │ Trudeau │\n",
       "│     │ \u001b[90mDate\u001b[39m       │ \u001b[90mInt64\u001b[39m │ \u001b[90mInt64⍰\u001b[39m   │ \u001b[90mInt64⍰\u001b[39m   │ \u001b[90mInt64⍰\u001b[39m     │ \u001b[90mInt64⍰\u001b[39m  │\n",
       "├─────┼────────────┼───────┼──────────┼──────────┼────────────┼─────────┤\n",
       "│ 1   │ 2013-01-01 │ 0     │ 0        │ 0        │ 0          │ 0       │\n",
       "│ 2   │ 2013-01-01 │ 1     │ 0        │ 0        │ 0          │ 0       │\n",
       "│ 3   │ 2013-01-01 │ 2     │ 0        │ 0        │ 0          │ 0       │\n",
       "│ 4   │ 2013-01-01 │ 3     │ 0        │ 0        │ 0          │ 0       │\n",
       "│ 5   │ 2013-01-01 │ 4     │ 0        │ 0        │ 0          │ 0       │"
      ]
     },
     "execution_count": 204,
     "metadata": {},
     "output_type": "execute_result"
    }
   ],
   "source": [
    "test = CSV.read(\"data/precipitations.csv\",missingstring=\"-99999\")\n",
    "rename!(test, Symbol(\"St-Hubert\")=>:StHubert)\n",
    "first(test,5)"
   ]
  },
  {
   "cell_type": "code",
   "execution_count": 205,
   "metadata": {},
   "outputs": [
    {
     "data": {
      "text/html": [
       "<table class=\"data-frame\"><thead><tr><th></th><th>date</th><th>heure</th><th>McTavish</th><th>Bellevue</th><th>Assomption</th><th>Trudeau</th><th>StHubert</th></tr><tr><th></th><th>Date</th><th>Int64</th><th>Int64⍰</th><th>Int64⍰</th><th>Int64⍰</th><th>Int64⍰</th><th>Int64⍰</th></tr></thead><tbody><p>5 rows × 7 columns</p><tr><th>1</th><td>2013-01-01</td><td>0</td><td>0</td><td>0</td><td>0</td><td>0</td><td>missing</td></tr><tr><th>2</th><td>2013-01-01</td><td>1</td><td>0</td><td>0</td><td>0</td><td>0</td><td>missing</td></tr><tr><th>3</th><td>2013-01-01</td><td>2</td><td>0</td><td>0</td><td>0</td><td>0</td><td>missing</td></tr><tr><th>4</th><td>2013-01-01</td><td>3</td><td>0</td><td>0</td><td>0</td><td>0</td><td>missing</td></tr><tr><th>5</th><td>2013-01-01</td><td>4</td><td>0</td><td>0</td><td>0</td><td>0</td><td>missing</td></tr></tbody></table>"
      ],
      "text/latex": [
       "\\begin{tabular}{r|ccccccc}\n",
       "\t& date & heure & McTavish & Bellevue & Assomption & Trudeau & StHubert\\\\\n",
       "\t\\hline\n",
       "\t& Date & Int64 & Int64⍰ & Int64⍰ & Int64⍰ & Int64⍰ & Int64⍰\\\\\n",
       "\t\\hline\n",
       "\t1 & 2013-01-01 & 0 & 0 & 0 & 0 & 0 &  \\\\\n",
       "\t2 & 2013-01-01 & 1 & 0 & 0 & 0 & 0 &  \\\\\n",
       "\t3 & 2013-01-01 & 2 & 0 & 0 & 0 & 0 &  \\\\\n",
       "\t4 & 2013-01-01 & 3 & 0 & 0 & 0 & 0 &  \\\\\n",
       "\t5 & 2013-01-01 & 4 & 0 & 0 & 0 & 0 &  \\\\\n",
       "\\end{tabular}\n"
      ],
      "text/plain": [
       "5×7 DataFrame. Omitted printing of 1 columns\n",
       "│ Row │ date       │ heure │ McTavish │ Bellevue │ Assomption │ Trudeau │\n",
       "│     │ \u001b[90mDate\u001b[39m       │ \u001b[90mInt64\u001b[39m │ \u001b[90mInt64⍰\u001b[39m   │ \u001b[90mInt64⍰\u001b[39m   │ \u001b[90mInt64⍰\u001b[39m     │ \u001b[90mInt64⍰\u001b[39m  │\n",
       "├─────┼────────────┼───────┼──────────┼──────────┼────────────┼─────────┤\n",
       "│ 1   │ 2013-01-01 │ 0     │ 0        │ 0        │ 0          │ 0       │\n",
       "│ 2   │ 2013-01-01 │ 1     │ 0        │ 0        │ 0          │ 0       │\n",
       "│ 3   │ 2013-01-01 │ 2     │ 0        │ 0        │ 0          │ 0       │\n",
       "│ 4   │ 2013-01-01 │ 3     │ 0        │ 0        │ 0          │ 0       │\n",
       "│ 5   │ 2013-01-01 │ 4     │ 0        │ 0        │ 0          │ 0       │"
      ]
     },
     "execution_count": 205,
     "metadata": {},
     "output_type": "execute_result"
    }
   ],
   "source": [
    "data = CSV.read(\"data/precipitations.csv\",missingstring=\"-99999\")\n",
    "rename!(data, Symbol(\"St-Hubert\")=>:StHubert)\n",
    "first(data,5)"
   ]
  },
  {
   "cell_type": "markdown",
   "metadata": {},
   "source": [
    "## Nettoyage des données sur les précipitations\n",
    "\n",
    "#### Extraction des précipitations des mois de mai à octobre inclusivement"
   ]
  },
  {
   "cell_type": "code",
   "execution_count": 206,
   "metadata": {},
   "outputs": [
    {
     "data": {
      "text/html": [
       "<table class=\"data-frame\"><thead><tr><th></th><th>date</th><th>heure</th><th>McTavish</th><th>Bellevue</th><th>Assomption</th><th>Trudeau</th><th>StHubert</th></tr><tr><th></th><th>Date</th><th>Int64</th><th>Int64⍰</th><th>Int64⍰</th><th>Int64⍰</th><th>Int64⍰</th><th>Int64⍰</th></tr></thead><tbody><p>5,040 rows × 7 columns</p><tr><th>1</th><td>2013-04-01</td><td>0</td><td>15</td><td>4</td><td>17</td><td>10</td><td>missing</td></tr><tr><th>2</th><td>2013-04-01</td><td>1</td><td>0</td><td>3</td><td>10</td><td>3</td><td>missing</td></tr><tr><th>3</th><td>2013-04-01</td><td>2</td><td>0</td><td>0</td><td>0</td><td>0</td><td>missing</td></tr><tr><th>4</th><td>2013-04-01</td><td>3</td><td>0</td><td>0</td><td>0</td><td>0</td><td>missing</td></tr><tr><th>5</th><td>2013-04-01</td><td>4</td><td>0</td><td>0</td><td>0</td><td>0</td><td>missing</td></tr><tr><th>6</th><td>2013-04-01</td><td>5</td><td>0</td><td>0</td><td>0</td><td>0</td><td>missing</td></tr><tr><th>7</th><td>2013-04-01</td><td>6</td><td>0</td><td>0</td><td>0</td><td>0</td><td>missing</td></tr><tr><th>8</th><td>2013-04-01</td><td>7</td><td>0</td><td>0</td><td>0</td><td>0</td><td>missing</td></tr><tr><th>9</th><td>2013-04-01</td><td>8</td><td>0</td><td>4</td><td>0</td><td>3</td><td>missing</td></tr><tr><th>10</th><td>2013-04-01</td><td>9</td><td>0</td><td>0</td><td>0</td><td>0</td><td>missing</td></tr><tr><th>11</th><td>2013-04-01</td><td>10</td><td>0</td><td>0</td><td>10</td><td>0</td><td>missing</td></tr><tr><th>12</th><td>2013-04-01</td><td>11</td><td>14</td><td>3</td><td>0</td><td>0</td><td>missing</td></tr><tr><th>13</th><td>2013-04-01</td><td>12</td><td>0</td><td>5</td><td>0</td><td>5</td><td>missing</td></tr><tr><th>14</th><td>2013-04-01</td><td>13</td><td>0</td><td>0</td><td>0</td><td>0</td><td>missing</td></tr><tr><th>15</th><td>2013-04-01</td><td>14</td><td>10</td><td>0</td><td>0</td><td>0</td><td>missing</td></tr><tr><th>16</th><td>2013-04-01</td><td>15</td><td>0</td><td>0</td><td>0</td><td>0</td><td>missing</td></tr><tr><th>17</th><td>2013-04-01</td><td>16</td><td>0</td><td>0</td><td>0</td><td>0</td><td>missing</td></tr><tr><th>18</th><td>2013-04-01</td><td>17</td><td>0</td><td>0</td><td>0</td><td>3</td><td>missing</td></tr><tr><th>19</th><td>2013-04-01</td><td>18</td><td>0</td><td>0</td><td>0</td><td>0</td><td>missing</td></tr><tr><th>20</th><td>2013-04-01</td><td>19</td><td>0</td><td>0</td><td>0</td><td>0</td><td>missing</td></tr><tr><th>21</th><td>2013-04-01</td><td>20</td><td>0</td><td>0</td><td>0</td><td>0</td><td>missing</td></tr><tr><th>22</th><td>2013-04-01</td><td>21</td><td>0</td><td>0</td><td>0</td><td>0</td><td>missing</td></tr><tr><th>23</th><td>2013-04-01</td><td>22</td><td>0</td><td>0</td><td>0</td><td>0</td><td>missing</td></tr><tr><th>24</th><td>2013-04-01</td><td>23</td><td>0</td><td>0</td><td>0</td><td>0</td><td>missing</td></tr><tr><th>25</th><td>2013-04-02</td><td>0</td><td>0</td><td>0</td><td>0</td><td>0</td><td>missing</td></tr><tr><th>26</th><td>2013-04-02</td><td>1</td><td>0</td><td>0</td><td>0</td><td>0</td><td>missing</td></tr><tr><th>27</th><td>2013-04-02</td><td>2</td><td>0</td><td>0</td><td>0</td><td>0</td><td>missing</td></tr><tr><th>28</th><td>2013-04-02</td><td>3</td><td>0</td><td>0</td><td>0</td><td>0</td><td>missing</td></tr><tr><th>29</th><td>2013-04-02</td><td>4</td><td>0</td><td>0</td><td>0</td><td>0</td><td>missing</td></tr><tr><th>30</th><td>2013-04-02</td><td>5</td><td>0</td><td>0</td><td>0</td><td>0</td><td>missing</td></tr><tr><th>&vellip;</th><td>&vellip;</td><td>&vellip;</td><td>&vellip;</td><td>&vellip;</td><td>&vellip;</td><td>&vellip;</td><td>&vellip;</td></tr></tbody></table>"
      ],
      "text/latex": [
       "\\begin{tabular}{r|ccccccc}\n",
       "\t& date & heure & McTavish & Bellevue & Assomption & Trudeau & StHubert\\\\\n",
       "\t\\hline\n",
       "\t& Date & Int64 & Int64⍰ & Int64⍰ & Int64⍰ & Int64⍰ & Int64⍰\\\\\n",
       "\t\\hline\n",
       "\t1 & 2013-04-01 & 0 & 15 & 4 & 17 & 10 &  \\\\\n",
       "\t2 & 2013-04-01 & 1 & 0 & 3 & 10 & 3 &  \\\\\n",
       "\t3 & 2013-04-01 & 2 & 0 & 0 & 0 & 0 &  \\\\\n",
       "\t4 & 2013-04-01 & 3 & 0 & 0 & 0 & 0 &  \\\\\n",
       "\t5 & 2013-04-01 & 4 & 0 & 0 & 0 & 0 &  \\\\\n",
       "\t6 & 2013-04-01 & 5 & 0 & 0 & 0 & 0 &  \\\\\n",
       "\t7 & 2013-04-01 & 6 & 0 & 0 & 0 & 0 &  \\\\\n",
       "\t8 & 2013-04-01 & 7 & 0 & 0 & 0 & 0 &  \\\\\n",
       "\t9 & 2013-04-01 & 8 & 0 & 4 & 0 & 3 &  \\\\\n",
       "\t10 & 2013-04-01 & 9 & 0 & 0 & 0 & 0 &  \\\\\n",
       "\t11 & 2013-04-01 & 10 & 0 & 0 & 10 & 0 &  \\\\\n",
       "\t12 & 2013-04-01 & 11 & 14 & 3 & 0 & 0 &  \\\\\n",
       "\t13 & 2013-04-01 & 12 & 0 & 5 & 0 & 5 &  \\\\\n",
       "\t14 & 2013-04-01 & 13 & 0 & 0 & 0 & 0 &  \\\\\n",
       "\t15 & 2013-04-01 & 14 & 10 & 0 & 0 & 0 &  \\\\\n",
       "\t16 & 2013-04-01 & 15 & 0 & 0 & 0 & 0 &  \\\\\n",
       "\t17 & 2013-04-01 & 16 & 0 & 0 & 0 & 0 &  \\\\\n",
       "\t18 & 2013-04-01 & 17 & 0 & 0 & 0 & 3 &  \\\\\n",
       "\t19 & 2013-04-01 & 18 & 0 & 0 & 0 & 0 &  \\\\\n",
       "\t20 & 2013-04-01 & 19 & 0 & 0 & 0 & 0 &  \\\\\n",
       "\t21 & 2013-04-01 & 20 & 0 & 0 & 0 & 0 &  \\\\\n",
       "\t22 & 2013-04-01 & 21 & 0 & 0 & 0 & 0 &  \\\\\n",
       "\t23 & 2013-04-01 & 22 & 0 & 0 & 0 & 0 &  \\\\\n",
       "\t24 & 2013-04-01 & 23 & 0 & 0 & 0 & 0 &  \\\\\n",
       "\t25 & 2013-04-02 & 0 & 0 & 0 & 0 & 0 &  \\\\\n",
       "\t26 & 2013-04-02 & 1 & 0 & 0 & 0 & 0 &  \\\\\n",
       "\t27 & 2013-04-02 & 2 & 0 & 0 & 0 & 0 &  \\\\\n",
       "\t28 & 2013-04-02 & 3 & 0 & 0 & 0 & 0 &  \\\\\n",
       "\t29 & 2013-04-02 & 4 & 0 & 0 & 0 & 0 &  \\\\\n",
       "\t30 & 2013-04-02 & 5 & 0 & 0 & 0 & 0 &  \\\\\n",
       "\t$\\dots$ & $\\dots$ & $\\dots$ & $\\dots$ & $\\dots$ & $\\dots$ & $\\dots$ & $\\dots$ \\\\\n",
       "\\end{tabular}\n"
      ],
      "text/plain": [
       "5040×7 DataFrame. Omitted printing of 1 columns\n",
       "│ Row  │ date       │ heure │ McTavish │ Bellevue │ Assomption │ Trudeau │\n",
       "│      │ \u001b[90mDate\u001b[39m       │ \u001b[90mInt64\u001b[39m │ \u001b[90mInt64⍰\u001b[39m   │ \u001b[90mInt64⍰\u001b[39m   │ \u001b[90mInt64⍰\u001b[39m     │ \u001b[90mInt64⍰\u001b[39m  │\n",
       "├──────┼────────────┼───────┼──────────┼──────────┼────────────┼─────────┤\n",
       "│ 1    │ 2013-04-01 │ 0     │ 15       │ 4        │ 17         │ 10      │\n",
       "│ 2    │ 2013-04-01 │ 1     │ 0        │ 3        │ 10         │ 3       │\n",
       "│ 3    │ 2013-04-01 │ 2     │ 0        │ 0        │ 0          │ 0       │\n",
       "│ 4    │ 2013-04-01 │ 3     │ 0        │ 0        │ 0          │ 0       │\n",
       "│ 5    │ 2013-04-01 │ 4     │ 0        │ 0        │ 0          │ 0       │\n",
       "│ 6    │ 2013-04-01 │ 5     │ 0        │ 0        │ 0          │ 0       │\n",
       "│ 7    │ 2013-04-01 │ 6     │ 0        │ 0        │ 0          │ 0       │\n",
       "│ 8    │ 2013-04-01 │ 7     │ 0        │ 0        │ 0          │ 0       │\n",
       "│ 9    │ 2013-04-01 │ 8     │ 0        │ 4        │ 0          │ 3       │\n",
       "│ 10   │ 2013-04-01 │ 9     │ 0        │ 0        │ 0          │ 0       │\n",
       "⋮\n",
       "│ 5030 │ 2019-04-30 │ 13    │ 0        │ 0        │ 0          │ 0       │\n",
       "│ 5031 │ 2019-04-30 │ 14    │ 0        │ 0        │ 0          │ 0       │\n",
       "│ 5032 │ 2019-04-30 │ 15    │ 0        │ 0        │ 0          │ 0       │\n",
       "│ 5033 │ 2019-04-30 │ 16    │ 0        │ 0        │ 0          │ 0       │\n",
       "│ 5034 │ 2019-04-30 │ 17    │ 0        │ 0        │ 0          │ 0       │\n",
       "│ 5035 │ 2019-04-30 │ 18    │ 0        │ 0        │ 0          │ 0       │\n",
       "│ 5036 │ 2019-04-30 │ 19    │ 0        │ 0        │ 0          │ 0       │\n",
       "│ 5037 │ 2019-04-30 │ 20    │ 0        │ 0        │ 0          │ 0       │\n",
       "│ 5038 │ 2019-04-30 │ 21    │ 0        │ 0        │ 0          │ 0       │\n",
       "│ 5039 │ 2019-04-30 │ 22    │ 0        │ 0        │ 0          │ 0       │\n",
       "│ 5040 │ 2019-04-30 │ 23    │ 0        │ 0        │ 0          │ 0       │"
      ]
     },
     "execution_count": 206,
     "metadata": {},
     "output_type": "execute_result"
    }
   ],
   "source": [
    "data = filter(row -> month(row.date) > 4, data) \n",
    "data = filter(row -> month(row.date) < 11, data) \n",
    "test = filter(row -> month(row.date) == 4, test) "
   ]
  },
  {
   "cell_type": "code",
   "execution_count": null,
   "metadata": {},
   "outputs": [],
   "source": []
  },
  {
   "cell_type": "markdown",
   "metadata": {},
   "source": [
    "# Analyse exploratoire\n",
    "\n",
    "Cette section consitue une analyse exploratoire superficielle permettant de voir s'il existe un lien entre les précipitations et les surverses.\n",
    "\n",
    "Prenons arbitrairement l'ouvrage de débordement près du Bota-Bota (4350-01D). La station météorologique la plus proche est McTavish. Prenons deux variables explicatives simple :\n",
    "- la somme journalière des précipitations\n",
    "- le taux horaire maximum journalier de précipitations\n",
    "\n",
    "#### Calcul de la quantité journalière de précipitations pour chacune des stations météorologiques"
   ]
  },
  {
   "cell_type": "code",
   "execution_count": 207,
   "metadata": {},
   "outputs": [
    {
     "data": {
      "text/html": [
       "<table class=\"data-frame\"><thead><tr><th></th><th>date</th><th>McTavish</th><th>Bellevue</th><th>Assomption</th><th>Trudeau</th><th>StHubert</th></tr><tr><th></th><th>Date</th><th>Int64⍰</th><th>Int64⍰</th><th>Int64⍰</th><th>Int64⍰</th><th>Int64⍰</th></tr></thead><tbody><p>5 rows × 6 columns</p><tr><th>1</th><td>2013-05-01</td><td>0</td><td>0</td><td>0</td><td>0</td><td>missing</td></tr><tr><th>2</th><td>2013-05-02</td><td>0</td><td>0</td><td>0</td><td>0</td><td>missing</td></tr><tr><th>3</th><td>2013-05-03</td><td>0</td><td>0</td><td>0</td><td>0</td><td>missing</td></tr><tr><th>4</th><td>2013-05-04</td><td>0</td><td>0</td><td>0</td><td>0</td><td>missing</td></tr><tr><th>5</th><td>2013-05-05</td><td>0</td><td>0</td><td>0</td><td>0</td><td>missing</td></tr></tbody></table>"
      ],
      "text/latex": [
       "\\begin{tabular}{r|cccccc}\n",
       "\t& date & McTavish & Bellevue & Assomption & Trudeau & StHubert\\\\\n",
       "\t\\hline\n",
       "\t& Date & Int64⍰ & Int64⍰ & Int64⍰ & Int64⍰ & Int64⍰\\\\\n",
       "\t\\hline\n",
       "\t1 & 2013-05-01 & 0 & 0 & 0 & 0 &  \\\\\n",
       "\t2 & 2013-05-02 & 0 & 0 & 0 & 0 &  \\\\\n",
       "\t3 & 2013-05-03 & 0 & 0 & 0 & 0 &  \\\\\n",
       "\t4 & 2013-05-04 & 0 & 0 & 0 & 0 &  \\\\\n",
       "\t5 & 2013-05-05 & 0 & 0 & 0 & 0 &  \\\\\n",
       "\\end{tabular}\n"
      ],
      "text/plain": [
       "5×6 DataFrame\n",
       "│ Row │ date       │ McTavish │ Bellevue │ Assomption │ Trudeau │ StHubert │\n",
       "│     │ \u001b[90mDate\u001b[39m       │ \u001b[90mInt64⍰\u001b[39m   │ \u001b[90mInt64⍰\u001b[39m   │ \u001b[90mInt64⍰\u001b[39m     │ \u001b[90mInt64⍰\u001b[39m  │ \u001b[90mInt64⍰\u001b[39m   │\n",
       "├─────┼────────────┼──────────┼──────────┼────────────┼─────────┼──────────┤\n",
       "│ 1   │ 2013-05-01 │ 0        │ 0        │ 0          │ 0       │ \u001b[90mmissing\u001b[39m  │\n",
       "│ 2   │ 2013-05-02 │ 0        │ 0        │ 0          │ 0       │ \u001b[90mmissing\u001b[39m  │\n",
       "│ 3   │ 2013-05-03 │ 0        │ 0        │ 0          │ 0       │ \u001b[90mmissing\u001b[39m  │\n",
       "│ 4   │ 2013-05-04 │ 0        │ 0        │ 0          │ 0       │ \u001b[90mmissing\u001b[39m  │\n",
       "│ 5   │ 2013-05-05 │ 0        │ 0        │ 0          │ 0       │ \u001b[90mmissing\u001b[39m  │"
      ]
     },
     "execution_count": 207,
     "metadata": {},
     "output_type": "execute_result"
    }
   ],
   "source": [
    "pcp_sum = by(data, :date,  McTavish = :McTavish=>sum, Bellevue = :Bellevue=>sum, \n",
    "   Assomption = :Assomption=>sum, Trudeau = :Trudeau=>sum, StHubert = :StHubert=>sum)\n",
    "first(pcp_sum ,5)"
   ]
  },
  {
   "cell_type": "code",
   "execution_count": 208,
   "metadata": {},
   "outputs": [
    {
     "data": {
      "text/html": [
       "<table class=\"data-frame\"><thead><tr><th></th><th>date</th><th>McTavish</th><th>Bellevue</th><th>Assomption</th><th>Trudeau</th><th>StHubert</th></tr><tr><th></th><th>Date</th><th>Int64⍰</th><th>Int64⍰</th><th>Int64⍰</th><th>Int64⍰</th><th>Int64⍰</th></tr></thead><tbody><p>210 rows × 6 columns</p><tr><th>1</th><td>2013-04-01</td><td>39</td><td>19</td><td>37</td><td>24</td><td>missing</td></tr><tr><th>2</th><td>2013-04-02</td><td>0</td><td>0</td><td>0</td><td>0</td><td>missing</td></tr><tr><th>3</th><td>2013-04-03</td><td>0</td><td>0</td><td>0</td><td>0</td><td>missing</td></tr><tr><th>4</th><td>2013-04-04</td><td>0</td><td>0</td><td>0</td><td>0</td><td>missing</td></tr><tr><th>5</th><td>2013-04-05</td><td>12</td><td>0</td><td>0</td><td>3</td><td>missing</td></tr><tr><th>6</th><td>2013-04-06</td><td>0</td><td>0</td><td>0</td><td>0</td><td>missing</td></tr><tr><th>7</th><td>2013-04-07</td><td>0</td><td>0</td><td>30</td><td>0</td><td>missing</td></tr><tr><th>8</th><td>2013-04-08</td><td>0</td><td>0</td><td>0</td><td>0</td><td>missing</td></tr><tr><th>9</th><td>2013-04-09</td><td>154</td><td>132</td><td>120</td><td>143</td><td>missing</td></tr><tr><th>10</th><td>2013-04-10</td><td>0</td><td>0</td><td>0</td><td>0</td><td>missing</td></tr><tr><th>11</th><td>2013-04-11</td><td>0</td><td>0</td><td>0</td><td>0</td><td>missing</td></tr><tr><th>12</th><td>2013-04-12</td><td>219</td><td>167</td><td>150</td><td>193</td><td>missing</td></tr><tr><th>13</th><td>2013-04-13</td><td>33</td><td>6</td><td>50</td><td>3</td><td>missing</td></tr><tr><th>14</th><td>2013-04-14</td><td>0</td><td>0</td><td>0</td><td>0</td><td>missing</td></tr><tr><th>15</th><td>2013-04-15</td><td>0</td><td>0</td><td>0</td><td>0</td><td>missing</td></tr><tr><th>16</th><td>2013-04-16</td><td>126</td><td>58</td><td>70</td><td>79</td><td>missing</td></tr><tr><th>17</th><td>2013-04-17</td><td>0</td><td>0</td><td>0</td><td>0</td><td>missing</td></tr><tr><th>18</th><td>2013-04-18</td><td>0</td><td>0</td><td>11</td><td>0</td><td>missing</td></tr><tr><th>19</th><td>2013-04-19</td><td>48</td><td>45</td><td>31</td><td>27</td><td>missing</td></tr><tr><th>20</th><td>2013-04-20</td><td>0</td><td>7</td><td>11</td><td>0</td><td>missing</td></tr><tr><th>21</th><td>2013-04-21</td><td>0</td><td>0</td><td>0</td><td>0</td><td>missing</td></tr><tr><th>22</th><td>2013-04-22</td><td>0</td><td>0</td><td>0</td><td>0</td><td>missing</td></tr><tr><th>23</th><td>2013-04-23</td><td>0</td><td>0</td><td>0</td><td>0</td><td>missing</td></tr><tr><th>24</th><td>2013-04-24</td><td>32</td><td>19</td><td>20</td><td>35</td><td>missing</td></tr><tr><th>25</th><td>2013-04-25</td><td>0</td><td>0</td><td>0</td><td>0</td><td>missing</td></tr><tr><th>26</th><td>2013-04-26</td><td>0</td><td>8</td><td>0</td><td>0</td><td>missing</td></tr><tr><th>27</th><td>2013-04-27</td><td>0</td><td>0</td><td>0</td><td>0</td><td>missing</td></tr><tr><th>28</th><td>2013-04-28</td><td>0</td><td>0</td><td>0</td><td>0</td><td>missing</td></tr><tr><th>29</th><td>2013-04-29</td><td>12</td><td>0</td><td>0</td><td>0</td><td>missing</td></tr><tr><th>30</th><td>2013-04-30</td><td>0</td><td>0</td><td>0</td><td>0</td><td>missing</td></tr><tr><th>&vellip;</th><td>&vellip;</td><td>&vellip;</td><td>&vellip;</td><td>&vellip;</td><td>&vellip;</td><td>&vellip;</td></tr></tbody></table>"
      ],
      "text/latex": [
       "\\begin{tabular}{r|cccccc}\n",
       "\t& date & McTavish & Bellevue & Assomption & Trudeau & StHubert\\\\\n",
       "\t\\hline\n",
       "\t& Date & Int64⍰ & Int64⍰ & Int64⍰ & Int64⍰ & Int64⍰\\\\\n",
       "\t\\hline\n",
       "\t1 & 2013-04-01 & 39 & 19 & 37 & 24 &  \\\\\n",
       "\t2 & 2013-04-02 & 0 & 0 & 0 & 0 &  \\\\\n",
       "\t3 & 2013-04-03 & 0 & 0 & 0 & 0 &  \\\\\n",
       "\t4 & 2013-04-04 & 0 & 0 & 0 & 0 &  \\\\\n",
       "\t5 & 2013-04-05 & 12 & 0 & 0 & 3 &  \\\\\n",
       "\t6 & 2013-04-06 & 0 & 0 & 0 & 0 &  \\\\\n",
       "\t7 & 2013-04-07 & 0 & 0 & 30 & 0 &  \\\\\n",
       "\t8 & 2013-04-08 & 0 & 0 & 0 & 0 &  \\\\\n",
       "\t9 & 2013-04-09 & 154 & 132 & 120 & 143 &  \\\\\n",
       "\t10 & 2013-04-10 & 0 & 0 & 0 & 0 &  \\\\\n",
       "\t11 & 2013-04-11 & 0 & 0 & 0 & 0 &  \\\\\n",
       "\t12 & 2013-04-12 & 219 & 167 & 150 & 193 &  \\\\\n",
       "\t13 & 2013-04-13 & 33 & 6 & 50 & 3 &  \\\\\n",
       "\t14 & 2013-04-14 & 0 & 0 & 0 & 0 &  \\\\\n",
       "\t15 & 2013-04-15 & 0 & 0 & 0 & 0 &  \\\\\n",
       "\t16 & 2013-04-16 & 126 & 58 & 70 & 79 &  \\\\\n",
       "\t17 & 2013-04-17 & 0 & 0 & 0 & 0 &  \\\\\n",
       "\t18 & 2013-04-18 & 0 & 0 & 11 & 0 &  \\\\\n",
       "\t19 & 2013-04-19 & 48 & 45 & 31 & 27 &  \\\\\n",
       "\t20 & 2013-04-20 & 0 & 7 & 11 & 0 &  \\\\\n",
       "\t21 & 2013-04-21 & 0 & 0 & 0 & 0 &  \\\\\n",
       "\t22 & 2013-04-22 & 0 & 0 & 0 & 0 &  \\\\\n",
       "\t23 & 2013-04-23 & 0 & 0 & 0 & 0 &  \\\\\n",
       "\t24 & 2013-04-24 & 32 & 19 & 20 & 35 &  \\\\\n",
       "\t25 & 2013-04-25 & 0 & 0 & 0 & 0 &  \\\\\n",
       "\t26 & 2013-04-26 & 0 & 8 & 0 & 0 &  \\\\\n",
       "\t27 & 2013-04-27 & 0 & 0 & 0 & 0 &  \\\\\n",
       "\t28 & 2013-04-28 & 0 & 0 & 0 & 0 &  \\\\\n",
       "\t29 & 2013-04-29 & 12 & 0 & 0 & 0 &  \\\\\n",
       "\t30 & 2013-04-30 & 0 & 0 & 0 & 0 &  \\\\\n",
       "\t$\\dots$ & $\\dots$ & $\\dots$ & $\\dots$ & $\\dots$ & $\\dots$ & $\\dots$ \\\\\n",
       "\\end{tabular}\n"
      ],
      "text/plain": [
       "210×6 DataFrame\n",
       "│ Row │ date       │ McTavish │ Bellevue │ Assomption │ Trudeau │ StHubert │\n",
       "│     │ \u001b[90mDate\u001b[39m       │ \u001b[90mInt64⍰\u001b[39m   │ \u001b[90mInt64⍰\u001b[39m   │ \u001b[90mInt64⍰\u001b[39m     │ \u001b[90mInt64⍰\u001b[39m  │ \u001b[90mInt64⍰\u001b[39m   │\n",
       "├─────┼────────────┼──────────┼──────────┼────────────┼─────────┼──────────┤\n",
       "│ 1   │ 2013-04-01 │ 39       │ 19       │ 37         │ 24      │ \u001b[90mmissing\u001b[39m  │\n",
       "│ 2   │ 2013-04-02 │ 0        │ 0        │ 0          │ 0       │ \u001b[90mmissing\u001b[39m  │\n",
       "│ 3   │ 2013-04-03 │ 0        │ 0        │ 0          │ 0       │ \u001b[90mmissing\u001b[39m  │\n",
       "│ 4   │ 2013-04-04 │ 0        │ 0        │ 0          │ 0       │ \u001b[90mmissing\u001b[39m  │\n",
       "│ 5   │ 2013-04-05 │ 12       │ 0        │ 0          │ 3       │ \u001b[90mmissing\u001b[39m  │\n",
       "│ 6   │ 2013-04-06 │ 0        │ 0        │ 0          │ 0       │ \u001b[90mmissing\u001b[39m  │\n",
       "│ 7   │ 2013-04-07 │ 0        │ 0        │ 30         │ 0       │ \u001b[90mmissing\u001b[39m  │\n",
       "│ 8   │ 2013-04-08 │ 0        │ 0        │ 0          │ 0       │ \u001b[90mmissing\u001b[39m  │\n",
       "│ 9   │ 2013-04-09 │ 154      │ 132      │ 120        │ 143     │ \u001b[90mmissing\u001b[39m  │\n",
       "│ 10  │ 2013-04-10 │ 0        │ 0        │ 0          │ 0       │ \u001b[90mmissing\u001b[39m  │\n",
       "⋮\n",
       "│ 200 │ 2019-04-20 │ 160      │ 142      │ 118        │ 153     │ 182      │\n",
       "│ 201 │ 2019-04-21 │ 0        │ 0        │ 2          │ 0       │ 2        │\n",
       "│ 202 │ 2019-04-22 │ 0        │ 0        │ 0          │ 0       │ 0        │\n",
       "│ 203 │ 2019-04-23 │ 26       │ 24       │ 25         │ 14      │ 27       │\n",
       "│ 204 │ 2019-04-24 │ 83       │ 60       │ 57         │ 72      │ 91       │\n",
       "│ 205 │ 2019-04-25 │ 2        │ 0        │ 0          │ 0       │ 0        │\n",
       "│ 206 │ 2019-04-26 │ 191      │ 141      │ 195        │ 179     │ 153      │\n",
       "│ 207 │ 2019-04-27 │ 180      │ 123      │ 117        │ 126     │ 127      │\n",
       "│ 208 │ 2019-04-28 │ 0        │ 0        │ 0          │ 0       │ 0        │\n",
       "│ 209 │ 2019-04-29 │ 0        │ 0        │ 0          │ 0       │ 0        │\n",
       "│ 210 │ 2019-04-30 │ 0        │ 0        │ 0          │ 0       │ 0        │"
      ]
     },
     "execution_count": 208,
     "metadata": {},
     "output_type": "execute_result"
    }
   ],
   "source": [
    "pcpBefore_sum = by(test, :date,  McTavish = :McTavish=>sum, Bellevue = :Bellevue=>sum, \n",
    "   Assomption = :Assomption=>sum, Trudeau = :Trudeau=>sum, StHubert = :StHubert=>sum)\n",
    "\n"
   ]
  },
  {
   "cell_type": "code",
   "execution_count": null,
   "metadata": {},
   "outputs": [],
   "source": []
  },
  {
   "cell_type": "code",
   "execution_count": null,
   "metadata": {},
   "outputs": [],
   "source": []
  },
  {
   "cell_type": "code",
   "execution_count": null,
   "metadata": {},
   "outputs": [],
   "source": []
  },
  {
   "cell_type": "code",
   "execution_count": null,
   "metadata": {},
   "outputs": [],
   "source": []
  },
  {
   "cell_type": "code",
   "execution_count": 209,
   "metadata": {},
   "outputs": [],
   "source": [
    "for j=1:size(pcpBefore_sum,1)\n",
    "    means = 0\n",
    "    sum = 0\n",
    "    alo = names(pcpBefore_sum)\n",
    "    for col in alo\n",
    "        if col != alo[1]\n",
    "            if !ismissing(pcpBefore_sum[j, col]) \n",
    "                sum = sum +1\n",
    "                means = means + pcpBefore_sum[j, col]\n",
    "            end\n",
    "        end\n",
    "    end\n",
    "    if sum != 0\n",
    "        means = means / sum\n",
    "    end\n",
    "    for col in alo\n",
    "        if ismissing(pcpBefore_sum[j, col]) && col != alo[1]\n",
    "            tests = floor(means)\n",
    "            pcpBefore_sum[j, col] = tests\n",
    "        end\n",
    "    end\n",
    "end\n"
   ]
  },
  {
   "cell_type": "code",
   "execution_count": 210,
   "metadata": {},
   "outputs": [],
   "source": [
    "\n",
    "for j=1:size(pcp_sum,1)\n",
    "    means = 0\n",
    "    sum = 0\n",
    "    alo = names(pcp_sum)\n",
    "    for col in alo\n",
    "        if col != alo[1]\n",
    "            if !ismissing(pcp_sum[j, col]) \n",
    "                sum = sum +1\n",
    "                means = means + pcp_sum[j, col]\n",
    "            end\n",
    "        end\n",
    "    end\n",
    "    if sum != 0\n",
    "        means = means / sum\n",
    "    end\n",
    "    for col in alo\n",
    "        if ismissing(pcp_sum[j, col]) && col != alo[1]\n",
    "            tests = floor(means)\n",
    "            pcp_sum[j, col] = tests\n",
    "        end\n",
    "    end\n",
    "end\n"
   ]
  },
  {
   "cell_type": "code",
   "execution_count": 211,
   "metadata": {},
   "outputs": [
    {
     "data": {
      "text/html": [
       "<table class=\"data-frame\"><thead><tr><th></th><th>date</th><th>McTavish</th><th>Bellevue</th><th>Assomption</th><th>Trudeau</th><th>StHubert</th></tr><tr><th></th><th>Date</th><th>Int64⍰</th><th>Int64⍰</th><th>Int64⍰</th><th>Int64⍰</th><th>Int64⍰</th></tr></thead><tbody><p>210 rows × 6 columns</p><tr><th>1</th><td>2013-04-01</td><td>15</td><td>5</td><td>17</td><td>10</td><td>missing</td></tr><tr><th>2</th><td>2013-04-02</td><td>0</td><td>0</td><td>0</td><td>0</td><td>missing</td></tr><tr><th>3</th><td>2013-04-03</td><td>0</td><td>0</td><td>0</td><td>0</td><td>missing</td></tr><tr><th>4</th><td>2013-04-04</td><td>0</td><td>0</td><td>0</td><td>0</td><td>missing</td></tr><tr><th>5</th><td>2013-04-05</td><td>12</td><td>0</td><td>0</td><td>3</td><td>missing</td></tr><tr><th>6</th><td>2013-04-06</td><td>0</td><td>0</td><td>0</td><td>0</td><td>missing</td></tr><tr><th>7</th><td>2013-04-07</td><td>0</td><td>0</td><td>20</td><td>0</td><td>missing</td></tr><tr><th>8</th><td>2013-04-08</td><td>0</td><td>0</td><td>0</td><td>0</td><td>missing</td></tr><tr><th>9</th><td>2013-04-09</td><td>53</td><td>42</td><td>40</td><td>44</td><td>missing</td></tr><tr><th>10</th><td>2013-04-10</td><td>0</td><td>0</td><td>0</td><td>0</td><td>missing</td></tr><tr><th>11</th><td>2013-04-11</td><td>0</td><td>0</td><td>0</td><td>0</td><td>missing</td></tr><tr><th>12</th><td>2013-04-12</td><td>36</td><td>35</td><td>30</td><td>37</td><td>missing</td></tr><tr><th>13</th><td>2013-04-13</td><td>12</td><td>3</td><td>30</td><td>3</td><td>missing</td></tr><tr><th>14</th><td>2013-04-14</td><td>0</td><td>0</td><td>0</td><td>0</td><td>missing</td></tr><tr><th>15</th><td>2013-04-15</td><td>0</td><td>0</td><td>0</td><td>0</td><td>missing</td></tr><tr><th>16</th><td>2013-04-16</td><td>45</td><td>18</td><td>20</td><td>22</td><td>missing</td></tr><tr><th>17</th><td>2013-04-17</td><td>0</td><td>0</td><td>0</td><td>0</td><td>missing</td></tr><tr><th>18</th><td>2013-04-18</td><td>0</td><td>0</td><td>11</td><td>0</td><td>missing</td></tr><tr><th>19</th><td>2013-04-19</td><td>31</td><td>33</td><td>21</td><td>24</td><td>missing</td></tr><tr><th>20</th><td>2013-04-20</td><td>0</td><td>4</td><td>11</td><td>0</td><td>missing</td></tr><tr><th>21</th><td>2013-04-21</td><td>0</td><td>0</td><td>0</td><td>0</td><td>missing</td></tr><tr><th>22</th><td>2013-04-22</td><td>0</td><td>0</td><td>0</td><td>0</td><td>missing</td></tr><tr><th>23</th><td>2013-04-23</td><td>0</td><td>0</td><td>0</td><td>0</td><td>missing</td></tr><tr><th>24</th><td>2013-04-24</td><td>20</td><td>19</td><td>20</td><td>18</td><td>missing</td></tr><tr><th>25</th><td>2013-04-25</td><td>0</td><td>0</td><td>0</td><td>0</td><td>missing</td></tr><tr><th>26</th><td>2013-04-26</td><td>0</td><td>5</td><td>0</td><td>0</td><td>missing</td></tr><tr><th>27</th><td>2013-04-27</td><td>0</td><td>0</td><td>0</td><td>0</td><td>missing</td></tr><tr><th>28</th><td>2013-04-28</td><td>0</td><td>0</td><td>0</td><td>0</td><td>missing</td></tr><tr><th>29</th><td>2013-04-29</td><td>12</td><td>0</td><td>0</td><td>0</td><td>missing</td></tr><tr><th>30</th><td>2013-04-30</td><td>0</td><td>0</td><td>0</td><td>0</td><td>missing</td></tr><tr><th>&vellip;</th><td>&vellip;</td><td>&vellip;</td><td>&vellip;</td><td>&vellip;</td><td>&vellip;</td><td>&vellip;</td></tr></tbody></table>"
      ],
      "text/latex": [
       "\\begin{tabular}{r|cccccc}\n",
       "\t& date & McTavish & Bellevue & Assomption & Trudeau & StHubert\\\\\n",
       "\t\\hline\n",
       "\t& Date & Int64⍰ & Int64⍰ & Int64⍰ & Int64⍰ & Int64⍰\\\\\n",
       "\t\\hline\n",
       "\t1 & 2013-04-01 & 15 & 5 & 17 & 10 &  \\\\\n",
       "\t2 & 2013-04-02 & 0 & 0 & 0 & 0 &  \\\\\n",
       "\t3 & 2013-04-03 & 0 & 0 & 0 & 0 &  \\\\\n",
       "\t4 & 2013-04-04 & 0 & 0 & 0 & 0 &  \\\\\n",
       "\t5 & 2013-04-05 & 12 & 0 & 0 & 3 &  \\\\\n",
       "\t6 & 2013-04-06 & 0 & 0 & 0 & 0 &  \\\\\n",
       "\t7 & 2013-04-07 & 0 & 0 & 20 & 0 &  \\\\\n",
       "\t8 & 2013-04-08 & 0 & 0 & 0 & 0 &  \\\\\n",
       "\t9 & 2013-04-09 & 53 & 42 & 40 & 44 &  \\\\\n",
       "\t10 & 2013-04-10 & 0 & 0 & 0 & 0 &  \\\\\n",
       "\t11 & 2013-04-11 & 0 & 0 & 0 & 0 &  \\\\\n",
       "\t12 & 2013-04-12 & 36 & 35 & 30 & 37 &  \\\\\n",
       "\t13 & 2013-04-13 & 12 & 3 & 30 & 3 &  \\\\\n",
       "\t14 & 2013-04-14 & 0 & 0 & 0 & 0 &  \\\\\n",
       "\t15 & 2013-04-15 & 0 & 0 & 0 & 0 &  \\\\\n",
       "\t16 & 2013-04-16 & 45 & 18 & 20 & 22 &  \\\\\n",
       "\t17 & 2013-04-17 & 0 & 0 & 0 & 0 &  \\\\\n",
       "\t18 & 2013-04-18 & 0 & 0 & 11 & 0 &  \\\\\n",
       "\t19 & 2013-04-19 & 31 & 33 & 21 & 24 &  \\\\\n",
       "\t20 & 2013-04-20 & 0 & 4 & 11 & 0 &  \\\\\n",
       "\t21 & 2013-04-21 & 0 & 0 & 0 & 0 &  \\\\\n",
       "\t22 & 2013-04-22 & 0 & 0 & 0 & 0 &  \\\\\n",
       "\t23 & 2013-04-23 & 0 & 0 & 0 & 0 &  \\\\\n",
       "\t24 & 2013-04-24 & 20 & 19 & 20 & 18 &  \\\\\n",
       "\t25 & 2013-04-25 & 0 & 0 & 0 & 0 &  \\\\\n",
       "\t26 & 2013-04-26 & 0 & 5 & 0 & 0 &  \\\\\n",
       "\t27 & 2013-04-27 & 0 & 0 & 0 & 0 &  \\\\\n",
       "\t28 & 2013-04-28 & 0 & 0 & 0 & 0 &  \\\\\n",
       "\t29 & 2013-04-29 & 12 & 0 & 0 & 0 &  \\\\\n",
       "\t30 & 2013-04-30 & 0 & 0 & 0 & 0 &  \\\\\n",
       "\t$\\dots$ & $\\dots$ & $\\dots$ & $\\dots$ & $\\dots$ & $\\dots$ & $\\dots$ \\\\\n",
       "\\end{tabular}\n"
      ],
      "text/plain": [
       "210×6 DataFrame\n",
       "│ Row │ date       │ McTavish │ Bellevue │ Assomption │ Trudeau │ StHubert │\n",
       "│     │ \u001b[90mDate\u001b[39m       │ \u001b[90mInt64⍰\u001b[39m   │ \u001b[90mInt64⍰\u001b[39m   │ \u001b[90mInt64⍰\u001b[39m     │ \u001b[90mInt64⍰\u001b[39m  │ \u001b[90mInt64⍰\u001b[39m   │\n",
       "├─────┼────────────┼──────────┼──────────┼────────────┼─────────┼──────────┤\n",
       "│ 1   │ 2013-04-01 │ 15       │ 5        │ 17         │ 10      │ \u001b[90mmissing\u001b[39m  │\n",
       "│ 2   │ 2013-04-02 │ 0        │ 0        │ 0          │ 0       │ \u001b[90mmissing\u001b[39m  │\n",
       "│ 3   │ 2013-04-03 │ 0        │ 0        │ 0          │ 0       │ \u001b[90mmissing\u001b[39m  │\n",
       "│ 4   │ 2013-04-04 │ 0        │ 0        │ 0          │ 0       │ \u001b[90mmissing\u001b[39m  │\n",
       "│ 5   │ 2013-04-05 │ 12       │ 0        │ 0          │ 3       │ \u001b[90mmissing\u001b[39m  │\n",
       "│ 6   │ 2013-04-06 │ 0        │ 0        │ 0          │ 0       │ \u001b[90mmissing\u001b[39m  │\n",
       "│ 7   │ 2013-04-07 │ 0        │ 0        │ 20         │ 0       │ \u001b[90mmissing\u001b[39m  │\n",
       "│ 8   │ 2013-04-08 │ 0        │ 0        │ 0          │ 0       │ \u001b[90mmissing\u001b[39m  │\n",
       "│ 9   │ 2013-04-09 │ 53       │ 42       │ 40         │ 44      │ \u001b[90mmissing\u001b[39m  │\n",
       "│ 10  │ 2013-04-10 │ 0        │ 0        │ 0          │ 0       │ \u001b[90mmissing\u001b[39m  │\n",
       "⋮\n",
       "│ 200 │ 2019-04-20 │ 49       │ 28       │ 30         │ 47      │ 70       │\n",
       "│ 201 │ 2019-04-21 │ 0        │ 0        │ 2          │ 0       │ 2        │\n",
       "│ 202 │ 2019-04-22 │ 0        │ 0        │ 0          │ 0       │ 0        │\n",
       "│ 203 │ 2019-04-23 │ 19       │ 16       │ 21         │ 12      │ 25       │\n",
       "│ 204 │ 2019-04-24 │ 15       │ 19       │ 13         │ 20      │ 18       │\n",
       "│ 205 │ 2019-04-25 │ 2        │ 0        │ 0          │ 0       │ 0        │\n",
       "│ 206 │ 2019-04-26 │ 45       │ 33       │ 46         │ 42      │ 35       │\n",
       "│ 207 │ 2019-04-27 │ 22       │ 20       │ 31         │ 27      │ 20       │\n",
       "│ 208 │ 2019-04-28 │ 0        │ 0        │ 0          │ 0       │ 0        │\n",
       "│ 209 │ 2019-04-29 │ 0        │ 0        │ 0          │ 0       │ 0        │\n",
       "│ 210 │ 2019-04-30 │ 0        │ 0        │ 0          │ 0       │ 0        │"
      ]
     },
     "execution_count": 211,
     "metadata": {},
     "output_type": "execute_result"
    }
   ],
   "source": [
    "\n",
    "pcpBefore_max = by(test, :date,  McTavish = :McTavish=>maximum, Bellevue = :Bellevue=>maximum, \n",
    "   Assomption = :Assomption=>maximum, Trudeau = :Trudeau=>maximum, StHubert = :StHubert=>maximum)\n"
   ]
  },
  {
   "cell_type": "code",
   "execution_count": 212,
   "metadata": {},
   "outputs": [
    {
     "data": {
      "text/html": [
       "<table class=\"data-frame\"><thead><tr><th></th><th>date</th><th>McTavish</th><th>Bellevue</th><th>Assomption</th><th>Trudeau</th><th>StHubert</th></tr><tr><th></th><th>Date</th><th>Int64⍰</th><th>Int64⍰</th><th>Int64⍰</th><th>Int64⍰</th><th>Int64⍰</th></tr></thead><tbody><p>210 rows × 6 columns</p><tr><th>1</th><td>2013-04-01</td><td>15</td><td>5</td><td>17</td><td>10</td><td>missing</td></tr><tr><th>2</th><td>2013-04-02</td><td>0</td><td>0</td><td>0</td><td>0</td><td>missing</td></tr><tr><th>3</th><td>2013-04-03</td><td>0</td><td>0</td><td>0</td><td>0</td><td>missing</td></tr><tr><th>4</th><td>2013-04-04</td><td>0</td><td>0</td><td>0</td><td>0</td><td>missing</td></tr><tr><th>5</th><td>2013-04-05</td><td>12</td><td>0</td><td>0</td><td>3</td><td>missing</td></tr><tr><th>6</th><td>2013-04-06</td><td>0</td><td>0</td><td>0</td><td>0</td><td>missing</td></tr><tr><th>7</th><td>2013-04-07</td><td>0</td><td>0</td><td>20</td><td>0</td><td>missing</td></tr><tr><th>8</th><td>2013-04-08</td><td>0</td><td>0</td><td>0</td><td>0</td><td>missing</td></tr><tr><th>9</th><td>2013-04-09</td><td>53</td><td>42</td><td>40</td><td>44</td><td>missing</td></tr><tr><th>10</th><td>2013-04-10</td><td>0</td><td>0</td><td>0</td><td>0</td><td>missing</td></tr><tr><th>11</th><td>2013-04-11</td><td>0</td><td>0</td><td>0</td><td>0</td><td>missing</td></tr><tr><th>12</th><td>2013-04-12</td><td>36</td><td>35</td><td>30</td><td>37</td><td>missing</td></tr><tr><th>13</th><td>2013-04-13</td><td>12</td><td>3</td><td>30</td><td>3</td><td>missing</td></tr><tr><th>14</th><td>2013-04-14</td><td>0</td><td>0</td><td>0</td><td>0</td><td>missing</td></tr><tr><th>15</th><td>2013-04-15</td><td>0</td><td>0</td><td>0</td><td>0</td><td>missing</td></tr><tr><th>16</th><td>2013-04-16</td><td>45</td><td>18</td><td>20</td><td>22</td><td>missing</td></tr><tr><th>17</th><td>2013-04-17</td><td>0</td><td>0</td><td>0</td><td>0</td><td>missing</td></tr><tr><th>18</th><td>2013-04-18</td><td>0</td><td>0</td><td>11</td><td>0</td><td>missing</td></tr><tr><th>19</th><td>2013-04-19</td><td>31</td><td>33</td><td>21</td><td>24</td><td>missing</td></tr><tr><th>20</th><td>2013-04-20</td><td>0</td><td>4</td><td>11</td><td>0</td><td>missing</td></tr><tr><th>21</th><td>2013-04-21</td><td>0</td><td>0</td><td>0</td><td>0</td><td>missing</td></tr><tr><th>22</th><td>2013-04-22</td><td>0</td><td>0</td><td>0</td><td>0</td><td>missing</td></tr><tr><th>23</th><td>2013-04-23</td><td>0</td><td>0</td><td>0</td><td>0</td><td>missing</td></tr><tr><th>24</th><td>2013-04-24</td><td>20</td><td>19</td><td>20</td><td>18</td><td>missing</td></tr><tr><th>25</th><td>2013-04-25</td><td>0</td><td>0</td><td>0</td><td>0</td><td>missing</td></tr><tr><th>26</th><td>2013-04-26</td><td>0</td><td>5</td><td>0</td><td>0</td><td>missing</td></tr><tr><th>27</th><td>2013-04-27</td><td>0</td><td>0</td><td>0</td><td>0</td><td>missing</td></tr><tr><th>28</th><td>2013-04-28</td><td>0</td><td>0</td><td>0</td><td>0</td><td>missing</td></tr><tr><th>29</th><td>2013-04-29</td><td>12</td><td>0</td><td>0</td><td>0</td><td>missing</td></tr><tr><th>30</th><td>2013-04-30</td><td>0</td><td>0</td><td>0</td><td>0</td><td>missing</td></tr><tr><th>&vellip;</th><td>&vellip;</td><td>&vellip;</td><td>&vellip;</td><td>&vellip;</td><td>&vellip;</td><td>&vellip;</td></tr></tbody></table>"
      ],
      "text/latex": [
       "\\begin{tabular}{r|cccccc}\n",
       "\t& date & McTavish & Bellevue & Assomption & Trudeau & StHubert\\\\\n",
       "\t\\hline\n",
       "\t& Date & Int64⍰ & Int64⍰ & Int64⍰ & Int64⍰ & Int64⍰\\\\\n",
       "\t\\hline\n",
       "\t1 & 2013-04-01 & 15 & 5 & 17 & 10 &  \\\\\n",
       "\t2 & 2013-04-02 & 0 & 0 & 0 & 0 &  \\\\\n",
       "\t3 & 2013-04-03 & 0 & 0 & 0 & 0 &  \\\\\n",
       "\t4 & 2013-04-04 & 0 & 0 & 0 & 0 &  \\\\\n",
       "\t5 & 2013-04-05 & 12 & 0 & 0 & 3 &  \\\\\n",
       "\t6 & 2013-04-06 & 0 & 0 & 0 & 0 &  \\\\\n",
       "\t7 & 2013-04-07 & 0 & 0 & 20 & 0 &  \\\\\n",
       "\t8 & 2013-04-08 & 0 & 0 & 0 & 0 &  \\\\\n",
       "\t9 & 2013-04-09 & 53 & 42 & 40 & 44 &  \\\\\n",
       "\t10 & 2013-04-10 & 0 & 0 & 0 & 0 &  \\\\\n",
       "\t11 & 2013-04-11 & 0 & 0 & 0 & 0 &  \\\\\n",
       "\t12 & 2013-04-12 & 36 & 35 & 30 & 37 &  \\\\\n",
       "\t13 & 2013-04-13 & 12 & 3 & 30 & 3 &  \\\\\n",
       "\t14 & 2013-04-14 & 0 & 0 & 0 & 0 &  \\\\\n",
       "\t15 & 2013-04-15 & 0 & 0 & 0 & 0 &  \\\\\n",
       "\t16 & 2013-04-16 & 45 & 18 & 20 & 22 &  \\\\\n",
       "\t17 & 2013-04-17 & 0 & 0 & 0 & 0 &  \\\\\n",
       "\t18 & 2013-04-18 & 0 & 0 & 11 & 0 &  \\\\\n",
       "\t19 & 2013-04-19 & 31 & 33 & 21 & 24 &  \\\\\n",
       "\t20 & 2013-04-20 & 0 & 4 & 11 & 0 &  \\\\\n",
       "\t21 & 2013-04-21 & 0 & 0 & 0 & 0 &  \\\\\n",
       "\t22 & 2013-04-22 & 0 & 0 & 0 & 0 &  \\\\\n",
       "\t23 & 2013-04-23 & 0 & 0 & 0 & 0 &  \\\\\n",
       "\t24 & 2013-04-24 & 20 & 19 & 20 & 18 &  \\\\\n",
       "\t25 & 2013-04-25 & 0 & 0 & 0 & 0 &  \\\\\n",
       "\t26 & 2013-04-26 & 0 & 5 & 0 & 0 &  \\\\\n",
       "\t27 & 2013-04-27 & 0 & 0 & 0 & 0 &  \\\\\n",
       "\t28 & 2013-04-28 & 0 & 0 & 0 & 0 &  \\\\\n",
       "\t29 & 2013-04-29 & 12 & 0 & 0 & 0 &  \\\\\n",
       "\t30 & 2013-04-30 & 0 & 0 & 0 & 0 &  \\\\\n",
       "\t$\\dots$ & $\\dots$ & $\\dots$ & $\\dots$ & $\\dots$ & $\\dots$ & $\\dots$ \\\\\n",
       "\\end{tabular}\n"
      ],
      "text/plain": [
       "210×6 DataFrame\n",
       "│ Row │ date       │ McTavish │ Bellevue │ Assomption │ Trudeau │ StHubert │\n",
       "│     │ \u001b[90mDate\u001b[39m       │ \u001b[90mInt64⍰\u001b[39m   │ \u001b[90mInt64⍰\u001b[39m   │ \u001b[90mInt64⍰\u001b[39m     │ \u001b[90mInt64⍰\u001b[39m  │ \u001b[90mInt64⍰\u001b[39m   │\n",
       "├─────┼────────────┼──────────┼──────────┼────────────┼─────────┼──────────┤\n",
       "│ 1   │ 2013-04-01 │ 15       │ 5        │ 17         │ 10      │ \u001b[90mmissing\u001b[39m  │\n",
       "│ 2   │ 2013-04-02 │ 0        │ 0        │ 0          │ 0       │ \u001b[90mmissing\u001b[39m  │\n",
       "│ 3   │ 2013-04-03 │ 0        │ 0        │ 0          │ 0       │ \u001b[90mmissing\u001b[39m  │\n",
       "│ 4   │ 2013-04-04 │ 0        │ 0        │ 0          │ 0       │ \u001b[90mmissing\u001b[39m  │\n",
       "│ 5   │ 2013-04-05 │ 12       │ 0        │ 0          │ 3       │ \u001b[90mmissing\u001b[39m  │\n",
       "│ 6   │ 2013-04-06 │ 0        │ 0        │ 0          │ 0       │ \u001b[90mmissing\u001b[39m  │\n",
       "│ 7   │ 2013-04-07 │ 0        │ 0        │ 20         │ 0       │ \u001b[90mmissing\u001b[39m  │\n",
       "│ 8   │ 2013-04-08 │ 0        │ 0        │ 0          │ 0       │ \u001b[90mmissing\u001b[39m  │\n",
       "│ 9   │ 2013-04-09 │ 53       │ 42       │ 40         │ 44      │ \u001b[90mmissing\u001b[39m  │\n",
       "│ 10  │ 2013-04-10 │ 0        │ 0        │ 0          │ 0       │ \u001b[90mmissing\u001b[39m  │\n",
       "⋮\n",
       "│ 200 │ 2019-04-20 │ 49       │ 28       │ 30         │ 47      │ 70       │\n",
       "│ 201 │ 2019-04-21 │ 0        │ 0        │ 2          │ 0       │ 2        │\n",
       "│ 202 │ 2019-04-22 │ 0        │ 0        │ 0          │ 0       │ 0        │\n",
       "│ 203 │ 2019-04-23 │ 19       │ 16       │ 21         │ 12      │ 25       │\n",
       "│ 204 │ 2019-04-24 │ 15       │ 19       │ 13         │ 20      │ 18       │\n",
       "│ 205 │ 2019-04-25 │ 2        │ 0        │ 0          │ 0       │ 0        │\n",
       "│ 206 │ 2019-04-26 │ 45       │ 33       │ 46         │ 42      │ 35       │\n",
       "│ 207 │ 2019-04-27 │ 22       │ 20       │ 31         │ 27      │ 20       │\n",
       "│ 208 │ 2019-04-28 │ 0        │ 0        │ 0          │ 0       │ 0        │\n",
       "│ 209 │ 2019-04-29 │ 0        │ 0        │ 0          │ 0       │ 0        │\n",
       "│ 210 │ 2019-04-30 │ 0        │ 0        │ 0          │ 0       │ 0        │"
      ]
     },
     "execution_count": 212,
     "metadata": {},
     "output_type": "execute_result"
    }
   ],
   "source": [
    "pcpBefore_max"
   ]
  },
  {
   "cell_type": "code",
   "execution_count": null,
   "metadata": {},
   "outputs": [],
   "source": []
  },
  {
   "cell_type": "code",
   "execution_count": null,
   "metadata": {},
   "outputs": [],
   "source": []
  },
  {
   "cell_type": "markdown",
   "metadata": {},
   "source": [
    "#### Extraction du taux horaire journalier maximum des précipitations pour chacune des stations météorologiques"
   ]
  },
  {
   "cell_type": "code",
   "execution_count": 213,
   "metadata": {},
   "outputs": [
    {
     "data": {
      "text/html": [
       "<table class=\"data-frame\"><thead><tr><th></th><th>date</th><th>McTavish</th><th>Bellevue</th><th>Assomption</th><th>Trudeau</th><th>StHubert</th></tr><tr><th></th><th>Date</th><th>Int64⍰</th><th>Int64⍰</th><th>Int64⍰</th><th>Int64⍰</th><th>Int64⍰</th></tr></thead><tbody><p>5 rows × 6 columns</p><tr><th>1</th><td>2013-05-01</td><td>0</td><td>0</td><td>0</td><td>0</td><td>missing</td></tr><tr><th>2</th><td>2013-05-02</td><td>0</td><td>0</td><td>0</td><td>0</td><td>missing</td></tr><tr><th>3</th><td>2013-05-03</td><td>0</td><td>0</td><td>0</td><td>0</td><td>missing</td></tr><tr><th>4</th><td>2013-05-04</td><td>0</td><td>0</td><td>0</td><td>0</td><td>missing</td></tr><tr><th>5</th><td>2013-05-05</td><td>0</td><td>0</td><td>0</td><td>0</td><td>missing</td></tr></tbody></table>"
      ],
      "text/latex": [
       "\\begin{tabular}{r|cccccc}\n",
       "\t& date & McTavish & Bellevue & Assomption & Trudeau & StHubert\\\\\n",
       "\t\\hline\n",
       "\t& Date & Int64⍰ & Int64⍰ & Int64⍰ & Int64⍰ & Int64⍰\\\\\n",
       "\t\\hline\n",
       "\t1 & 2013-05-01 & 0 & 0 & 0 & 0 &  \\\\\n",
       "\t2 & 2013-05-02 & 0 & 0 & 0 & 0 &  \\\\\n",
       "\t3 & 2013-05-03 & 0 & 0 & 0 & 0 &  \\\\\n",
       "\t4 & 2013-05-04 & 0 & 0 & 0 & 0 &  \\\\\n",
       "\t5 & 2013-05-05 & 0 & 0 & 0 & 0 &  \\\\\n",
       "\\end{tabular}\n"
      ],
      "text/plain": [
       "5×6 DataFrame\n",
       "│ Row │ date       │ McTavish │ Bellevue │ Assomption │ Trudeau │ StHubert │\n",
       "│     │ \u001b[90mDate\u001b[39m       │ \u001b[90mInt64⍰\u001b[39m   │ \u001b[90mInt64⍰\u001b[39m   │ \u001b[90mInt64⍰\u001b[39m     │ \u001b[90mInt64⍰\u001b[39m  │ \u001b[90mInt64⍰\u001b[39m   │\n",
       "├─────┼────────────┼──────────┼──────────┼────────────┼─────────┼──────────┤\n",
       "│ 1   │ 2013-05-01 │ 0        │ 0        │ 0          │ 0       │ \u001b[90mmissing\u001b[39m  │\n",
       "│ 2   │ 2013-05-02 │ 0        │ 0        │ 0          │ 0       │ \u001b[90mmissing\u001b[39m  │\n",
       "│ 3   │ 2013-05-03 │ 0        │ 0        │ 0          │ 0       │ \u001b[90mmissing\u001b[39m  │\n",
       "│ 4   │ 2013-05-04 │ 0        │ 0        │ 0          │ 0       │ \u001b[90mmissing\u001b[39m  │\n",
       "│ 5   │ 2013-05-05 │ 0        │ 0        │ 0          │ 0       │ \u001b[90mmissing\u001b[39m  │"
      ]
     },
     "execution_count": 213,
     "metadata": {},
     "output_type": "execute_result"
    }
   ],
   "source": [
    "pcp_max = by(data, :date,  McTavish = :McTavish=>maximum, Bellevue = :Bellevue=>maximum, \n",
    "   Assomption = :Assomption=>maximum, Trudeau = :Trudeau=>maximum, StHubert = :StHubert=>maximum)\n",
    "first(pcp_max,5)"
   ]
  },
  {
   "cell_type": "code",
   "execution_count": 214,
   "metadata": {},
   "outputs": [],
   "source": [
    "for j=1:size(pcp_max,1)\n",
    "    means = 0\n",
    "    sum = 0\n",
    "    alo = names(pcp_max)\n",
    "    for col in alo\n",
    "        if col != alo[1]\n",
    "            if !ismissing(pcp_max[j, col]) \n",
    "                sum = sum +1\n",
    "                means = means + pcp_max[j, col]\n",
    "            end\n",
    "        end\n",
    "    end\n",
    "    if sum != 0\n",
    "        means = means / sum\n",
    "    end\n",
    "    for col in alo\n",
    "        if ismissing(pcp_max[j, col]) && col != alo[1]\n",
    "            tests = floor(means)\n",
    "            pcp_max[j, col] = tests\n",
    "        end\n",
    "    end\n",
    "end"
   ]
  },
  {
   "cell_type": "code",
   "execution_count": 215,
   "metadata": {},
   "outputs": [],
   "source": [
    "for j=1:size(pcpBefore_max,1)\n",
    "    means = 0\n",
    "    sum = 0\n",
    "    alo = names(pcpBefore_max)\n",
    "    for col in alo\n",
    "        if col != alo[1]\n",
    "            if !ismissing(pcpBefore_max[j, col]) \n",
    "                sum = sum +1\n",
    "                means = means + pcpBefore_max[j, col]\n",
    "            end\n",
    "        end\n",
    "    end\n",
    "    if sum != 0\n",
    "        means = means / sum\n",
    "    end\n",
    "    for col in alo\n",
    "        if ismissing(pcpBefore_max[j, col]) && col != alo[1]\n",
    "            tests = floor(means)\n",
    "            pcpBefore_max[j, col] = tests\n",
    "        end\n",
    "    end\n",
    "end"
   ]
  },
  {
   "cell_type": "code",
   "execution_count": 216,
   "metadata": {},
   "outputs": [
    {
     "name": "stderr",
     "output_type": "stream",
     "text": [
      "┌ Warning: `getindex(df::DataFrame, col_ind::ColumnIndex)` is deprecated, use `df[!, col_ind]` instead.\n",
      "│   caller = top-level scope at In[216]:16\n",
      "└ @ Core In[216]:16\n",
      "┌ Warning: `getindex(df::DataFrame, col_ind::ColumnIndex)` is deprecated, use `df[!, col_ind]` instead.\n",
      "│   caller = top-level scope at In[216]:16\n",
      "└ @ Core In[216]:16\n"
     ]
    }
   ],
   "source": [
    "p = DataFrame(McTavish =Int64[])\n",
    "for j=1:size(pcpBefore_max,1)\n",
    "    alo = names(pcpBefore_max)\n",
    "    means = 0\n",
    "    sum = 0\n",
    "    for col in alo\n",
    "        if col != alo[1]\n",
    "            if !ismissing(pcpBefore_max[j, col]) \n",
    "                sum = sum +1\n",
    "                means = means + pcpBefore_max[j, col]\n",
    "            end\n",
    "        end\n",
    "    end\n",
    "    push!(p, means)\n",
    "end\n",
    "pcpBefore_max = DataFrame(date = pcpBefore_max[:date]; McTavish =p[:McTavish]);\n"
   ]
  },
  {
   "cell_type": "code",
   "execution_count": 217,
   "metadata": {},
   "outputs": [
    {
     "name": "stderr",
     "output_type": "stream",
     "text": [
      "┌ Warning: `getindex(df::DataFrame, col_ind::ColumnIndex)` is deprecated, use `df[!, col_ind]` instead.\n",
      "│   caller = top-level scope at In[217]:16\n",
      "└ @ Core In[217]:16\n",
      "┌ Warning: `getindex(df::DataFrame, col_ind::ColumnIndex)` is deprecated, use `df[!, col_ind]` instead.\n",
      "│   caller = top-level scope at In[217]:16\n",
      "└ @ Core In[217]:16\n"
     ]
    },
    {
     "ename": "ArgumentError",
     "evalue": "ArgumentError: column name :McTavish not found in the data frame",
     "output_type": "error",
     "traceback": [
      "ArgumentError: column name :McTavish not found in the data frame",
      "",
      "Stacktrace:",
      " [1] getindex(::DataFrame, ::typeof(!), ::Symbol) at C:\\Users\\elie_\\.julia\\packages\\DataFrames\\yH0f6\\src\\other\\index.jl:238",
      " [2] getindex(::DataFrame, ::Symbol) at .\\deprecated.jl:67",
      " [3] top-level scope at In[217]:16"
     ]
    }
   ],
   "source": [
    "p = DataFrame(pcpBefore_sum =Int64[])\n",
    "for j=1:size(pcpBefore_sum,1)\n",
    "    alo = names(pcpBefore_sum)\n",
    "    means = 0\n",
    "    sum = 0\n",
    "    for col in alo\n",
    "        if col != alo[1]\n",
    "            if !ismissing(pcpBefore_sum[j, col]) \n",
    "                sum = sum +1\n",
    "                means = means + pcpBefore_sum[j, col]\n",
    "            end\n",
    "        end\n",
    "    end\n",
    "    push!(p, means)\n",
    "end\n",
    "pcpBefore_sum = DataFrame(date = pcpBefore_sum[:date]; McTavish =p[:McTavish]);"
   ]
  },
  {
   "cell_type": "code",
   "execution_count": 218,
   "metadata": {},
   "outputs": [
    {
     "name": "stderr",
     "output_type": "stream",
     "text": [
      "┌ Warning: `getindex(df::DataFrame, col_ind::ColumnIndex)` is deprecated, use `df[!, col_ind]` instead.\n",
      "│   caller = top-level scope at In[218]:16\n",
      "└ @ Core In[218]:16\n",
      "┌ Warning: `getindex(df::DataFrame, col_ind::ColumnIndex)` is deprecated, use `df[!, col_ind]` instead.\n",
      "│   caller = top-level scope at In[218]:16\n",
      "└ @ Core In[218]:16\n"
     ]
    },
    {
     "data": {
      "text/html": [
       "<table class=\"data-frame\"><thead><tr><th></th><th>date</th><th>McTavish</th></tr><tr><th></th><th>Date</th><th>Int64</th></tr></thead><tbody><p>1,288 rows × 2 columns</p><tr><th>1</th><td>2013-05-01</td><td>0</td></tr><tr><th>2</th><td>2013-05-02</td><td>0</td></tr><tr><th>3</th><td>2013-05-03</td><td>0</td></tr><tr><th>4</th><td>2013-05-04</td><td>0</td></tr><tr><th>5</th><td>2013-05-05</td><td>0</td></tr><tr><th>6</th><td>2013-05-06</td><td>0</td></tr><tr><th>7</th><td>2013-05-07</td><td>0</td></tr><tr><th>8</th><td>2013-05-08</td><td>0</td></tr><tr><th>9</th><td>2013-05-09</td><td>36</td></tr><tr><th>10</th><td>2013-05-10</td><td>30</td></tr><tr><th>11</th><td>2013-05-11</td><td>236</td></tr><tr><th>12</th><td>2013-05-12</td><td>12</td></tr><tr><th>13</th><td>2013-05-13</td><td>12</td></tr><tr><th>14</th><td>2013-05-14</td><td>0</td></tr><tr><th>15</th><td>2013-05-15</td><td>42</td></tr><tr><th>16</th><td>2013-05-16</td><td>0</td></tr><tr><th>17</th><td>2013-05-17</td><td>0</td></tr><tr><th>18</th><td>2013-05-18</td><td>0</td></tr><tr><th>19</th><td>2013-05-19</td><td>46</td></tr><tr><th>20</th><td>2013-05-20</td><td>132</td></tr><tr><th>21</th><td>2013-05-21</td><td>118</td></tr><tr><th>22</th><td>2013-05-22</td><td>32</td></tr><tr><th>23</th><td>2013-05-23</td><td>426</td></tr><tr><th>24</th><td>2013-05-24</td><td>91</td></tr><tr><th>25</th><td>2013-05-25</td><td>103</td></tr><tr><th>26</th><td>2013-05-26</td><td>123</td></tr><tr><th>27</th><td>2013-05-27</td><td>0</td></tr><tr><th>28</th><td>2013-05-28</td><td>55</td></tr><tr><th>29</th><td>2013-05-29</td><td>268</td></tr><tr><th>30</th><td>2013-05-30</td><td>0</td></tr><tr><th>&vellip;</th><td>&vellip;</td><td>&vellip;</td></tr></tbody></table>"
      ],
      "text/latex": [
       "\\begin{tabular}{r|cc}\n",
       "\t& date & McTavish\\\\\n",
       "\t\\hline\n",
       "\t& Date & Int64\\\\\n",
       "\t\\hline\n",
       "\t1 & 2013-05-01 & 0 \\\\\n",
       "\t2 & 2013-05-02 & 0 \\\\\n",
       "\t3 & 2013-05-03 & 0 \\\\\n",
       "\t4 & 2013-05-04 & 0 \\\\\n",
       "\t5 & 2013-05-05 & 0 \\\\\n",
       "\t6 & 2013-05-06 & 0 \\\\\n",
       "\t7 & 2013-05-07 & 0 \\\\\n",
       "\t8 & 2013-05-08 & 0 \\\\\n",
       "\t9 & 2013-05-09 & 36 \\\\\n",
       "\t10 & 2013-05-10 & 30 \\\\\n",
       "\t11 & 2013-05-11 & 236 \\\\\n",
       "\t12 & 2013-05-12 & 12 \\\\\n",
       "\t13 & 2013-05-13 & 12 \\\\\n",
       "\t14 & 2013-05-14 & 0 \\\\\n",
       "\t15 & 2013-05-15 & 42 \\\\\n",
       "\t16 & 2013-05-16 & 0 \\\\\n",
       "\t17 & 2013-05-17 & 0 \\\\\n",
       "\t18 & 2013-05-18 & 0 \\\\\n",
       "\t19 & 2013-05-19 & 46 \\\\\n",
       "\t20 & 2013-05-20 & 132 \\\\\n",
       "\t21 & 2013-05-21 & 118 \\\\\n",
       "\t22 & 2013-05-22 & 32 \\\\\n",
       "\t23 & 2013-05-23 & 426 \\\\\n",
       "\t24 & 2013-05-24 & 91 \\\\\n",
       "\t25 & 2013-05-25 & 103 \\\\\n",
       "\t26 & 2013-05-26 & 123 \\\\\n",
       "\t27 & 2013-05-27 & 0 \\\\\n",
       "\t28 & 2013-05-28 & 55 \\\\\n",
       "\t29 & 2013-05-29 & 268 \\\\\n",
       "\t30 & 2013-05-30 & 0 \\\\\n",
       "\t$\\dots$ & $\\dots$ & $\\dots$ \\\\\n",
       "\\end{tabular}\n"
      ],
      "text/plain": [
       "1288×2 DataFrame\n",
       "│ Row  │ date       │ McTavish │\n",
       "│      │ \u001b[90mDate\u001b[39m       │ \u001b[90mInt64\u001b[39m    │\n",
       "├──────┼────────────┼──────────┤\n",
       "│ 1    │ 2013-05-01 │ 0        │\n",
       "│ 2    │ 2013-05-02 │ 0        │\n",
       "│ 3    │ 2013-05-03 │ 0        │\n",
       "│ 4    │ 2013-05-04 │ 0        │\n",
       "│ 5    │ 2013-05-05 │ 0        │\n",
       "│ 6    │ 2013-05-06 │ 0        │\n",
       "│ 7    │ 2013-05-07 │ 0        │\n",
       "│ 8    │ 2013-05-08 │ 0        │\n",
       "│ 9    │ 2013-05-09 │ 36       │\n",
       "│ 10   │ 2013-05-10 │ 30       │\n",
       "⋮\n",
       "│ 1278 │ 2019-10-21 │ 0        │\n",
       "│ 1279 │ 2019-10-22 │ 186      │\n",
       "│ 1280 │ 2019-10-23 │ 251      │\n",
       "│ 1281 │ 2019-10-24 │ 0        │\n",
       "│ 1282 │ 2019-10-25 │ 0        │\n",
       "│ 1283 │ 2019-10-26 │ 0        │\n",
       "│ 1284 │ 2019-10-27 │ 471      │\n",
       "│ 1285 │ 2019-10-28 │ 11       │\n",
       "│ 1286 │ 2019-10-29 │ 2        │\n",
       "│ 1287 │ 2019-10-30 │ 0        │\n",
       "│ 1288 │ 2019-10-31 │ 0        │"
      ]
     },
     "execution_count": 218,
     "metadata": {},
     "output_type": "execute_result"
    }
   ],
   "source": [
    "p = DataFrame(McTavish =Int64[])\n",
    "for j=1:size(pcp_max,1)\n",
    "    alo = names(pcp_max)\n",
    "    means = 0\n",
    "    sum = 0\n",
    "    for col in alo\n",
    "        if col != alo[1]\n",
    "            if !ismissing(pcp_max[j, col]) \n",
    "                sum = sum +1\n",
    "                means = means + pcp_max[j, col]\n",
    "            end\n",
    "        end\n",
    "    end\n",
    "    push!(p, means)\n",
    "end\n",
    "pcp_max = DataFrame(date = pcp_max[:date]; McTavish =p[:McTavish])"
   ]
  },
  {
   "cell_type": "code",
   "execution_count": 219,
   "metadata": {},
   "outputs": [
    {
     "name": "stderr",
     "output_type": "stream",
     "text": [
      "┌ Warning: `getindex(df::DataFrame, col_ind::ColumnIndex)` is deprecated, use `df[!, col_ind]` instead.\n",
      "│   caller = top-level scope at In[219]:16\n",
      "└ @ Core In[219]:16\n",
      "┌ Warning: `getindex(df::DataFrame, col_ind::ColumnIndex)` is deprecated, use `df[!, col_ind]` instead.\n",
      "│   caller = top-level scope at In[219]:16\n",
      "└ @ Core In[219]:16\n"
     ]
    },
    {
     "data": {
      "text/html": [
       "<table class=\"data-frame\"><thead><tr><th></th><th>date</th><th>McTavish</th></tr><tr><th></th><th>Date</th><th>Int64</th></tr></thead><tbody><p>1,288 rows × 2 columns</p><tr><th>1</th><td>2013-05-01</td><td>0</td></tr><tr><th>2</th><td>2013-05-02</td><td>0</td></tr><tr><th>3</th><td>2013-05-03</td><td>0</td></tr><tr><th>4</th><td>2013-05-04</td><td>0</td></tr><tr><th>5</th><td>2013-05-05</td><td>0</td></tr><tr><th>6</th><td>2013-05-06</td><td>0</td></tr><tr><th>7</th><td>2013-05-07</td><td>0</td></tr><tr><th>8</th><td>2013-05-08</td><td>0</td></tr><tr><th>9</th><td>2013-05-09</td><td>36</td></tr><tr><th>10</th><td>2013-05-10</td><td>30</td></tr><tr><th>11</th><td>2013-05-11</td><td>673</td></tr><tr><th>12</th><td>2013-05-12</td><td>12</td></tr><tr><th>13</th><td>2013-05-13</td><td>12</td></tr><tr><th>14</th><td>2013-05-14</td><td>0</td></tr><tr><th>15</th><td>2013-05-15</td><td>82</td></tr><tr><th>16</th><td>2013-05-16</td><td>0</td></tr><tr><th>17</th><td>2013-05-17</td><td>0</td></tr><tr><th>18</th><td>2013-05-18</td><td>0</td></tr><tr><th>19</th><td>2013-05-19</td><td>81</td></tr><tr><th>20</th><td>2013-05-20</td><td>263</td></tr><tr><th>21</th><td>2013-05-21</td><td>225</td></tr><tr><th>22</th><td>2013-05-22</td><td>32</td></tr><tr><th>23</th><td>2013-05-23</td><td>840</td></tr><tr><th>24</th><td>2013-05-24</td><td>305</td></tr><tr><th>25</th><td>2013-05-25</td><td>436</td></tr><tr><th>26</th><td>2013-05-26</td><td>723</td></tr><tr><th>27</th><td>2013-05-27</td><td>0</td></tr><tr><th>28</th><td>2013-05-28</td><td>55</td></tr><tr><th>29</th><td>2013-05-29</td><td>581</td></tr><tr><th>30</th><td>2013-05-30</td><td>0</td></tr><tr><th>&vellip;</th><td>&vellip;</td><td>&vellip;</td></tr></tbody></table>"
      ],
      "text/latex": [
       "\\begin{tabular}{r|cc}\n",
       "\t& date & McTavish\\\\\n",
       "\t\\hline\n",
       "\t& Date & Int64\\\\\n",
       "\t\\hline\n",
       "\t1 & 2013-05-01 & 0 \\\\\n",
       "\t2 & 2013-05-02 & 0 \\\\\n",
       "\t3 & 2013-05-03 & 0 \\\\\n",
       "\t4 & 2013-05-04 & 0 \\\\\n",
       "\t5 & 2013-05-05 & 0 \\\\\n",
       "\t6 & 2013-05-06 & 0 \\\\\n",
       "\t7 & 2013-05-07 & 0 \\\\\n",
       "\t8 & 2013-05-08 & 0 \\\\\n",
       "\t9 & 2013-05-09 & 36 \\\\\n",
       "\t10 & 2013-05-10 & 30 \\\\\n",
       "\t11 & 2013-05-11 & 673 \\\\\n",
       "\t12 & 2013-05-12 & 12 \\\\\n",
       "\t13 & 2013-05-13 & 12 \\\\\n",
       "\t14 & 2013-05-14 & 0 \\\\\n",
       "\t15 & 2013-05-15 & 82 \\\\\n",
       "\t16 & 2013-05-16 & 0 \\\\\n",
       "\t17 & 2013-05-17 & 0 \\\\\n",
       "\t18 & 2013-05-18 & 0 \\\\\n",
       "\t19 & 2013-05-19 & 81 \\\\\n",
       "\t20 & 2013-05-20 & 263 \\\\\n",
       "\t21 & 2013-05-21 & 225 \\\\\n",
       "\t22 & 2013-05-22 & 32 \\\\\n",
       "\t23 & 2013-05-23 & 840 \\\\\n",
       "\t24 & 2013-05-24 & 305 \\\\\n",
       "\t25 & 2013-05-25 & 436 \\\\\n",
       "\t26 & 2013-05-26 & 723 \\\\\n",
       "\t27 & 2013-05-27 & 0 \\\\\n",
       "\t28 & 2013-05-28 & 55 \\\\\n",
       "\t29 & 2013-05-29 & 581 \\\\\n",
       "\t30 & 2013-05-30 & 0 \\\\\n",
       "\t$\\dots$ & $\\dots$ & $\\dots$ \\\\\n",
       "\\end{tabular}\n"
      ],
      "text/plain": [
       "1288×2 DataFrame\n",
       "│ Row  │ date       │ McTavish │\n",
       "│      │ \u001b[90mDate\u001b[39m       │ \u001b[90mInt64\u001b[39m    │\n",
       "├──────┼────────────┼──────────┤\n",
       "│ 1    │ 2013-05-01 │ 0        │\n",
       "│ 2    │ 2013-05-02 │ 0        │\n",
       "│ 3    │ 2013-05-03 │ 0        │\n",
       "│ 4    │ 2013-05-04 │ 0        │\n",
       "│ 5    │ 2013-05-05 │ 0        │\n",
       "│ 6    │ 2013-05-06 │ 0        │\n",
       "│ 7    │ 2013-05-07 │ 0        │\n",
       "│ 8    │ 2013-05-08 │ 0        │\n",
       "│ 9    │ 2013-05-09 │ 36       │\n",
       "│ 10   │ 2013-05-10 │ 30       │\n",
       "⋮\n",
       "│ 1278 │ 2019-10-21 │ 0        │\n",
       "│ 1279 │ 2019-10-22 │ 541      │\n",
       "│ 1280 │ 2019-10-23 │ 691      │\n",
       "│ 1281 │ 2019-10-24 │ 0        │\n",
       "│ 1282 │ 2019-10-25 │ 0        │\n",
       "│ 1283 │ 2019-10-26 │ 0        │\n",
       "│ 1284 │ 2019-10-27 │ 1891     │\n",
       "│ 1285 │ 2019-10-28 │ 25       │\n",
       "│ 1286 │ 2019-10-29 │ 2        │\n",
       "│ 1287 │ 2019-10-30 │ 0        │\n",
       "│ 1288 │ 2019-10-31 │ 0        │"
      ]
     },
     "execution_count": 219,
     "metadata": {},
     "output_type": "execute_result"
    }
   ],
   "source": [
    "p = DataFrame(McTavish =Int64[])\n",
    "for j=1:size(pcp_sum,1)\n",
    "    alo = names(pcp_sum)\n",
    "    means = 0\n",
    "    sum = 0\n",
    "    for col in alo\n",
    "        if col != alo[1]\n",
    "            if !ismissing(pcp_sum[j, col]) \n",
    "                sum = sum +1\n",
    "                means = means + pcp_sum[j, col]\n",
    "            end\n",
    "        end\n",
    "    end\n",
    "    push!(p, means)\n",
    "end\n",
    "pcp_sum = DataFrame(date = pcp_sum[:date]; McTavish =p[:McTavish])"
   ]
  },
  {
   "cell_type": "markdown",
   "metadata": {},
   "source": [
    "#### Inclusion dans un dataframe de ces deux variables explicatives potentielles"
   ]
  },
  {
   "cell_type": "code",
   "execution_count": null,
   "metadata": {},
   "outputs": [],
   "source": []
  },
  {
   "cell_type": "code",
   "execution_count": 220,
   "metadata": {},
   "outputs": [],
   "source": [
    "ouvrage = \"4350-01D\"\n",
    "moyenneSumSurverses = Float64[]\n",
    "moyenneMaxSurverses = Float64[]\n",
    "moyenneSumBeforeSurverses = Float64[]\n",
    "moyenneMaxBeforeSurverses = Float64[]\n",
    "varianceSumSurverses = Float64[];\n",
    "varianceMaxSurverses = Float64[];\n",
    "varianceSumBeforeSurverses = Float64[]\n",
    "varianceMaxBeforeSurverses = Float64[]\n",
    "\n",
    "moyenneSumNonSurverses = Float64[]\n",
    "moyenneMaxNonSurverses = Float64[]\n",
    "moyenneSumBeforeNonSurverses = Float64[]\n",
    "moyenneMaxBeforeNonSurverses = Float64[]\n",
    "varianceSumNonSurverses = Float64[]\n",
    "varianceMaxNonSurverses = Float64[]\n",
    "varianceMaxBeforeNonSurverses = Float64[]\n",
    "varianceSumBeforeNonSurverses = Float64[]\n",
    "for j=1:size(filtervals,1)\n",
    "    dfSurverse = filter(row -> row.NO_OUVRAGE == filtervals[j]  && row.SURVERSE ==1, surverse_df)\n",
    "    dfNonSurverse = filter(row -> row.NO_OUVRAGE == filtervals[j]  && row.SURVERSE ==0, surverse_df)\n",
    "\n",
    "\n",
    "    moyenneSumSurverse = 0;\n",
    "    moyenneMaxSurverse = 0;\n",
    "    moyenneSumBeforeSurverse = 0;\n",
    "    moyenneMaxBeforeSurverse = 0;\n",
    "    for i=1:size(dfSurverse,1)\n",
    "\n",
    "        ind = findfirst(pcp_sum[:,:date] .== dfSurverse[i,:DATE])\n",
    "        moyenneSumSurverse = moyenneSumSurverse +  pcp_sum[ind,:McTavish]\n",
    "        \n",
    "        indmax = findfirst(pcp_max[:,:date] .== dfSurverse[i,:DATE])\n",
    "        moyenneMaxSurverse = moyenneMaxSurverse +  pcp_max[indmax,:McTavish]\n",
    "        \n",
    "        indx = findfirst(pcp_sum[:,:date] .== (dfSurverse[i,:DATE]-Dates.Day(1)))\n",
    "        sumBeforeToadd = 0;\n",
    "        if indx == nothing\n",
    "            indx = findfirst(pcpBefore_sum[:,:date] .== (dfSurverse[i,:DATE]-Dates.Day(1)))\n",
    "            sumBeforeToadd = pcpBefore_sum[indx,:McTavish]\n",
    "        else\n",
    "            sumBeforeToadd = pcp_sum[indx,:McTavish]\n",
    "        end\n",
    "        moyenneSumBeforeSurverse = moyenneSumBeforeSurverse +  sumBeforeToadd\n",
    "        \n",
    "        indx = findfirst(pcp_max[:,:date] .== (dfSurverse[i,:DATE]-Dates.Day(1)))\n",
    "        sumBeforeToadd = 0;\n",
    "        if indx == nothing\n",
    "            indx = findfirst(pcpBefore_max[:,:date] .== (dfSurverse[i,:DATE]-Dates.Day(1)))\n",
    "            sumBeforeToadd = pcpBefore_max[indx,:McTavish]\n",
    "        else\n",
    "            sumBeforeToadd = pcp_max[indx,:McTavish]\n",
    "        end\n",
    "        moyenneMaxBeforeSurverse = moyenneMaxBeforeSurverse +  sumBeforeToadd\n",
    "    end\n",
    "    moyenneSumSurverse = moyenneSumSurverse / size(dfSurverse,1)\n",
    "    push!(moyenneSumSurverses, moyenneSumSurverse)\n",
    "    moyenneMaxSurverse = moyenneMaxSurverse / size(dfSurverse,1)\n",
    "    push!(moyenneMaxSurverses, moyenneMaxSurverse)\n",
    "    moyenneSumBeforeSurverse = moyenneSumBeforeSurverse / size(dfSurverse,1)\n",
    "    push!(moyenneSumBeforeSurverses, moyenneSumBeforeSurverse)\n",
    "    moyenneMaxBeforeSurverse = moyenneMaxBeforeSurverse / size(dfSurverse,1)\n",
    "    push!(moyenneMaxBeforeSurverses, moyenneMaxBeforeSurverse)\n",
    "    \n",
    "    moyenneSumNonSurverse = 0;\n",
    "    moyenneMaxNonSurverse = 0;\n",
    "    moyenneSumBeforeNonSurverse = 0;\n",
    "    moyenneMaxBeforeNonSurverse = 0;\n",
    "    for i=1:size(dfNonSurverse,1)\n",
    "\n",
    "        ind = findfirst(pcp_sum[:,:date] .== dfNonSurverse[i,:DATE])\n",
    "        moyenneSumNonSurverse = moyenneSumNonSurverse +  pcp_sum[ind,:McTavish]\n",
    "        \n",
    "        ind = findfirst(pcp_max[:,:date] .== dfNonSurverse[i,:DATE])\n",
    "        moyenneMaxNonSurverse = moyenneMaxNonSurverse +  pcp_max[ind,:McTavish]\n",
    "        \n",
    "        indx = findfirst(pcp_sum[:,:date] .== (dfNonSurverse[i,:DATE]-Dates.Day(1)))\n",
    "        sumBeforeToadd = 0;\n",
    "        if indx == nothing\n",
    "            indx = findfirst(pcpBefore_sum[:,:date] .== (dfNonSurverse[i,:DATE]-Dates.Day(1)))\n",
    "            sumBeforeToadd = pcpBefore_sum[indx,:McTavish]\n",
    "        else\n",
    "            sumBeforeToadd = pcp_sum[indx,:McTavish]\n",
    "        end\n",
    "        moyenneSumBeforeNonSurverse = moyenneSumBeforeNonSurverse +  sumBeforeToadd\n",
    "        \n",
    "        indx = findfirst(pcp_max[:,:date] .== (dfNonSurverse[i,:DATE]-Dates.Day(1)))\n",
    "        sumBeforeToadd = 0;\n",
    "        if indx == nothing\n",
    "            indx = findfirst(pcpBefore_max[:,:date] .== (dfNonSurverse[i,:DATE]-Dates.Day(1)))\n",
    "            sumBeforeToadd = pcpBefore_max[indx,:McTavish]\n",
    "        else\n",
    "            sumBeforeToadd = pcp_max[indx,:McTavish]\n",
    "        end\n",
    "        moyenneMaxBeforeNonSurverse = moyenneMaxBeforeNonSurverse +  sumBeforeToadd\n",
    "    end\n",
    "    moyenneSumNonSurverse = moyenneSumNonSurverse / size(dfNonSurverse,1)\n",
    "    push!(moyenneSumNonSurverses, moyenneSumNonSurverse)\n",
    "    moyenneMaxNonSurverse = moyenneMaxNonSurverse / size(dfNonSurverse,1)\n",
    "    push!(moyenneMaxNonSurverses, moyenneMaxNonSurverse)\n",
    "    \n",
    "    moyenneSumBeforeNonSurverse = moyenneSumBeforeNonSurverse / size(dfNonSurverse,1)\n",
    "    push!(moyenneSumBeforeNonSurverses, moyenneSumBeforeNonSurverse)\n",
    "    moyenneMaxBeforeNonSurverse = moyenneMaxBeforeNonSurverse / size(dfNonSurverse,1)\n",
    "    push!(moyenneMaxBeforeNonSurverses, moyenneMaxBeforeNonSurverse)\n",
    "    \n",
    "    \n",
    "    #### maintenant la variance\n",
    "    varianceSumSurverse = 0;\n",
    "    varianceMaxSurverse = 0;\n",
    "    varianceSumBeforeSurverse = 0;\n",
    "    varianceMaxBeforeSurverse = 0;\n",
    "    for i=1:size(dfSurverse,1)\n",
    "\n",
    "        ind = findfirst(pcp_sum[:,:date] .== dfSurverse[i,:DATE])\n",
    "        varianceSumSurverse = varianceSumSurverse +  (pcp_sum[ind,:McTavish]-moyenneSumSurverse)^2\n",
    "\n",
    "        ind = findfirst(pcp_max[:,:date] .== dfSurverse[i,:DATE])\n",
    "        varianceMaxSurverse = varianceMaxSurverse +  (pcp_max[ind,:McTavish]-moyenneMaxSurverse)^2\n",
    "        \n",
    "         indx = findfirst(pcp_sum[:,:date] .== (dfSurverse[i,:DATE]-Dates.Day(1)))\n",
    "        sumBeforeToadd = 0;\n",
    "        if indx == nothing\n",
    "            indx = findfirst(pcpBefore_sum[:,:date] .== (dfSurverse[i,:DATE]-Dates.Day(1)))\n",
    "            sumBeforeToadd = pcpBefore_sum[indx,:McTavish]\n",
    "        else\n",
    "            sumBeforeToadd = pcp_sum[indx,:McTavish] \n",
    "        end\n",
    "        varianceSumBeforeSurverse = varianceSumBeforeSurverse +  (sumBeforeToadd - moyenneSumBeforeSurverse)^2\n",
    "        \n",
    "        indx = findfirst(pcp_max[:,:date] .== (dfSurverse[i,:DATE]-Dates.Day(1)))\n",
    "        sumBeforeToadd = 0;\n",
    "        if indx == nothing\n",
    "            indx = findfirst(pcpBefore_max[:,:date] .== (dfSurverse[i,:DATE]-Dates.Day(1)))\n",
    "            sumBeforeToadd = pcpBefore_max[indx,:McTavish]\n",
    "        else\n",
    "            sumBeforeToadd = pcp_max[indx,:McTavish]\n",
    "        end\n",
    "        varianceMaxBeforeSurverse = varianceMaxBeforeSurverse +  (sumBeforeToadd-moyenneMaxBeforeSurverse)^2\n",
    "    end\n",
    "    varianceSumSurverse = varianceSumSurverse / size(dfSurverse,1)\n",
    "    push!(varianceSumSurverses, varianceSumSurverse)\n",
    "    varianceMaxSurverse = varianceMaxSurverse / size(dfSurverse,1)\n",
    "    push!(varianceMaxSurverses, varianceMaxSurverse)\n",
    "\n",
    "    varianceSumBeforeSurverse = varianceSumBeforeSurverse / size(dfSurverse,1)\n",
    "    push!(varianceSumBeforeSurverses, varianceSumBeforeSurverse)\n",
    "    varianceMaxBeforeSurverse = varianceMaxBeforeSurverse / size(dfSurverse,1)\n",
    "    push!(varianceMaxBeforeSurverses,varianceMaxBeforeSurverse)\n",
    "    \n",
    "    varianceSumNonSurverse = 0;\n",
    "    varianceMaxNonSurverse = 0;\n",
    "    varianceSumBeforeNonSurverse = 0;\n",
    "    varianceMaxBeforeNonSurverse = 0;\n",
    "    for i=1:size(dfNonSurverse,1)\n",
    "\n",
    "        ind = findfirst(pcp_sum[:,:date] .== dfNonSurverse[i,:DATE])\n",
    "        varianceSumNonSurverse = varianceSumNonSurverse +  (pcp_sum[ind,:McTavish]-moyenneSumNonSurverse)^2\n",
    "\n",
    "        ind = findfirst(pcp_max[:,:date] .== dfNonSurverse[i,:DATE])\n",
    "        varianceMaxNonSurverse = varianceMaxNonSurverse +  (pcp_max[ind,:McTavish]-moyenneMaxNonSurverse)^2\n",
    "        \n",
    "        indx = findfirst(pcp_sum[:,:date] .== (dfNonSurverse[i,:DATE]-Dates.Day(1)))\n",
    "        sumBeforeToadd = 0;\n",
    "        if indx == nothing\n",
    "            indx = findfirst(pcpBefore_sum[:,:date] .== (dfNonSurverse[i,:DATE]-Dates.Day(1)))\n",
    "            sumBeforeToadd = pcpBefore_sum[indx,:McTavish]\n",
    "        else\n",
    "            sumBeforeToadd = pcp_sum[indx,:McTavish] \n",
    "        end\n",
    "        varianceSumBeforeNonSurverse = varianceSumBeforeNonSurverse +  (sumBeforeToadd - moyenneSumBeforeNonSurverse)^2\n",
    "        \n",
    "        indx = findfirst(pcp_max[:,:date] .== (dfNonSurverse[i,:DATE]-Dates.Day(1)))\n",
    "        sumBeforeToadd = 0;\n",
    "        if indx == nothing\n",
    "            indx = findfirst(pcpBefore_max[:,:date] .== (dfNonSurverse[i,:DATE]-Dates.Day(1)))\n",
    "            sumBeforeToadd = pcpBefore_max[indx,:McTavish]\n",
    "        else\n",
    "            sumBeforeToadd = pcp_max[indx,:McTavish]\n",
    "        end\n",
    "        varianceMaxBeforeNonSurverse = varianceMaxBeforeNonSurverse +  (sumBeforeToadd-moyenneMaxBeforeNonSurverse)^2\n",
    "    end\n",
    "    varianceSumNonSurverse = varianceSumNonSurverse / size(dfNonSurverse,1)\n",
    "    push!(varianceSumNonSurverses, varianceSumNonSurverse)\n",
    "    varianceMaxNonSurverse = varianceMaxNonSurverse / size(dfNonSurverse,1)\n",
    "    push!(varianceMaxNonSurverses, varianceMaxNonSurverse) \n",
    "    \n",
    "    varianceSumBeforeNonSurverse = varianceSumBeforeNonSurverse / size(dfNonSurverse,1)\n",
    "    push!(varianceSumBeforeNonSurverses, varianceSumBeforeNonSurverse)\n",
    "    varianceMaxBeforeNonSurverse = varianceMaxBeforeNonSurverse / size(dfNonSurverse,1)\n",
    "    push!(varianceMaxBeforeNonSurverses,varianceMaxBeforeNonSurverse)\n",
    "    \n",
    "   \n",
    "end"
   ]
  },
  {
   "cell_type": "code",
   "execution_count": null,
   "metadata": {},
   "outputs": [],
   "source": []
  },
  {
   "cell_type": "code",
   "execution_count": null,
   "metadata": {},
   "outputs": [],
   "source": []
  },
  {
   "cell_type": "markdown",
   "metadata": {},
   "source": [
    "#### Traçage des distribution de la somme des précipitations en fonction des surverses ou non\n",
    "\n",
    "On remarque que les deux distributions sont très différentes. Ceci suggère que la somme des précipitations à la station McTavish a un effet sur les surverses au Bota-Bota."
   ]
  },
  {
   "cell_type": "code",
   "execution_count": 221,
   "metadata": {},
   "outputs": [
    {
     "ename": "UndefVarError",
     "evalue": "UndefVarError: df not defined",
     "output_type": "error",
     "traceback": [
      "UndefVarError: df not defined",
      "",
      "Stacktrace:",
      " [1] top-level scope at In[221]:1"
     ]
    }
   ],
   "source": []
  },
  {
   "cell_type": "markdown",
   "metadata": {},
   "source": [
    "#### Traçage des distribution de la somme des précipitations en fonction des surverses ou non\n",
    "\n",
    "On remarque que les deux distributions sont très différentes. Ceci suggère que le maximum journalier des précipitations à la station McTavish a un effet sur les surverses au Bota-Bota."
   ]
  },
  {
   "cell_type": "code",
   "execution_count": 222,
   "metadata": {},
   "outputs": [
    {
     "ename": "UndefVarError",
     "evalue": "UndefVarError: df not defined",
     "output_type": "error",
     "traceback": [
      "UndefVarError: df not defined",
      "",
      "Stacktrace:",
      " [1] top-level scope at In[222]:1"
     ]
    }
   ],
   "source": []
  },
  {
   "cell_type": "markdown",
   "metadata": {},
   "source": [
    "# Création du fichier de prédictions pour soumettre sur Kaggle\n",
    "\n",
    "Dans ce cas-ci, nous prédirons une surverse avec une probabilité de 1/2 sans considérer aucune variable explicative."
   ]
  },
  {
   "cell_type": "code",
   "execution_count": 223,
   "metadata": {},
   "outputs": [
    {
     "data": {
      "text/html": [
       "<table class=\"data-frame\"><thead><tr><th></th><th>NO_OUVRAGE</th><th>DATE</th></tr><tr><th></th><th>String</th><th>Date</th></tr></thead><tbody><p>5 rows × 2 columns</p><tr><th>1</th><td>3260-01D</td><td>2019-05-02</td></tr><tr><th>2</th><td>3260-01D</td><td>2019-05-09</td></tr><tr><th>3</th><td>3260-01D</td><td>2019-05-10</td></tr><tr><th>4</th><td>3260-01D</td><td>2019-05-15</td></tr><tr><th>5</th><td>3260-01D</td><td>2019-05-20</td></tr></tbody></table>"
      ],
      "text/latex": [
       "\\begin{tabular}{r|cc}\n",
       "\t& NO\\_OUVRAGE & DATE\\\\\n",
       "\t\\hline\n",
       "\t& String & Date\\\\\n",
       "\t\\hline\n",
       "\t1 & 3260-01D & 2019-05-02 \\\\\n",
       "\t2 & 3260-01D & 2019-05-09 \\\\\n",
       "\t3 & 3260-01D & 2019-05-10 \\\\\n",
       "\t4 & 3260-01D & 2019-05-15 \\\\\n",
       "\t5 & 3260-01D & 2019-05-20 \\\\\n",
       "\\end{tabular}\n"
      ],
      "text/plain": [
       "5×2 DataFrame\n",
       "│ Row │ NO_OUVRAGE │ DATE       │\n",
       "│     │ \u001b[90mString\u001b[39m     │ \u001b[90mDate\u001b[39m       │\n",
       "├─────┼────────────┼────────────┤\n",
       "│ 1   │ 3260-01D   │ 2019-05-02 │\n",
       "│ 2   │ 3260-01D   │ 2019-05-09 │\n",
       "│ 3   │ 3260-01D   │ 2019-05-10 │\n",
       "│ 4   │ 3260-01D   │ 2019-05-15 │\n",
       "│ 5   │ 3260-01D   │ 2019-05-20 │"
      ]
     },
     "execution_count": 223,
     "metadata": {},
     "output_type": "execute_result"
    }
   ],
   "source": [
    "\n",
    "testfile = CSV.read(\"data/test.csv\")\n",
    "first(testfile,5)"
   ]
  },
  {
   "cell_type": "code",
   "execution_count": null,
   "metadata": {},
   "outputs": [],
   "source": []
  },
  {
   "cell_type": "code",
   "execution_count": null,
   "metadata": {},
   "outputs": [],
   "source": []
  },
  {
   "cell_type": "code",
   "execution_count": 225,
   "metadata": {},
   "outputs": [
    {
     "name": "stdout",
     "output_type": "stream",
     "text": [
      "1.0000004720295084\n",
      "1.296010284167169e-6\n",
      "7.316262376364449e-7\n",
      "0.9789608295300377\n",
      "0.003585646653003223\n",
      "6.739630525348012e-7\n",
      "0.9999997735154459\n",
      "1.0000271626416397\n",
      "1.0000078413357025\n",
      "1.1867908190868467e-5\n",
      "0.9930458154293297\n",
      "0.9826145724884523\n",
      "8.399559234677628e-7\n",
      "8.777895940450326e-8\n",
      "0.9879228829524979\n",
      "0.998562716407682\n",
      "9.546461858134708e-7\n",
      "0.9879228829524979\n",
      "1.1715352377655045e-5\n",
      "1.2581968863485102e-5\n",
      "1.3846833904709905e-5\n",
      "0.9950463670279931\n",
      "0.9999513273446329\n",
      "0.9826145724884523\n",
      "1.000157560481203\n",
      "0.9661788395348624\n",
      "-1.296907562612776e-7\n",
      "2.8918342116551063e-7\n",
      "0.9631075299847948\n",
      "0.9717601594364244\n",
      "0.9631075299847948\n",
      "2.5103261764850723e-7\n",
      "1.000000186399301\n",
      "0.9907303388766205\n",
      "1.000003750281907\n",
      "0.9829543472852031\n",
      "0.9815188328788704\n",
      "0.9766797502779967\n",
      "1.5253891635273045e-6\n",
      "0.9799965576383284\n",
      "0.9766797502779967\n",
      "0.9843061103054944\n",
      "0.9799965576383284\n",
      "5.596950093673445e-10\n",
      "0.9799965576383284\n",
      "1.0000086121319973\n",
      "0.9999982807226121\n",
      "0.9745710189353768\n",
      "0.9636145791088744\n",
      "0.9636145791088744\n",
      "0.9636145791088744\n",
      "7.455187655175606e-5\n",
      "5.332483970667822e-6\n",
      "0.9953893316011317\n",
      "0.9694313882102658\n",
      "0.9968545459917234\n",
      "1.000028582695804\n",
      "9.660155814512553e-7\n",
      "0.9744890857699113\n",
      "8.014566331256963e-9\n",
      "0.9744890857699113\n",
      "8.628264746350951e-8\n",
      "1.3716850336488017e-5\n",
      "0.9826145724884523\n",
      "0.9826145724884523\n",
      "3.823863323789256e-6\n",
      "1.4742430202374723e-5\n",
      "4.013790454172842e-6\n",
      "0.9879228829524979\n",
      "0.9826145724884523\n",
      "0.9826145724884523\n",
      "0.9826145724884523\n",
      "0.9826145724884523\n",
      "-4.488358468262017e-10\n",
      "0.9971533558812463\n",
      "6.06031153424688e-8\n",
      "2.378154704990792e-7\n",
      "0.9563724030693718\n",
      "0.9631075299847948\n",
      "2.8801368214680617e-10\n",
      "0.9563724030693718\n",
      "0.999584422074614\n",
      "2.532829442649493e-8\n",
      "4.811214831237363e-7\n",
      "0.9563724030693718\n",
      "2.6975903659912214e-8\n",
      "2.806437043635724e-7\n",
      "0.9799965576383284\n",
      "4.6267818967123825e-8\n",
      "0.9995584305626554\n",
      "-0.00042650594632582443\n",
      "-7.372199785766862e-6\n",
      "0.9799965576383284\n",
      "0.9766797502779967\n",
      "0.9766797502779967\n",
      "0.9766797502779967\n",
      "2.4285747819152413e-5\n",
      "0.9636145791088744\n",
      "-2.4350817222708054e-10\n",
      "0.9999429919561766\n",
      "0.9636145791088744\n",
      "-4.095894834966939e-9\n",
      "0.9636145791088744\n",
      "1.2983409121622242e-5\n",
      "0.9828834721868412\n",
      "0.9636145791088744\n",
      "4.741753119570083e-7\n",
      "0.9744890857699113\n",
      "0.9744890857699113\n",
      "1.11381258342288\n",
      "0.9744890857699113\n",
      "0.9744890857699113\n",
      "9.357805674416551e-6\n",
      "0.9945869837541174\n",
      "0.0007232069498725222\n",
      "0.9972424520362237\n",
      "1.0224108215453918\n",
      "0.9845516706052241\n",
      "0.9826145724884523\n",
      "0.9826145724884523\n",
      "0.33409688801995013\n",
      "1.9695726313286048\n",
      "0.9826145724884523\n",
      "4.327386228911692e-5\n",
      "0.17275793453169402\n",
      "0.0027896110498479517\n",
      "-0.10246939455432243\n",
      "-4.86492390625742e-7\n",
      "0.9826145724884523\n",
      "0.9936278263419852\n",
      "1.0002160960782054\n",
      "1.0002718953725085\n",
      "0.9826145724884523\n",
      "8.005478524369563\n",
      "0.9563724030693718\n",
      "0.9563724030693718\n",
      "0.9999774035089432\n",
      "0.9563724030693718\n",
      "0.9563724030693718\n",
      "5.018305792040962e-6\n",
      "0.9883474247342354\n",
      "0.9563724030693718\n",
      "0.9563724030693718\n",
      "0.0010517156504242706\n",
      "0.9717601594364244\n",
      "0.9563724030693718\n",
      "0.9989169638707321\n",
      "0.9766797502779967\n",
      "1.0000215083195585\n",
      "0.9766797502779967\n",
      "0.9766797502779967\n",
      "0.9766797502779967\n",
      "3.890412841517012e-6\n",
      "0.9719365976736285\n",
      "0.9613371659763941\n",
      "0.9766797502779967\n",
      "0.9766797502779967\n",
      "0.9998952693234116\n",
      "1.0032198454164352\n",
      "0.9843061103054944\n",
      "0.9636145791088744\n",
      "0.9636145791088744\n",
      "1.3770338843836058e-5\n",
      "0.7727466006951698\n",
      "1.05032076426389\n",
      "0.0018425687899040952\n",
      "0.9694313882102658\n",
      "0.8990700711698227\n",
      "0.9744890857699113\n",
      "-3.130104670841899e-7\n",
      "0.9990528805429247\n",
      "1.5484849386568667e-6\n",
      "0.9812881582575397\n",
      "0.9789608295300377\n",
      "0.9744890857699113\n",
      "0.9789608295300377\n",
      "0.9744890857699113\n",
      "7.286684105125972e-7\n",
      "8.756532141452025e-8\n",
      "0.9879228829524979\n",
      "7.259337032947951e-7\n",
      "0.9826145724884523\n",
      "0.9879228829524979\n",
      "0.9826145724884523\n",
      "0.9826145724884523\n",
      "0.9879228829524979\n",
      "1.8295447884745625e-7\n",
      "5.175899283978481e-7\n",
      "0.9563724030693718\n",
      "0.9563724030693718\n",
      "0.9766367767301924\n",
      "8.720989662724533e-6\n",
      "0.9563724030693718\n",
      "0.9980903408829991\n",
      "0.9563724030693718\n",
      "3.5531585160470224e-7\n",
      "0.9563724030693718\n",
      "0.9766797502779967\n",
      "0.9799965576383284\n",
      "0.9766797502779967\n",
      "-9.972040584105853e-6\n",
      "0.9766797502779967\n",
      "1.0000000426162234\n",
      "0.9766797502779967\n",
      "0.0001567545613663222\n",
      "0.9766797502779967\n",
      "0.9799965576383284\n",
      "1.000028692454721\n",
      "0.9766797502779967\n",
      "0.9766797502779967\n",
      "0.9766797502779967\n",
      "0.9766797502779967\n",
      "0.9766797502779967\n",
      "0.9636145791088744\n",
      "0.9694313882102658\n",
      "0.9886722668436966\n",
      "8.226253273743677e-5\n",
      "5.654102441195742e-5\n",
      "1.0000789279441356\n",
      "0.9999944006205513\n",
      "0.9636145791088744\n",
      "0.9811022086390223\n",
      "0.9980541636187243\n",
      "-3.538817012511679e-6\n",
      "0.9636145791088744\n",
      "0.9636145791088744\n",
      "0.9789608295300377\n",
      "7.84296277211035e-7\n",
      "0.9789608295300377\n",
      "-1.32761275690347e-8\n",
      "1.3510763027734928e-5\n",
      "0.9744890857699113\n",
      "0.9744890857699113\n",
      "0.9744890857699113\n",
      "0.9856607203985692\n",
      "0.9879228829524979\n",
      "2.2121374281829307e-7\n",
      "6.8013090095411104e-6\n",
      "1.7442653694921392e-8\n",
      "0.9999445470378391\n",
      "0.9826145724884523\n",
      "0.9826145724884523\n",
      "3.977454166974349e-6\n",
      "0.9826145724884523\n",
      "-0.008971144342222192\n",
      "0.9945783211958841\n",
      "3.464213995105921e-8\n",
      "1.3184775635985607e-6\n",
      "0.9961929080390151\n",
      "-1.7870798252518405e-9\n",
      "-7.277306988806211e-9\n",
      "0.9563724030693718\n",
      "0.9563724030693718\n",
      "0.9563724030693718\n",
      "0.9563724030693718\n",
      "0.9975280279179841\n",
      "0.053915452051644046\n",
      "0.9799965576383284\n",
      "2.2666621709355416e-6\n",
      "1.8529739289354984e-7\n",
      "0.9799965576383284\n",
      "0.9766797502779967\n",
      "4.613963589488648e-6\n",
      "0.9985645086137083\n",
      "0.9766797502779967\n",
      "1.0000000054771796\n",
      "0.9766797502779967\n",
      "0.9766797502779967\n",
      "0.9766797502779967\n",
      "4.4206182204156897e-5\n",
      "0.9870823994119465\n",
      "0.9694313882102658\n",
      "5.981325032112505e-6\n",
      "-5.295914884128728e-9\n",
      "0.9694313882102658\n",
      "0.9636145791088744\n",
      "0.9636145791088744\n",
      "0.9636145791088744\n",
      "0.9636145791088744\n",
      "5.6478846830349506e-5\n",
      "-0.00046256400575195284\n",
      "0.981660722285239\n",
      "0.9811022086390223\n"
     ]
    },
    {
     "data": {
      "text/plain": [
       "283-element Array{String,1}:\n",
       " \"3260-01D_2019-05-02\"\n",
       " \"3260-01D_2019-05-09\"\n",
       " \"3260-01D_2019-05-10\"\n",
       " \"3260-01D_2019-05-15\"\n",
       " \"3260-01D_2019-05-20\"\n",
       " \"3260-01D_2019-05-23\"\n",
       " \"3260-01D_2019-05-24\"\n",
       " \"3260-01D_2019-05-26\"\n",
       " \"3260-01D_2019-05-30\"\n",
       " \"3350-07D_2019-05-01\"\n",
       " \"3350-07D_2019-05-02\"\n",
       " \"3350-07D_2019-05-08\"\n",
       " \"3350-07D_2019-05-09\"\n",
       " ⋮                    \n",
       " \"4380-01D_2019-09-01\"\n",
       " \"4380-01D_2019-09-02\"\n",
       " \"4380-01D_2019-09-04\"\n",
       " \"4380-01D_2019-09-05\"\n",
       " \"4380-01D_2019-09-12\"\n",
       " \"4380-01D_2019-09-13\"\n",
       " \"4380-01D_2019-09-16\"\n",
       " \"4380-01D_2019-09-22\"\n",
       " \"4380-01D_2019-09-26\"\n",
       " \"4380-01D_2019-09-28\"\n",
       " \"4380-01D_2019-09-29\"\n",
       " \"4380-01D_2019-09-30\""
      ]
     },
     "execution_count": 225,
     "metadata": {},
     "output_type": "execute_result"
    }
   ],
   "source": [
    "surverse = Int[]\n",
    "for i=1:size(testfile,1)\n",
    "    indproba = findfirst(filtervals[:] .== testfile[i,:NO_OUVRAGE])\n",
    "    ind = findfirst(pcp_sum[:,:date] .== testfile[i,:DATE])\n",
    "    sum = pcp_sum[ind,:McTavish]\n",
    "    ind = findfirst(pcp_max[:,:date] .== testfile[i,:DATE])\n",
    "    max = pcp_max[ind,:McTavish]\n",
    "\n",
    "    Psurverse = n₁[indproba]/n[indproba]\n",
    "\n",
    "    pSumSurverses = (1/sqrt(2*π*varianceSumSurverses[indproba])) - (1/2)*(((sum-moyenneSumSurverses[indproba])^2)/varianceSumSurverses[indproba])\n",
    "\n",
    "    pMaxSurverses = (1/sqrt(2*π*varianceMaxSurverses[indproba])) - (1/2)*(((max-moyenneMaxSurverses[indproba])^2)/varianceMaxSurverses[indproba])\n",
    "    pSumBeforeSurverses = (1/sqrt(2*π*varianceSumBeforeSurverses[indproba])) - (1/2)*(((sum-moyenneSumBeforeSurverses[indproba])^2)/varianceSumBeforeSurverses[indproba])\n",
    "\n",
    "    pMaxBeforeSurverses = (1/sqrt(2*π*varianceMaxBeforeSurverses[indproba])) - (1/2)*(((max-moyenneMaxBeforeSurverses[indproba])^2)/varianceMaxBeforeSurverses[indproba])\n",
    "     \n",
    "\n",
    "    Pnonsurverse = n₀[indproba]/n[indproba]\n",
    "    pSumNonSurverses = (1/sqrt(2*π*varianceSumNonSurverses[indproba])) - (1/2)*(((sum-moyenneSumNonSurverses[indproba])^2)/varianceSumNonSurverses[indproba])\n",
    "    pMaxNonSurverses = (1/sqrt(2*π*varianceMaxNonSurverses[indproba])) - (1/2)*(((max-moyenneMaxNonSurverses[indproba])^2)/varianceMaxNonSurverses[indproba])\n",
    "    pSumBeforeNonSurverses = (1/sqrt(2*π*varianceSumBeforeNonSurverses[indproba])) - (1/2)*(((sum-moyenneSumBeforeNonSurverses[indproba])^2)/varianceSumBeforeNonSurverses[indproba])\n",
    "    pMaxBeforeNonSurverses = (1/sqrt(2*π*varianceMaxBeforeNonSurverses[indproba])) - (1/2)*(((max-moyenneMaxBeforeNonSurverses[indproba])^2)/varianceMaxBeforeNonSurverses[indproba])\n",
    "\n",
    "    pxSsurverse = pSumSurverses * pMaxSurverses * pSumBeforeSurverses * pMaxBeforeSurverses\n",
    "    \n",
    "    pxSnonsurverse = pSumNonSurverses * pMaxNonSurverses * pSumBeforeNonSurverses * pMaxBeforeNonSurverses\n",
    "    \n",
    "    psurverse = (pxSsurverse * Psurverse)/(pxSsurverse * Psurverse + pxSnonsurverse*Pnonsurverse)\n",
    "    push!(surverse, (psurverse<0.5));\n",
    "    println(\"$psurverse\")\n",
    "end\n",
    "# Pour chacune des lignes du fichier test, comportant un ouvrage et une date, une prédiction est requise.\n",
    "# Dans ce cas-ci, utilisons une prédiction les plus naîve. \n",
    "# On prédit avec une chance sur deux qu'il y ait surverse, sans utiliser de variables explicatives\n",
    "\n",
    "\n",
    "\n",
    "# Création du fichier sampleSubmission.csv pour soumettre sur Kaggle\n",
    "ID = testfile[:,:NO_OUVRAGE].*\"_\".*string.(testfile[:,:DATE])\n",
    "sampleSubmission = DataFrame(ID = ID, Surverse=surverse)\n",
    "CSV.write(\"result3.csv\",sampleSubmission)\n",
    "\n",
    "# Vous pouvez par la suite déposer le fichier sampleSubmission.csv sur Kaggle.\n",
    "ID"
   ]
  },
  {
   "cell_type": "code",
   "execution_count": null,
   "metadata": {},
   "outputs": [],
   "source": []
  },
  {
   "cell_type": "code",
   "execution_count": null,
   "metadata": {},
   "outputs": [],
   "source": []
  }
 ],
 "metadata": {
  "@webio": {
   "lastCommId": null,
   "lastKernelId": null
  },
  "kernelspec": {
   "display_name": "Julia 1.3.0",
   "language": "julia",
   "name": "julia-1.3"
  },
  "language_info": {
   "file_extension": ".jl",
   "mimetype": "application/julia",
   "name": "julia",
   "version": "1.3.0"
  }
 },
 "nbformat": 4,
 "nbformat_minor": 2
}
