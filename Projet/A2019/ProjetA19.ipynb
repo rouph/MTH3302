{
 "cells": [
  {
   "cell_type": "markdown",
   "metadata": {},
   "source": [
    "\n",
    "# MTH3302 : Méthodes probabilistes et statistiques pour l'I.A.\n",
    "\n",
    "Jonathan Jalbert<br/>\n",
    "Professeur adjoint au Département de mathématiques et de génie industriel<br/>\n",
    "Polytechnique Montréal<br/>\n",
    "\n",
    "Le projet a été développé à l'aide de Alice Breton, étudiante à la maîtrise en génie informatique. Elle a suivi le cours lors de la session Hiver 2019.\n",
    "\n",
    "\n",
    "\n",
    "# Projet : Débordement d'égouts\n",
    "\n",
    "La description du projet est disponible à l'adresse suivante :\n",
    "https://www.kaggle.com/t/a238b752c33a41d9803c2cdde6bfc929\n",
    "\n",
    "Ce calepin Jupyter de base permet de charger et de nettoyer les données fournies. La dernière section détaille la génération du fichier des prédictions afin de le soumettre sur Kaggle dans le bon format.\n",
    "\n",
    "Dans un premier temps, vous devrez récupérer l'archive *data.zip* sur Moodle. Ce dossier contient les fichiers suivants :\n",
    "- surverses.csv\n",
    "- precipitation.csv\n",
    "- ouvrages-surverses.csv\n",
    "- test.csv\n",
    "\n",
    "Veuillez le décompresser dans le répertoire de ce calepin.\n",
    "\n",
    "Le fichier *surverse.csv* répertorie s'il y a surverse (1) ou non (0) au cours de la journée pour les 170 ouvrages de débordement de 2013 à 2018 pour les mois de mai à octobre (inclusivement). Des renseignements additionnels sur les données sont disponibles à l'adresse suivante :\n",
    "\n",
    "http://donnees.ville.montreal.qc.ca/dataset/debordement\n",
    "\n",
    "\n",
    "Le fichier *precipitation.csv* contient les précipitations horaires en dixième de *mm* enregistrées à 5 stations pluviométriques de 2013 à 2019 :\n",
    "- McTavish (7024745)\n",
    "- Ste-Anne-de-Bellevue (702FHL8)\n",
    "- Montreal/Pierre Elliott Trudeau Intl (702S006)\n",
    "- Montreal/St-Hubert (7027329)\n",
    "- L’Assomption (7014160)\n",
    "\n",
    "Plus d'informations sur les précipitations sont disponibles à l'adresse suivante :\n",
    "\n",
    "https://climat.meteo.gc.ca/climate_data/hourly_data_f.html?hlyRange=2008-01-08%7C2019-11-12&dlyRange=2002-12-23%7C2019-11-12&mlyRange=%7C&StationID=30165&Prov=QC&urlExtension=_f.html&searchType=stnName&optLimit=yearRange&StartYear=1840&EndYear=2019&selRowPerPage=25&Line=17&searchMethod=contains&Month=11&Day=12&txtStationName=montreal&timeframe=1&Year=2019\n",
    "\n",
    "Le fichier *ouvrages-surverses.csv* contient différentes caractéristiques des ouvrages de débordement. \n",
    "\n",
    "http://donnees.ville.montreal.qc.ca/dataset/ouvrage-surverse\n",
    "\n",
    "Le fichier *test.csv* contient les ouvrages et les jours pour lesquels vous devez prédire s'il y a eu surverse (true) ou non (false). Notez que l'on s'intéresse ici à 5 ouvrages de débordement localisés tout autour de l'Ile de Montréal :\n",
    "- 3260-01D dans Rivière-des-Prairies \n",
    "- 3350-07D dans Ahunstic \n",
    "- 4240-01D dans Pointe-aux-Trembles \n",
    "- 4350-01D dans le Vieux-Montréal \n",
    "- 4380-01D dans Verdun\n",
    "\n",
    "#### Remarque\n",
    "\n",
    "Dans le projet, on ne s'intéresse qu'aux surverses occasionnées par les précipitations. On ignore les surverses occasionnées par \n",
    "- fonte de neige (F)\n",
    "- travaux planifiés et entretien (TPL)\n",
    "- urgence (U)\n",
    "- autre (AUT)\n",
    "\n",
    "On suppose que lorsqu'il n'y a pas de raison pour la surverse, il s'agit d'une surverse causée par les précipitations. Puisque Nous nous intéresserons uniquement aux surverses occasionnées par les précipitations liquides, nous ne considérons que les mois de mai à octobre inclusivement."
   ]
  },
  {
   "cell_type": "code",
   "execution_count": 144,
   "metadata": {},
   "outputs": [],
   "source": [
    "using CSV, DataFrames, Statistics, Dates, Gadfly, Missings"
   ]
  },
  {
   "cell_type": "markdown",
   "metadata": {},
   "source": [
    "# Chargement des données et nettoyage préliminaire"
   ]
  },
  {
   "cell_type": "markdown",
   "metadata": {},
   "source": [
    "## Chargement des surverses"
   ]
  },
  {
   "cell_type": "code",
   "execution_count": 145,
   "metadata": {},
   "outputs": [
    {
     "data": {
      "text/html": [
       "<table class=\"data-frame\"><thead><tr><th></th><th>NO_OUVRAGE</th><th>DATE</th><th>SURVERSE</th><th>RAISON</th></tr><tr><th></th><th>String</th><th>Date</th><th>Int64⍰</th><th>String⍰</th></tr></thead><tbody><p>5 rows × 4 columns</p><tr><th>1</th><td>0642-01D</td><td>2013-05-01</td><td>0</td><td>missing</td></tr><tr><th>2</th><td>0642-01D</td><td>2013-05-02</td><td>0</td><td>missing</td></tr><tr><th>3</th><td>0642-01D</td><td>2013-05-03</td><td>0</td><td>missing</td></tr><tr><th>4</th><td>0642-01D</td><td>2013-05-04</td><td>0</td><td>missing</td></tr><tr><th>5</th><td>0642-01D</td><td>2013-05-05</td><td>0</td><td>missing</td></tr></tbody></table>"
      ],
      "text/latex": [
       "\\begin{tabular}{r|cccc}\n",
       "\t& NO\\_OUVRAGE & DATE & SURVERSE & RAISON\\\\\n",
       "\t\\hline\n",
       "\t& String & Date & Int64⍰ & String⍰\\\\\n",
       "\t\\hline\n",
       "\t1 & 0642-01D & 2013-05-01 & 0 &  \\\\\n",
       "\t2 & 0642-01D & 2013-05-02 & 0 &  \\\\\n",
       "\t3 & 0642-01D & 2013-05-03 & 0 &  \\\\\n",
       "\t4 & 0642-01D & 2013-05-04 & 0 &  \\\\\n",
       "\t5 & 0642-01D & 2013-05-05 & 0 &  \\\\\n",
       "\\end{tabular}\n"
      ],
      "text/plain": [
       "5×4 DataFrame\n",
       "│ Row │ NO_OUVRAGE │ DATE       │ SURVERSE │ RAISON  │\n",
       "│     │ \u001b[90mString\u001b[39m     │ \u001b[90mDate\u001b[39m       │ \u001b[90mInt64⍰\u001b[39m   │ \u001b[90mString⍰\u001b[39m │\n",
       "├─────┼────────────┼────────────┼──────────┼─────────┤\n",
       "│ 1   │ 0642-01D   │ 2013-05-01 │ 0        │ \u001b[90mmissing\u001b[39m │\n",
       "│ 2   │ 0642-01D   │ 2013-05-02 │ 0        │ \u001b[90mmissing\u001b[39m │\n",
       "│ 3   │ 0642-01D   │ 2013-05-03 │ 0        │ \u001b[90mmissing\u001b[39m │\n",
       "│ 4   │ 0642-01D   │ 2013-05-04 │ 0        │ \u001b[90mmissing\u001b[39m │\n",
       "│ 5   │ 0642-01D   │ 2013-05-05 │ 0        │ \u001b[90mmissing\u001b[39m │"
      ]
     },
     "execution_count": 145,
     "metadata": {},
     "output_type": "execute_result"
    }
   ],
   "source": [
    "data = CSV.read(\"data/surverses.csv\",missingstring=\"-99999\")\n",
    "first(data,5)"
   ]
  },
  {
   "cell_type": "markdown",
   "metadata": {},
   "source": [
    "## Nettoyage des données sur les surverses\n",
    "\n",
    "#### Extraction des surverses pour les mois de mai à octobre inclusivement"
   ]
  },
  {
   "cell_type": "code",
   "execution_count": 146,
   "metadata": {},
   "outputs": [
    {
     "data": {
      "text/html": [
       "<table class=\"data-frame\"><thead><tr><th></th><th>NO_OUVRAGE</th><th>DATE</th><th>SURVERSE</th><th>RAISON</th></tr><tr><th></th><th>String</th><th>Date</th><th>Int64⍰</th><th>String⍰</th></tr></thead><tbody><p>5 rows × 4 columns</p><tr><th>1</th><td>0642-01D</td><td>2013-05-01</td><td>0</td><td>missing</td></tr><tr><th>2</th><td>0642-01D</td><td>2013-05-02</td><td>0</td><td>missing</td></tr><tr><th>3</th><td>0642-01D</td><td>2013-05-03</td><td>0</td><td>missing</td></tr><tr><th>4</th><td>0642-01D</td><td>2013-05-04</td><td>0</td><td>missing</td></tr><tr><th>5</th><td>0642-01D</td><td>2013-05-05</td><td>0</td><td>missing</td></tr></tbody></table>"
      ],
      "text/latex": [
       "\\begin{tabular}{r|cccc}\n",
       "\t& NO\\_OUVRAGE & DATE & SURVERSE & RAISON\\\\\n",
       "\t\\hline\n",
       "\t& String & Date & Int64⍰ & String⍰\\\\\n",
       "\t\\hline\n",
       "\t1 & 0642-01D & 2013-05-01 & 0 &  \\\\\n",
       "\t2 & 0642-01D & 2013-05-02 & 0 &  \\\\\n",
       "\t3 & 0642-01D & 2013-05-03 & 0 &  \\\\\n",
       "\t4 & 0642-01D & 2013-05-04 & 0 &  \\\\\n",
       "\t5 & 0642-01D & 2013-05-05 & 0 &  \\\\\n",
       "\\end{tabular}\n"
      ],
      "text/plain": [
       "5×4 DataFrame\n",
       "│ Row │ NO_OUVRAGE │ DATE       │ SURVERSE │ RAISON  │\n",
       "│     │ \u001b[90mString\u001b[39m     │ \u001b[90mDate\u001b[39m       │ \u001b[90mInt64⍰\u001b[39m   │ \u001b[90mString⍰\u001b[39m │\n",
       "├─────┼────────────┼────────────┼──────────┼─────────┤\n",
       "│ 1   │ 0642-01D   │ 2013-05-01 │ 0        │ \u001b[90mmissing\u001b[39m │\n",
       "│ 2   │ 0642-01D   │ 2013-05-02 │ 0        │ \u001b[90mmissing\u001b[39m │\n",
       "│ 3   │ 0642-01D   │ 2013-05-03 │ 0        │ \u001b[90mmissing\u001b[39m │\n",
       "│ 4   │ 0642-01D   │ 2013-05-04 │ 0        │ \u001b[90mmissing\u001b[39m │\n",
       "│ 5   │ 0642-01D   │ 2013-05-05 │ 0        │ \u001b[90mmissing\u001b[39m │"
      ]
     },
     "execution_count": 146,
     "metadata": {},
     "output_type": "execute_result"
    }
   ],
   "source": [
    "data = filter(row -> month(row.DATE) > 4, data) \n",
    "data = filter(row -> month(row.DATE) < 11, data) \n",
    "first(data,5)"
   ]
  },
  {
   "cell_type": "markdown",
   "metadata": {},
   "source": [
    "#### Remplacement des valeurs *missing* dans la colonne :RAISON par \"Inconnue\""
   ]
  },
  {
   "cell_type": "code",
   "execution_count": 147,
   "metadata": {},
   "outputs": [
    {
     "data": {
      "text/html": [
       "<table class=\"data-frame\"><thead><tr><th></th><th>NO_OUVRAGE</th><th>DATE</th><th>SURVERSE</th><th>RAISON</th></tr><tr><th></th><th>String</th><th>Date</th><th>Int64⍰</th><th>String</th></tr></thead><tbody><p>5 rows × 4 columns</p><tr><th>1</th><td>0642-01D</td><td>2013-05-01</td><td>0</td><td>Inconnue</td></tr><tr><th>2</th><td>0642-01D</td><td>2013-05-02</td><td>0</td><td>Inconnue</td></tr><tr><th>3</th><td>0642-01D</td><td>2013-05-03</td><td>0</td><td>Inconnue</td></tr><tr><th>4</th><td>0642-01D</td><td>2013-05-04</td><td>0</td><td>Inconnue</td></tr><tr><th>5</th><td>0642-01D</td><td>2013-05-05</td><td>0</td><td>Inconnue</td></tr></tbody></table>"
      ],
      "text/latex": [
       "\\begin{tabular}{r|cccc}\n",
       "\t& NO\\_OUVRAGE & DATE & SURVERSE & RAISON\\\\\n",
       "\t\\hline\n",
       "\t& String & Date & Int64⍰ & String\\\\\n",
       "\t\\hline\n",
       "\t1 & 0642-01D & 2013-05-01 & 0 & Inconnue \\\\\n",
       "\t2 & 0642-01D & 2013-05-02 & 0 & Inconnue \\\\\n",
       "\t3 & 0642-01D & 2013-05-03 & 0 & Inconnue \\\\\n",
       "\t4 & 0642-01D & 2013-05-04 & 0 & Inconnue \\\\\n",
       "\t5 & 0642-01D & 2013-05-05 & 0 & Inconnue \\\\\n",
       "\\end{tabular}\n"
      ],
      "text/plain": [
       "5×4 DataFrame\n",
       "│ Row │ NO_OUVRAGE │ DATE       │ SURVERSE │ RAISON   │\n",
       "│     │ \u001b[90mString\u001b[39m     │ \u001b[90mDate\u001b[39m       │ \u001b[90mInt64⍰\u001b[39m   │ \u001b[90mString\u001b[39m   │\n",
       "├─────┼────────────┼────────────┼──────────┼──────────┤\n",
       "│ 1   │ 0642-01D   │ 2013-05-01 │ 0        │ Inconnue │\n",
       "│ 2   │ 0642-01D   │ 2013-05-02 │ 0        │ Inconnue │\n",
       "│ 3   │ 0642-01D   │ 2013-05-03 │ 0        │ Inconnue │\n",
       "│ 4   │ 0642-01D   │ 2013-05-04 │ 0        │ Inconnue │\n",
       "│ 5   │ 0642-01D   │ 2013-05-05 │ 0        │ Inconnue │"
      ]
     },
     "execution_count": 147,
     "metadata": {},
     "output_type": "execute_result"
    }
   ],
   "source": [
    "raison = coalesce.(data[:,:RAISON],\"Inconnue\")\n",
    "data[!,:RAISON] = raison\n",
    "first(data,5)"
   ]
  },
  {
   "cell_type": "markdown",
   "metadata": {},
   "source": [
    "#### Exlusion des surverses coccasionnées par d'autres facteurs que les précipitations liquides\n",
    "\n",
    "Ces facteurs correspondent à : \n",
    "- la fonte de neige (F), \n",
    "- les travaux planifiés et entretien (TPL)\n",
    "- urgence (U)\n",
    "- autre (AUT)"
   ]
  },
  {
   "cell_type": "code",
   "execution_count": 148,
   "metadata": {},
   "outputs": [
    {
     "data": {
      "text/html": [
       "<table class=\"data-frame\"><thead><tr><th></th><th>NO_OUVRAGE</th><th>DATE</th><th>SURVERSE</th></tr><tr><th></th><th>String</th><th>Date</th><th>Int64⍰</th></tr></thead><tbody><p>176,667 rows × 3 columns</p><tr><th>1</th><td>0642-01D</td><td>2013-05-01</td><td>0</td></tr><tr><th>2</th><td>0642-01D</td><td>2013-05-02</td><td>0</td></tr><tr><th>3</th><td>0642-01D</td><td>2013-05-03</td><td>0</td></tr><tr><th>4</th><td>0642-01D</td><td>2013-05-04</td><td>0</td></tr><tr><th>5</th><td>0642-01D</td><td>2013-05-05</td><td>0</td></tr><tr><th>6</th><td>0642-01D</td><td>2013-05-06</td><td>0</td></tr><tr><th>7</th><td>0642-01D</td><td>2013-05-07</td><td>0</td></tr><tr><th>8</th><td>0642-01D</td><td>2013-05-08</td><td>0</td></tr><tr><th>9</th><td>0642-01D</td><td>2013-05-09</td><td>0</td></tr><tr><th>10</th><td>0642-01D</td><td>2013-05-10</td><td>0</td></tr><tr><th>11</th><td>0642-01D</td><td>2013-05-11</td><td>0</td></tr><tr><th>12</th><td>0642-01D</td><td>2013-05-12</td><td>0</td></tr><tr><th>13</th><td>0642-01D</td><td>2013-05-13</td><td>0</td></tr><tr><th>14</th><td>0642-01D</td><td>2013-05-14</td><td>0</td></tr><tr><th>15</th><td>0642-01D</td><td>2013-05-15</td><td>0</td></tr><tr><th>16</th><td>0642-01D</td><td>2013-05-16</td><td>0</td></tr><tr><th>17</th><td>0642-01D</td><td>2013-05-17</td><td>0</td></tr><tr><th>18</th><td>0642-01D</td><td>2013-05-18</td><td>0</td></tr><tr><th>19</th><td>0642-01D</td><td>2013-05-19</td><td>0</td></tr><tr><th>20</th><td>0642-01D</td><td>2013-05-20</td><td>0</td></tr><tr><th>21</th><td>0642-01D</td><td>2013-05-21</td><td>0</td></tr><tr><th>22</th><td>0642-01D</td><td>2013-05-22</td><td>0</td></tr><tr><th>23</th><td>0642-01D</td><td>2013-05-23</td><td>0</td></tr><tr><th>24</th><td>0642-01D</td><td>2013-05-24</td><td>0</td></tr><tr><th>25</th><td>0642-01D</td><td>2013-05-25</td><td>0</td></tr><tr><th>26</th><td>0642-01D</td><td>2013-05-26</td><td>0</td></tr><tr><th>27</th><td>0642-01D</td><td>2013-05-27</td><td>0</td></tr><tr><th>28</th><td>0642-01D</td><td>2013-05-28</td><td>0</td></tr><tr><th>29</th><td>0642-01D</td><td>2013-05-29</td><td>0</td></tr><tr><th>30</th><td>0642-01D</td><td>2013-05-30</td><td>0</td></tr><tr><th>&vellip;</th><td>&vellip;</td><td>&vellip;</td><td>&vellip;</td></tr></tbody></table>"
      ],
      "text/latex": [
       "\\begin{tabular}{r|ccc}\n",
       "\t& NO\\_OUVRAGE & DATE & SURVERSE\\\\\n",
       "\t\\hline\n",
       "\t& String & Date & Int64⍰\\\\\n",
       "\t\\hline\n",
       "\t1 & 0642-01D & 2013-05-01 & 0 \\\\\n",
       "\t2 & 0642-01D & 2013-05-02 & 0 \\\\\n",
       "\t3 & 0642-01D & 2013-05-03 & 0 \\\\\n",
       "\t4 & 0642-01D & 2013-05-04 & 0 \\\\\n",
       "\t5 & 0642-01D & 2013-05-05 & 0 \\\\\n",
       "\t6 & 0642-01D & 2013-05-06 & 0 \\\\\n",
       "\t7 & 0642-01D & 2013-05-07 & 0 \\\\\n",
       "\t8 & 0642-01D & 2013-05-08 & 0 \\\\\n",
       "\t9 & 0642-01D & 2013-05-09 & 0 \\\\\n",
       "\t10 & 0642-01D & 2013-05-10 & 0 \\\\\n",
       "\t11 & 0642-01D & 2013-05-11 & 0 \\\\\n",
       "\t12 & 0642-01D & 2013-05-12 & 0 \\\\\n",
       "\t13 & 0642-01D & 2013-05-13 & 0 \\\\\n",
       "\t14 & 0642-01D & 2013-05-14 & 0 \\\\\n",
       "\t15 & 0642-01D & 2013-05-15 & 0 \\\\\n",
       "\t16 & 0642-01D & 2013-05-16 & 0 \\\\\n",
       "\t17 & 0642-01D & 2013-05-17 & 0 \\\\\n",
       "\t18 & 0642-01D & 2013-05-18 & 0 \\\\\n",
       "\t19 & 0642-01D & 2013-05-19 & 0 \\\\\n",
       "\t20 & 0642-01D & 2013-05-20 & 0 \\\\\n",
       "\t21 & 0642-01D & 2013-05-21 & 0 \\\\\n",
       "\t22 & 0642-01D & 2013-05-22 & 0 \\\\\n",
       "\t23 & 0642-01D & 2013-05-23 & 0 \\\\\n",
       "\t24 & 0642-01D & 2013-05-24 & 0 \\\\\n",
       "\t25 & 0642-01D & 2013-05-25 & 0 \\\\\n",
       "\t26 & 0642-01D & 2013-05-26 & 0 \\\\\n",
       "\t27 & 0642-01D & 2013-05-27 & 0 \\\\\n",
       "\t28 & 0642-01D & 2013-05-28 & 0 \\\\\n",
       "\t29 & 0642-01D & 2013-05-29 & 0 \\\\\n",
       "\t30 & 0642-01D & 2013-05-30 & 0 \\\\\n",
       "\t$\\dots$ & $\\dots$ & $\\dots$ & $\\dots$ \\\\\n",
       "\\end{tabular}\n"
      ],
      "text/plain": [
       "176667×3 DataFrame\n",
       "│ Row    │ NO_OUVRAGE │ DATE       │ SURVERSE │\n",
       "│        │ \u001b[90mString\u001b[39m     │ \u001b[90mDate\u001b[39m       │ \u001b[90mInt64⍰\u001b[39m   │\n",
       "├────────┼────────────┼────────────┼──────────┤\n",
       "│ 1      │ 0642-01D   │ 2013-05-01 │ 0        │\n",
       "│ 2      │ 0642-01D   │ 2013-05-02 │ 0        │\n",
       "│ 3      │ 0642-01D   │ 2013-05-03 │ 0        │\n",
       "│ 4      │ 0642-01D   │ 2013-05-04 │ 0        │\n",
       "│ 5      │ 0642-01D   │ 2013-05-05 │ 0        │\n",
       "│ 6      │ 0642-01D   │ 2013-05-06 │ 0        │\n",
       "│ 7      │ 0642-01D   │ 2013-05-07 │ 0        │\n",
       "│ 8      │ 0642-01D   │ 2013-05-08 │ 0        │\n",
       "│ 9      │ 0642-01D   │ 2013-05-09 │ 0        │\n",
       "│ 10     │ 0642-01D   │ 2013-05-10 │ 0        │\n",
       "⋮\n",
       "│ 176657 │ 4560-02D   │ 2018-10-21 │ \u001b[90mmissing\u001b[39m  │\n",
       "│ 176658 │ 4560-02D   │ 2018-10-22 │ \u001b[90mmissing\u001b[39m  │\n",
       "│ 176659 │ 4560-02D   │ 2018-10-23 │ \u001b[90mmissing\u001b[39m  │\n",
       "│ 176660 │ 4560-02D   │ 2018-10-24 │ \u001b[90mmissing\u001b[39m  │\n",
       "│ 176661 │ 4560-02D   │ 2018-10-25 │ \u001b[90mmissing\u001b[39m  │\n",
       "│ 176662 │ 4560-02D   │ 2018-10-26 │ \u001b[90mmissing\u001b[39m  │\n",
       "│ 176663 │ 4560-02D   │ 2018-10-27 │ \u001b[90mmissing\u001b[39m  │\n",
       "│ 176664 │ 4560-02D   │ 2018-10-28 │ \u001b[90mmissing\u001b[39m  │\n",
       "│ 176665 │ 4560-02D   │ 2018-10-29 │ \u001b[90mmissing\u001b[39m  │\n",
       "│ 176666 │ 4560-02D   │ 2018-10-30 │ \u001b[90mmissing\u001b[39m  │\n",
       "│ 176667 │ 4560-02D   │ 2018-10-31 │ \u001b[90mmissing\u001b[39m  │"
      ]
     },
     "execution_count": 148,
     "metadata": {},
     "output_type": "execute_result"
    }
   ],
   "source": [
    "data = filter(row -> row.RAISON ∈ [\"P\",\"Inconnue\",\"TS\"], data) \n",
    "select!(data, [:NO_OUVRAGE, :DATE, :SURVERSE])\n",
    "first(data,5)\n",
    "data"
   ]
  },
  {
   "cell_type": "code",
   "execution_count": null,
   "metadata": {},
   "outputs": [],
   "source": []
  },
  {
   "cell_type": "markdown",
   "metadata": {},
   "source": [
    "#### Exclusion des lignes où :SURVERSE est manquante"
   ]
  },
  {
   "cell_type": "code",
   "execution_count": 149,
   "metadata": {},
   "outputs": [],
   "source": [
    "surverse_df = dropmissing(data, disallowmissing=true);"
   ]
  },
  {
   "cell_type": "code",
   "execution_count": 150,
   "metadata": {},
   "outputs": [
    {
     "name": "stderr",
     "output_type": "stream",
     "text": [
      "┌ Warning: `getindex(df::DataFrame, col_ind::ColumnIndex)` is deprecated, use `df[!, col_ind]` instead.\n",
      "│   caller = top-level scope at In[150]:1\n",
      "└ @ Core In[150]:1\n",
      "┌ Warning: `getindex(df::DataFrame, col_ind::ColumnIndex)` is deprecated, use `df[!, col_ind]` instead.\n",
      "│   caller = top-level scope at In[150]:2\n",
      "└ @ Core In[150]:2\n"
     ]
    },
    {
     "data": {
      "text/plain": [
       "1-element Array{Int64,1}:\n",
       " 161098"
      ]
     },
     "execution_count": 150,
     "metadata": {},
     "output_type": "execute_result"
    }
   ],
   "source": [
    "n₁ = sum(x->x==1, surverse_df[:SURVERSE], dims=1) \n",
    "n₀ = sum(x->x==0, surverse_df[:SURVERSE], dims=1) \n",
    "n = n₀ + n₁"
   ]
  },
  {
   "cell_type": "code",
   "execution_count": 151,
   "metadata": {},
   "outputs": [],
   "source": [
    "filtervals = [\"3260-01D\"; \"3350-07D\"; \"4240-01D\"; \"4350-01D\"; \"4380-01D\"]\n",
    "surverse_df1 = filter(row-> row.NO_OUVRAGE == filtervals[1], surverse_df)\n",
    "surverse_df2 = filter(row-> row.NO_OUVRAGE == filtervals[2], surverse_df)\n",
    "surverse_df3 = filter(row-> row.NO_OUVRAGE == filtervals[3], surverse_df)\n",
    "surverse_df4 = filter(row-> row.NO_OUVRAGE == filtervals[4], surverse_df)\n",
    "surverse_df5 = filter(row-> row.NO_OUVRAGE == filtervals[5], surverse_df);"
   ]
  },
  {
   "cell_type": "code",
   "execution_count": 152,
   "metadata": {},
   "outputs": [
    {
     "data": {
      "text/plain": [
       "0-element Array{Int64,1}"
      ]
     },
     "execution_count": 152,
     "metadata": {},
     "output_type": "execute_result"
    }
   ],
   "source": [
    "#### on prend pour chaque ouvrage le nombre de fois ou il a eu surver et non\n",
    "n₁ = Int64[]\n",
    "n₀  = Int64[]\n",
    "n  = Int64[]"
   ]
  },
  {
   "cell_type": "code",
   "execution_count": 153,
   "metadata": {},
   "outputs": [
    {
     "name": "stderr",
     "output_type": "stream",
     "text": [
      "┌ Warning: `getindex(df::DataFrame, col_ind::ColumnIndex)` is deprecated, use `df[!, col_ind]` instead.\n",
      "│   caller = top-level scope at In[153]:1\n",
      "└ @ Core In[153]:1\n",
      "┌ Warning: `getindex(df::DataFrame, col_ind::ColumnIndex)` is deprecated, use `df[!, col_ind]` instead.\n",
      "│   caller = top-level scope at In[153]:3\n",
      "└ @ Core In[153]:3\n"
     ]
    },
    {
     "data": {
      "text/plain": [
       "1-element Array{Int64,1}:\n",
       " 1097"
      ]
     },
     "execution_count": 153,
     "metadata": {},
     "output_type": "execute_result"
    }
   ],
   "source": [
    "n1₁ = sum(x->x==1, surverse_df1[:SURVERSE], dims=1) \n",
    "push!(n₁, n1₁[1])\n",
    "n1₀ = sum(x->x==0, surverse_df1[:SURVERSE], dims=1)  \n",
    "push!(n₀, n1₀[1])\n",
    "n1= n1₁[1] + n1₀[1]\n",
    "push!(n, n1)"
   ]
  },
  {
   "cell_type": "code",
   "execution_count": 154,
   "metadata": {},
   "outputs": [
    {
     "name": "stderr",
     "output_type": "stream",
     "text": [
      "┌ Warning: `getindex(df::DataFrame, col_ind::ColumnIndex)` is deprecated, use `df[!, col_ind]` instead.\n",
      "│   caller = top-level scope at In[154]:1\n",
      "└ @ Core In[154]:1\n",
      "┌ Warning: `getindex(df::DataFrame, col_ind::ColumnIndex)` is deprecated, use `df[!, col_ind]` instead.\n",
      "│   caller = top-level scope at In[154]:3\n",
      "└ @ Core In[154]:3\n"
     ]
    },
    {
     "data": {
      "text/plain": [
       "2-element Array{Int64,1}:\n",
       " 1097\n",
       "  729"
      ]
     },
     "execution_count": 154,
     "metadata": {},
     "output_type": "execute_result"
    }
   ],
   "source": [
    "n1₁ = sum(x->x==1, surverse_df2[:SURVERSE], dims=1) \n",
    "push!(n₁, n1₁[1])\n",
    "n1₀ = sum(x->x==0, surverse_df2[:SURVERSE], dims=1)  \n",
    "push!(n₀, n1₀[1])\n",
    "n1= n1₁[1] + n1₀[1]\n",
    "push!(n, n1)"
   ]
  },
  {
   "cell_type": "code",
   "execution_count": 155,
   "metadata": {},
   "outputs": [
    {
     "name": "stderr",
     "output_type": "stream",
     "text": [
      "┌ Warning: `getindex(df::DataFrame, col_ind::ColumnIndex)` is deprecated, use `df[!, col_ind]` instead.\n",
      "│   caller = top-level scope at In[155]:1\n",
      "└ @ Core In[155]:1\n",
      "┌ Warning: `getindex(df::DataFrame, col_ind::ColumnIndex)` is deprecated, use `df[!, col_ind]` instead.\n",
      "│   caller = top-level scope at In[155]:3\n",
      "└ @ Core In[155]:3\n"
     ]
    },
    {
     "data": {
      "text/plain": [
       "3-element Array{Int64,1}:\n",
       " 1097\n",
       "  729\n",
       " 1100"
      ]
     },
     "execution_count": 155,
     "metadata": {},
     "output_type": "execute_result"
    }
   ],
   "source": [
    "n1₁ = sum(x->x==1, surverse_df3[:SURVERSE], dims=1) \n",
    "push!(n₁, n1₁[1])\n",
    "n1₀ = sum(x->x==0, surverse_df3[:SURVERSE], dims=1)  \n",
    "push!(n₀, n1₀[1])\n",
    "n1= n1₁[1] + n1₀[1]\n",
    "push!(n, n1)"
   ]
  },
  {
   "cell_type": "code",
   "execution_count": 156,
   "metadata": {},
   "outputs": [
    {
     "name": "stderr",
     "output_type": "stream",
     "text": [
      "┌ Warning: `getindex(df::DataFrame, col_ind::ColumnIndex)` is deprecated, use `df[!, col_ind]` instead.\n",
      "│   caller = top-level scope at In[156]:1\n",
      "└ @ Core In[156]:1\n",
      "┌ Warning: `getindex(df::DataFrame, col_ind::ColumnIndex)` is deprecated, use `df[!, col_ind]` instead.\n",
      "│   caller = top-level scope at In[156]:3\n",
      "└ @ Core In[156]:3\n"
     ]
    },
    {
     "data": {
      "text/plain": [
       "4-element Array{Int64,1}:\n",
       " 1097\n",
       "  729\n",
       " 1100\n",
       " 1100"
      ]
     },
     "execution_count": 156,
     "metadata": {},
     "output_type": "execute_result"
    }
   ],
   "source": [
    "n1₁ = sum(x->x==1, surverse_df4[:SURVERSE], dims=1) \n",
    "push!(n₁, n1₁[1])\n",
    "n1₀ = sum(x->x==0, surverse_df4[:SURVERSE], dims=1)  \n",
    "push!(n₀, n1₀[1])\n",
    "n1= n1₁[1] + n1₀[1]\n",
    "push!(n, n1)"
   ]
  },
  {
   "cell_type": "code",
   "execution_count": 157,
   "metadata": {},
   "outputs": [
    {
     "name": "stderr",
     "output_type": "stream",
     "text": [
      "┌ Warning: `getindex(df::DataFrame, col_ind::ColumnIndex)` is deprecated, use `df[!, col_ind]` instead.\n",
      "│   caller = top-level scope at In[157]:1\n",
      "└ @ Core In[157]:1\n",
      "┌ Warning: `getindex(df::DataFrame, col_ind::ColumnIndex)` is deprecated, use `df[!, col_ind]` instead.\n",
      "│   caller = top-level scope at In[157]:3\n",
      "└ @ Core In[157]:3\n"
     ]
    },
    {
     "data": {
      "text/plain": [
       "5-element Array{Int64,1}:\n",
       " 1097\n",
       "  729\n",
       " 1100\n",
       " 1100\n",
       " 1103"
      ]
     },
     "execution_count": 157,
     "metadata": {},
     "output_type": "execute_result"
    }
   ],
   "source": [
    "n1₁ = sum(x->x==1, surverse_df5[:SURVERSE], dims=1) \n",
    "push!(n₁, n1₁[1])\n",
    "n1₀ = sum(x->x==0, surverse_df5[:SURVERSE], dims=1)  \n",
    "push!(n₀, n1₀[1])\n",
    "n1= n1₁[1] + n1₀[1]\n",
    "push!(n, n1)"
   ]
  },
  {
   "cell_type": "code",
   "execution_count": 158,
   "metadata": {},
   "outputs": [
    {
     "data": {
      "text/plain": [
       "5-element Array{Int64,1}:\n",
       " 1097\n",
       "  729\n",
       " 1100\n",
       " 1100\n",
       " 1103"
      ]
     },
     "execution_count": 158,
     "metadata": {},
     "output_type": "execute_result"
    }
   ],
   "source": [
    "n"
   ]
  },
  {
   "cell_type": "markdown",
   "metadata": {},
   "source": [
    "## Chargement des précipitations"
   ]
  },
  {
   "cell_type": "code",
   "execution_count": 159,
   "metadata": {},
   "outputs": [
    {
     "data": {
      "text/html": [
       "<table class=\"data-frame\"><thead><tr><th></th><th>date</th><th>heure</th><th>McTavish</th><th>Bellevue</th><th>Assomption</th><th>Trudeau</th><th>StHubert</th></tr><tr><th></th><th>Date</th><th>Int64</th><th>Int64⍰</th><th>Int64⍰</th><th>Int64⍰</th><th>Int64⍰</th><th>Int64⍰</th></tr></thead><tbody><p>5 rows × 7 columns</p><tr><th>1</th><td>2013-01-01</td><td>0</td><td>0</td><td>0</td><td>0</td><td>0</td><td>missing</td></tr><tr><th>2</th><td>2013-01-01</td><td>1</td><td>0</td><td>0</td><td>0</td><td>0</td><td>missing</td></tr><tr><th>3</th><td>2013-01-01</td><td>2</td><td>0</td><td>0</td><td>0</td><td>0</td><td>missing</td></tr><tr><th>4</th><td>2013-01-01</td><td>3</td><td>0</td><td>0</td><td>0</td><td>0</td><td>missing</td></tr><tr><th>5</th><td>2013-01-01</td><td>4</td><td>0</td><td>0</td><td>0</td><td>0</td><td>missing</td></tr></tbody></table>"
      ],
      "text/latex": [
       "\\begin{tabular}{r|ccccccc}\n",
       "\t& date & heure & McTavish & Bellevue & Assomption & Trudeau & StHubert\\\\\n",
       "\t\\hline\n",
       "\t& Date & Int64 & Int64⍰ & Int64⍰ & Int64⍰ & Int64⍰ & Int64⍰\\\\\n",
       "\t\\hline\n",
       "\t1 & 2013-01-01 & 0 & 0 & 0 & 0 & 0 &  \\\\\n",
       "\t2 & 2013-01-01 & 1 & 0 & 0 & 0 & 0 &  \\\\\n",
       "\t3 & 2013-01-01 & 2 & 0 & 0 & 0 & 0 &  \\\\\n",
       "\t4 & 2013-01-01 & 3 & 0 & 0 & 0 & 0 &  \\\\\n",
       "\t5 & 2013-01-01 & 4 & 0 & 0 & 0 & 0 &  \\\\\n",
       "\\end{tabular}\n"
      ],
      "text/plain": [
       "5×7 DataFrame. Omitted printing of 1 columns\n",
       "│ Row │ date       │ heure │ McTavish │ Bellevue │ Assomption │ Trudeau │\n",
       "│     │ \u001b[90mDate\u001b[39m       │ \u001b[90mInt64\u001b[39m │ \u001b[90mInt64⍰\u001b[39m   │ \u001b[90mInt64⍰\u001b[39m   │ \u001b[90mInt64⍰\u001b[39m     │ \u001b[90mInt64⍰\u001b[39m  │\n",
       "├─────┼────────────┼───────┼──────────┼──────────┼────────────┼─────────┤\n",
       "│ 1   │ 2013-01-01 │ 0     │ 0        │ 0        │ 0          │ 0       │\n",
       "│ 2   │ 2013-01-01 │ 1     │ 0        │ 0        │ 0          │ 0       │\n",
       "│ 3   │ 2013-01-01 │ 2     │ 0        │ 0        │ 0          │ 0       │\n",
       "│ 4   │ 2013-01-01 │ 3     │ 0        │ 0        │ 0          │ 0       │\n",
       "│ 5   │ 2013-01-01 │ 4     │ 0        │ 0        │ 0          │ 0       │"
      ]
     },
     "execution_count": 159,
     "metadata": {},
     "output_type": "execute_result"
    }
   ],
   "source": [
    "data = CSV.read(\"data/precipitations.csv\",missingstring=\"-99999\")\n",
    "rename!(data, Symbol(\"St-Hubert\")=>:StHubert)\n",
    "first(data,5)"
   ]
  },
  {
   "cell_type": "markdown",
   "metadata": {},
   "source": [
    "## Nettoyage des données sur les précipitations\n",
    "\n",
    "#### Extraction des précipitations des mois de mai à octobre inclusivement"
   ]
  },
  {
   "cell_type": "code",
   "execution_count": 160,
   "metadata": {},
   "outputs": [
    {
     "data": {
      "text/html": [
       "<table class=\"data-frame\"><thead><tr><th></th><th>date</th><th>heure</th><th>McTavish</th><th>Bellevue</th><th>Assomption</th><th>Trudeau</th><th>StHubert</th></tr><tr><th></th><th>Date</th><th>Int64</th><th>Int64⍰</th><th>Int64⍰</th><th>Int64⍰</th><th>Int64⍰</th><th>Int64⍰</th></tr></thead><tbody><p>30,912 rows × 7 columns</p><tr><th>1</th><td>2013-05-01</td><td>0</td><td>0</td><td>0</td><td>0</td><td>0</td><td>missing</td></tr><tr><th>2</th><td>2013-05-01</td><td>1</td><td>0</td><td>0</td><td>0</td><td>0</td><td>missing</td></tr><tr><th>3</th><td>2013-05-01</td><td>2</td><td>0</td><td>0</td><td>0</td><td>0</td><td>missing</td></tr><tr><th>4</th><td>2013-05-01</td><td>3</td><td>0</td><td>0</td><td>0</td><td>0</td><td>missing</td></tr><tr><th>5</th><td>2013-05-01</td><td>4</td><td>0</td><td>0</td><td>0</td><td>0</td><td>missing</td></tr><tr><th>6</th><td>2013-05-01</td><td>5</td><td>0</td><td>0</td><td>0</td><td>0</td><td>missing</td></tr><tr><th>7</th><td>2013-05-01</td><td>6</td><td>0</td><td>0</td><td>0</td><td>0</td><td>missing</td></tr><tr><th>8</th><td>2013-05-01</td><td>7</td><td>0</td><td>0</td><td>0</td><td>0</td><td>missing</td></tr><tr><th>9</th><td>2013-05-01</td><td>8</td><td>0</td><td>0</td><td>0</td><td>0</td><td>missing</td></tr><tr><th>10</th><td>2013-05-01</td><td>9</td><td>0</td><td>0</td><td>0</td><td>0</td><td>missing</td></tr><tr><th>11</th><td>2013-05-01</td><td>10</td><td>0</td><td>0</td><td>0</td><td>0</td><td>missing</td></tr><tr><th>12</th><td>2013-05-01</td><td>11</td><td>0</td><td>0</td><td>0</td><td>0</td><td>missing</td></tr><tr><th>13</th><td>2013-05-01</td><td>12</td><td>0</td><td>0</td><td>0</td><td>0</td><td>missing</td></tr><tr><th>14</th><td>2013-05-01</td><td>13</td><td>0</td><td>0</td><td>0</td><td>0</td><td>missing</td></tr><tr><th>15</th><td>2013-05-01</td><td>14</td><td>0</td><td>0</td><td>0</td><td>0</td><td>missing</td></tr><tr><th>16</th><td>2013-05-01</td><td>15</td><td>0</td><td>0</td><td>0</td><td>0</td><td>missing</td></tr><tr><th>17</th><td>2013-05-01</td><td>16</td><td>0</td><td>0</td><td>0</td><td>0</td><td>missing</td></tr><tr><th>18</th><td>2013-05-01</td><td>17</td><td>0</td><td>0</td><td>0</td><td>0</td><td>missing</td></tr><tr><th>19</th><td>2013-05-01</td><td>18</td><td>0</td><td>0</td><td>0</td><td>0</td><td>missing</td></tr><tr><th>20</th><td>2013-05-01</td><td>19</td><td>0</td><td>0</td><td>0</td><td>0</td><td>missing</td></tr><tr><th>21</th><td>2013-05-01</td><td>20</td><td>0</td><td>0</td><td>0</td><td>0</td><td>missing</td></tr><tr><th>22</th><td>2013-05-01</td><td>21</td><td>0</td><td>0</td><td>0</td><td>0</td><td>missing</td></tr><tr><th>23</th><td>2013-05-01</td><td>22</td><td>0</td><td>0</td><td>0</td><td>0</td><td>missing</td></tr><tr><th>24</th><td>2013-05-01</td><td>23</td><td>0</td><td>0</td><td>0</td><td>0</td><td>missing</td></tr><tr><th>25</th><td>2013-05-02</td><td>0</td><td>0</td><td>0</td><td>0</td><td>0</td><td>missing</td></tr><tr><th>26</th><td>2013-05-02</td><td>1</td><td>0</td><td>0</td><td>0</td><td>0</td><td>missing</td></tr><tr><th>27</th><td>2013-05-02</td><td>2</td><td>0</td><td>0</td><td>0</td><td>0</td><td>missing</td></tr><tr><th>28</th><td>2013-05-02</td><td>3</td><td>0</td><td>0</td><td>0</td><td>0</td><td>missing</td></tr><tr><th>29</th><td>2013-05-02</td><td>4</td><td>0</td><td>0</td><td>0</td><td>0</td><td>missing</td></tr><tr><th>30</th><td>2013-05-02</td><td>5</td><td>0</td><td>0</td><td>0</td><td>0</td><td>missing</td></tr><tr><th>&vellip;</th><td>&vellip;</td><td>&vellip;</td><td>&vellip;</td><td>&vellip;</td><td>&vellip;</td><td>&vellip;</td><td>&vellip;</td></tr></tbody></table>"
      ],
      "text/latex": [
       "\\begin{tabular}{r|ccccccc}\n",
       "\t& date & heure & McTavish & Bellevue & Assomption & Trudeau & StHubert\\\\\n",
       "\t\\hline\n",
       "\t& Date & Int64 & Int64⍰ & Int64⍰ & Int64⍰ & Int64⍰ & Int64⍰\\\\\n",
       "\t\\hline\n",
       "\t1 & 2013-05-01 & 0 & 0 & 0 & 0 & 0 &  \\\\\n",
       "\t2 & 2013-05-01 & 1 & 0 & 0 & 0 & 0 &  \\\\\n",
       "\t3 & 2013-05-01 & 2 & 0 & 0 & 0 & 0 &  \\\\\n",
       "\t4 & 2013-05-01 & 3 & 0 & 0 & 0 & 0 &  \\\\\n",
       "\t5 & 2013-05-01 & 4 & 0 & 0 & 0 & 0 &  \\\\\n",
       "\t6 & 2013-05-01 & 5 & 0 & 0 & 0 & 0 &  \\\\\n",
       "\t7 & 2013-05-01 & 6 & 0 & 0 & 0 & 0 &  \\\\\n",
       "\t8 & 2013-05-01 & 7 & 0 & 0 & 0 & 0 &  \\\\\n",
       "\t9 & 2013-05-01 & 8 & 0 & 0 & 0 & 0 &  \\\\\n",
       "\t10 & 2013-05-01 & 9 & 0 & 0 & 0 & 0 &  \\\\\n",
       "\t11 & 2013-05-01 & 10 & 0 & 0 & 0 & 0 &  \\\\\n",
       "\t12 & 2013-05-01 & 11 & 0 & 0 & 0 & 0 &  \\\\\n",
       "\t13 & 2013-05-01 & 12 & 0 & 0 & 0 & 0 &  \\\\\n",
       "\t14 & 2013-05-01 & 13 & 0 & 0 & 0 & 0 &  \\\\\n",
       "\t15 & 2013-05-01 & 14 & 0 & 0 & 0 & 0 &  \\\\\n",
       "\t16 & 2013-05-01 & 15 & 0 & 0 & 0 & 0 &  \\\\\n",
       "\t17 & 2013-05-01 & 16 & 0 & 0 & 0 & 0 &  \\\\\n",
       "\t18 & 2013-05-01 & 17 & 0 & 0 & 0 & 0 &  \\\\\n",
       "\t19 & 2013-05-01 & 18 & 0 & 0 & 0 & 0 &  \\\\\n",
       "\t20 & 2013-05-01 & 19 & 0 & 0 & 0 & 0 &  \\\\\n",
       "\t21 & 2013-05-01 & 20 & 0 & 0 & 0 & 0 &  \\\\\n",
       "\t22 & 2013-05-01 & 21 & 0 & 0 & 0 & 0 &  \\\\\n",
       "\t23 & 2013-05-01 & 22 & 0 & 0 & 0 & 0 &  \\\\\n",
       "\t24 & 2013-05-01 & 23 & 0 & 0 & 0 & 0 &  \\\\\n",
       "\t25 & 2013-05-02 & 0 & 0 & 0 & 0 & 0 &  \\\\\n",
       "\t26 & 2013-05-02 & 1 & 0 & 0 & 0 & 0 &  \\\\\n",
       "\t27 & 2013-05-02 & 2 & 0 & 0 & 0 & 0 &  \\\\\n",
       "\t28 & 2013-05-02 & 3 & 0 & 0 & 0 & 0 &  \\\\\n",
       "\t29 & 2013-05-02 & 4 & 0 & 0 & 0 & 0 &  \\\\\n",
       "\t30 & 2013-05-02 & 5 & 0 & 0 & 0 & 0 &  \\\\\n",
       "\t$\\dots$ & $\\dots$ & $\\dots$ & $\\dots$ & $\\dots$ & $\\dots$ & $\\dots$ & $\\dots$ \\\\\n",
       "\\end{tabular}\n"
      ],
      "text/plain": [
       "30912×7 DataFrame. Omitted printing of 1 columns\n",
       "│ Row   │ date       │ heure │ McTavish │ Bellevue │ Assomption │ Trudeau │\n",
       "│       │ \u001b[90mDate\u001b[39m       │ \u001b[90mInt64\u001b[39m │ \u001b[90mInt64⍰\u001b[39m   │ \u001b[90mInt64⍰\u001b[39m   │ \u001b[90mInt64⍰\u001b[39m     │ \u001b[90mInt64⍰\u001b[39m  │\n",
       "├───────┼────────────┼───────┼──────────┼──────────┼────────────┼─────────┤\n",
       "│ 1     │ 2013-05-01 │ 0     │ 0        │ 0        │ 0          │ 0       │\n",
       "│ 2     │ 2013-05-01 │ 1     │ 0        │ 0        │ 0          │ 0       │\n",
       "│ 3     │ 2013-05-01 │ 2     │ 0        │ 0        │ 0          │ 0       │\n",
       "│ 4     │ 2013-05-01 │ 3     │ 0        │ 0        │ 0          │ 0       │\n",
       "│ 5     │ 2013-05-01 │ 4     │ 0        │ 0        │ 0          │ 0       │\n",
       "│ 6     │ 2013-05-01 │ 5     │ 0        │ 0        │ 0          │ 0       │\n",
       "│ 7     │ 2013-05-01 │ 6     │ 0        │ 0        │ 0          │ 0       │\n",
       "│ 8     │ 2013-05-01 │ 7     │ 0        │ 0        │ 0          │ 0       │\n",
       "│ 9     │ 2013-05-01 │ 8     │ 0        │ 0        │ 0          │ 0       │\n",
       "│ 10    │ 2013-05-01 │ 9     │ 0        │ 0        │ 0          │ 0       │\n",
       "⋮\n",
       "│ 30902 │ 2019-10-31 │ 13    │ \u001b[90mmissing\u001b[39m  │ \u001b[90mmissing\u001b[39m  │ \u001b[90mmissing\u001b[39m    │ \u001b[90mmissing\u001b[39m │\n",
       "│ 30903 │ 2019-10-31 │ 14    │ \u001b[90mmissing\u001b[39m  │ \u001b[90mmissing\u001b[39m  │ \u001b[90mmissing\u001b[39m    │ \u001b[90mmissing\u001b[39m │\n",
       "│ 30904 │ 2019-10-31 │ 15    │ \u001b[90mmissing\u001b[39m  │ \u001b[90mmissing\u001b[39m  │ \u001b[90mmissing\u001b[39m    │ \u001b[90mmissing\u001b[39m │\n",
       "│ 30905 │ 2019-10-31 │ 16    │ \u001b[90mmissing\u001b[39m  │ \u001b[90mmissing\u001b[39m  │ \u001b[90mmissing\u001b[39m    │ \u001b[90mmissing\u001b[39m │\n",
       "│ 30906 │ 2019-10-31 │ 17    │ \u001b[90mmissing\u001b[39m  │ \u001b[90mmissing\u001b[39m  │ \u001b[90mmissing\u001b[39m    │ \u001b[90mmissing\u001b[39m │\n",
       "│ 30907 │ 2019-10-31 │ 18    │ \u001b[90mmissing\u001b[39m  │ \u001b[90mmissing\u001b[39m  │ \u001b[90mmissing\u001b[39m    │ \u001b[90mmissing\u001b[39m │\n",
       "│ 30908 │ 2019-10-31 │ 19    │ \u001b[90mmissing\u001b[39m  │ \u001b[90mmissing\u001b[39m  │ \u001b[90mmissing\u001b[39m    │ \u001b[90mmissing\u001b[39m │\n",
       "│ 30909 │ 2019-10-31 │ 20    │ \u001b[90mmissing\u001b[39m  │ \u001b[90mmissing\u001b[39m  │ \u001b[90mmissing\u001b[39m    │ \u001b[90mmissing\u001b[39m │\n",
       "│ 30910 │ 2019-10-31 │ 21    │ \u001b[90mmissing\u001b[39m  │ \u001b[90mmissing\u001b[39m  │ \u001b[90mmissing\u001b[39m    │ \u001b[90mmissing\u001b[39m │\n",
       "│ 30911 │ 2019-10-31 │ 22    │ \u001b[90mmissing\u001b[39m  │ \u001b[90mmissing\u001b[39m  │ \u001b[90mmissing\u001b[39m    │ \u001b[90mmissing\u001b[39m │\n",
       "│ 30912 │ 2019-10-31 │ 23    │ \u001b[90mmissing\u001b[39m  │ \u001b[90mmissing\u001b[39m  │ \u001b[90mmissing\u001b[39m    │ \u001b[90mmissing\u001b[39m │"
      ]
     },
     "execution_count": 160,
     "metadata": {},
     "output_type": "execute_result"
    }
   ],
   "source": [
    "data = filter(row -> month(row.date) > 4, data) \n",
    "data = filter(row -> month(row.date) < 11, data) "
   ]
  },
  {
   "cell_type": "markdown",
   "metadata": {},
   "source": [
    "# Analyse exploratoire\n",
    "\n",
    "Cette section consitue une analyse exploratoire superficielle permettant de voir s'il existe un lien entre les précipitations et les surverses.\n",
    "\n",
    "Prenons arbitrairement l'ouvrage de débordement près du Bota-Bota (4350-01D). La station météorologique la plus proche est McTavish. Prenons deux variables explicatives simple :\n",
    "- la somme journalière des précipitations\n",
    "- le taux horaire maximum journalier de précipitations\n",
    "\n",
    "#### Calcul de la quantité journalière de précipitations pour chacune des stations météorologiques"
   ]
  },
  {
   "cell_type": "code",
   "execution_count": 161,
   "metadata": {},
   "outputs": [
    {
     "data": {
      "text/html": [
       "<table class=\"data-frame\"><thead><tr><th></th><th>date</th><th>McTavish</th><th>Bellevue</th><th>Assomption</th><th>Trudeau</th><th>StHubert</th></tr><tr><th></th><th>Date</th><th>Int64⍰</th><th>Int64⍰</th><th>Int64⍰</th><th>Int64⍰</th><th>Int64⍰</th></tr></thead><tbody><p>5 rows × 6 columns</p><tr><th>1</th><td>2013-05-01</td><td>0</td><td>0</td><td>0</td><td>0</td><td>missing</td></tr><tr><th>2</th><td>2013-05-02</td><td>0</td><td>0</td><td>0</td><td>0</td><td>missing</td></tr><tr><th>3</th><td>2013-05-03</td><td>0</td><td>0</td><td>0</td><td>0</td><td>missing</td></tr><tr><th>4</th><td>2013-05-04</td><td>0</td><td>0</td><td>0</td><td>0</td><td>missing</td></tr><tr><th>5</th><td>2013-05-05</td><td>0</td><td>0</td><td>0</td><td>0</td><td>missing</td></tr></tbody></table>"
      ],
      "text/latex": [
       "\\begin{tabular}{r|cccccc}\n",
       "\t& date & McTavish & Bellevue & Assomption & Trudeau & StHubert\\\\\n",
       "\t\\hline\n",
       "\t& Date & Int64⍰ & Int64⍰ & Int64⍰ & Int64⍰ & Int64⍰\\\\\n",
       "\t\\hline\n",
       "\t1 & 2013-05-01 & 0 & 0 & 0 & 0 &  \\\\\n",
       "\t2 & 2013-05-02 & 0 & 0 & 0 & 0 &  \\\\\n",
       "\t3 & 2013-05-03 & 0 & 0 & 0 & 0 &  \\\\\n",
       "\t4 & 2013-05-04 & 0 & 0 & 0 & 0 &  \\\\\n",
       "\t5 & 2013-05-05 & 0 & 0 & 0 & 0 &  \\\\\n",
       "\\end{tabular}\n"
      ],
      "text/plain": [
       "5×6 DataFrame\n",
       "│ Row │ date       │ McTavish │ Bellevue │ Assomption │ Trudeau │ StHubert │\n",
       "│     │ \u001b[90mDate\u001b[39m       │ \u001b[90mInt64⍰\u001b[39m   │ \u001b[90mInt64⍰\u001b[39m   │ \u001b[90mInt64⍰\u001b[39m     │ \u001b[90mInt64⍰\u001b[39m  │ \u001b[90mInt64⍰\u001b[39m   │\n",
       "├─────┼────────────┼──────────┼──────────┼────────────┼─────────┼──────────┤\n",
       "│ 1   │ 2013-05-01 │ 0        │ 0        │ 0          │ 0       │ \u001b[90mmissing\u001b[39m  │\n",
       "│ 2   │ 2013-05-02 │ 0        │ 0        │ 0          │ 0       │ \u001b[90mmissing\u001b[39m  │\n",
       "│ 3   │ 2013-05-03 │ 0        │ 0        │ 0          │ 0       │ \u001b[90mmissing\u001b[39m  │\n",
       "│ 4   │ 2013-05-04 │ 0        │ 0        │ 0          │ 0       │ \u001b[90mmissing\u001b[39m  │\n",
       "│ 5   │ 2013-05-05 │ 0        │ 0        │ 0          │ 0       │ \u001b[90mmissing\u001b[39m  │"
      ]
     },
     "execution_count": 161,
     "metadata": {},
     "output_type": "execute_result"
    }
   ],
   "source": [
    "pcp_sum = by(data, :date,  McTavish = :McTavish=>sum, Bellevue = :Bellevue=>sum, \n",
    "   Assomption = :Assomption=>sum, Trudeau = :Trudeau=>sum, StHubert = :StHubert=>sum)\n",
    "first(pcp_sum ,5)"
   ]
  },
  {
   "cell_type": "code",
   "execution_count": null,
   "metadata": {},
   "outputs": [],
   "source": []
  },
  {
   "cell_type": "code",
   "execution_count": null,
   "metadata": {},
   "outputs": [],
   "source": []
  },
  {
   "cell_type": "code",
   "execution_count": null,
   "metadata": {},
   "outputs": [],
   "source": []
  },
  {
   "cell_type": "code",
   "execution_count": null,
   "metadata": {},
   "outputs": [],
   "source": []
  },
  {
   "cell_type": "code",
   "execution_count": 162,
   "metadata": {},
   "outputs": [],
   "source": [
    "\n",
    "for j=1:size(pcp_sum,1)\n",
    "    means = 0\n",
    "    sum = 0\n",
    "    alo = names(pcp_sum)\n",
    "    for col in alo\n",
    "        if col != alo[1]\n",
    "            if !ismissing(pcp_sum[j, col]) \n",
    "                sum = sum +1\n",
    "                means = means + pcp_sum[j, col]\n",
    "            end\n",
    "        end\n",
    "    end\n",
    "    if sum != 0\n",
    "        means = means / sum\n",
    "    end\n",
    "    for col in alo\n",
    "        if ismissing(pcp_sum[j, col]) && col != alo[1]\n",
    "            tests = floor(means)\n",
    "            pcp_sum[j, col] = tests\n",
    "        end\n",
    "    end\n",
    "end\n"
   ]
  },
  {
   "cell_type": "code",
   "execution_count": null,
   "metadata": {},
   "outputs": [],
   "source": [
    "\n"
   ]
  },
  {
   "cell_type": "markdown",
   "metadata": {},
   "source": [
    "#### Extraction du taux horaire journalier maximum des précipitations pour chacune des stations météorologiques"
   ]
  },
  {
   "cell_type": "code",
   "execution_count": 163,
   "metadata": {},
   "outputs": [
    {
     "data": {
      "text/html": [
       "<table class=\"data-frame\"><thead><tr><th></th><th>date</th><th>McTavish</th><th>Bellevue</th><th>Assomption</th><th>Trudeau</th><th>StHubert</th></tr><tr><th></th><th>Date</th><th>Int64⍰</th><th>Int64⍰</th><th>Int64⍰</th><th>Int64⍰</th><th>Int64⍰</th></tr></thead><tbody><p>5 rows × 6 columns</p><tr><th>1</th><td>2013-05-01</td><td>0</td><td>0</td><td>0</td><td>0</td><td>missing</td></tr><tr><th>2</th><td>2013-05-02</td><td>0</td><td>0</td><td>0</td><td>0</td><td>missing</td></tr><tr><th>3</th><td>2013-05-03</td><td>0</td><td>0</td><td>0</td><td>0</td><td>missing</td></tr><tr><th>4</th><td>2013-05-04</td><td>0</td><td>0</td><td>0</td><td>0</td><td>missing</td></tr><tr><th>5</th><td>2013-05-05</td><td>0</td><td>0</td><td>0</td><td>0</td><td>missing</td></tr></tbody></table>"
      ],
      "text/latex": [
       "\\begin{tabular}{r|cccccc}\n",
       "\t& date & McTavish & Bellevue & Assomption & Trudeau & StHubert\\\\\n",
       "\t\\hline\n",
       "\t& Date & Int64⍰ & Int64⍰ & Int64⍰ & Int64⍰ & Int64⍰\\\\\n",
       "\t\\hline\n",
       "\t1 & 2013-05-01 & 0 & 0 & 0 & 0 &  \\\\\n",
       "\t2 & 2013-05-02 & 0 & 0 & 0 & 0 &  \\\\\n",
       "\t3 & 2013-05-03 & 0 & 0 & 0 & 0 &  \\\\\n",
       "\t4 & 2013-05-04 & 0 & 0 & 0 & 0 &  \\\\\n",
       "\t5 & 2013-05-05 & 0 & 0 & 0 & 0 &  \\\\\n",
       "\\end{tabular}\n"
      ],
      "text/plain": [
       "5×6 DataFrame\n",
       "│ Row │ date       │ McTavish │ Bellevue │ Assomption │ Trudeau │ StHubert │\n",
       "│     │ \u001b[90mDate\u001b[39m       │ \u001b[90mInt64⍰\u001b[39m   │ \u001b[90mInt64⍰\u001b[39m   │ \u001b[90mInt64⍰\u001b[39m     │ \u001b[90mInt64⍰\u001b[39m  │ \u001b[90mInt64⍰\u001b[39m   │\n",
       "├─────┼────────────┼──────────┼──────────┼────────────┼─────────┼──────────┤\n",
       "│ 1   │ 2013-05-01 │ 0        │ 0        │ 0          │ 0       │ \u001b[90mmissing\u001b[39m  │\n",
       "│ 2   │ 2013-05-02 │ 0        │ 0        │ 0          │ 0       │ \u001b[90mmissing\u001b[39m  │\n",
       "│ 3   │ 2013-05-03 │ 0        │ 0        │ 0          │ 0       │ \u001b[90mmissing\u001b[39m  │\n",
       "│ 4   │ 2013-05-04 │ 0        │ 0        │ 0          │ 0       │ \u001b[90mmissing\u001b[39m  │\n",
       "│ 5   │ 2013-05-05 │ 0        │ 0        │ 0          │ 0       │ \u001b[90mmissing\u001b[39m  │"
      ]
     },
     "execution_count": 163,
     "metadata": {},
     "output_type": "execute_result"
    }
   ],
   "source": [
    "pcp_max = by(data, :date,  McTavish = :McTavish=>maximum, Bellevue = :Bellevue=>maximum, \n",
    "   Assomption = :Assomption=>maximum, Trudeau = :Trudeau=>maximum, StHubert = :StHubert=>maximum)\n",
    "first(pcp_max,5)"
   ]
  },
  {
   "cell_type": "code",
   "execution_count": 164,
   "metadata": {},
   "outputs": [],
   "source": [
    "for j=1:size(pcp_max,1)\n",
    "    means = 0\n",
    "    sum = 0\n",
    "    alo = names(pcp_max)\n",
    "    for col in alo\n",
    "        if col != alo[1]\n",
    "            if !ismissing(pcp_max[j, col]) \n",
    "                sum = sum +1\n",
    "                means = means + pcp_max[j, col]\n",
    "            end\n",
    "        end\n",
    "    end\n",
    "    if sum != 0\n",
    "        means = means / sum\n",
    "    end\n",
    "    for col in alo\n",
    "        if ismissing(pcp_max[j, col]) && col != alo[1]\n",
    "            tests = floor(means)\n",
    "            pcp_max[j, col] = tests\n",
    "        end\n",
    "    end\n",
    "end"
   ]
  },
  {
   "cell_type": "code",
   "execution_count": 165,
   "metadata": {},
   "outputs": [
    {
     "data": {
      "text/html": [
       "<table class=\"data-frame\"><thead><tr><th></th><th>date</th><th>McTavish</th><th>Bellevue</th><th>Assomption</th><th>Trudeau</th><th>StHubert</th></tr><tr><th></th><th>Date</th><th>Int64⍰</th><th>Int64⍰</th><th>Int64⍰</th><th>Int64⍰</th><th>Int64⍰</th></tr></thead><tbody><p>1,288 rows × 6 columns</p><tr><th>1</th><td>2013-05-01</td><td>0</td><td>0</td><td>0</td><td>0</td><td>0</td></tr><tr><th>2</th><td>2013-05-02</td><td>0</td><td>0</td><td>0</td><td>0</td><td>0</td></tr><tr><th>3</th><td>2013-05-03</td><td>0</td><td>0</td><td>0</td><td>0</td><td>0</td></tr><tr><th>4</th><td>2013-05-04</td><td>0</td><td>0</td><td>0</td><td>0</td><td>0</td></tr><tr><th>5</th><td>2013-05-05</td><td>0</td><td>0</td><td>0</td><td>0</td><td>0</td></tr><tr><th>6</th><td>2013-05-06</td><td>0</td><td>0</td><td>0</td><td>0</td><td>0</td></tr><tr><th>7</th><td>2013-05-07</td><td>0</td><td>0</td><td>0</td><td>0</td><td>0</td></tr><tr><th>8</th><td>2013-05-08</td><td>0</td><td>0</td><td>0</td><td>0</td><td>0</td></tr><tr><th>9</th><td>2013-05-09</td><td>10</td><td>0</td><td>19</td><td>0</td><td>7</td></tr><tr><th>10</th><td>2013-05-10</td><td>0</td><td>4</td><td>20</td><td>0</td><td>6</td></tr><tr><th>11</th><td>2013-05-11</td><td>39</td><td>33</td><td>60</td><td>57</td><td>47</td></tr><tr><th>12</th><td>2013-05-12</td><td>0</td><td>0</td><td>10</td><td>0</td><td>2</td></tr><tr><th>13</th><td>2013-05-13</td><td>10</td><td>0</td><td>0</td><td>0</td><td>2</td></tr><tr><th>14</th><td>2013-05-14</td><td>0</td><td>0</td><td>0</td><td>0</td><td>0</td></tr><tr><th>15</th><td>2013-05-15</td><td>16</td><td>0</td><td>8</td><td>10</td><td>8</td></tr><tr><th>16</th><td>2013-05-16</td><td>0</td><td>0</td><td>0</td><td>0</td><td>0</td></tr><tr><th>17</th><td>2013-05-17</td><td>0</td><td>0</td><td>0</td><td>0</td><td>0</td></tr><tr><th>18</th><td>2013-05-18</td><td>0</td><td>0</td><td>0</td><td>0</td><td>0</td></tr><tr><th>19</th><td>2013-05-19</td><td>12</td><td>11</td><td>0</td><td>14</td><td>9</td></tr><tr><th>20</th><td>2013-05-20</td><td>27</td><td>12</td><td>50</td><td>17</td><td>26</td></tr><tr><th>21</th><td>2013-05-21</td><td>16</td><td>28</td><td>30</td><td>21</td><td>23</td></tr><tr><th>22</th><td>2013-05-22</td><td>26</td><td>0</td><td>0</td><td>0</td><td>6</td></tr><tr><th>23</th><td>2013-05-23</td><td>144</td><td>63</td><td>80</td><td>54</td><td>85</td></tr><tr><th>24</th><td>2013-05-24</td><td>26</td><td>12</td><td>20</td><td>15</td><td>18</td></tr><tr><th>25</th><td>2013-05-25</td><td>22</td><td>13</td><td>30</td><td>18</td><td>20</td></tr><tr><th>26</th><td>2013-05-26</td><td>25</td><td>20</td><td>30</td><td>24</td><td>24</td></tr><tr><th>27</th><td>2013-05-27</td><td>0</td><td>0</td><td>0</td><td>0</td><td>0</td></tr><tr><th>28</th><td>2013-05-28</td><td>11</td><td>11</td><td>11</td><td>11</td><td>11</td></tr><tr><th>29</th><td>2013-05-29</td><td>75</td><td>43</td><td>30</td><td>67</td><td>53</td></tr><tr><th>30</th><td>2013-05-30</td><td>0</td><td>0</td><td>0</td><td>0</td><td>0</td></tr><tr><th>&vellip;</th><td>&vellip;</td><td>&vellip;</td><td>&vellip;</td><td>&vellip;</td><td>&vellip;</td><td>&vellip;</td></tr></tbody></table>"
      ],
      "text/latex": [
       "\\begin{tabular}{r|cccccc}\n",
       "\t& date & McTavish & Bellevue & Assomption & Trudeau & StHubert\\\\\n",
       "\t\\hline\n",
       "\t& Date & Int64⍰ & Int64⍰ & Int64⍰ & Int64⍰ & Int64⍰\\\\\n",
       "\t\\hline\n",
       "\t1 & 2013-05-01 & 0 & 0 & 0 & 0 & 0 \\\\\n",
       "\t2 & 2013-05-02 & 0 & 0 & 0 & 0 & 0 \\\\\n",
       "\t3 & 2013-05-03 & 0 & 0 & 0 & 0 & 0 \\\\\n",
       "\t4 & 2013-05-04 & 0 & 0 & 0 & 0 & 0 \\\\\n",
       "\t5 & 2013-05-05 & 0 & 0 & 0 & 0 & 0 \\\\\n",
       "\t6 & 2013-05-06 & 0 & 0 & 0 & 0 & 0 \\\\\n",
       "\t7 & 2013-05-07 & 0 & 0 & 0 & 0 & 0 \\\\\n",
       "\t8 & 2013-05-08 & 0 & 0 & 0 & 0 & 0 \\\\\n",
       "\t9 & 2013-05-09 & 10 & 0 & 19 & 0 & 7 \\\\\n",
       "\t10 & 2013-05-10 & 0 & 4 & 20 & 0 & 6 \\\\\n",
       "\t11 & 2013-05-11 & 39 & 33 & 60 & 57 & 47 \\\\\n",
       "\t12 & 2013-05-12 & 0 & 0 & 10 & 0 & 2 \\\\\n",
       "\t13 & 2013-05-13 & 10 & 0 & 0 & 0 & 2 \\\\\n",
       "\t14 & 2013-05-14 & 0 & 0 & 0 & 0 & 0 \\\\\n",
       "\t15 & 2013-05-15 & 16 & 0 & 8 & 10 & 8 \\\\\n",
       "\t16 & 2013-05-16 & 0 & 0 & 0 & 0 & 0 \\\\\n",
       "\t17 & 2013-05-17 & 0 & 0 & 0 & 0 & 0 \\\\\n",
       "\t18 & 2013-05-18 & 0 & 0 & 0 & 0 & 0 \\\\\n",
       "\t19 & 2013-05-19 & 12 & 11 & 0 & 14 & 9 \\\\\n",
       "\t20 & 2013-05-20 & 27 & 12 & 50 & 17 & 26 \\\\\n",
       "\t21 & 2013-05-21 & 16 & 28 & 30 & 21 & 23 \\\\\n",
       "\t22 & 2013-05-22 & 26 & 0 & 0 & 0 & 6 \\\\\n",
       "\t23 & 2013-05-23 & 144 & 63 & 80 & 54 & 85 \\\\\n",
       "\t24 & 2013-05-24 & 26 & 12 & 20 & 15 & 18 \\\\\n",
       "\t25 & 2013-05-25 & 22 & 13 & 30 & 18 & 20 \\\\\n",
       "\t26 & 2013-05-26 & 25 & 20 & 30 & 24 & 24 \\\\\n",
       "\t27 & 2013-05-27 & 0 & 0 & 0 & 0 & 0 \\\\\n",
       "\t28 & 2013-05-28 & 11 & 11 & 11 & 11 & 11 \\\\\n",
       "\t29 & 2013-05-29 & 75 & 43 & 30 & 67 & 53 \\\\\n",
       "\t30 & 2013-05-30 & 0 & 0 & 0 & 0 & 0 \\\\\n",
       "\t$\\dots$ & $\\dots$ & $\\dots$ & $\\dots$ & $\\dots$ & $\\dots$ & $\\dots$ \\\\\n",
       "\\end{tabular}\n"
      ],
      "text/plain": [
       "1288×6 DataFrame\n",
       "│ Row  │ date       │ McTavish │ Bellevue │ Assomption │ Trudeau │ StHubert │\n",
       "│      │ \u001b[90mDate\u001b[39m       │ \u001b[90mInt64⍰\u001b[39m   │ \u001b[90mInt64⍰\u001b[39m   │ \u001b[90mInt64⍰\u001b[39m     │ \u001b[90mInt64⍰\u001b[39m  │ \u001b[90mInt64⍰\u001b[39m   │\n",
       "├──────┼────────────┼──────────┼──────────┼────────────┼─────────┼──────────┤\n",
       "│ 1    │ 2013-05-01 │ 0        │ 0        │ 0          │ 0       │ 0        │\n",
       "│ 2    │ 2013-05-02 │ 0        │ 0        │ 0          │ 0       │ 0        │\n",
       "│ 3    │ 2013-05-03 │ 0        │ 0        │ 0          │ 0       │ 0        │\n",
       "│ 4    │ 2013-05-04 │ 0        │ 0        │ 0          │ 0       │ 0        │\n",
       "│ 5    │ 2013-05-05 │ 0        │ 0        │ 0          │ 0       │ 0        │\n",
       "│ 6    │ 2013-05-06 │ 0        │ 0        │ 0          │ 0       │ 0        │\n",
       "│ 7    │ 2013-05-07 │ 0        │ 0        │ 0          │ 0       │ 0        │\n",
       "│ 8    │ 2013-05-08 │ 0        │ 0        │ 0          │ 0       │ 0        │\n",
       "│ 9    │ 2013-05-09 │ 10       │ 0        │ 19         │ 0       │ 7        │\n",
       "│ 10   │ 2013-05-10 │ 0        │ 4        │ 20         │ 0       │ 6        │\n",
       "⋮\n",
       "│ 1278 │ 2019-10-21 │ 0        │ 0        │ 0          │ 0       │ 0        │\n",
       "│ 1279 │ 2019-10-22 │ 31       │ 37       │ 37         │ 53      │ 28       │\n",
       "│ 1280 │ 2019-10-23 │ 58       │ 50       │ 50         │ 28      │ 65       │\n",
       "│ 1281 │ 2019-10-24 │ 0        │ 0        │ 0          │ 0       │ 0        │\n",
       "│ 1282 │ 2019-10-25 │ 0        │ 0        │ 0          │ 0       │ 0        │\n",
       "│ 1283 │ 2019-10-26 │ 0        │ 0        │ 0          │ 0       │ 0        │\n",
       "│ 1284 │ 2019-10-27 │ 102      │ 94       │ 94         │ 98      │ 83       │\n",
       "│ 1285 │ 2019-10-28 │ 3        │ 2        │ 2          │ 2       │ 2        │\n",
       "│ 1286 │ 2019-10-29 │ 0        │ 0        │ 0          │ 0       │ 2        │\n",
       "│ 1287 │ 2019-10-30 │ 0        │ 0        │ 0          │ 0       │ 0        │\n",
       "│ 1288 │ 2019-10-31 │ 0        │ 0        │ 0          │ 0       │ 0        │"
      ]
     },
     "execution_count": 165,
     "metadata": {},
     "output_type": "execute_result"
    }
   ],
   "source": [
    "pcp_max"
   ]
  },
  {
   "cell_type": "code",
   "execution_count": null,
   "metadata": {},
   "outputs": [],
   "source": []
  },
  {
   "cell_type": "markdown",
   "metadata": {},
   "source": [
    "#### Inclusion dans un dataframe de ces deux variables explicatives potentielles"
   ]
  },
  {
   "cell_type": "code",
   "execution_count": 166,
   "metadata": {},
   "outputs": [],
   "source": [
    "ouvrage = \"4350-01D\"\n",
    "moyenneSumSurverses = Float64[]\n",
    "moyenneMaxSurverses = Float64[]\n",
    "varianceSumSurverses = Float64[];\n",
    "varianceMaxSurverses = Float64[];\n",
    "\n",
    "moyenneSumNonSurverses = Float64[]\n",
    "moyenneMaxNonSurverses = Float64[]\n",
    "varianceSumNonSurverses = Float64[]\n",
    "varianceMaxNonSurverses = Float64[]\n",
    "for j=1:size(filtervals,1)\n",
    "    dfSurverse = filter(row -> row.NO_OUVRAGE == filtervals[j]  && row.SURVERSE ==1, surverse_df)\n",
    "    dfNonSurverse = filter(row -> row.NO_OUVRAGE == filtervals[j]  && row.SURVERSE ==0, surverse_df)\n",
    "\n",
    "\n",
    "    moyenneSumSurverse = 0;\n",
    "    moyenneMaxSurverse = 0;\n",
    "    for i=1:size(dfSurverse,1)\n",
    "\n",
    "        ind = findfirst(pcp_sum[:,:date] .== dfSurverse[i,:DATE])\n",
    "        moyenneSumSurverse = moyenneSumSurverse +  pcp_sum[ind,:McTavish]\n",
    "        \n",
    "        ind = findfirst(pcp_max[:,:date] .== dfSurverse[i,:DATE])\n",
    "        moyenneMaxSurverse = moyenneMaxSurverse +  pcp_max[ind,:McTavish]\n",
    "    end\n",
    "    moyenneSumSurverse = moyenneSumSurverse / size(dfSurverse,1)\n",
    "    push!(moyenneSumSurverses, moyenneSumSurverse)\n",
    "    moyenneMaxSurverse = moyenneMaxSurverse / size(dfSurverse,1)\n",
    "    push!(moyenneMaxSurverses, moyenneMaxSurverse)\n",
    "    \n",
    "    moyenneSumNonSurverse = 0;\n",
    "    moyenneMaxNonSurverse = 0;\n",
    "    for i=1:size(dfNonSurverse,1)\n",
    "\n",
    "        ind = findfirst(pcp_sum[:,:date] .== dfNonSurverse[i,:DATE])\n",
    "        moyenneSumNonSurverse = moyenneSumNonSurverse +  pcp_sum[ind,:McTavish]\n",
    "        \n",
    "        ind = findfirst(pcp_max[:,:date] .== dfNonSurverse[i,:DATE])\n",
    "        moyenneMaxNonSurverse = moyenneMaxNonSurverse +  pcp_max[ind,:McTavish]\n",
    "    end\n",
    "    moyenneSumNonSurverse = moyenneSumNonSurverse / size(dfNonSurverse,1)\n",
    "    push!(moyenneSumNonSurverses, moyenneSumNonSurverse)\n",
    "    moyenneMaxNonSurverse = moyenneMaxNonSurverse / size(dfNonSurverse,1)\n",
    "    push!(moyenneMaxNonSurverses, moyenneMaxNonSurverse)\n",
    "    \n",
    "    \n",
    "    #### maintenant la variance\n",
    "    varianceSumSurverse = 0;\n",
    "    varianceMaxSurverse = 0;\n",
    "    for i=1:size(dfSurverse,1)\n",
    "\n",
    "        ind = findfirst(pcp_sum[:,:date] .== dfSurverse[i,:DATE])\n",
    "        varianceSumSurverse = varianceSumSurverse +  (pcp_sum[ind,:McTavish]-moyenneSumSurverse)^2\n",
    "\n",
    "        ind = findfirst(pcp_max[:,:date] .== dfSurverse[i,:DATE])\n",
    "        varianceMaxSurverse = varianceMaxSurverse +  (pcp_max[ind,:McTavish]-moyenneMaxSurverse)^2\n",
    "    end\n",
    "    varianceSumSurverse = varianceSumSurverse / size(dfSurverse,1)\n",
    "    push!(varianceSumSurverses, varianceSumSurverse)\n",
    "    varianceMaxSurverse = varianceMaxSurverse / size(dfSurverse,1)\n",
    "    push!(varianceMaxSurverses, varianceMaxSurverse)\n",
    "    \n",
    "    varianceSumNonSurverse = 0;\n",
    "    varianceMaxNonSurverse = 0;\n",
    "    for i=1:size(dfNonSurverse,1)\n",
    "\n",
    "        ind = findfirst(pcp_sum[:,:date] .== dfNonSurverse[i,:DATE])\n",
    "        varianceSumNonSurverse = varianceSumNonSurverse +  (pcp_sum[ind,:McTavish]-moyenneSumNonSurverse)^2\n",
    "\n",
    "        ind = findfirst(pcp_max[:,:date] .== dfNonSurverse[i,:DATE])\n",
    "        varianceMaxNonSurverse = varianceMaxNonSurverse +  (pcp_max[ind,:McTavish]-moyenneMaxNonSurverse)^2\n",
    "    end\n",
    "    varianceSumNonSurverse = varianceSumNonSurverse / size(dfNonSurverse,1)\n",
    "    push!(varianceSumNonSurverses, varianceSumNonSurverse)\n",
    "    varianceMaxNonSurverse = varianceMaxNonSurverse / size(dfNonSurverse,1)\n",
    "    push!(varianceMaxNonSurverses, varianceMaxNonSurverse)\n",
    "   \n",
    "end"
   ]
  },
  {
   "cell_type": "code",
   "execution_count": null,
   "metadata": {},
   "outputs": [],
   "source": []
  },
  {
   "cell_type": "markdown",
   "metadata": {},
   "source": [
    "#### Traçage des distribution de la somme des précipitations en fonction des surverses ou non\n",
    "\n",
    "On remarque que les deux distributions sont très différentes. Ceci suggère que la somme des précipitations à la station McTavish a un effet sur les surverses au Bota-Bota."
   ]
  },
  {
   "cell_type": "code",
   "execution_count": 167,
   "metadata": {},
   "outputs": [
    {
     "ename": "ArgumentError",
     "evalue": "ArgumentError: column name :SUM not found in the data frame",
     "output_type": "error",
     "traceback": [
      "ArgumentError: column name :SUM not found in the data frame",
      "",
      "Stacktrace:",
      " [1] getindex(::DataFrame, ::typeof(!), ::Symbol) at C:\\Users\\elie_\\.julia\\packages\\DataFrames\\yH0f6\\src\\other\\index.jl:238",
      " [2] getindex(::DataFrame, ::Symbol) at .\\deprecated.jl:67",
      " [3] evalmapping(::DataFrame, ::Symbol) at C:\\Users\\elie_\\.julia\\packages\\Gadfly\\1wgcD\\src\\dataframes.jl:96",
      " [4] _evalmapping!(::Dict{Symbol,Any}, ::DataFrame, ::Gadfly.Data) at C:\\Users\\elie_\\.julia\\packages\\Gadfly\\1wgcD\\src\\mapping.jl:207",
      " [5] evalmapping!(::Dict{Symbol,Any}, ::DataFrame, ::Gadfly.Data) at C:\\Users\\elie_\\.julia\\packages\\Gadfly\\1wgcD\\src\\mapping.jl:236",
      " [6] plot(::DataFrame, ::Dict{Symbol,Symbol}, ::Type{Gadfly.Geom.BoxplotGeometry}) at C:\\Users\\elie_\\.julia\\packages\\Gadfly\\1wgcD\\src\\Gadfly.jl:330",
      " [7] #plot#71 at C:\\Users\\elie_\\.julia\\packages\\Gadfly\\1wgcD\\src\\Gadfly.jl:292 [inlined]",
      " [8] (::Gadfly.var\"#kw##plot\")(::NamedTuple{(:x, :y),Tuple{Symbol,Symbol}}, ::typeof(plot), ::DataFrame, ::Type{Gadfly.Geom.BoxplotGeometry}) at .\\none:0",
      " [9] top-level scope at In[167]:1"
     ]
    }
   ],
   "source": [
    "plot(df, x=:SURVERSE, y=:SUM, Geom.boxplot)"
   ]
  },
  {
   "cell_type": "markdown",
   "metadata": {},
   "source": [
    "#### Traçage des distribution de la somme des précipitations en fonction des surverses ou non\n",
    "\n",
    "On remarque que les deux distributions sont très différentes. Ceci suggère que le maximum journalier des précipitations à la station McTavish a un effet sur les surverses au Bota-Bota."
   ]
  },
  {
   "cell_type": "code",
   "execution_count": 168,
   "metadata": {},
   "outputs": [
    {
     "ename": "ArgumentError",
     "evalue": "ArgumentError: column name :MAX not found in the data frame",
     "output_type": "error",
     "traceback": [
      "ArgumentError: column name :MAX not found in the data frame",
      "",
      "Stacktrace:",
      " [1] getindex(::DataFrame, ::typeof(!), ::Symbol) at C:\\Users\\elie_\\.julia\\packages\\DataFrames\\yH0f6\\src\\other\\index.jl:238",
      " [2] getindex(::DataFrame, ::Symbol) at .\\deprecated.jl:67",
      " [3] evalmapping(::DataFrame, ::Symbol) at C:\\Users\\elie_\\.julia\\packages\\Gadfly\\1wgcD\\src\\dataframes.jl:96",
      " [4] _evalmapping!(::Dict{Symbol,Any}, ::DataFrame, ::Gadfly.Data) at C:\\Users\\elie_\\.julia\\packages\\Gadfly\\1wgcD\\src\\mapping.jl:207",
      " [5] evalmapping!(::Dict{Symbol,Any}, ::DataFrame, ::Gadfly.Data) at C:\\Users\\elie_\\.julia\\packages\\Gadfly\\1wgcD\\src\\mapping.jl:236",
      " [6] plot(::DataFrame, ::Dict{Symbol,Symbol}, ::Type{Gadfly.Geom.BoxplotGeometry}) at C:\\Users\\elie_\\.julia\\packages\\Gadfly\\1wgcD\\src\\Gadfly.jl:330",
      " [7] #plot#71 at C:\\Users\\elie_\\.julia\\packages\\Gadfly\\1wgcD\\src\\Gadfly.jl:292 [inlined]",
      " [8] (::Gadfly.var\"#kw##plot\")(::NamedTuple{(:x, :y),Tuple{Symbol,Symbol}}, ::typeof(plot), ::DataFrame, ::Type{Gadfly.Geom.BoxplotGeometry}) at .\\none:0",
      " [9] top-level scope at In[168]:1"
     ]
    }
   ],
   "source": [
    "plot(df, x=:SURVERSE, y=:MAX, Geom.boxplot)"
   ]
  },
  {
   "cell_type": "markdown",
   "metadata": {},
   "source": [
    "# Création du fichier de prédictions pour soumettre sur Kaggle\n",
    "\n",
    "Dans ce cas-ci, nous prédirons une surverse avec une probabilité de 1/2 sans considérer aucune variable explicative."
   ]
  },
  {
   "cell_type": "code",
   "execution_count": 169,
   "metadata": {},
   "outputs": [
    {
     "data": {
      "text/html": [
       "<table class=\"data-frame\"><thead><tr><th></th><th>NO_OUVRAGE</th><th>DATE</th></tr><tr><th></th><th>String</th><th>Date</th></tr></thead><tbody><p>5 rows × 2 columns</p><tr><th>1</th><td>3260-01D</td><td>2019-05-02</td></tr><tr><th>2</th><td>3260-01D</td><td>2019-05-09</td></tr><tr><th>3</th><td>3260-01D</td><td>2019-05-10</td></tr><tr><th>4</th><td>3260-01D</td><td>2019-05-15</td></tr><tr><th>5</th><td>3260-01D</td><td>2019-05-20</td></tr></tbody></table>"
      ],
      "text/latex": [
       "\\begin{tabular}{r|cc}\n",
       "\t& NO\\_OUVRAGE & DATE\\\\\n",
       "\t\\hline\n",
       "\t& String & Date\\\\\n",
       "\t\\hline\n",
       "\t1 & 3260-01D & 2019-05-02 \\\\\n",
       "\t2 & 3260-01D & 2019-05-09 \\\\\n",
       "\t3 & 3260-01D & 2019-05-10 \\\\\n",
       "\t4 & 3260-01D & 2019-05-15 \\\\\n",
       "\t5 & 3260-01D & 2019-05-20 \\\\\n",
       "\\end{tabular}\n"
      ],
      "text/plain": [
       "5×2 DataFrame\n",
       "│ Row │ NO_OUVRAGE │ DATE       │\n",
       "│     │ \u001b[90mString\u001b[39m     │ \u001b[90mDate\u001b[39m       │\n",
       "├─────┼────────────┼────────────┤\n",
       "│ 1   │ 3260-01D   │ 2019-05-02 │\n",
       "│ 2   │ 3260-01D   │ 2019-05-09 │\n",
       "│ 3   │ 3260-01D   │ 2019-05-10 │\n",
       "│ 4   │ 3260-01D   │ 2019-05-15 │\n",
       "│ 5   │ 3260-01D   │ 2019-05-20 │"
      ]
     },
     "execution_count": 169,
     "metadata": {},
     "output_type": "execute_result"
    }
   ],
   "source": [
    "\n",
    "test = CSV.read(\"data/test.csv\")\n",
    "first(test,5)"
   ]
  },
  {
   "cell_type": "code",
   "execution_count": 170,
   "metadata": {},
   "outputs": [
    {
     "ename": "SystemError",
     "evalue": "SystemError: opening file \"test.csv\": Permission denied",
     "output_type": "error",
     "traceback": [
      "SystemError: opening file \"test.csv\": Permission denied",
      "",
      "Stacktrace:",
      " [1] #systemerror#44(::Nothing, ::typeof(systemerror), ::String, ::Bool) at .\\error.jl:134",
      " [2] systemerror at .\\error.jl:134 [inlined]",
      " [3] #open#512(::Nothing, ::Nothing, ::Nothing, ::Bool, ::Nothing, ::typeof(open), ::String) at .\\iostream.jl:254",
      " [4] #open at .\\none:0 [inlined]",
      " [5] open(::String, ::String) at .\\iostream.jl:310",
      " [6] #open#271(::Base.Iterators.Pairs{Union{},Union{},Tuple{},NamedTuple{(),Tuple{}}}, ::typeof(open), ::CSV.var\"#63#64\"{CSV.var\"#56#57\"{Bool,Tables.Schema{(:date, :McTavish, :Bellevue, :Assomption, :Trudeau, :StHubert),Tuple{Date,Union{Missing, Int64},Union{Missing, Int64},Union{Missing, Int64},Union{Missing, Int64},Union{Missing, Int64}}},Tables.RowIterator{NamedTuple{(:date, :McTavish, :Bellevue, :Assomption, :Trudeau, :StHubert),Tuple{Array{Date,1},Array{Union{Missing, Int64},1},Array{Union{Missing, Int64},1},Array{Union{Missing, Int64},1},Array{Union{Missing, Int64},1},Array{Union{Missing, Int64},1}}}},CSV.Options{UInt8,UInt8,Nothing,Tuple{}},NTuple{6,Symbol},Int64,Int64,Array{UInt8,1}}}, ::String, ::Vararg{String,N} where N) at .\\io.jl:296",
      " [7] open(::Function, ::String, ::String) at .\\io.jl:296",
      " [8] with at C:\\Users\\elie_\\.julia\\packages\\CSV\\GCUID\\src\\write.jl:140 [inlined]",
      " [9] #write#55 at C:\\Users\\elie_\\.julia\\packages\\CSV\\GCUID\\src\\write.jl:73 [inlined]",
      " [10] write(::Tables.Schema{(:date, :McTavish, :Bellevue, :Assomption, :Trudeau, :StHubert),Tuple{Date,Union{Missing, Int64},Union{Missing, Int64},Union{Missing, Int64},Union{Missing, Int64},Union{Missing, Int64}}}, ::Tables.RowIterator{NamedTuple{(:date, :McTavish, :Bellevue, :Assomption, :Trudeau, :StHubert),Tuple{Array{Date,1},Array{Union{Missing, Int64},1},Array{Union{Missing, Int64},1},Array{Union{Missing, Int64},1},Array{Union{Missing, Int64},1},Array{Union{Missing, Int64},1}}}}, ::String, ::CSV.Options{UInt8,UInt8,Nothing,Tuple{}}) at C:\\Users\\elie_\\.julia\\packages\\CSV\\GCUID\\src\\write.jl:68",
      " [11] #write#54(::Char, ::Char, ::Nothing, ::Nothing, ::Char, ::Char, ::Char, ::Nothing, ::Bool, ::String, ::Base.Iterators.Pairs{Union{},Union{},Tuple{},NamedTuple{(),Tuple{}}}, ::typeof(CSV.write), ::String, ::DataFrame) at C:\\Users\\elie_\\.julia\\packages\\CSV\\GCUID\\src\\write.jl:60",
      " [12] write(::String, ::DataFrame) at C:\\Users\\elie_\\.julia\\packages\\CSV\\GCUID\\src\\write.jl:53",
      " [13] top-level scope at In[170]:1"
     ]
    }
   ],
   "source": [
    "CSV.write(\"test.csv\",pcp_sum)"
   ]
  },
  {
   "cell_type": "code",
   "execution_count": 171,
   "metadata": {},
   "outputs": [
    {
     "ename": "MethodError",
     "evalue": "MethodError: no method matching getindex(::DataFrame, ::Nothing, ::Symbol)\nClosest candidates are:\n  getindex(::DataFrame, !Matched::Colon, ::Union{Signed, Symbol, Unsigned}) at C:\\Users\\elie_\\.julia\\packages\\DataFrames\\yH0f6\\src\\dataframe\\dataframe.jl:352\n  getindex(::DataFrame, !Matched::typeof(!), ::Symbol) at C:\\Users\\elie_\\.julia\\packages\\DataFrames\\yH0f6\\src\\dataframe\\dataframe.jl:367\n  getindex(::DataFrame, !Matched::Integer, ::Symbol) at C:\\Users\\elie_\\.julia\\packages\\DataFrames\\yH0f6\\src\\dataframe\\dataframe.jl:329\n  ...",
     "output_type": "error",
     "traceback": [
      "MethodError: no method matching getindex(::DataFrame, ::Nothing, ::Symbol)\nClosest candidates are:\n  getindex(::DataFrame, !Matched::Colon, ::Union{Signed, Symbol, Unsigned}) at C:\\Users\\elie_\\.julia\\packages\\DataFrames\\yH0f6\\src\\dataframe\\dataframe.jl:352\n  getindex(::DataFrame, !Matched::typeof(!), ::Symbol) at C:\\Users\\elie_\\.julia\\packages\\DataFrames\\yH0f6\\src\\dataframe\\dataframe.jl:367\n  getindex(::DataFrame, !Matched::Integer, ::Symbol) at C:\\Users\\elie_\\.julia\\packages\\DataFrames\\yH0f6\\src\\dataframe\\dataframe.jl:329\n  ...",
      "",
      "Stacktrace:",
      " [1] top-level scope at In[171]:2"
     ]
    }
   ],
   "source": [
    "ind = findfirst(pcp_sum[:,:date] .== \"2019-10-31\")\n",
    "pcp_sum[ind, :McTavish]"
   ]
  },
  {
   "cell_type": "code",
   "execution_count": 175,
   "metadata": {},
   "outputs": [
    {
     "name": "stdout",
     "output_type": "stream",
     "text": [
      "1.002397470749787\n",
      "0.0017772366612294292\n",
      "1.8085978272432865e-6\n",
      "0.9858963924908691\n",
      "0.03617597099217047\n",
      "3.4807529482618905e-6\n",
      "0.9976323560212664\n",
      "0.994117036684931\n",
      "1.0034995142595124\n",
      "0.00042181873302161153\n",
      "0.24470410126079772\n",
      "0.9995012227723717\n",
      "1.2357855416785387e-6\n",
      "7.781373146495203e-6\n",
      "0.9988582128468938\n",
      "0.2038521590961544\n",
      "0.00018062153388238403\n",
      "0.9995012227723717\n",
      "0.0012674677709205663\n",
      "0.00019022667469152524\n",
      "3.420816508655413e-5\n",
      "0.9389275876462464\n",
      "0.9995012227723717\n",
      "0.9995012227723717\n",
      "0.9988582128468938\n",
      "0.9716966078165247\n",
      "0.0023811024519186717\n",
      "1.9753398471795957e-6\n",
      "0.9530943099244993\n",
      "0.9033469646720355\n",
      "0.9033469646720355\n",
      "6.159159042457075e-7\n",
      "1.0006989449138983\n",
      "0.9033469646720355\n",
      "1.0028842880657118\n",
      "0.9775086419001476\n",
      "0.985758796111472\n",
      "0.9550225970399135\n",
      "3.230317276834059e-5\n",
      "0.9775086419001476\n",
      "0.9550225970399135\n",
      "0.9550225970399135\n",
      "0.9550225970399135\n",
      "-6.787813125880196e-9\n",
      "0.9550225970399135\n",
      "1.0023184754643213\n",
      "0.9989858412359831\n",
      "0.9830288950410859\n",
      "0.9500556376993442\n",
      "0.9500556376993442\n",
      "0.9500556376993442\n",
      "0.0026597811101568454\n",
      "1.9118323253543232e-5\n",
      "0.9953892434343383\n",
      "0.9500556376993442\n",
      "0.993388263164428\n",
      "1.0053854449329256\n",
      "0.021916194030512055\n",
      "0.9595018395489394\n",
      "7.92671349977676e-7\n",
      "0.9595018395489394\n",
      "1.0068980259614388\n",
      "0.00012672969302925048\n",
      "0.9995012227723717\n",
      "0.9995012227723717\n",
      "2.0835345249683988e-5\n",
      "2.8631278963394795e-6\n",
      "1.4374079397222378e-5\n",
      "0.9995012227723717\n",
      "0.9995012227723717\n",
      "0.9995012227723717\n",
      "0.9995012227723717\n",
      "0.9995012227723717\n",
      "2.919881326255218e-7\n",
      "0.9995012227723717\n",
      "0.15659161454160672\n",
      "-8.016034027310336e-7\n",
      "0.9033469646720355\n",
      "0.9033469646720355\n",
      "4.956351913874449e-8\n",
      "0.9033469646720355\n",
      "0.9963959095066456\n",
      "3.943662055041039e-5\n",
      "4.24948928345748e-6\n",
      "0.9033469646720355\n",
      "1.0115707408456802\n",
      "0.00010891408350633567\n",
      "0.9550225970399135\n",
      "1.654783616740269e-6\n",
      "0.9995776410101112\n",
      "0.02549633675740762\n",
      "0.05055004955524594\n",
      "0.9550225970399135\n",
      "0.9550225970399135\n",
      "0.9550225970399135\n",
      "0.9550225970399135\n",
      "0.0006184186801308905\n",
      "0.9500556376993442\n",
      "-1.3618172605348398e-8\n",
      "0.9989810546893287\n",
      "0.9500556376993442\n",
      "9.049108218963194e-6\n",
      "0.9500556376993442\n",
      "2.1056713123571936e-5\n",
      "0.9500556376993442\n",
      "0.9500556376993442\n",
      "2.2989277368600865e-5\n",
      "0.9595018395489394\n",
      "0.9595018395489394\n",
      "0.994117036684931\n",
      "0.9595018395489394\n",
      "0.9595018395489394\n",
      "0.00011064191129386967\n",
      "0.9982916568539657\n",
      "0.9595018395489394\n",
      "0.9595018395489394\n",
      "0.9595018395489394\n",
      "0.9595018395489394\n",
      "0.9995012227723717\n",
      "0.9995012227723717\n",
      "0.9951304290957793\n",
      "0.9991646536160473\n",
      "0.9995012227723717\n",
      "0.00012341785486366305\n",
      "0.09503443662564393\n",
      "0.9995012227723717\n",
      "0.9044826823598713\n",
      "0.9995012227723717\n",
      "0.9995012227723717\n",
      "0.9995012227723717\n",
      "0.9995012227723717\n",
      "0.9995012227723717\n",
      "0.9995012227723717\n",
      "0.9995012227723717\n",
      "0.9033469646720355\n",
      "0.9033469646720355\n",
      "1.0048792358487002\n",
      "0.9033469646720355\n",
      "0.9033469646720355\n",
      "7.667928838671287e-5\n",
      "1.0018522502868117\n",
      "0.9033469646720355\n",
      "0.9033469646720355\n",
      "0.9033469646720355\n",
      "0.9033469646720355\n",
      "0.9033469646720355\n",
      "0.9033469646720355\n",
      "0.9550225970399135\n",
      "1.002291140743785\n",
      "0.9550225970399135\n",
      "0.9550225970399135\n",
      "0.9550225970399135\n",
      "1.1037084184327572e-5\n",
      "0.9550225970399135\n",
      "1.001363584915387\n",
      "0.9550225970399135\n",
      "0.9550225970399135\n",
      "0.9550225970399135\n",
      "0.9550225970399135\n",
      "0.9550225970399135\n",
      "0.9500556376993442\n",
      "0.9500556376993442\n",
      "4.3195317743459205e-5\n",
      "0.9500556376993442\n",
      "0.9989531416294045\n",
      "0.9500556376993442\n",
      "0.9500556376993442\n",
      "0.9500556376993442\n",
      "0.9595018395489394\n",
      "0.008131957516383646\n",
      "0.9979072007582698\n",
      "7.305356961152054e-7\n",
      "0.7604311354632379\n",
      "0.9595018395489394\n",
      "0.9595018395489394\n",
      "0.9595018395489394\n",
      "0.9595018395489394\n",
      "0.00012920808296390198\n",
      "0.0063862239102386465\n",
      "0.9995012227723717\n",
      "4.570146626604288e-5\n",
      "0.9995012227723717\n",
      "0.9995012227723717\n",
      "0.9995012227723717\n",
      "0.9995012227723717\n",
      "0.9995012227723717\n",
      "9.955077085442325e-7\n",
      "2.0573869684066737e-5\n",
      "0.9033469646720355\n",
      "0.9033469646720355\n",
      "1.0034020218023507\n",
      "7.321236314772624e-6\n",
      "0.9033469646720355\n",
      "0.8923741714338366\n",
      "0.9033469646720355\n",
      "0.00022544662238783837\n",
      "0.9033469646720355\n",
      "0.9550225970399135\n",
      "0.9550225970399135\n",
      "0.9550225970399135\n",
      "0.08387889656460987\n",
      "0.9550225970399135\n",
      "0.9988327600243719\n",
      "0.9550225970399135\n",
      "3.997423141202986e-5\n",
      "0.9550225970399135\n",
      "0.9550225970399135\n",
      "0.9848033948139681\n",
      "0.9550225970399135\n",
      "0.9550225970399135\n",
      "0.9550225970399135\n",
      "0.9550225970399135\n",
      "0.9550225970399135\n",
      "0.9500556376993442\n",
      "0.9500556376993442\n",
      "0.9830288950410859\n",
      "0.14083527433756718\n",
      "0.009672236262827497\n",
      "0.9830288950410859\n",
      "0.9983241145305216\n",
      "0.9500556376993442\n",
      "1.0055613885923553\n",
      "0.9972076455432067\n",
      "1.7518622555210416e-6\n",
      "0.9500556376993442\n",
      "0.9500556376993442\n",
      "0.9595018395489394\n",
      "9.834026013675185e-6\n",
      "0.9595018395489394\n",
      "0.003727433528225863\n",
      "0.014254314818460435\n",
      "0.9595018395489394\n",
      "0.9595018395489394\n",
      "0.9595018395489394\n",
      "0.9595018395489394\n",
      "0.9995012227723717\n",
      "1.8285239391636792e-6\n",
      "3.295239902229704e-5\n",
      "1.247367822975537e-5\n",
      "0.9396466451282112\n",
      "0.9995012227723717\n",
      "0.9995012227723717\n",
      "0.00010475021035281078\n",
      "0.9995012227723717\n",
      "0.1322087576092628\n",
      "0.9995012227723717\n",
      "3.131639052506694e-6\n",
      "0.0076326714268770786\n",
      "0.9995012227723717\n",
      "-4.4302031997933547e-7\n",
      "0.005090784150429286\n",
      "0.9033469646720355\n",
      "0.9033469646720355\n",
      "0.9033469646720355\n",
      "0.9033469646720355\n",
      "0.9964442799050086\n",
      "0.6986444325453125\n",
      "0.9550225970399135\n",
      "2.39081868717847e-5\n",
      "1.2337034320170382e-6\n",
      "0.9550225970399135\n",
      "0.9550225970399135\n",
      "0.044190098213558654\n",
      "1.0019451963896686\n",
      "0.9550225970399135\n",
      "1.0000282080599492\n",
      "0.9550225970399135\n",
      "0.9550225970399135\n",
      "0.9550225970399135\n",
      "0.033848753305050085\n",
      "0.9775086419001476\n",
      "0.9500556376993442\n",
      "2.7232468366678452e-5\n",
      "1.9904378567206927e-8\n",
      "0.9500556376993442\n",
      "0.9500556376993442\n",
      "0.9500556376993442\n",
      "0.9500556376993442\n",
      "0.9500556376993442\n",
      "0.003253664981544052\n",
      "0.4552695870629905\n",
      "0.9830288950410859\n",
      "0.9500556376993442\n"
     ]
    },
    {
     "data": {
      "text/plain": [
       "283-element Array{String,1}:\n",
       " \"3260-01D_2019-05-02\"\n",
       " \"3260-01D_2019-05-09\"\n",
       " \"3260-01D_2019-05-10\"\n",
       " \"3260-01D_2019-05-15\"\n",
       " \"3260-01D_2019-05-20\"\n",
       " \"3260-01D_2019-05-23\"\n",
       " \"3260-01D_2019-05-24\"\n",
       " \"3260-01D_2019-05-26\"\n",
       " \"3260-01D_2019-05-30\"\n",
       " \"3350-07D_2019-05-01\"\n",
       " \"3350-07D_2019-05-02\"\n",
       " \"3350-07D_2019-05-08\"\n",
       " \"3350-07D_2019-05-09\"\n",
       " ⋮                    \n",
       " \"4380-01D_2019-09-01\"\n",
       " \"4380-01D_2019-09-02\"\n",
       " \"4380-01D_2019-09-04\"\n",
       " \"4380-01D_2019-09-05\"\n",
       " \"4380-01D_2019-09-12\"\n",
       " \"4380-01D_2019-09-13\"\n",
       " \"4380-01D_2019-09-16\"\n",
       " \"4380-01D_2019-09-22\"\n",
       " \"4380-01D_2019-09-26\"\n",
       " \"4380-01D_2019-09-28\"\n",
       " \"4380-01D_2019-09-29\"\n",
       " \"4380-01D_2019-09-30\""
      ]
     },
     "execution_count": 175,
     "metadata": {},
     "output_type": "execute_result"
    }
   ],
   "source": [
    "surverse = Int[]\n",
    "for i=1:size(test,1)\n",
    "    indproba = findfirst(filtervals[:] .== test[i,:NO_OUVRAGE])\n",
    "    ind = findfirst(pcp_sum[:,:date] .== test[i,:DATE])\n",
    "    sum = pcp_sum[ind,:McTavish]\n",
    "    ind = findfirst(pcp_max[:,:date] .== test[i,:DATE])\n",
    "    max = pcp_max[ind,:McTavish]\n",
    "\n",
    "    Psurverse = n₁[indproba]/n[indproba]\n",
    "\n",
    "    pSumSurverses = (1/sqrt(2*π*varianceSumSurverses[indproba])) - (1/2)*(((sum-moyenneSumSurverses[indproba])^2)/varianceSumSurverses[indproba])\n",
    "\n",
    "    pMaxSurverses = (1/sqrt(2*π*varianceMaxSurverses[indproba])) - (1/2)*(((max-moyenneMaxSurverses[indproba])^2)/varianceMaxSurverses[indproba])\n",
    "     \n",
    "\n",
    "    Pnonsurverse = n₀[indproba]/n[indproba]\n",
    "    pSumNonSurverses = (1/sqrt(2*π*varianceSumNonSurverses[indproba])) - (1/2)*(((sum-moyenneSumNonSurverses[indproba])^2)/varianceSumNonSurverses[indproba])\n",
    "    pMaxNonSurverses = (1/sqrt(2*π*varianceMaxNonSurverses[indproba])) - (1/2)*(((max-moyenneMaxNonSurverses[indproba])^2)/varianceMaxNonSurverses[indproba])\n",
    "\n",
    "    pxSsurverse = pSumSurverses * pMaxSurverses\n",
    "    \n",
    "    pxSnonsurverse = pSumNonSurverses * pMaxNonSurverses\n",
    "    \n",
    "    psurverse = (pxSsurverse * Psurverse)/(pxSsurverse * Psurverse + pxSnonsurverse*Pnonsurverse)\n",
    "    push!(surverse, (psurverse<0.5));\n",
    "    println(\"$psurverse\")\n",
    "end\n",
    "# Pour chacune des lignes du fichier test, comportant un ouvrage et une date, une prédiction est requise.\n",
    "# Dans ce cas-ci, utilisons une prédiction les plus naîve. \n",
    "# On prédit avec une chance sur deux qu'il y ait surverse, sans utiliser de variables explicatives\n",
    "\n",
    "\n",
    "\n",
    "# Création du fichier sampleSubmission.csv pour soumettre sur Kaggle\n",
    "ID = test[:,:NO_OUVRAGE].*\"_\".*string.(test[:,:DATE])\n",
    "sampleSubmission = DataFrame(ID = ID, Surverse=surverse)\n",
    "CSV.write(\"result.csv\",sampleSubmission)\n",
    "\n",
    "# Vous pouvez par la suite déposer le fichier sampleSubmission.csv sur Kaggle.\n",
    "ID"
   ]
  },
  {
   "cell_type": "code",
   "execution_count": null,
   "metadata": {},
   "outputs": [],
   "source": []
  },
  {
   "cell_type": "code",
   "execution_count": null,
   "metadata": {},
   "outputs": [],
   "source": []
  }
 ],
 "metadata": {
  "@webio": {
   "lastCommId": null,
   "lastKernelId": null
  },
  "kernelspec": {
   "display_name": "Julia 1.3.0",
   "language": "julia",
   "name": "julia-1.3"
  },
  "language_info": {
   "file_extension": ".jl",
   "mimetype": "application/julia",
   "name": "julia",
   "version": "1.3.0"
  }
 },
 "nbformat": 4,
 "nbformat_minor": 2
}
