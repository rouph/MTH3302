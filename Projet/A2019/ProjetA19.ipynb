{
 "cells": [
  {
   "cell_type": "markdown",
   "metadata": {},
   "source": [
    "\n",
    "# MTH3302 : Méthodes probabilistes et statistiques pour l'I.A.\n",
    "\n",
    "Jonathan Jalbert<br/>\n",
    "Professeur adjoint au Département de mathématiques et de génie industriel<br/>\n",
    "Polytechnique Montréal<br/>\n",
    "\n",
    "Le projet a été développé à l'aide de Alice Breton, étudiante à la maîtrise en génie informatique. Elle a suivi le cours lors de la session Hiver 2019.\n",
    "\n",
    "\n",
    "\n",
    "# Projet : Débordement d'égouts\n",
    "\n",
    "La description du projet est disponible à l'adresse suivante :\n",
    "https://www.kaggle.com/t/a238b752c33a41d9803c2cdde6bfc929\n",
    "\n",
    "Ce calepin Jupyter de base permet de charger et de nettoyer les données fournies. La dernière section détaille la génération du fichier des prédictions afin de le soumettre sur Kaggle dans le bon format.\n",
    "\n",
    "Dans un premier temps, vous devrez récupérer l'archive *data.zip* sur Moodle. Ce dossier contient les fichiers suivants :\n",
    "- surverses.csv\n",
    "- precipitation.csv\n",
    "- ouvrages-surverses.csv\n",
    "- test.csv\n",
    "\n",
    "Veuillez le décompresser dans le répertoire de ce calepin.\n",
    "\n",
    "Le fichier *surverse.csv* répertorie s'il y a surverse (1) ou non (0) au cours de la journée pour les 170 ouvrages de débordement de 2013 à 2018 pour les mois de mai à octobre (inclusivement). Des renseignements additionnels sur les données sont disponibles à l'adresse suivante :\n",
    "\n",
    "http://donnees.ville.montreal.qc.ca/dataset/debordement\n",
    "\n",
    "\n",
    "Le fichier *precipitation.csv* contient les précipitations horaires en dixième de *mm* enregistrées à 5 stations pluviométriques de 2013 à 2019 :\n",
    "- McTavish (7024745)\n",
    "- Ste-Anne-de-Bellevue (702FHL8)\n",
    "- Montreal/Pierre Elliott Trudeau Intl (702S006)\n",
    "- Montreal/St-Hubert (7027329)\n",
    "- L’Assomption (7014160)\n",
    "\n",
    "Plus d'informations sur les précipitations sont disponibles à l'adresse suivante :\n",
    "\n",
    "https://climat.meteo.gc.ca/climate_data/hourly_data_f.html?hlyRange=2008-01-08%7C2019-11-12&dlyRange=2002-12-23%7C2019-11-12&mlyRange=%7C&StationID=30165&Prov=QC&urlExtension=_f.html&searchType=stnName&optLimit=yearRange&StartYear=1840&EndYear=2019&selRowPerPage=25&Line=17&searchMethod=contains&Month=11&Day=12&txtStationName=montreal&timeframe=1&Year=2019\n",
    "\n",
    "Le fichier *ouvrages-surverses.csv* contient différentes caractéristiques des ouvrages de débordement. \n",
    "\n",
    "http://donnees.ville.montreal.qc.ca/dataset/ouvrage-surverse\n",
    "\n",
    "Le fichier *test.csv* contient les ouvrages et les jours pour lesquels vous devez prédire s'il y a eu surverse (true) ou non (false). Notez que l'on s'intéresse ici à 5 ouvrages de débordement localisés tout autour de l'Ile de Montréal :\n",
    "- 3260-01D dans Rivière-des-Prairies \n",
    "- 3350-07D dans Ahunstic \n",
    "- 4240-01D dans Pointe-aux-Trembles \n",
    "- 4350-01D dans le Vieux-Montréal \n",
    "- 4380-01D dans Verdun\n",
    "\n",
    "#### Remarque\n",
    "\n",
    "Dans le projet, on ne s'intéresse qu'aux surverses occasionnées par les précipitations. On ignore les surverses occasionnées par \n",
    "- fonte de neige (F)\n",
    "- travaux planifiés et entretien (TPL)\n",
    "- urgence (U)\n",
    "- autre (AUT)\n",
    "\n",
    "On suppose que lorsqu'il n'y a pas de raison pour la surverse, il s'agit d'une surverse causée par les précipitations. Puisque Nous nous intéresserons uniquement aux surverses occasionnées par les précipitations liquides, nous ne considérons que les mois de mai à octobre inclusivement."
   ]
  },
  {
   "cell_type": "code",
   "execution_count": 2,
   "metadata": {},
   "outputs": [],
   "source": [
    "using CSV, DataFrames, Statistics, Dates, Gadfly, Missings"
   ]
  },
  {
   "cell_type": "markdown",
   "metadata": {},
   "source": [
    "# Chargement des données et nettoyage préliminaire"
   ]
  },
  {
   "cell_type": "markdown",
   "metadata": {},
   "source": [
    "## Chargement des surverses"
   ]
  },
  {
   "cell_type": "code",
   "execution_count": 3,
   "metadata": {},
   "outputs": [
    {
     "ename": "InterruptException",
     "evalue": "InterruptException:",
     "output_type": "error",
     "traceback": [
      "InterruptException:",
      "",
      "Stacktrace:",
      " [1] try_yieldto(::typeof(Base.ensure_rescheduled), ::Base.RefValue{Task}) at .\\task.jl:611",
      " [2] wait() at .\\task.jl:668",
      " [3] uv_write(::Base.PipeEndpoint, ::Ptr{UInt8}, ::UInt64) at .\\stream.jl:935",
      " [4] flush(::Base.PipeEndpoint) at .\\stream.jl:1020",
      " [5] flush at .\\io.jl:312 [inlined]",
      " [6] flush(::IJulia.IJuliaStdio{Base.PipeEndpoint}) at C:\\Users\\elie_\\.julia\\packages\\IJulia\\F1GUo\\src\\stdio.jl:273",
      " [7] flush_all() at C:\\Users\\elie_\\.julia\\packages\\IJulia\\F1GUo\\src\\stdio.jl:257",
      " [8] execute_request(::ZMQ.Socket, ::IJulia.Msg) at C:\\Users\\elie_\\.julia\\packages\\IJulia\\F1GUo\\src\\execute_request.jl:105",
      " [9] #invokelatest#1 at .\\essentials.jl:709 [inlined]",
      " [10] invokelatest at .\\essentials.jl:708 [inlined]",
      " [11] eventloop(::ZMQ.Socket) at C:\\Users\\elie_\\.julia\\packages\\IJulia\\F1GUo\\src\\eventloop.jl:8",
      " [12] (::IJulia.var\"#15#18\")() at .\\task.jl:333"
     ]
    }
   ],
   "source": [
    "data = CSV.read(\"data/surverses.csv\",missingstring=\"-99999\")\n",
    "first(data,5)"
   ]
  },
  {
   "cell_type": "markdown",
   "metadata": {},
   "source": [
    "## Nettoyage des données sur les surverses\n",
    "\n",
    "#### Extraction des surverses pour les mois de mai à octobre inclusivement"
   ]
  },
  {
   "cell_type": "code",
   "execution_count": 4,
   "metadata": {},
   "outputs": [
    {
     "data": {
      "text/html": [
       "<table class=\"data-frame\"><thead><tr><th></th><th>NO_OUVRAGE</th><th>DATE</th><th>SURVERSE</th><th>RAISON</th></tr><tr><th></th><th>String</th><th>Date</th><th>Int64⍰</th><th>String⍰</th></tr></thead><tbody><p>5 rows × 4 columns</p><tr><th>1</th><td>0642-01D</td><td>2013-05-01</td><td>0</td><td>missing</td></tr><tr><th>2</th><td>0642-01D</td><td>2013-05-02</td><td>0</td><td>missing</td></tr><tr><th>3</th><td>0642-01D</td><td>2013-05-03</td><td>0</td><td>missing</td></tr><tr><th>4</th><td>0642-01D</td><td>2013-05-04</td><td>0</td><td>missing</td></tr><tr><th>5</th><td>0642-01D</td><td>2013-05-05</td><td>0</td><td>missing</td></tr></tbody></table>"
      ],
      "text/latex": [
       "\\begin{tabular}{r|cccc}\n",
       "\t& NO\\_OUVRAGE & DATE & SURVERSE & RAISON\\\\\n",
       "\t\\hline\n",
       "\t& String & Date & Int64⍰ & String⍰\\\\\n",
       "\t\\hline\n",
       "\t1 & 0642-01D & 2013-05-01 & 0 &  \\\\\n",
       "\t2 & 0642-01D & 2013-05-02 & 0 &  \\\\\n",
       "\t3 & 0642-01D & 2013-05-03 & 0 &  \\\\\n",
       "\t4 & 0642-01D & 2013-05-04 & 0 &  \\\\\n",
       "\t5 & 0642-01D & 2013-05-05 & 0 &  \\\\\n",
       "\\end{tabular}\n"
      ],
      "text/plain": [
       "5×4 DataFrame\n",
       "│ Row │ NO_OUVRAGE │ DATE       │ SURVERSE │ RAISON  │\n",
       "│     │ \u001b[90mString\u001b[39m     │ \u001b[90mDate\u001b[39m       │ \u001b[90mInt64⍰\u001b[39m   │ \u001b[90mString⍰\u001b[39m │\n",
       "├─────┼────────────┼────────────┼──────────┼─────────┤\n",
       "│ 1   │ 0642-01D   │ 2013-05-01 │ 0        │ \u001b[90mmissing\u001b[39m │\n",
       "│ 2   │ 0642-01D   │ 2013-05-02 │ 0        │ \u001b[90mmissing\u001b[39m │\n",
       "│ 3   │ 0642-01D   │ 2013-05-03 │ 0        │ \u001b[90mmissing\u001b[39m │\n",
       "│ 4   │ 0642-01D   │ 2013-05-04 │ 0        │ \u001b[90mmissing\u001b[39m │\n",
       "│ 5   │ 0642-01D   │ 2013-05-05 │ 0        │ \u001b[90mmissing\u001b[39m │"
      ]
     },
     "execution_count": 4,
     "metadata": {},
     "output_type": "execute_result"
    }
   ],
   "source": [
    "data = filter(row -> month(row.DATE) > 4, data) \n",
    "data = filter(row -> month(row.DATE) < 11, data) \n",
    "first(data,5)"
   ]
  },
  {
   "cell_type": "markdown",
   "metadata": {},
   "source": [
    "#### Remplacement des valeurs *missing* dans la colonne :RAISON par \"Inconnue\""
   ]
  },
  {
   "cell_type": "code",
   "execution_count": 5,
   "metadata": {},
   "outputs": [
    {
     "data": {
      "text/html": [
       "<table class=\"data-frame\"><thead><tr><th></th><th>NO_OUVRAGE</th><th>DATE</th><th>SURVERSE</th><th>RAISON</th></tr><tr><th></th><th>String</th><th>Date</th><th>Int64⍰</th><th>String</th></tr></thead><tbody><p>5 rows × 4 columns</p><tr><th>1</th><td>0642-01D</td><td>2013-05-01</td><td>0</td><td>Inconnue</td></tr><tr><th>2</th><td>0642-01D</td><td>2013-05-02</td><td>0</td><td>Inconnue</td></tr><tr><th>3</th><td>0642-01D</td><td>2013-05-03</td><td>0</td><td>Inconnue</td></tr><tr><th>4</th><td>0642-01D</td><td>2013-05-04</td><td>0</td><td>Inconnue</td></tr><tr><th>5</th><td>0642-01D</td><td>2013-05-05</td><td>0</td><td>Inconnue</td></tr></tbody></table>"
      ],
      "text/latex": [
       "\\begin{tabular}{r|cccc}\n",
       "\t& NO\\_OUVRAGE & DATE & SURVERSE & RAISON\\\\\n",
       "\t\\hline\n",
       "\t& String & Date & Int64⍰ & String\\\\\n",
       "\t\\hline\n",
       "\t1 & 0642-01D & 2013-05-01 & 0 & Inconnue \\\\\n",
       "\t2 & 0642-01D & 2013-05-02 & 0 & Inconnue \\\\\n",
       "\t3 & 0642-01D & 2013-05-03 & 0 & Inconnue \\\\\n",
       "\t4 & 0642-01D & 2013-05-04 & 0 & Inconnue \\\\\n",
       "\t5 & 0642-01D & 2013-05-05 & 0 & Inconnue \\\\\n",
       "\\end{tabular}\n"
      ],
      "text/plain": [
       "5×4 DataFrame\n",
       "│ Row │ NO_OUVRAGE │ DATE       │ SURVERSE │ RAISON   │\n",
       "│     │ \u001b[90mString\u001b[39m     │ \u001b[90mDate\u001b[39m       │ \u001b[90mInt64⍰\u001b[39m   │ \u001b[90mString\u001b[39m   │\n",
       "├─────┼────────────┼────────────┼──────────┼──────────┤\n",
       "│ 1   │ 0642-01D   │ 2013-05-01 │ 0        │ Inconnue │\n",
       "│ 2   │ 0642-01D   │ 2013-05-02 │ 0        │ Inconnue │\n",
       "│ 3   │ 0642-01D   │ 2013-05-03 │ 0        │ Inconnue │\n",
       "│ 4   │ 0642-01D   │ 2013-05-04 │ 0        │ Inconnue │\n",
       "│ 5   │ 0642-01D   │ 2013-05-05 │ 0        │ Inconnue │"
      ]
     },
     "execution_count": 5,
     "metadata": {},
     "output_type": "execute_result"
    }
   ],
   "source": [
    "raison = coalesce.(data[:,:RAISON],\"Inconnue\")\n",
    "data[!,:RAISON] = raison\n",
    "first(data,5)"
   ]
  },
  {
   "cell_type": "markdown",
   "metadata": {},
   "source": [
    "#### Exlusion des surverses coccasionnées par d'autres facteurs que les précipitations liquides\n",
    "\n",
    "Ces facteurs correspondent à : \n",
    "- la fonte de neige (F), \n",
    "- les travaux planifiés et entretien (TPL)\n",
    "- urgence (U)\n",
    "- autre (AUT)"
   ]
  },
  {
   "cell_type": "code",
   "execution_count": 6,
   "metadata": {},
   "outputs": [
    {
     "data": {
      "text/html": [
       "<table class=\"data-frame\"><thead><tr><th></th><th>NO_OUVRAGE</th><th>DATE</th><th>SURVERSE</th></tr><tr><th></th><th>String</th><th>Date</th><th>Int64⍰</th></tr></thead><tbody><p>176,667 rows × 3 columns</p><tr><th>1</th><td>0642-01D</td><td>2013-05-01</td><td>0</td></tr><tr><th>2</th><td>0642-01D</td><td>2013-05-02</td><td>0</td></tr><tr><th>3</th><td>0642-01D</td><td>2013-05-03</td><td>0</td></tr><tr><th>4</th><td>0642-01D</td><td>2013-05-04</td><td>0</td></tr><tr><th>5</th><td>0642-01D</td><td>2013-05-05</td><td>0</td></tr><tr><th>6</th><td>0642-01D</td><td>2013-05-06</td><td>0</td></tr><tr><th>7</th><td>0642-01D</td><td>2013-05-07</td><td>0</td></tr><tr><th>8</th><td>0642-01D</td><td>2013-05-08</td><td>0</td></tr><tr><th>9</th><td>0642-01D</td><td>2013-05-09</td><td>0</td></tr><tr><th>10</th><td>0642-01D</td><td>2013-05-10</td><td>0</td></tr><tr><th>11</th><td>0642-01D</td><td>2013-05-11</td><td>0</td></tr><tr><th>12</th><td>0642-01D</td><td>2013-05-12</td><td>0</td></tr><tr><th>13</th><td>0642-01D</td><td>2013-05-13</td><td>0</td></tr><tr><th>14</th><td>0642-01D</td><td>2013-05-14</td><td>0</td></tr><tr><th>15</th><td>0642-01D</td><td>2013-05-15</td><td>0</td></tr><tr><th>16</th><td>0642-01D</td><td>2013-05-16</td><td>0</td></tr><tr><th>17</th><td>0642-01D</td><td>2013-05-17</td><td>0</td></tr><tr><th>18</th><td>0642-01D</td><td>2013-05-18</td><td>0</td></tr><tr><th>19</th><td>0642-01D</td><td>2013-05-19</td><td>0</td></tr><tr><th>20</th><td>0642-01D</td><td>2013-05-20</td><td>0</td></tr><tr><th>21</th><td>0642-01D</td><td>2013-05-21</td><td>0</td></tr><tr><th>22</th><td>0642-01D</td><td>2013-05-22</td><td>0</td></tr><tr><th>23</th><td>0642-01D</td><td>2013-05-23</td><td>0</td></tr><tr><th>24</th><td>0642-01D</td><td>2013-05-24</td><td>0</td></tr><tr><th>25</th><td>0642-01D</td><td>2013-05-25</td><td>0</td></tr><tr><th>26</th><td>0642-01D</td><td>2013-05-26</td><td>0</td></tr><tr><th>27</th><td>0642-01D</td><td>2013-05-27</td><td>0</td></tr><tr><th>28</th><td>0642-01D</td><td>2013-05-28</td><td>0</td></tr><tr><th>29</th><td>0642-01D</td><td>2013-05-29</td><td>0</td></tr><tr><th>30</th><td>0642-01D</td><td>2013-05-30</td><td>0</td></tr><tr><th>&vellip;</th><td>&vellip;</td><td>&vellip;</td><td>&vellip;</td></tr></tbody></table>"
      ],
      "text/latex": [
       "\\begin{tabular}{r|ccc}\n",
       "\t& NO\\_OUVRAGE & DATE & SURVERSE\\\\\n",
       "\t\\hline\n",
       "\t& String & Date & Int64⍰\\\\\n",
       "\t\\hline\n",
       "\t1 & 0642-01D & 2013-05-01 & 0 \\\\\n",
       "\t2 & 0642-01D & 2013-05-02 & 0 \\\\\n",
       "\t3 & 0642-01D & 2013-05-03 & 0 \\\\\n",
       "\t4 & 0642-01D & 2013-05-04 & 0 \\\\\n",
       "\t5 & 0642-01D & 2013-05-05 & 0 \\\\\n",
       "\t6 & 0642-01D & 2013-05-06 & 0 \\\\\n",
       "\t7 & 0642-01D & 2013-05-07 & 0 \\\\\n",
       "\t8 & 0642-01D & 2013-05-08 & 0 \\\\\n",
       "\t9 & 0642-01D & 2013-05-09 & 0 \\\\\n",
       "\t10 & 0642-01D & 2013-05-10 & 0 \\\\\n",
       "\t11 & 0642-01D & 2013-05-11 & 0 \\\\\n",
       "\t12 & 0642-01D & 2013-05-12 & 0 \\\\\n",
       "\t13 & 0642-01D & 2013-05-13 & 0 \\\\\n",
       "\t14 & 0642-01D & 2013-05-14 & 0 \\\\\n",
       "\t15 & 0642-01D & 2013-05-15 & 0 \\\\\n",
       "\t16 & 0642-01D & 2013-05-16 & 0 \\\\\n",
       "\t17 & 0642-01D & 2013-05-17 & 0 \\\\\n",
       "\t18 & 0642-01D & 2013-05-18 & 0 \\\\\n",
       "\t19 & 0642-01D & 2013-05-19 & 0 \\\\\n",
       "\t20 & 0642-01D & 2013-05-20 & 0 \\\\\n",
       "\t21 & 0642-01D & 2013-05-21 & 0 \\\\\n",
       "\t22 & 0642-01D & 2013-05-22 & 0 \\\\\n",
       "\t23 & 0642-01D & 2013-05-23 & 0 \\\\\n",
       "\t24 & 0642-01D & 2013-05-24 & 0 \\\\\n",
       "\t25 & 0642-01D & 2013-05-25 & 0 \\\\\n",
       "\t26 & 0642-01D & 2013-05-26 & 0 \\\\\n",
       "\t27 & 0642-01D & 2013-05-27 & 0 \\\\\n",
       "\t28 & 0642-01D & 2013-05-28 & 0 \\\\\n",
       "\t29 & 0642-01D & 2013-05-29 & 0 \\\\\n",
       "\t30 & 0642-01D & 2013-05-30 & 0 \\\\\n",
       "\t$\\dots$ & $\\dots$ & $\\dots$ & $\\dots$ \\\\\n",
       "\\end{tabular}\n"
      ],
      "text/plain": [
       "176667×3 DataFrame\n",
       "│ Row    │ NO_OUVRAGE │ DATE       │ SURVERSE │\n",
       "│        │ \u001b[90mString\u001b[39m     │ \u001b[90mDate\u001b[39m       │ \u001b[90mInt64⍰\u001b[39m   │\n",
       "├────────┼────────────┼────────────┼──────────┤\n",
       "│ 1      │ 0642-01D   │ 2013-05-01 │ 0        │\n",
       "│ 2      │ 0642-01D   │ 2013-05-02 │ 0        │\n",
       "│ 3      │ 0642-01D   │ 2013-05-03 │ 0        │\n",
       "│ 4      │ 0642-01D   │ 2013-05-04 │ 0        │\n",
       "│ 5      │ 0642-01D   │ 2013-05-05 │ 0        │\n",
       "│ 6      │ 0642-01D   │ 2013-05-06 │ 0        │\n",
       "│ 7      │ 0642-01D   │ 2013-05-07 │ 0        │\n",
       "│ 8      │ 0642-01D   │ 2013-05-08 │ 0        │\n",
       "│ 9      │ 0642-01D   │ 2013-05-09 │ 0        │\n",
       "│ 10     │ 0642-01D   │ 2013-05-10 │ 0        │\n",
       "⋮\n",
       "│ 176657 │ 4560-02D   │ 2018-10-21 │ \u001b[90mmissing\u001b[39m  │\n",
       "│ 176658 │ 4560-02D   │ 2018-10-22 │ \u001b[90mmissing\u001b[39m  │\n",
       "│ 176659 │ 4560-02D   │ 2018-10-23 │ \u001b[90mmissing\u001b[39m  │\n",
       "│ 176660 │ 4560-02D   │ 2018-10-24 │ \u001b[90mmissing\u001b[39m  │\n",
       "│ 176661 │ 4560-02D   │ 2018-10-25 │ \u001b[90mmissing\u001b[39m  │\n",
       "│ 176662 │ 4560-02D   │ 2018-10-26 │ \u001b[90mmissing\u001b[39m  │\n",
       "│ 176663 │ 4560-02D   │ 2018-10-27 │ \u001b[90mmissing\u001b[39m  │\n",
       "│ 176664 │ 4560-02D   │ 2018-10-28 │ \u001b[90mmissing\u001b[39m  │\n",
       "│ 176665 │ 4560-02D   │ 2018-10-29 │ \u001b[90mmissing\u001b[39m  │\n",
       "│ 176666 │ 4560-02D   │ 2018-10-30 │ \u001b[90mmissing\u001b[39m  │\n",
       "│ 176667 │ 4560-02D   │ 2018-10-31 │ \u001b[90mmissing\u001b[39m  │"
      ]
     },
     "execution_count": 6,
     "metadata": {},
     "output_type": "execute_result"
    }
   ],
   "source": [
    "data = filter(row -> row.RAISON ∈ [\"P\",\"Inconnue\",\"TS\"], data) \n",
    "select!(data, [:NO_OUVRAGE, :DATE, :SURVERSE])\n",
    "first(data,5)\n",
    "data"
   ]
  },
  {
   "cell_type": "code",
   "execution_count": null,
   "metadata": {},
   "outputs": [],
   "source": []
  },
  {
   "cell_type": "markdown",
   "metadata": {},
   "source": [
    "#### Exclusion des lignes où :SURVERSE est manquante"
   ]
  },
  {
   "cell_type": "code",
   "execution_count": 7,
   "metadata": {},
   "outputs": [],
   "source": [
    "surverse_df = dropmissing(data, disallowmissing=true);"
   ]
  },
  {
   "cell_type": "code",
   "execution_count": 8,
   "metadata": {},
   "outputs": [
    {
     "name": "stderr",
     "output_type": "stream",
     "text": [
      "┌ Warning: `getindex(df::DataFrame, col_ind::ColumnIndex)` is deprecated, use `df[!, col_ind]` instead.\n",
      "│   caller = top-level scope at In[8]:1\n",
      "└ @ Core In[8]:1\n",
      "┌ Warning: `getindex(df::DataFrame, col_ind::ColumnIndex)` is deprecated, use `df[!, col_ind]` instead.\n",
      "│   caller = top-level scope at In[8]:2\n",
      "└ @ Core In[8]:2\n"
     ]
    },
    {
     "data": {
      "text/plain": [
       "1-element Array{Int64,1}:\n",
       " 161098"
      ]
     },
     "execution_count": 8,
     "metadata": {},
     "output_type": "execute_result"
    }
   ],
   "source": [
    "n₁ = sum(x->x==1, surverse_df[:SURVERSE], dims=1) \n",
    "n₀ = sum(x->x==0, surverse_df[:SURVERSE], dims=1) \n",
    "n = n₀ + n₁"
   ]
  },
  {
   "cell_type": "code",
   "execution_count": 9,
   "metadata": {},
   "outputs": [],
   "source": [
    "filtervals = [\"3260-01D\"; \"3350-07D\"; \"4240-01D\"; \"4350-01D\"; \"4380-01D\"]\n",
    "surverse_df1 = filter(row-> row.NO_OUVRAGE == filtervals[1], surverse_df)\n",
    "surverse_df2 = filter(row-> row.NO_OUVRAGE == filtervals[2], surverse_df)\n",
    "surverse_df3 = filter(row-> row.NO_OUVRAGE == filtervals[3], surverse_df)\n",
    "surverse_df4 = filter(row-> row.NO_OUVRAGE == filtervals[4], surverse_df)\n",
    "surverse_df5 = filter(row-> row.NO_OUVRAGE == filtervals[5], surverse_df);"
   ]
  },
  {
   "cell_type": "code",
   "execution_count": 10,
   "metadata": {},
   "outputs": [
    {
     "data": {
      "text/plain": [
       "0-element Array{Int64,1}"
      ]
     },
     "execution_count": 10,
     "metadata": {},
     "output_type": "execute_result"
    }
   ],
   "source": [
    "#### on prend pour chaque ouvrage le nombre de fois ou il a eu surver et non\n",
    "n₁ = Int64[]\n",
    "n₀  = Int64[]\n",
    "n  = Int64[]"
   ]
  },
  {
   "cell_type": "code",
   "execution_count": 11,
   "metadata": {},
   "outputs": [
    {
     "name": "stderr",
     "output_type": "stream",
     "text": [
      "┌ Warning: `getindex(df::DataFrame, col_ind::ColumnIndex)` is deprecated, use `df[!, col_ind]` instead.\n",
      "│   caller = top-level scope at In[11]:1\n",
      "└ @ Core In[11]:1\n",
      "┌ Warning: `getindex(df::DataFrame, col_ind::ColumnIndex)` is deprecated, use `df[!, col_ind]` instead.\n",
      "│   caller = top-level scope at In[11]:3\n",
      "└ @ Core In[11]:3\n"
     ]
    },
    {
     "data": {
      "text/plain": [
       "1-element Array{Int64,1}:\n",
       " 1097"
      ]
     },
     "execution_count": 11,
     "metadata": {},
     "output_type": "execute_result"
    }
   ],
   "source": [
    "n1₁ = sum(x->x==1, surverse_df1[:SURVERSE], dims=1) \n",
    "push!(n₁, n1₁[1])\n",
    "n1₀ = sum(x->x==0, surverse_df1[:SURVERSE], dims=1)  \n",
    "push!(n₀, n1₀[1])\n",
    "n1= n1₁[1] + n1₀[1]\n",
    "push!(n, n1)"
   ]
  },
  {
   "cell_type": "code",
   "execution_count": 12,
   "metadata": {},
   "outputs": [
    {
     "name": "stderr",
     "output_type": "stream",
     "text": [
      "┌ Warning: `getindex(df::DataFrame, col_ind::ColumnIndex)` is deprecated, use `df[!, col_ind]` instead.\n",
      "│   caller = top-level scope at In[12]:1\n",
      "└ @ Core In[12]:1\n",
      "┌ Warning: `getindex(df::DataFrame, col_ind::ColumnIndex)` is deprecated, use `df[!, col_ind]` instead.\n",
      "│   caller = top-level scope at In[12]:3\n",
      "└ @ Core In[12]:3\n"
     ]
    },
    {
     "data": {
      "text/plain": [
       "2-element Array{Int64,1}:\n",
       " 1097\n",
       "  729"
      ]
     },
     "execution_count": 12,
     "metadata": {},
     "output_type": "execute_result"
    }
   ],
   "source": [
    "n1₁ = sum(x->x==1, surverse_df2[:SURVERSE], dims=1) \n",
    "push!(n₁, n1₁[1])\n",
    "n1₀ = sum(x->x==0, surverse_df2[:SURVERSE], dims=1)  \n",
    "push!(n₀, n1₀[1])\n",
    "n1= n1₁[1] + n1₀[1]\n",
    "push!(n, n1)"
   ]
  },
  {
   "cell_type": "code",
   "execution_count": 13,
   "metadata": {},
   "outputs": [
    {
     "name": "stderr",
     "output_type": "stream",
     "text": [
      "┌ Warning: `getindex(df::DataFrame, col_ind::ColumnIndex)` is deprecated, use `df[!, col_ind]` instead.\n",
      "│   caller = top-level scope at In[13]:1\n",
      "└ @ Core In[13]:1\n",
      "┌ Warning: `getindex(df::DataFrame, col_ind::ColumnIndex)` is deprecated, use `df[!, col_ind]` instead.\n",
      "│   caller = top-level scope at In[13]:3\n",
      "└ @ Core In[13]:3\n"
     ]
    },
    {
     "data": {
      "text/plain": [
       "3-element Array{Int64,1}:\n",
       " 1097\n",
       "  729\n",
       " 1100"
      ]
     },
     "execution_count": 13,
     "metadata": {},
     "output_type": "execute_result"
    }
   ],
   "source": [
    "n1₁ = sum(x->x==1, surverse_df3[:SURVERSE], dims=1) \n",
    "push!(n₁, n1₁[1])\n",
    "n1₀ = sum(x->x==0, surverse_df3[:SURVERSE], dims=1)  \n",
    "push!(n₀, n1₀[1])\n",
    "n1= n1₁[1] + n1₀[1]\n",
    "push!(n, n1)"
   ]
  },
  {
   "cell_type": "code",
   "execution_count": 14,
   "metadata": {},
   "outputs": [
    {
     "name": "stderr",
     "output_type": "stream",
     "text": [
      "┌ Warning: `getindex(df::DataFrame, col_ind::ColumnIndex)` is deprecated, use `df[!, col_ind]` instead.\n",
      "│   caller = top-level scope at In[14]:1\n",
      "└ @ Core In[14]:1\n",
      "┌ Warning: `getindex(df::DataFrame, col_ind::ColumnIndex)` is deprecated, use `df[!, col_ind]` instead.\n",
      "│   caller = top-level scope at In[14]:3\n",
      "└ @ Core In[14]:3\n"
     ]
    },
    {
     "data": {
      "text/plain": [
       "4-element Array{Int64,1}:\n",
       " 1097\n",
       "  729\n",
       " 1100\n",
       " 1100"
      ]
     },
     "execution_count": 14,
     "metadata": {},
     "output_type": "execute_result"
    }
   ],
   "source": [
    "n1₁ = sum(x->x==1, surverse_df4[:SURVERSE], dims=1) \n",
    "push!(n₁, n1₁[1])\n",
    "n1₀ = sum(x->x==0, surverse_df4[:SURVERSE], dims=1)  \n",
    "push!(n₀, n1₀[1])\n",
    "n1= n1₁[1] + n1₀[1]\n",
    "push!(n, n1)"
   ]
  },
  {
   "cell_type": "code",
   "execution_count": 15,
   "metadata": {},
   "outputs": [
    {
     "name": "stderr",
     "output_type": "stream",
     "text": [
      "┌ Warning: `getindex(df::DataFrame, col_ind::ColumnIndex)` is deprecated, use `df[!, col_ind]` instead.\n",
      "│   caller = top-level scope at In[15]:1\n",
      "└ @ Core In[15]:1\n",
      "┌ Warning: `getindex(df::DataFrame, col_ind::ColumnIndex)` is deprecated, use `df[!, col_ind]` instead.\n",
      "│   caller = top-level scope at In[15]:3\n",
      "└ @ Core In[15]:3\n"
     ]
    },
    {
     "data": {
      "text/plain": [
       "5-element Array{Int64,1}:\n",
       " 1097\n",
       "  729\n",
       " 1100\n",
       " 1100\n",
       " 1103"
      ]
     },
     "execution_count": 15,
     "metadata": {},
     "output_type": "execute_result"
    }
   ],
   "source": [
    "n1₁ = sum(x->x==1, surverse_df5[:SURVERSE], dims=1) \n",
    "push!(n₁, n1₁[1])\n",
    "n1₀ = sum(x->x==0, surverse_df5[:SURVERSE], dims=1)  \n",
    "push!(n₀, n1₀[1])\n",
    "n1= n1₁[1] + n1₀[1]\n",
    "push!(n, n1)"
   ]
  },
  {
   "cell_type": "code",
   "execution_count": 16,
   "metadata": {},
   "outputs": [
    {
     "data": {
      "text/plain": [
       "5-element Array{Int64,1}:\n",
       " 1097\n",
       "  729\n",
       " 1100\n",
       " 1100\n",
       " 1103"
      ]
     },
     "execution_count": 16,
     "metadata": {},
     "output_type": "execute_result"
    }
   ],
   "source": [
    "n"
   ]
  },
  {
   "cell_type": "markdown",
   "metadata": {},
   "source": [
    "## Chargement des précipitations"
   ]
  },
  {
   "cell_type": "code",
   "execution_count": 17,
   "metadata": {},
   "outputs": [
    {
     "data": {
      "text/html": [
       "<table class=\"data-frame\"><thead><tr><th></th><th>date</th><th>heure</th><th>McTavish</th><th>Bellevue</th><th>Assomption</th><th>Trudeau</th><th>StHubert</th></tr><tr><th></th><th>Date</th><th>Int64</th><th>Int64⍰</th><th>Int64⍰</th><th>Int64⍰</th><th>Int64⍰</th><th>Int64⍰</th></tr></thead><tbody><p>5 rows × 7 columns</p><tr><th>1</th><td>2013-01-01</td><td>0</td><td>0</td><td>0</td><td>0</td><td>0</td><td>missing</td></tr><tr><th>2</th><td>2013-01-01</td><td>1</td><td>0</td><td>0</td><td>0</td><td>0</td><td>missing</td></tr><tr><th>3</th><td>2013-01-01</td><td>2</td><td>0</td><td>0</td><td>0</td><td>0</td><td>missing</td></tr><tr><th>4</th><td>2013-01-01</td><td>3</td><td>0</td><td>0</td><td>0</td><td>0</td><td>missing</td></tr><tr><th>5</th><td>2013-01-01</td><td>4</td><td>0</td><td>0</td><td>0</td><td>0</td><td>missing</td></tr></tbody></table>"
      ],
      "text/latex": [
       "\\begin{tabular}{r|ccccccc}\n",
       "\t& date & heure & McTavish & Bellevue & Assomption & Trudeau & StHubert\\\\\n",
       "\t\\hline\n",
       "\t& Date & Int64 & Int64⍰ & Int64⍰ & Int64⍰ & Int64⍰ & Int64⍰\\\\\n",
       "\t\\hline\n",
       "\t1 & 2013-01-01 & 0 & 0 & 0 & 0 & 0 &  \\\\\n",
       "\t2 & 2013-01-01 & 1 & 0 & 0 & 0 & 0 &  \\\\\n",
       "\t3 & 2013-01-01 & 2 & 0 & 0 & 0 & 0 &  \\\\\n",
       "\t4 & 2013-01-01 & 3 & 0 & 0 & 0 & 0 &  \\\\\n",
       "\t5 & 2013-01-01 & 4 & 0 & 0 & 0 & 0 &  \\\\\n",
       "\\end{tabular}\n"
      ],
      "text/plain": [
       "5×7 DataFrame. Omitted printing of 1 columns\n",
       "│ Row │ date       │ heure │ McTavish │ Bellevue │ Assomption │ Trudeau │\n",
       "│     │ \u001b[90mDate\u001b[39m       │ \u001b[90mInt64\u001b[39m │ \u001b[90mInt64⍰\u001b[39m   │ \u001b[90mInt64⍰\u001b[39m   │ \u001b[90mInt64⍰\u001b[39m     │ \u001b[90mInt64⍰\u001b[39m  │\n",
       "├─────┼────────────┼───────┼──────────┼──────────┼────────────┼─────────┤\n",
       "│ 1   │ 2013-01-01 │ 0     │ 0        │ 0        │ 0          │ 0       │\n",
       "│ 2   │ 2013-01-01 │ 1     │ 0        │ 0        │ 0          │ 0       │\n",
       "│ 3   │ 2013-01-01 │ 2     │ 0        │ 0        │ 0          │ 0       │\n",
       "│ 4   │ 2013-01-01 │ 3     │ 0        │ 0        │ 0          │ 0       │\n",
       "│ 5   │ 2013-01-01 │ 4     │ 0        │ 0        │ 0          │ 0       │"
      ]
     },
     "execution_count": 17,
     "metadata": {},
     "output_type": "execute_result"
    }
   ],
   "source": [
    "test = CSV.read(\"data/precipitations.csv\",missingstring=\"-99999\")\n",
    "rename!(test, Symbol(\"St-Hubert\")=>:StHubert)\n",
    "first(test,5)"
   ]
  },
  {
   "cell_type": "code",
   "execution_count": 18,
   "metadata": {},
   "outputs": [
    {
     "data": {
      "text/html": [
       "<table class=\"data-frame\"><thead><tr><th></th><th>date</th><th>heure</th><th>McTavish</th><th>Bellevue</th><th>Assomption</th><th>Trudeau</th><th>StHubert</th></tr><tr><th></th><th>Date</th><th>Int64</th><th>Int64⍰</th><th>Int64⍰</th><th>Int64⍰</th><th>Int64⍰</th><th>Int64⍰</th></tr></thead><tbody><p>5 rows × 7 columns</p><tr><th>1</th><td>2013-01-01</td><td>0</td><td>0</td><td>0</td><td>0</td><td>0</td><td>missing</td></tr><tr><th>2</th><td>2013-01-01</td><td>1</td><td>0</td><td>0</td><td>0</td><td>0</td><td>missing</td></tr><tr><th>3</th><td>2013-01-01</td><td>2</td><td>0</td><td>0</td><td>0</td><td>0</td><td>missing</td></tr><tr><th>4</th><td>2013-01-01</td><td>3</td><td>0</td><td>0</td><td>0</td><td>0</td><td>missing</td></tr><tr><th>5</th><td>2013-01-01</td><td>4</td><td>0</td><td>0</td><td>0</td><td>0</td><td>missing</td></tr></tbody></table>"
      ],
      "text/latex": [
       "\\begin{tabular}{r|ccccccc}\n",
       "\t& date & heure & McTavish & Bellevue & Assomption & Trudeau & StHubert\\\\\n",
       "\t\\hline\n",
       "\t& Date & Int64 & Int64⍰ & Int64⍰ & Int64⍰ & Int64⍰ & Int64⍰\\\\\n",
       "\t\\hline\n",
       "\t1 & 2013-01-01 & 0 & 0 & 0 & 0 & 0 &  \\\\\n",
       "\t2 & 2013-01-01 & 1 & 0 & 0 & 0 & 0 &  \\\\\n",
       "\t3 & 2013-01-01 & 2 & 0 & 0 & 0 & 0 &  \\\\\n",
       "\t4 & 2013-01-01 & 3 & 0 & 0 & 0 & 0 &  \\\\\n",
       "\t5 & 2013-01-01 & 4 & 0 & 0 & 0 & 0 &  \\\\\n",
       "\\end{tabular}\n"
      ],
      "text/plain": [
       "5×7 DataFrame. Omitted printing of 1 columns\n",
       "│ Row │ date       │ heure │ McTavish │ Bellevue │ Assomption │ Trudeau │\n",
       "│     │ \u001b[90mDate\u001b[39m       │ \u001b[90mInt64\u001b[39m │ \u001b[90mInt64⍰\u001b[39m   │ \u001b[90mInt64⍰\u001b[39m   │ \u001b[90mInt64⍰\u001b[39m     │ \u001b[90mInt64⍰\u001b[39m  │\n",
       "├─────┼────────────┼───────┼──────────┼──────────┼────────────┼─────────┤\n",
       "│ 1   │ 2013-01-01 │ 0     │ 0        │ 0        │ 0          │ 0       │\n",
       "│ 2   │ 2013-01-01 │ 1     │ 0        │ 0        │ 0          │ 0       │\n",
       "│ 3   │ 2013-01-01 │ 2     │ 0        │ 0        │ 0          │ 0       │\n",
       "│ 4   │ 2013-01-01 │ 3     │ 0        │ 0        │ 0          │ 0       │\n",
       "│ 5   │ 2013-01-01 │ 4     │ 0        │ 0        │ 0          │ 0       │"
      ]
     },
     "execution_count": 18,
     "metadata": {},
     "output_type": "execute_result"
    }
   ],
   "source": [
    "data = CSV.read(\"data/precipitations.csv\",missingstring=\"-99999\")\n",
    "rename!(data, Symbol(\"St-Hubert\")=>:StHubert)\n",
    "first(data,5)"
   ]
  },
  {
   "cell_type": "markdown",
   "metadata": {},
   "source": [
    "## Nettoyage des données sur les précipitations\n",
    "\n",
    "#### Extraction des précipitations des mois de mai à octobre inclusivement"
   ]
  },
  {
   "cell_type": "code",
   "execution_count": 19,
   "metadata": {},
   "outputs": [
    {
     "data": {
      "text/html": [
       "<table class=\"data-frame\"><thead><tr><th></th><th>date</th><th>heure</th><th>McTavish</th><th>Bellevue</th><th>Assomption</th><th>Trudeau</th><th>StHubert</th></tr><tr><th></th><th>Date</th><th>Int64</th><th>Int64⍰</th><th>Int64⍰</th><th>Int64⍰</th><th>Int64⍰</th><th>Int64⍰</th></tr></thead><tbody><p>5,040 rows × 7 columns</p><tr><th>1</th><td>2013-04-01</td><td>0</td><td>15</td><td>4</td><td>17</td><td>10</td><td>missing</td></tr><tr><th>2</th><td>2013-04-01</td><td>1</td><td>0</td><td>3</td><td>10</td><td>3</td><td>missing</td></tr><tr><th>3</th><td>2013-04-01</td><td>2</td><td>0</td><td>0</td><td>0</td><td>0</td><td>missing</td></tr><tr><th>4</th><td>2013-04-01</td><td>3</td><td>0</td><td>0</td><td>0</td><td>0</td><td>missing</td></tr><tr><th>5</th><td>2013-04-01</td><td>4</td><td>0</td><td>0</td><td>0</td><td>0</td><td>missing</td></tr><tr><th>6</th><td>2013-04-01</td><td>5</td><td>0</td><td>0</td><td>0</td><td>0</td><td>missing</td></tr><tr><th>7</th><td>2013-04-01</td><td>6</td><td>0</td><td>0</td><td>0</td><td>0</td><td>missing</td></tr><tr><th>8</th><td>2013-04-01</td><td>7</td><td>0</td><td>0</td><td>0</td><td>0</td><td>missing</td></tr><tr><th>9</th><td>2013-04-01</td><td>8</td><td>0</td><td>4</td><td>0</td><td>3</td><td>missing</td></tr><tr><th>10</th><td>2013-04-01</td><td>9</td><td>0</td><td>0</td><td>0</td><td>0</td><td>missing</td></tr><tr><th>11</th><td>2013-04-01</td><td>10</td><td>0</td><td>0</td><td>10</td><td>0</td><td>missing</td></tr><tr><th>12</th><td>2013-04-01</td><td>11</td><td>14</td><td>3</td><td>0</td><td>0</td><td>missing</td></tr><tr><th>13</th><td>2013-04-01</td><td>12</td><td>0</td><td>5</td><td>0</td><td>5</td><td>missing</td></tr><tr><th>14</th><td>2013-04-01</td><td>13</td><td>0</td><td>0</td><td>0</td><td>0</td><td>missing</td></tr><tr><th>15</th><td>2013-04-01</td><td>14</td><td>10</td><td>0</td><td>0</td><td>0</td><td>missing</td></tr><tr><th>16</th><td>2013-04-01</td><td>15</td><td>0</td><td>0</td><td>0</td><td>0</td><td>missing</td></tr><tr><th>17</th><td>2013-04-01</td><td>16</td><td>0</td><td>0</td><td>0</td><td>0</td><td>missing</td></tr><tr><th>18</th><td>2013-04-01</td><td>17</td><td>0</td><td>0</td><td>0</td><td>3</td><td>missing</td></tr><tr><th>19</th><td>2013-04-01</td><td>18</td><td>0</td><td>0</td><td>0</td><td>0</td><td>missing</td></tr><tr><th>20</th><td>2013-04-01</td><td>19</td><td>0</td><td>0</td><td>0</td><td>0</td><td>missing</td></tr><tr><th>21</th><td>2013-04-01</td><td>20</td><td>0</td><td>0</td><td>0</td><td>0</td><td>missing</td></tr><tr><th>22</th><td>2013-04-01</td><td>21</td><td>0</td><td>0</td><td>0</td><td>0</td><td>missing</td></tr><tr><th>23</th><td>2013-04-01</td><td>22</td><td>0</td><td>0</td><td>0</td><td>0</td><td>missing</td></tr><tr><th>24</th><td>2013-04-01</td><td>23</td><td>0</td><td>0</td><td>0</td><td>0</td><td>missing</td></tr><tr><th>25</th><td>2013-04-02</td><td>0</td><td>0</td><td>0</td><td>0</td><td>0</td><td>missing</td></tr><tr><th>26</th><td>2013-04-02</td><td>1</td><td>0</td><td>0</td><td>0</td><td>0</td><td>missing</td></tr><tr><th>27</th><td>2013-04-02</td><td>2</td><td>0</td><td>0</td><td>0</td><td>0</td><td>missing</td></tr><tr><th>28</th><td>2013-04-02</td><td>3</td><td>0</td><td>0</td><td>0</td><td>0</td><td>missing</td></tr><tr><th>29</th><td>2013-04-02</td><td>4</td><td>0</td><td>0</td><td>0</td><td>0</td><td>missing</td></tr><tr><th>30</th><td>2013-04-02</td><td>5</td><td>0</td><td>0</td><td>0</td><td>0</td><td>missing</td></tr><tr><th>&vellip;</th><td>&vellip;</td><td>&vellip;</td><td>&vellip;</td><td>&vellip;</td><td>&vellip;</td><td>&vellip;</td><td>&vellip;</td></tr></tbody></table>"
      ],
      "text/latex": [
       "\\begin{tabular}{r|ccccccc}\n",
       "\t& date & heure & McTavish & Bellevue & Assomption & Trudeau & StHubert\\\\\n",
       "\t\\hline\n",
       "\t& Date & Int64 & Int64⍰ & Int64⍰ & Int64⍰ & Int64⍰ & Int64⍰\\\\\n",
       "\t\\hline\n",
       "\t1 & 2013-04-01 & 0 & 15 & 4 & 17 & 10 &  \\\\\n",
       "\t2 & 2013-04-01 & 1 & 0 & 3 & 10 & 3 &  \\\\\n",
       "\t3 & 2013-04-01 & 2 & 0 & 0 & 0 & 0 &  \\\\\n",
       "\t4 & 2013-04-01 & 3 & 0 & 0 & 0 & 0 &  \\\\\n",
       "\t5 & 2013-04-01 & 4 & 0 & 0 & 0 & 0 &  \\\\\n",
       "\t6 & 2013-04-01 & 5 & 0 & 0 & 0 & 0 &  \\\\\n",
       "\t7 & 2013-04-01 & 6 & 0 & 0 & 0 & 0 &  \\\\\n",
       "\t8 & 2013-04-01 & 7 & 0 & 0 & 0 & 0 &  \\\\\n",
       "\t9 & 2013-04-01 & 8 & 0 & 4 & 0 & 3 &  \\\\\n",
       "\t10 & 2013-04-01 & 9 & 0 & 0 & 0 & 0 &  \\\\\n",
       "\t11 & 2013-04-01 & 10 & 0 & 0 & 10 & 0 &  \\\\\n",
       "\t12 & 2013-04-01 & 11 & 14 & 3 & 0 & 0 &  \\\\\n",
       "\t13 & 2013-04-01 & 12 & 0 & 5 & 0 & 5 &  \\\\\n",
       "\t14 & 2013-04-01 & 13 & 0 & 0 & 0 & 0 &  \\\\\n",
       "\t15 & 2013-04-01 & 14 & 10 & 0 & 0 & 0 &  \\\\\n",
       "\t16 & 2013-04-01 & 15 & 0 & 0 & 0 & 0 &  \\\\\n",
       "\t17 & 2013-04-01 & 16 & 0 & 0 & 0 & 0 &  \\\\\n",
       "\t18 & 2013-04-01 & 17 & 0 & 0 & 0 & 3 &  \\\\\n",
       "\t19 & 2013-04-01 & 18 & 0 & 0 & 0 & 0 &  \\\\\n",
       "\t20 & 2013-04-01 & 19 & 0 & 0 & 0 & 0 &  \\\\\n",
       "\t21 & 2013-04-01 & 20 & 0 & 0 & 0 & 0 &  \\\\\n",
       "\t22 & 2013-04-01 & 21 & 0 & 0 & 0 & 0 &  \\\\\n",
       "\t23 & 2013-04-01 & 22 & 0 & 0 & 0 & 0 &  \\\\\n",
       "\t24 & 2013-04-01 & 23 & 0 & 0 & 0 & 0 &  \\\\\n",
       "\t25 & 2013-04-02 & 0 & 0 & 0 & 0 & 0 &  \\\\\n",
       "\t26 & 2013-04-02 & 1 & 0 & 0 & 0 & 0 &  \\\\\n",
       "\t27 & 2013-04-02 & 2 & 0 & 0 & 0 & 0 &  \\\\\n",
       "\t28 & 2013-04-02 & 3 & 0 & 0 & 0 & 0 &  \\\\\n",
       "\t29 & 2013-04-02 & 4 & 0 & 0 & 0 & 0 &  \\\\\n",
       "\t30 & 2013-04-02 & 5 & 0 & 0 & 0 & 0 &  \\\\\n",
       "\t$\\dots$ & $\\dots$ & $\\dots$ & $\\dots$ & $\\dots$ & $\\dots$ & $\\dots$ & $\\dots$ \\\\\n",
       "\\end{tabular}\n"
      ],
      "text/plain": [
       "5040×7 DataFrame. Omitted printing of 1 columns\n",
       "│ Row  │ date       │ heure │ McTavish │ Bellevue │ Assomption │ Trudeau │\n",
       "│      │ \u001b[90mDate\u001b[39m       │ \u001b[90mInt64\u001b[39m │ \u001b[90mInt64⍰\u001b[39m   │ \u001b[90mInt64⍰\u001b[39m   │ \u001b[90mInt64⍰\u001b[39m     │ \u001b[90mInt64⍰\u001b[39m  │\n",
       "├──────┼────────────┼───────┼──────────┼──────────┼────────────┼─────────┤\n",
       "│ 1    │ 2013-04-01 │ 0     │ 15       │ 4        │ 17         │ 10      │\n",
       "│ 2    │ 2013-04-01 │ 1     │ 0        │ 3        │ 10         │ 3       │\n",
       "│ 3    │ 2013-04-01 │ 2     │ 0        │ 0        │ 0          │ 0       │\n",
       "│ 4    │ 2013-04-01 │ 3     │ 0        │ 0        │ 0          │ 0       │\n",
       "│ 5    │ 2013-04-01 │ 4     │ 0        │ 0        │ 0          │ 0       │\n",
       "│ 6    │ 2013-04-01 │ 5     │ 0        │ 0        │ 0          │ 0       │\n",
       "│ 7    │ 2013-04-01 │ 6     │ 0        │ 0        │ 0          │ 0       │\n",
       "│ 8    │ 2013-04-01 │ 7     │ 0        │ 0        │ 0          │ 0       │\n",
       "│ 9    │ 2013-04-01 │ 8     │ 0        │ 4        │ 0          │ 3       │\n",
       "│ 10   │ 2013-04-01 │ 9     │ 0        │ 0        │ 0          │ 0       │\n",
       "⋮\n",
       "│ 5030 │ 2019-04-30 │ 13    │ 0        │ 0        │ 0          │ 0       │\n",
       "│ 5031 │ 2019-04-30 │ 14    │ 0        │ 0        │ 0          │ 0       │\n",
       "│ 5032 │ 2019-04-30 │ 15    │ 0        │ 0        │ 0          │ 0       │\n",
       "│ 5033 │ 2019-04-30 │ 16    │ 0        │ 0        │ 0          │ 0       │\n",
       "│ 5034 │ 2019-04-30 │ 17    │ 0        │ 0        │ 0          │ 0       │\n",
       "│ 5035 │ 2019-04-30 │ 18    │ 0        │ 0        │ 0          │ 0       │\n",
       "│ 5036 │ 2019-04-30 │ 19    │ 0        │ 0        │ 0          │ 0       │\n",
       "│ 5037 │ 2019-04-30 │ 20    │ 0        │ 0        │ 0          │ 0       │\n",
       "│ 5038 │ 2019-04-30 │ 21    │ 0        │ 0        │ 0          │ 0       │\n",
       "│ 5039 │ 2019-04-30 │ 22    │ 0        │ 0        │ 0          │ 0       │\n",
       "│ 5040 │ 2019-04-30 │ 23    │ 0        │ 0        │ 0          │ 0       │"
      ]
     },
     "execution_count": 19,
     "metadata": {},
     "output_type": "execute_result"
    }
   ],
   "source": [
    "data = filter(row -> month(row.date) > 4, data) \n",
    "data = filter(row -> month(row.date) < 11, data) \n",
    "test = filter(row -> month(row.date) == 4, test) "
   ]
  },
  {
   "cell_type": "code",
   "execution_count": null,
   "metadata": {},
   "outputs": [],
   "source": []
  },
  {
   "cell_type": "markdown",
   "metadata": {},
   "source": [
    "# Analyse exploratoire\n",
    "\n",
    "Cette section consitue une analyse exploratoire superficielle permettant de voir s'il existe un lien entre les précipitations et les surverses.\n",
    "\n",
    "Prenons arbitrairement l'ouvrage de débordement près du Bota-Bota (4350-01D). La station météorologique la plus proche est McTavish. Prenons deux variables explicatives simple :\n",
    "- la somme journalière des précipitations\n",
    "- le taux horaire maximum journalier de précipitations\n",
    "\n",
    "#### Calcul de la quantité journalière de précipitations pour chacune des stations météorologiques"
   ]
  },
  {
   "cell_type": "code",
   "execution_count": 20,
   "metadata": {},
   "outputs": [
    {
     "data": {
      "text/html": [
       "<table class=\"data-frame\"><thead><tr><th></th><th>date</th><th>McTavish</th><th>Bellevue</th><th>Assomption</th><th>Trudeau</th><th>StHubert</th></tr><tr><th></th><th>Date</th><th>Int64⍰</th><th>Int64⍰</th><th>Int64⍰</th><th>Int64⍰</th><th>Int64⍰</th></tr></thead><tbody><p>5 rows × 6 columns</p><tr><th>1</th><td>2013-05-01</td><td>0</td><td>0</td><td>0</td><td>0</td><td>missing</td></tr><tr><th>2</th><td>2013-05-02</td><td>0</td><td>0</td><td>0</td><td>0</td><td>missing</td></tr><tr><th>3</th><td>2013-05-03</td><td>0</td><td>0</td><td>0</td><td>0</td><td>missing</td></tr><tr><th>4</th><td>2013-05-04</td><td>0</td><td>0</td><td>0</td><td>0</td><td>missing</td></tr><tr><th>5</th><td>2013-05-05</td><td>0</td><td>0</td><td>0</td><td>0</td><td>missing</td></tr></tbody></table>"
      ],
      "text/latex": [
       "\\begin{tabular}{r|cccccc}\n",
       "\t& date & McTavish & Bellevue & Assomption & Trudeau & StHubert\\\\\n",
       "\t\\hline\n",
       "\t& Date & Int64⍰ & Int64⍰ & Int64⍰ & Int64⍰ & Int64⍰\\\\\n",
       "\t\\hline\n",
       "\t1 & 2013-05-01 & 0 & 0 & 0 & 0 &  \\\\\n",
       "\t2 & 2013-05-02 & 0 & 0 & 0 & 0 &  \\\\\n",
       "\t3 & 2013-05-03 & 0 & 0 & 0 & 0 &  \\\\\n",
       "\t4 & 2013-05-04 & 0 & 0 & 0 & 0 &  \\\\\n",
       "\t5 & 2013-05-05 & 0 & 0 & 0 & 0 &  \\\\\n",
       "\\end{tabular}\n"
      ],
      "text/plain": [
       "5×6 DataFrame\n",
       "│ Row │ date       │ McTavish │ Bellevue │ Assomption │ Trudeau │ StHubert │\n",
       "│     │ \u001b[90mDate\u001b[39m       │ \u001b[90mInt64⍰\u001b[39m   │ \u001b[90mInt64⍰\u001b[39m   │ \u001b[90mInt64⍰\u001b[39m     │ \u001b[90mInt64⍰\u001b[39m  │ \u001b[90mInt64⍰\u001b[39m   │\n",
       "├─────┼────────────┼──────────┼──────────┼────────────┼─────────┼──────────┤\n",
       "│ 1   │ 2013-05-01 │ 0        │ 0        │ 0          │ 0       │ \u001b[90mmissing\u001b[39m  │\n",
       "│ 2   │ 2013-05-02 │ 0        │ 0        │ 0          │ 0       │ \u001b[90mmissing\u001b[39m  │\n",
       "│ 3   │ 2013-05-03 │ 0        │ 0        │ 0          │ 0       │ \u001b[90mmissing\u001b[39m  │\n",
       "│ 4   │ 2013-05-04 │ 0        │ 0        │ 0          │ 0       │ \u001b[90mmissing\u001b[39m  │\n",
       "│ 5   │ 2013-05-05 │ 0        │ 0        │ 0          │ 0       │ \u001b[90mmissing\u001b[39m  │"
      ]
     },
     "execution_count": 20,
     "metadata": {},
     "output_type": "execute_result"
    }
   ],
   "source": [
    "pcp_sum = by(data, :date,  McTavish = :McTavish=>sum, Bellevue = :Bellevue=>sum, \n",
    "   Assomption = :Assomption=>sum, Trudeau = :Trudeau=>sum, StHubert = :StHubert=>sum)\n",
    "first(pcp_sum ,5)"
   ]
  },
  {
   "cell_type": "code",
   "execution_count": 21,
   "metadata": {},
   "outputs": [
    {
     "data": {
      "text/html": [
       "<table class=\"data-frame\"><thead><tr><th></th><th>date</th><th>McTavish</th><th>Bellevue</th><th>Assomption</th><th>Trudeau</th><th>StHubert</th></tr><tr><th></th><th>Date</th><th>Int64⍰</th><th>Int64⍰</th><th>Int64⍰</th><th>Int64⍰</th><th>Int64⍰</th></tr></thead><tbody><p>210 rows × 6 columns</p><tr><th>1</th><td>2013-04-01</td><td>39</td><td>19</td><td>37</td><td>24</td><td>missing</td></tr><tr><th>2</th><td>2013-04-02</td><td>0</td><td>0</td><td>0</td><td>0</td><td>missing</td></tr><tr><th>3</th><td>2013-04-03</td><td>0</td><td>0</td><td>0</td><td>0</td><td>missing</td></tr><tr><th>4</th><td>2013-04-04</td><td>0</td><td>0</td><td>0</td><td>0</td><td>missing</td></tr><tr><th>5</th><td>2013-04-05</td><td>12</td><td>0</td><td>0</td><td>3</td><td>missing</td></tr><tr><th>6</th><td>2013-04-06</td><td>0</td><td>0</td><td>0</td><td>0</td><td>missing</td></tr><tr><th>7</th><td>2013-04-07</td><td>0</td><td>0</td><td>30</td><td>0</td><td>missing</td></tr><tr><th>8</th><td>2013-04-08</td><td>0</td><td>0</td><td>0</td><td>0</td><td>missing</td></tr><tr><th>9</th><td>2013-04-09</td><td>154</td><td>132</td><td>120</td><td>143</td><td>missing</td></tr><tr><th>10</th><td>2013-04-10</td><td>0</td><td>0</td><td>0</td><td>0</td><td>missing</td></tr><tr><th>11</th><td>2013-04-11</td><td>0</td><td>0</td><td>0</td><td>0</td><td>missing</td></tr><tr><th>12</th><td>2013-04-12</td><td>219</td><td>167</td><td>150</td><td>193</td><td>missing</td></tr><tr><th>13</th><td>2013-04-13</td><td>33</td><td>6</td><td>50</td><td>3</td><td>missing</td></tr><tr><th>14</th><td>2013-04-14</td><td>0</td><td>0</td><td>0</td><td>0</td><td>missing</td></tr><tr><th>15</th><td>2013-04-15</td><td>0</td><td>0</td><td>0</td><td>0</td><td>missing</td></tr><tr><th>16</th><td>2013-04-16</td><td>126</td><td>58</td><td>70</td><td>79</td><td>missing</td></tr><tr><th>17</th><td>2013-04-17</td><td>0</td><td>0</td><td>0</td><td>0</td><td>missing</td></tr><tr><th>18</th><td>2013-04-18</td><td>0</td><td>0</td><td>11</td><td>0</td><td>missing</td></tr><tr><th>19</th><td>2013-04-19</td><td>48</td><td>45</td><td>31</td><td>27</td><td>missing</td></tr><tr><th>20</th><td>2013-04-20</td><td>0</td><td>7</td><td>11</td><td>0</td><td>missing</td></tr><tr><th>21</th><td>2013-04-21</td><td>0</td><td>0</td><td>0</td><td>0</td><td>missing</td></tr><tr><th>22</th><td>2013-04-22</td><td>0</td><td>0</td><td>0</td><td>0</td><td>missing</td></tr><tr><th>23</th><td>2013-04-23</td><td>0</td><td>0</td><td>0</td><td>0</td><td>missing</td></tr><tr><th>24</th><td>2013-04-24</td><td>32</td><td>19</td><td>20</td><td>35</td><td>missing</td></tr><tr><th>25</th><td>2013-04-25</td><td>0</td><td>0</td><td>0</td><td>0</td><td>missing</td></tr><tr><th>26</th><td>2013-04-26</td><td>0</td><td>8</td><td>0</td><td>0</td><td>missing</td></tr><tr><th>27</th><td>2013-04-27</td><td>0</td><td>0</td><td>0</td><td>0</td><td>missing</td></tr><tr><th>28</th><td>2013-04-28</td><td>0</td><td>0</td><td>0</td><td>0</td><td>missing</td></tr><tr><th>29</th><td>2013-04-29</td><td>12</td><td>0</td><td>0</td><td>0</td><td>missing</td></tr><tr><th>30</th><td>2013-04-30</td><td>0</td><td>0</td><td>0</td><td>0</td><td>missing</td></tr><tr><th>&vellip;</th><td>&vellip;</td><td>&vellip;</td><td>&vellip;</td><td>&vellip;</td><td>&vellip;</td><td>&vellip;</td></tr></tbody></table>"
      ],
      "text/latex": [
       "\\begin{tabular}{r|cccccc}\n",
       "\t& date & McTavish & Bellevue & Assomption & Trudeau & StHubert\\\\\n",
       "\t\\hline\n",
       "\t& Date & Int64⍰ & Int64⍰ & Int64⍰ & Int64⍰ & Int64⍰\\\\\n",
       "\t\\hline\n",
       "\t1 & 2013-04-01 & 39 & 19 & 37 & 24 &  \\\\\n",
       "\t2 & 2013-04-02 & 0 & 0 & 0 & 0 &  \\\\\n",
       "\t3 & 2013-04-03 & 0 & 0 & 0 & 0 &  \\\\\n",
       "\t4 & 2013-04-04 & 0 & 0 & 0 & 0 &  \\\\\n",
       "\t5 & 2013-04-05 & 12 & 0 & 0 & 3 &  \\\\\n",
       "\t6 & 2013-04-06 & 0 & 0 & 0 & 0 &  \\\\\n",
       "\t7 & 2013-04-07 & 0 & 0 & 30 & 0 &  \\\\\n",
       "\t8 & 2013-04-08 & 0 & 0 & 0 & 0 &  \\\\\n",
       "\t9 & 2013-04-09 & 154 & 132 & 120 & 143 &  \\\\\n",
       "\t10 & 2013-04-10 & 0 & 0 & 0 & 0 &  \\\\\n",
       "\t11 & 2013-04-11 & 0 & 0 & 0 & 0 &  \\\\\n",
       "\t12 & 2013-04-12 & 219 & 167 & 150 & 193 &  \\\\\n",
       "\t13 & 2013-04-13 & 33 & 6 & 50 & 3 &  \\\\\n",
       "\t14 & 2013-04-14 & 0 & 0 & 0 & 0 &  \\\\\n",
       "\t15 & 2013-04-15 & 0 & 0 & 0 & 0 &  \\\\\n",
       "\t16 & 2013-04-16 & 126 & 58 & 70 & 79 &  \\\\\n",
       "\t17 & 2013-04-17 & 0 & 0 & 0 & 0 &  \\\\\n",
       "\t18 & 2013-04-18 & 0 & 0 & 11 & 0 &  \\\\\n",
       "\t19 & 2013-04-19 & 48 & 45 & 31 & 27 &  \\\\\n",
       "\t20 & 2013-04-20 & 0 & 7 & 11 & 0 &  \\\\\n",
       "\t21 & 2013-04-21 & 0 & 0 & 0 & 0 &  \\\\\n",
       "\t22 & 2013-04-22 & 0 & 0 & 0 & 0 &  \\\\\n",
       "\t23 & 2013-04-23 & 0 & 0 & 0 & 0 &  \\\\\n",
       "\t24 & 2013-04-24 & 32 & 19 & 20 & 35 &  \\\\\n",
       "\t25 & 2013-04-25 & 0 & 0 & 0 & 0 &  \\\\\n",
       "\t26 & 2013-04-26 & 0 & 8 & 0 & 0 &  \\\\\n",
       "\t27 & 2013-04-27 & 0 & 0 & 0 & 0 &  \\\\\n",
       "\t28 & 2013-04-28 & 0 & 0 & 0 & 0 &  \\\\\n",
       "\t29 & 2013-04-29 & 12 & 0 & 0 & 0 &  \\\\\n",
       "\t30 & 2013-04-30 & 0 & 0 & 0 & 0 &  \\\\\n",
       "\t$\\dots$ & $\\dots$ & $\\dots$ & $\\dots$ & $\\dots$ & $\\dots$ & $\\dots$ \\\\\n",
       "\\end{tabular}\n"
      ],
      "text/plain": [
       "210×6 DataFrame\n",
       "│ Row │ date       │ McTavish │ Bellevue │ Assomption │ Trudeau │ StHubert │\n",
       "│     │ \u001b[90mDate\u001b[39m       │ \u001b[90mInt64⍰\u001b[39m   │ \u001b[90mInt64⍰\u001b[39m   │ \u001b[90mInt64⍰\u001b[39m     │ \u001b[90mInt64⍰\u001b[39m  │ \u001b[90mInt64⍰\u001b[39m   │\n",
       "├─────┼────────────┼──────────┼──────────┼────────────┼─────────┼──────────┤\n",
       "│ 1   │ 2013-04-01 │ 39       │ 19       │ 37         │ 24      │ \u001b[90mmissing\u001b[39m  │\n",
       "│ 2   │ 2013-04-02 │ 0        │ 0        │ 0          │ 0       │ \u001b[90mmissing\u001b[39m  │\n",
       "│ 3   │ 2013-04-03 │ 0        │ 0        │ 0          │ 0       │ \u001b[90mmissing\u001b[39m  │\n",
       "│ 4   │ 2013-04-04 │ 0        │ 0        │ 0          │ 0       │ \u001b[90mmissing\u001b[39m  │\n",
       "│ 5   │ 2013-04-05 │ 12       │ 0        │ 0          │ 3       │ \u001b[90mmissing\u001b[39m  │\n",
       "│ 6   │ 2013-04-06 │ 0        │ 0        │ 0          │ 0       │ \u001b[90mmissing\u001b[39m  │\n",
       "│ 7   │ 2013-04-07 │ 0        │ 0        │ 30         │ 0       │ \u001b[90mmissing\u001b[39m  │\n",
       "│ 8   │ 2013-04-08 │ 0        │ 0        │ 0          │ 0       │ \u001b[90mmissing\u001b[39m  │\n",
       "│ 9   │ 2013-04-09 │ 154      │ 132      │ 120        │ 143     │ \u001b[90mmissing\u001b[39m  │\n",
       "│ 10  │ 2013-04-10 │ 0        │ 0        │ 0          │ 0       │ \u001b[90mmissing\u001b[39m  │\n",
       "⋮\n",
       "│ 200 │ 2019-04-20 │ 160      │ 142      │ 118        │ 153     │ 182      │\n",
       "│ 201 │ 2019-04-21 │ 0        │ 0        │ 2          │ 0       │ 2        │\n",
       "│ 202 │ 2019-04-22 │ 0        │ 0        │ 0          │ 0       │ 0        │\n",
       "│ 203 │ 2019-04-23 │ 26       │ 24       │ 25         │ 14      │ 27       │\n",
       "│ 204 │ 2019-04-24 │ 83       │ 60       │ 57         │ 72      │ 91       │\n",
       "│ 205 │ 2019-04-25 │ 2        │ 0        │ 0          │ 0       │ 0        │\n",
       "│ 206 │ 2019-04-26 │ 191      │ 141      │ 195        │ 179     │ 153      │\n",
       "│ 207 │ 2019-04-27 │ 180      │ 123      │ 117        │ 126     │ 127      │\n",
       "│ 208 │ 2019-04-28 │ 0        │ 0        │ 0          │ 0       │ 0        │\n",
       "│ 209 │ 2019-04-29 │ 0        │ 0        │ 0          │ 0       │ 0        │\n",
       "│ 210 │ 2019-04-30 │ 0        │ 0        │ 0          │ 0       │ 0        │"
      ]
     },
     "execution_count": 21,
     "metadata": {},
     "output_type": "execute_result"
    }
   ],
   "source": [
    "pcpBefore_sum = by(test, :date,  McTavish = :McTavish=>sum, Bellevue = :Bellevue=>sum, \n",
    "   Assomption = :Assomption=>sum, Trudeau = :Trudeau=>sum, StHubert = :StHubert=>sum)\n",
    "\n"
   ]
  },
  {
   "cell_type": "code",
   "execution_count": null,
   "metadata": {},
   "outputs": [],
   "source": []
  },
  {
   "cell_type": "code",
   "execution_count": null,
   "metadata": {},
   "outputs": [],
   "source": []
  },
  {
   "cell_type": "code",
   "execution_count": null,
   "metadata": {},
   "outputs": [],
   "source": []
  },
  {
   "cell_type": "code",
   "execution_count": null,
   "metadata": {},
   "outputs": [],
   "source": []
  },
  {
   "cell_type": "code",
   "execution_count": 22,
   "metadata": {},
   "outputs": [],
   "source": [
    "for j=1:size(pcpBefore_sum,1)\n",
    "    means = 0\n",
    "    sum = 0\n",
    "    alo = names(pcpBefore_sum)\n",
    "    for col in alo\n",
    "        if col != alo[1]\n",
    "            if !ismissing(pcpBefore_sum[j, col]) \n",
    "                sum = sum +1\n",
    "                means = means + pcpBefore_sum[j, col]\n",
    "            end\n",
    "        end\n",
    "    end\n",
    "    if sum != 0\n",
    "        means = means / sum\n",
    "    end\n",
    "    for col in alo\n",
    "        if ismissing(pcpBefore_sum[j, col]) && col != alo[1]\n",
    "            tests = floor(means)\n",
    "            pcpBefore_sum[j, col] = tests\n",
    "        end\n",
    "    end\n",
    "end\n"
   ]
  },
  {
   "cell_type": "code",
   "execution_count": 23,
   "metadata": {},
   "outputs": [],
   "source": [
    "\n",
    "for j=1:size(pcp_sum,1)\n",
    "    means = 0\n",
    "    sum = 0\n",
    "    alo = names(pcp_sum)\n",
    "    for col in alo\n",
    "        if col != alo[1]\n",
    "            if !ismissing(pcp_sum[j, col]) \n",
    "                sum = sum +1\n",
    "                means = means + pcp_sum[j, col]\n",
    "            end\n",
    "        end\n",
    "    end\n",
    "    if sum != 0\n",
    "        means = means / sum\n",
    "    end\n",
    "    for col in alo\n",
    "        if ismissing(pcp_sum[j, col]) && col != alo[1]\n",
    "            tests = floor(means)\n",
    "            pcp_sum[j, col] = tests\n",
    "        end\n",
    "    end\n",
    "end\n"
   ]
  },
  {
   "cell_type": "code",
   "execution_count": 24,
   "metadata": {},
   "outputs": [
    {
     "data": {
      "text/html": [
       "<table class=\"data-frame\"><thead><tr><th></th><th>date</th><th>McTavish</th><th>Bellevue</th><th>Assomption</th><th>Trudeau</th><th>StHubert</th></tr><tr><th></th><th>Date</th><th>Int64⍰</th><th>Int64⍰</th><th>Int64⍰</th><th>Int64⍰</th><th>Int64⍰</th></tr></thead><tbody><p>210 rows × 6 columns</p><tr><th>1</th><td>2013-04-01</td><td>15</td><td>5</td><td>17</td><td>10</td><td>missing</td></tr><tr><th>2</th><td>2013-04-02</td><td>0</td><td>0</td><td>0</td><td>0</td><td>missing</td></tr><tr><th>3</th><td>2013-04-03</td><td>0</td><td>0</td><td>0</td><td>0</td><td>missing</td></tr><tr><th>4</th><td>2013-04-04</td><td>0</td><td>0</td><td>0</td><td>0</td><td>missing</td></tr><tr><th>5</th><td>2013-04-05</td><td>12</td><td>0</td><td>0</td><td>3</td><td>missing</td></tr><tr><th>6</th><td>2013-04-06</td><td>0</td><td>0</td><td>0</td><td>0</td><td>missing</td></tr><tr><th>7</th><td>2013-04-07</td><td>0</td><td>0</td><td>20</td><td>0</td><td>missing</td></tr><tr><th>8</th><td>2013-04-08</td><td>0</td><td>0</td><td>0</td><td>0</td><td>missing</td></tr><tr><th>9</th><td>2013-04-09</td><td>53</td><td>42</td><td>40</td><td>44</td><td>missing</td></tr><tr><th>10</th><td>2013-04-10</td><td>0</td><td>0</td><td>0</td><td>0</td><td>missing</td></tr><tr><th>11</th><td>2013-04-11</td><td>0</td><td>0</td><td>0</td><td>0</td><td>missing</td></tr><tr><th>12</th><td>2013-04-12</td><td>36</td><td>35</td><td>30</td><td>37</td><td>missing</td></tr><tr><th>13</th><td>2013-04-13</td><td>12</td><td>3</td><td>30</td><td>3</td><td>missing</td></tr><tr><th>14</th><td>2013-04-14</td><td>0</td><td>0</td><td>0</td><td>0</td><td>missing</td></tr><tr><th>15</th><td>2013-04-15</td><td>0</td><td>0</td><td>0</td><td>0</td><td>missing</td></tr><tr><th>16</th><td>2013-04-16</td><td>45</td><td>18</td><td>20</td><td>22</td><td>missing</td></tr><tr><th>17</th><td>2013-04-17</td><td>0</td><td>0</td><td>0</td><td>0</td><td>missing</td></tr><tr><th>18</th><td>2013-04-18</td><td>0</td><td>0</td><td>11</td><td>0</td><td>missing</td></tr><tr><th>19</th><td>2013-04-19</td><td>31</td><td>33</td><td>21</td><td>24</td><td>missing</td></tr><tr><th>20</th><td>2013-04-20</td><td>0</td><td>4</td><td>11</td><td>0</td><td>missing</td></tr><tr><th>21</th><td>2013-04-21</td><td>0</td><td>0</td><td>0</td><td>0</td><td>missing</td></tr><tr><th>22</th><td>2013-04-22</td><td>0</td><td>0</td><td>0</td><td>0</td><td>missing</td></tr><tr><th>23</th><td>2013-04-23</td><td>0</td><td>0</td><td>0</td><td>0</td><td>missing</td></tr><tr><th>24</th><td>2013-04-24</td><td>20</td><td>19</td><td>20</td><td>18</td><td>missing</td></tr><tr><th>25</th><td>2013-04-25</td><td>0</td><td>0</td><td>0</td><td>0</td><td>missing</td></tr><tr><th>26</th><td>2013-04-26</td><td>0</td><td>5</td><td>0</td><td>0</td><td>missing</td></tr><tr><th>27</th><td>2013-04-27</td><td>0</td><td>0</td><td>0</td><td>0</td><td>missing</td></tr><tr><th>28</th><td>2013-04-28</td><td>0</td><td>0</td><td>0</td><td>0</td><td>missing</td></tr><tr><th>29</th><td>2013-04-29</td><td>12</td><td>0</td><td>0</td><td>0</td><td>missing</td></tr><tr><th>30</th><td>2013-04-30</td><td>0</td><td>0</td><td>0</td><td>0</td><td>missing</td></tr><tr><th>&vellip;</th><td>&vellip;</td><td>&vellip;</td><td>&vellip;</td><td>&vellip;</td><td>&vellip;</td><td>&vellip;</td></tr></tbody></table>"
      ],
      "text/latex": [
       "\\begin{tabular}{r|cccccc}\n",
       "\t& date & McTavish & Bellevue & Assomption & Trudeau & StHubert\\\\\n",
       "\t\\hline\n",
       "\t& Date & Int64⍰ & Int64⍰ & Int64⍰ & Int64⍰ & Int64⍰\\\\\n",
       "\t\\hline\n",
       "\t1 & 2013-04-01 & 15 & 5 & 17 & 10 &  \\\\\n",
       "\t2 & 2013-04-02 & 0 & 0 & 0 & 0 &  \\\\\n",
       "\t3 & 2013-04-03 & 0 & 0 & 0 & 0 &  \\\\\n",
       "\t4 & 2013-04-04 & 0 & 0 & 0 & 0 &  \\\\\n",
       "\t5 & 2013-04-05 & 12 & 0 & 0 & 3 &  \\\\\n",
       "\t6 & 2013-04-06 & 0 & 0 & 0 & 0 &  \\\\\n",
       "\t7 & 2013-04-07 & 0 & 0 & 20 & 0 &  \\\\\n",
       "\t8 & 2013-04-08 & 0 & 0 & 0 & 0 &  \\\\\n",
       "\t9 & 2013-04-09 & 53 & 42 & 40 & 44 &  \\\\\n",
       "\t10 & 2013-04-10 & 0 & 0 & 0 & 0 &  \\\\\n",
       "\t11 & 2013-04-11 & 0 & 0 & 0 & 0 &  \\\\\n",
       "\t12 & 2013-04-12 & 36 & 35 & 30 & 37 &  \\\\\n",
       "\t13 & 2013-04-13 & 12 & 3 & 30 & 3 &  \\\\\n",
       "\t14 & 2013-04-14 & 0 & 0 & 0 & 0 &  \\\\\n",
       "\t15 & 2013-04-15 & 0 & 0 & 0 & 0 &  \\\\\n",
       "\t16 & 2013-04-16 & 45 & 18 & 20 & 22 &  \\\\\n",
       "\t17 & 2013-04-17 & 0 & 0 & 0 & 0 &  \\\\\n",
       "\t18 & 2013-04-18 & 0 & 0 & 11 & 0 &  \\\\\n",
       "\t19 & 2013-04-19 & 31 & 33 & 21 & 24 &  \\\\\n",
       "\t20 & 2013-04-20 & 0 & 4 & 11 & 0 &  \\\\\n",
       "\t21 & 2013-04-21 & 0 & 0 & 0 & 0 &  \\\\\n",
       "\t22 & 2013-04-22 & 0 & 0 & 0 & 0 &  \\\\\n",
       "\t23 & 2013-04-23 & 0 & 0 & 0 & 0 &  \\\\\n",
       "\t24 & 2013-04-24 & 20 & 19 & 20 & 18 &  \\\\\n",
       "\t25 & 2013-04-25 & 0 & 0 & 0 & 0 &  \\\\\n",
       "\t26 & 2013-04-26 & 0 & 5 & 0 & 0 &  \\\\\n",
       "\t27 & 2013-04-27 & 0 & 0 & 0 & 0 &  \\\\\n",
       "\t28 & 2013-04-28 & 0 & 0 & 0 & 0 &  \\\\\n",
       "\t29 & 2013-04-29 & 12 & 0 & 0 & 0 &  \\\\\n",
       "\t30 & 2013-04-30 & 0 & 0 & 0 & 0 &  \\\\\n",
       "\t$\\dots$ & $\\dots$ & $\\dots$ & $\\dots$ & $\\dots$ & $\\dots$ & $\\dots$ \\\\\n",
       "\\end{tabular}\n"
      ],
      "text/plain": [
       "210×6 DataFrame\n",
       "│ Row │ date       │ McTavish │ Bellevue │ Assomption │ Trudeau │ StHubert │\n",
       "│     │ \u001b[90mDate\u001b[39m       │ \u001b[90mInt64⍰\u001b[39m   │ \u001b[90mInt64⍰\u001b[39m   │ \u001b[90mInt64⍰\u001b[39m     │ \u001b[90mInt64⍰\u001b[39m  │ \u001b[90mInt64⍰\u001b[39m   │\n",
       "├─────┼────────────┼──────────┼──────────┼────────────┼─────────┼──────────┤\n",
       "│ 1   │ 2013-04-01 │ 15       │ 5        │ 17         │ 10      │ \u001b[90mmissing\u001b[39m  │\n",
       "│ 2   │ 2013-04-02 │ 0        │ 0        │ 0          │ 0       │ \u001b[90mmissing\u001b[39m  │\n",
       "│ 3   │ 2013-04-03 │ 0        │ 0        │ 0          │ 0       │ \u001b[90mmissing\u001b[39m  │\n",
       "│ 4   │ 2013-04-04 │ 0        │ 0        │ 0          │ 0       │ \u001b[90mmissing\u001b[39m  │\n",
       "│ 5   │ 2013-04-05 │ 12       │ 0        │ 0          │ 3       │ \u001b[90mmissing\u001b[39m  │\n",
       "│ 6   │ 2013-04-06 │ 0        │ 0        │ 0          │ 0       │ \u001b[90mmissing\u001b[39m  │\n",
       "│ 7   │ 2013-04-07 │ 0        │ 0        │ 20         │ 0       │ \u001b[90mmissing\u001b[39m  │\n",
       "│ 8   │ 2013-04-08 │ 0        │ 0        │ 0          │ 0       │ \u001b[90mmissing\u001b[39m  │\n",
       "│ 9   │ 2013-04-09 │ 53       │ 42       │ 40         │ 44      │ \u001b[90mmissing\u001b[39m  │\n",
       "│ 10  │ 2013-04-10 │ 0        │ 0        │ 0          │ 0       │ \u001b[90mmissing\u001b[39m  │\n",
       "⋮\n",
       "│ 200 │ 2019-04-20 │ 49       │ 28       │ 30         │ 47      │ 70       │\n",
       "│ 201 │ 2019-04-21 │ 0        │ 0        │ 2          │ 0       │ 2        │\n",
       "│ 202 │ 2019-04-22 │ 0        │ 0        │ 0          │ 0       │ 0        │\n",
       "│ 203 │ 2019-04-23 │ 19       │ 16       │ 21         │ 12      │ 25       │\n",
       "│ 204 │ 2019-04-24 │ 15       │ 19       │ 13         │ 20      │ 18       │\n",
       "│ 205 │ 2019-04-25 │ 2        │ 0        │ 0          │ 0       │ 0        │\n",
       "│ 206 │ 2019-04-26 │ 45       │ 33       │ 46         │ 42      │ 35       │\n",
       "│ 207 │ 2019-04-27 │ 22       │ 20       │ 31         │ 27      │ 20       │\n",
       "│ 208 │ 2019-04-28 │ 0        │ 0        │ 0          │ 0       │ 0        │\n",
       "│ 209 │ 2019-04-29 │ 0        │ 0        │ 0          │ 0       │ 0        │\n",
       "│ 210 │ 2019-04-30 │ 0        │ 0        │ 0          │ 0       │ 0        │"
      ]
     },
     "execution_count": 24,
     "metadata": {},
     "output_type": "execute_result"
    }
   ],
   "source": [
    "\n",
    "pcpBefore_max = by(test, :date,  McTavish = :McTavish=>maximum, Bellevue = :Bellevue=>maximum, \n",
    "   Assomption = :Assomption=>maximum, Trudeau = :Trudeau=>maximum, StHubert = :StHubert=>maximum)\n"
   ]
  },
  {
   "cell_type": "code",
   "execution_count": 25,
   "metadata": {},
   "outputs": [
    {
     "data": {
      "text/html": [
       "<table class=\"data-frame\"><thead><tr><th></th><th>date</th><th>McTavish</th><th>Bellevue</th><th>Assomption</th><th>Trudeau</th><th>StHubert</th></tr><tr><th></th><th>Date</th><th>Int64⍰</th><th>Int64⍰</th><th>Int64⍰</th><th>Int64⍰</th><th>Int64⍰</th></tr></thead><tbody><p>210 rows × 6 columns</p><tr><th>1</th><td>2013-04-01</td><td>15</td><td>5</td><td>17</td><td>10</td><td>missing</td></tr><tr><th>2</th><td>2013-04-02</td><td>0</td><td>0</td><td>0</td><td>0</td><td>missing</td></tr><tr><th>3</th><td>2013-04-03</td><td>0</td><td>0</td><td>0</td><td>0</td><td>missing</td></tr><tr><th>4</th><td>2013-04-04</td><td>0</td><td>0</td><td>0</td><td>0</td><td>missing</td></tr><tr><th>5</th><td>2013-04-05</td><td>12</td><td>0</td><td>0</td><td>3</td><td>missing</td></tr><tr><th>6</th><td>2013-04-06</td><td>0</td><td>0</td><td>0</td><td>0</td><td>missing</td></tr><tr><th>7</th><td>2013-04-07</td><td>0</td><td>0</td><td>20</td><td>0</td><td>missing</td></tr><tr><th>8</th><td>2013-04-08</td><td>0</td><td>0</td><td>0</td><td>0</td><td>missing</td></tr><tr><th>9</th><td>2013-04-09</td><td>53</td><td>42</td><td>40</td><td>44</td><td>missing</td></tr><tr><th>10</th><td>2013-04-10</td><td>0</td><td>0</td><td>0</td><td>0</td><td>missing</td></tr><tr><th>11</th><td>2013-04-11</td><td>0</td><td>0</td><td>0</td><td>0</td><td>missing</td></tr><tr><th>12</th><td>2013-04-12</td><td>36</td><td>35</td><td>30</td><td>37</td><td>missing</td></tr><tr><th>13</th><td>2013-04-13</td><td>12</td><td>3</td><td>30</td><td>3</td><td>missing</td></tr><tr><th>14</th><td>2013-04-14</td><td>0</td><td>0</td><td>0</td><td>0</td><td>missing</td></tr><tr><th>15</th><td>2013-04-15</td><td>0</td><td>0</td><td>0</td><td>0</td><td>missing</td></tr><tr><th>16</th><td>2013-04-16</td><td>45</td><td>18</td><td>20</td><td>22</td><td>missing</td></tr><tr><th>17</th><td>2013-04-17</td><td>0</td><td>0</td><td>0</td><td>0</td><td>missing</td></tr><tr><th>18</th><td>2013-04-18</td><td>0</td><td>0</td><td>11</td><td>0</td><td>missing</td></tr><tr><th>19</th><td>2013-04-19</td><td>31</td><td>33</td><td>21</td><td>24</td><td>missing</td></tr><tr><th>20</th><td>2013-04-20</td><td>0</td><td>4</td><td>11</td><td>0</td><td>missing</td></tr><tr><th>21</th><td>2013-04-21</td><td>0</td><td>0</td><td>0</td><td>0</td><td>missing</td></tr><tr><th>22</th><td>2013-04-22</td><td>0</td><td>0</td><td>0</td><td>0</td><td>missing</td></tr><tr><th>23</th><td>2013-04-23</td><td>0</td><td>0</td><td>0</td><td>0</td><td>missing</td></tr><tr><th>24</th><td>2013-04-24</td><td>20</td><td>19</td><td>20</td><td>18</td><td>missing</td></tr><tr><th>25</th><td>2013-04-25</td><td>0</td><td>0</td><td>0</td><td>0</td><td>missing</td></tr><tr><th>26</th><td>2013-04-26</td><td>0</td><td>5</td><td>0</td><td>0</td><td>missing</td></tr><tr><th>27</th><td>2013-04-27</td><td>0</td><td>0</td><td>0</td><td>0</td><td>missing</td></tr><tr><th>28</th><td>2013-04-28</td><td>0</td><td>0</td><td>0</td><td>0</td><td>missing</td></tr><tr><th>29</th><td>2013-04-29</td><td>12</td><td>0</td><td>0</td><td>0</td><td>missing</td></tr><tr><th>30</th><td>2013-04-30</td><td>0</td><td>0</td><td>0</td><td>0</td><td>missing</td></tr><tr><th>&vellip;</th><td>&vellip;</td><td>&vellip;</td><td>&vellip;</td><td>&vellip;</td><td>&vellip;</td><td>&vellip;</td></tr></tbody></table>"
      ],
      "text/latex": [
       "\\begin{tabular}{r|cccccc}\n",
       "\t& date & McTavish & Bellevue & Assomption & Trudeau & StHubert\\\\\n",
       "\t\\hline\n",
       "\t& Date & Int64⍰ & Int64⍰ & Int64⍰ & Int64⍰ & Int64⍰\\\\\n",
       "\t\\hline\n",
       "\t1 & 2013-04-01 & 15 & 5 & 17 & 10 &  \\\\\n",
       "\t2 & 2013-04-02 & 0 & 0 & 0 & 0 &  \\\\\n",
       "\t3 & 2013-04-03 & 0 & 0 & 0 & 0 &  \\\\\n",
       "\t4 & 2013-04-04 & 0 & 0 & 0 & 0 &  \\\\\n",
       "\t5 & 2013-04-05 & 12 & 0 & 0 & 3 &  \\\\\n",
       "\t6 & 2013-04-06 & 0 & 0 & 0 & 0 &  \\\\\n",
       "\t7 & 2013-04-07 & 0 & 0 & 20 & 0 &  \\\\\n",
       "\t8 & 2013-04-08 & 0 & 0 & 0 & 0 &  \\\\\n",
       "\t9 & 2013-04-09 & 53 & 42 & 40 & 44 &  \\\\\n",
       "\t10 & 2013-04-10 & 0 & 0 & 0 & 0 &  \\\\\n",
       "\t11 & 2013-04-11 & 0 & 0 & 0 & 0 &  \\\\\n",
       "\t12 & 2013-04-12 & 36 & 35 & 30 & 37 &  \\\\\n",
       "\t13 & 2013-04-13 & 12 & 3 & 30 & 3 &  \\\\\n",
       "\t14 & 2013-04-14 & 0 & 0 & 0 & 0 &  \\\\\n",
       "\t15 & 2013-04-15 & 0 & 0 & 0 & 0 &  \\\\\n",
       "\t16 & 2013-04-16 & 45 & 18 & 20 & 22 &  \\\\\n",
       "\t17 & 2013-04-17 & 0 & 0 & 0 & 0 &  \\\\\n",
       "\t18 & 2013-04-18 & 0 & 0 & 11 & 0 &  \\\\\n",
       "\t19 & 2013-04-19 & 31 & 33 & 21 & 24 &  \\\\\n",
       "\t20 & 2013-04-20 & 0 & 4 & 11 & 0 &  \\\\\n",
       "\t21 & 2013-04-21 & 0 & 0 & 0 & 0 &  \\\\\n",
       "\t22 & 2013-04-22 & 0 & 0 & 0 & 0 &  \\\\\n",
       "\t23 & 2013-04-23 & 0 & 0 & 0 & 0 &  \\\\\n",
       "\t24 & 2013-04-24 & 20 & 19 & 20 & 18 &  \\\\\n",
       "\t25 & 2013-04-25 & 0 & 0 & 0 & 0 &  \\\\\n",
       "\t26 & 2013-04-26 & 0 & 5 & 0 & 0 &  \\\\\n",
       "\t27 & 2013-04-27 & 0 & 0 & 0 & 0 &  \\\\\n",
       "\t28 & 2013-04-28 & 0 & 0 & 0 & 0 &  \\\\\n",
       "\t29 & 2013-04-29 & 12 & 0 & 0 & 0 &  \\\\\n",
       "\t30 & 2013-04-30 & 0 & 0 & 0 & 0 &  \\\\\n",
       "\t$\\dots$ & $\\dots$ & $\\dots$ & $\\dots$ & $\\dots$ & $\\dots$ & $\\dots$ \\\\\n",
       "\\end{tabular}\n"
      ],
      "text/plain": [
       "210×6 DataFrame\n",
       "│ Row │ date       │ McTavish │ Bellevue │ Assomption │ Trudeau │ StHubert │\n",
       "│     │ \u001b[90mDate\u001b[39m       │ \u001b[90mInt64⍰\u001b[39m   │ \u001b[90mInt64⍰\u001b[39m   │ \u001b[90mInt64⍰\u001b[39m     │ \u001b[90mInt64⍰\u001b[39m  │ \u001b[90mInt64⍰\u001b[39m   │\n",
       "├─────┼────────────┼──────────┼──────────┼────────────┼─────────┼──────────┤\n",
       "│ 1   │ 2013-04-01 │ 15       │ 5        │ 17         │ 10      │ \u001b[90mmissing\u001b[39m  │\n",
       "│ 2   │ 2013-04-02 │ 0        │ 0        │ 0          │ 0       │ \u001b[90mmissing\u001b[39m  │\n",
       "│ 3   │ 2013-04-03 │ 0        │ 0        │ 0          │ 0       │ \u001b[90mmissing\u001b[39m  │\n",
       "│ 4   │ 2013-04-04 │ 0        │ 0        │ 0          │ 0       │ \u001b[90mmissing\u001b[39m  │\n",
       "│ 5   │ 2013-04-05 │ 12       │ 0        │ 0          │ 3       │ \u001b[90mmissing\u001b[39m  │\n",
       "│ 6   │ 2013-04-06 │ 0        │ 0        │ 0          │ 0       │ \u001b[90mmissing\u001b[39m  │\n",
       "│ 7   │ 2013-04-07 │ 0        │ 0        │ 20         │ 0       │ \u001b[90mmissing\u001b[39m  │\n",
       "│ 8   │ 2013-04-08 │ 0        │ 0        │ 0          │ 0       │ \u001b[90mmissing\u001b[39m  │\n",
       "│ 9   │ 2013-04-09 │ 53       │ 42       │ 40         │ 44      │ \u001b[90mmissing\u001b[39m  │\n",
       "│ 10  │ 2013-04-10 │ 0        │ 0        │ 0          │ 0       │ \u001b[90mmissing\u001b[39m  │\n",
       "⋮\n",
       "│ 200 │ 2019-04-20 │ 49       │ 28       │ 30         │ 47      │ 70       │\n",
       "│ 201 │ 2019-04-21 │ 0        │ 0        │ 2          │ 0       │ 2        │\n",
       "│ 202 │ 2019-04-22 │ 0        │ 0        │ 0          │ 0       │ 0        │\n",
       "│ 203 │ 2019-04-23 │ 19       │ 16       │ 21         │ 12      │ 25       │\n",
       "│ 204 │ 2019-04-24 │ 15       │ 19       │ 13         │ 20      │ 18       │\n",
       "│ 205 │ 2019-04-25 │ 2        │ 0        │ 0          │ 0       │ 0        │\n",
       "│ 206 │ 2019-04-26 │ 45       │ 33       │ 46         │ 42      │ 35       │\n",
       "│ 207 │ 2019-04-27 │ 22       │ 20       │ 31         │ 27      │ 20       │\n",
       "│ 208 │ 2019-04-28 │ 0        │ 0        │ 0          │ 0       │ 0        │\n",
       "│ 209 │ 2019-04-29 │ 0        │ 0        │ 0          │ 0       │ 0        │\n",
       "│ 210 │ 2019-04-30 │ 0        │ 0        │ 0          │ 0       │ 0        │"
      ]
     },
     "execution_count": 25,
     "metadata": {},
     "output_type": "execute_result"
    }
   ],
   "source": [
    "pcpBefore_max"
   ]
  },
  {
   "cell_type": "code",
   "execution_count": null,
   "metadata": {},
   "outputs": [],
   "source": []
  },
  {
   "cell_type": "code",
   "execution_count": null,
   "metadata": {},
   "outputs": [],
   "source": []
  },
  {
   "cell_type": "markdown",
   "metadata": {},
   "source": [
    "#### Extraction du taux horaire journalier maximum des précipitations pour chacune des stations météorologiques"
   ]
  },
  {
   "cell_type": "code",
   "execution_count": 26,
   "metadata": {},
   "outputs": [
    {
     "data": {
      "text/html": [
       "<table class=\"data-frame\"><thead><tr><th></th><th>date</th><th>McTavish</th><th>Bellevue</th><th>Assomption</th><th>Trudeau</th><th>StHubert</th></tr><tr><th></th><th>Date</th><th>Int64⍰</th><th>Int64⍰</th><th>Int64⍰</th><th>Int64⍰</th><th>Int64⍰</th></tr></thead><tbody><p>5 rows × 6 columns</p><tr><th>1</th><td>2013-05-01</td><td>0</td><td>0</td><td>0</td><td>0</td><td>missing</td></tr><tr><th>2</th><td>2013-05-02</td><td>0</td><td>0</td><td>0</td><td>0</td><td>missing</td></tr><tr><th>3</th><td>2013-05-03</td><td>0</td><td>0</td><td>0</td><td>0</td><td>missing</td></tr><tr><th>4</th><td>2013-05-04</td><td>0</td><td>0</td><td>0</td><td>0</td><td>missing</td></tr><tr><th>5</th><td>2013-05-05</td><td>0</td><td>0</td><td>0</td><td>0</td><td>missing</td></tr></tbody></table>"
      ],
      "text/latex": [
       "\\begin{tabular}{r|cccccc}\n",
       "\t& date & McTavish & Bellevue & Assomption & Trudeau & StHubert\\\\\n",
       "\t\\hline\n",
       "\t& Date & Int64⍰ & Int64⍰ & Int64⍰ & Int64⍰ & Int64⍰\\\\\n",
       "\t\\hline\n",
       "\t1 & 2013-05-01 & 0 & 0 & 0 & 0 &  \\\\\n",
       "\t2 & 2013-05-02 & 0 & 0 & 0 & 0 &  \\\\\n",
       "\t3 & 2013-05-03 & 0 & 0 & 0 & 0 &  \\\\\n",
       "\t4 & 2013-05-04 & 0 & 0 & 0 & 0 &  \\\\\n",
       "\t5 & 2013-05-05 & 0 & 0 & 0 & 0 &  \\\\\n",
       "\\end{tabular}\n"
      ],
      "text/plain": [
       "5×6 DataFrame\n",
       "│ Row │ date       │ McTavish │ Bellevue │ Assomption │ Trudeau │ StHubert │\n",
       "│     │ \u001b[90mDate\u001b[39m       │ \u001b[90mInt64⍰\u001b[39m   │ \u001b[90mInt64⍰\u001b[39m   │ \u001b[90mInt64⍰\u001b[39m     │ \u001b[90mInt64⍰\u001b[39m  │ \u001b[90mInt64⍰\u001b[39m   │\n",
       "├─────┼────────────┼──────────┼──────────┼────────────┼─────────┼──────────┤\n",
       "│ 1   │ 2013-05-01 │ 0        │ 0        │ 0          │ 0       │ \u001b[90mmissing\u001b[39m  │\n",
       "│ 2   │ 2013-05-02 │ 0        │ 0        │ 0          │ 0       │ \u001b[90mmissing\u001b[39m  │\n",
       "│ 3   │ 2013-05-03 │ 0        │ 0        │ 0          │ 0       │ \u001b[90mmissing\u001b[39m  │\n",
       "│ 4   │ 2013-05-04 │ 0        │ 0        │ 0          │ 0       │ \u001b[90mmissing\u001b[39m  │\n",
       "│ 5   │ 2013-05-05 │ 0        │ 0        │ 0          │ 0       │ \u001b[90mmissing\u001b[39m  │"
      ]
     },
     "execution_count": 26,
     "metadata": {},
     "output_type": "execute_result"
    }
   ],
   "source": [
    "pcp_max = by(data, :date,  McTavish = :McTavish=>maximum, Bellevue = :Bellevue=>maximum, \n",
    "   Assomption = :Assomption=>maximum, Trudeau = :Trudeau=>maximum, StHubert = :StHubert=>maximum)\n",
    "first(pcp_max,5)"
   ]
  },
  {
   "cell_type": "code",
   "execution_count": 27,
   "metadata": {},
   "outputs": [],
   "source": [
    "for j=1:size(pcp_max,1)\n",
    "    means = 0\n",
    "    sum = 0\n",
    "    alo = names(pcp_max)\n",
    "    for col in alo\n",
    "        if col != alo[1]\n",
    "            if !ismissing(pcp_max[j, col]) \n",
    "                sum = sum +1\n",
    "                means = means + pcp_max[j, col]\n",
    "            end\n",
    "        end\n",
    "    end\n",
    "    if sum != 0\n",
    "        means = means / sum\n",
    "    end\n",
    "    for col in alo\n",
    "        if ismissing(pcp_max[j, col]) && col != alo[1]\n",
    "            tests = floor(means)\n",
    "            pcp_max[j, col] = tests\n",
    "        end\n",
    "    end\n",
    "end"
   ]
  },
  {
   "cell_type": "code",
   "execution_count": 28,
   "metadata": {},
   "outputs": [],
   "source": [
    "for j=1:size(pcpBefore_max,1)\n",
    "    means = 0\n",
    "    sum = 0\n",
    "    alo = names(pcpBefore_max)\n",
    "    for col in alo\n",
    "        if col != alo[1]\n",
    "            if !ismissing(pcpBefore_max[j, col]) \n",
    "                sum = sum +1\n",
    "                means = means + pcpBefore_max[j, col]\n",
    "            end\n",
    "        end\n",
    "    end\n",
    "    if sum != 0\n",
    "        means = means / sum\n",
    "    end\n",
    "    for col in alo\n",
    "        if ismissing(pcpBefore_max[j, col]) && col != alo[1]\n",
    "            tests = floor(means)\n",
    "            pcpBefore_max[j, col] = tests\n",
    "        end\n",
    "    end\n",
    "end"
   ]
  },
  {
   "cell_type": "code",
   "execution_count": 29,
   "metadata": {},
   "outputs": [
    {
     "name": "stderr",
     "output_type": "stream",
     "text": [
      "┌ Warning: `getindex(df::DataFrame, col_ind::ColumnIndex)` is deprecated, use `df[!, col_ind]` instead.\n",
      "│   caller = top-level scope at In[29]:16\n",
      "└ @ Core In[29]:16\n",
      "┌ Warning: `getindex(df::DataFrame, col_ind::ColumnIndex)` is deprecated, use `df[!, col_ind]` instead.\n",
      "│   caller = top-level scope at In[29]:16\n",
      "└ @ Core In[29]:16\n"
     ]
    }
   ],
   "source": [
    "p = DataFrame(McTavish =Int64[])\n",
    "for j=1:size(pcpBefore_max,1)\n",
    "    alo = names(pcpBefore_max)\n",
    "    means = 0\n",
    "    sum = 0\n",
    "    for col in alo\n",
    "        if col != alo[1]\n",
    "            if !ismissing(pcpBefore_max[j, col]) \n",
    "                sum = sum +1\n",
    "                means = means + pcpBefore_max[j, col]\n",
    "            end\n",
    "        end\n",
    "    end\n",
    "    push!(p, means)\n",
    "end\n",
    "pcpBefore_max = DataFrame(date = pcpBefore_max[:date]; McTavish =p[:McTavish]);\n"
   ]
  },
  {
   "cell_type": "code",
   "execution_count": 30,
   "metadata": {},
   "outputs": [
    {
     "name": "stderr",
     "output_type": "stream",
     "text": [
      "┌ Warning: `getindex(df::DataFrame, col_ind::ColumnIndex)` is deprecated, use `df[!, col_ind]` instead.\n",
      "│   caller = top-level scope at In[30]:16\n",
      "└ @ Core In[30]:16\n",
      "┌ Warning: `getindex(df::DataFrame, col_ind::ColumnIndex)` is deprecated, use `df[!, col_ind]` instead.\n",
      "│   caller = top-level scope at In[30]:16\n",
      "└ @ Core In[30]:16\n"
     ]
    },
    {
     "ename": "ArgumentError",
     "evalue": "ArgumentError: column name :McTavish not found in the data frame",
     "output_type": "error",
     "traceback": [
      "ArgumentError: column name :McTavish not found in the data frame",
      "",
      "Stacktrace:",
      " [1] getindex(::DataFrame, ::typeof(!), ::Symbol) at C:\\Users\\elie_\\.julia\\packages\\DataFrames\\yH0f6\\src\\other\\index.jl:238",
      " [2] getindex(::DataFrame, ::Symbol) at .\\deprecated.jl:67",
      " [3] top-level scope at In[30]:16"
     ]
    }
   ],
   "source": [
    "p = DataFrame(pcpBefore_sum =Int64[])\n",
    "for j=1:size(pcpBefore_sum,1)\n",
    "    alo = names(pcpBefore_sum)\n",
    "    means = 0\n",
    "    sum = 0\n",
    "    for col in alo\n",
    "        if col != alo[1]\n",
    "            if !ismissing(pcpBefore_sum[j, col]) \n",
    "                sum = sum +1\n",
    "                means = means + pcpBefore_sum[j, col]\n",
    "            end\n",
    "        end\n",
    "    end\n",
    "    push!(p, means)\n",
    "end\n",
    "pcpBefore_sum = DataFrame(date = pcpBefore_sum[:date]; McTavish =p[:McTavish]);"
   ]
  },
  {
   "cell_type": "code",
   "execution_count": 31,
   "metadata": {},
   "outputs": [
    {
     "name": "stderr",
     "output_type": "stream",
     "text": [
      "┌ Warning: `getindex(df::DataFrame, col_ind::ColumnIndex)` is deprecated, use `df[!, col_ind]` instead.\n",
      "│   caller = top-level scope at In[31]:16\n",
      "└ @ Core In[31]:16\n",
      "┌ Warning: `getindex(df::DataFrame, col_ind::ColumnIndex)` is deprecated, use `df[!, col_ind]` instead.\n",
      "│   caller = top-level scope at In[31]:16\n",
      "└ @ Core In[31]:16\n"
     ]
    },
    {
     "data": {
      "text/html": [
       "<table class=\"data-frame\"><thead><tr><th></th><th>date</th><th>McTavish</th></tr><tr><th></th><th>Date</th><th>Int64</th></tr></thead><tbody><p>1,288 rows × 2 columns</p><tr><th>1</th><td>2013-05-01</td><td>0</td></tr><tr><th>2</th><td>2013-05-02</td><td>0</td></tr><tr><th>3</th><td>2013-05-03</td><td>0</td></tr><tr><th>4</th><td>2013-05-04</td><td>0</td></tr><tr><th>5</th><td>2013-05-05</td><td>0</td></tr><tr><th>6</th><td>2013-05-06</td><td>0</td></tr><tr><th>7</th><td>2013-05-07</td><td>0</td></tr><tr><th>8</th><td>2013-05-08</td><td>0</td></tr><tr><th>9</th><td>2013-05-09</td><td>36</td></tr><tr><th>10</th><td>2013-05-10</td><td>30</td></tr><tr><th>11</th><td>2013-05-11</td><td>236</td></tr><tr><th>12</th><td>2013-05-12</td><td>12</td></tr><tr><th>13</th><td>2013-05-13</td><td>12</td></tr><tr><th>14</th><td>2013-05-14</td><td>0</td></tr><tr><th>15</th><td>2013-05-15</td><td>42</td></tr><tr><th>16</th><td>2013-05-16</td><td>0</td></tr><tr><th>17</th><td>2013-05-17</td><td>0</td></tr><tr><th>18</th><td>2013-05-18</td><td>0</td></tr><tr><th>19</th><td>2013-05-19</td><td>46</td></tr><tr><th>20</th><td>2013-05-20</td><td>132</td></tr><tr><th>21</th><td>2013-05-21</td><td>118</td></tr><tr><th>22</th><td>2013-05-22</td><td>32</td></tr><tr><th>23</th><td>2013-05-23</td><td>426</td></tr><tr><th>24</th><td>2013-05-24</td><td>91</td></tr><tr><th>25</th><td>2013-05-25</td><td>103</td></tr><tr><th>26</th><td>2013-05-26</td><td>123</td></tr><tr><th>27</th><td>2013-05-27</td><td>0</td></tr><tr><th>28</th><td>2013-05-28</td><td>55</td></tr><tr><th>29</th><td>2013-05-29</td><td>268</td></tr><tr><th>30</th><td>2013-05-30</td><td>0</td></tr><tr><th>&vellip;</th><td>&vellip;</td><td>&vellip;</td></tr></tbody></table>"
      ],
      "text/latex": [
       "\\begin{tabular}{r|cc}\n",
       "\t& date & McTavish\\\\\n",
       "\t\\hline\n",
       "\t& Date & Int64\\\\\n",
       "\t\\hline\n",
       "\t1 & 2013-05-01 & 0 \\\\\n",
       "\t2 & 2013-05-02 & 0 \\\\\n",
       "\t3 & 2013-05-03 & 0 \\\\\n",
       "\t4 & 2013-05-04 & 0 \\\\\n",
       "\t5 & 2013-05-05 & 0 \\\\\n",
       "\t6 & 2013-05-06 & 0 \\\\\n",
       "\t7 & 2013-05-07 & 0 \\\\\n",
       "\t8 & 2013-05-08 & 0 \\\\\n",
       "\t9 & 2013-05-09 & 36 \\\\\n",
       "\t10 & 2013-05-10 & 30 \\\\\n",
       "\t11 & 2013-05-11 & 236 \\\\\n",
       "\t12 & 2013-05-12 & 12 \\\\\n",
       "\t13 & 2013-05-13 & 12 \\\\\n",
       "\t14 & 2013-05-14 & 0 \\\\\n",
       "\t15 & 2013-05-15 & 42 \\\\\n",
       "\t16 & 2013-05-16 & 0 \\\\\n",
       "\t17 & 2013-05-17 & 0 \\\\\n",
       "\t18 & 2013-05-18 & 0 \\\\\n",
       "\t19 & 2013-05-19 & 46 \\\\\n",
       "\t20 & 2013-05-20 & 132 \\\\\n",
       "\t21 & 2013-05-21 & 118 \\\\\n",
       "\t22 & 2013-05-22 & 32 \\\\\n",
       "\t23 & 2013-05-23 & 426 \\\\\n",
       "\t24 & 2013-05-24 & 91 \\\\\n",
       "\t25 & 2013-05-25 & 103 \\\\\n",
       "\t26 & 2013-05-26 & 123 \\\\\n",
       "\t27 & 2013-05-27 & 0 \\\\\n",
       "\t28 & 2013-05-28 & 55 \\\\\n",
       "\t29 & 2013-05-29 & 268 \\\\\n",
       "\t30 & 2013-05-30 & 0 \\\\\n",
       "\t$\\dots$ & $\\dots$ & $\\dots$ \\\\\n",
       "\\end{tabular}\n"
      ],
      "text/plain": [
       "1288×2 DataFrame\n",
       "│ Row  │ date       │ McTavish │\n",
       "│      │ \u001b[90mDate\u001b[39m       │ \u001b[90mInt64\u001b[39m    │\n",
       "├──────┼────────────┼──────────┤\n",
       "│ 1    │ 2013-05-01 │ 0        │\n",
       "│ 2    │ 2013-05-02 │ 0        │\n",
       "│ 3    │ 2013-05-03 │ 0        │\n",
       "│ 4    │ 2013-05-04 │ 0        │\n",
       "│ 5    │ 2013-05-05 │ 0        │\n",
       "│ 6    │ 2013-05-06 │ 0        │\n",
       "│ 7    │ 2013-05-07 │ 0        │\n",
       "│ 8    │ 2013-05-08 │ 0        │\n",
       "│ 9    │ 2013-05-09 │ 36       │\n",
       "│ 10   │ 2013-05-10 │ 30       │\n",
       "⋮\n",
       "│ 1278 │ 2019-10-21 │ 0        │\n",
       "│ 1279 │ 2019-10-22 │ 186      │\n",
       "│ 1280 │ 2019-10-23 │ 251      │\n",
       "│ 1281 │ 2019-10-24 │ 0        │\n",
       "│ 1282 │ 2019-10-25 │ 0        │\n",
       "│ 1283 │ 2019-10-26 │ 0        │\n",
       "│ 1284 │ 2019-10-27 │ 471      │\n",
       "│ 1285 │ 2019-10-28 │ 11       │\n",
       "│ 1286 │ 2019-10-29 │ 2        │\n",
       "│ 1287 │ 2019-10-30 │ 0        │\n",
       "│ 1288 │ 2019-10-31 │ 0        │"
      ]
     },
     "execution_count": 31,
     "metadata": {},
     "output_type": "execute_result"
    }
   ],
   "source": [
    "p = DataFrame(McTavish =Int64[])\n",
    "for j=1:size(pcp_max,1)\n",
    "    alo = names(pcp_max)\n",
    "    means = 0\n",
    "    sum = 0\n",
    "    for col in alo\n",
    "        if col != alo[1]\n",
    "            if !ismissing(pcp_max[j, col]) \n",
    "                sum = sum +1\n",
    "                means = means + pcp_max[j, col]\n",
    "            end\n",
    "        end\n",
    "    end\n",
    "    push!(p, means)\n",
    "end\n",
    "pcp_max = DataFrame(date = pcp_max[:date]; McTavish =p[:McTavish])"
   ]
  },
  {
   "cell_type": "code",
   "execution_count": 32,
   "metadata": {},
   "outputs": [
    {
     "name": "stderr",
     "output_type": "stream",
     "text": [
      "┌ Warning: `getindex(df::DataFrame, col_ind::ColumnIndex)` is deprecated, use `df[!, col_ind]` instead.\n",
      "│   caller = top-level scope at In[32]:16\n",
      "└ @ Core In[32]:16\n",
      "┌ Warning: `getindex(df::DataFrame, col_ind::ColumnIndex)` is deprecated, use `df[!, col_ind]` instead.\n",
      "│   caller = top-level scope at In[32]:16\n",
      "└ @ Core In[32]:16\n"
     ]
    },
    {
     "data": {
      "text/html": [
       "<table class=\"data-frame\"><thead><tr><th></th><th>date</th><th>McTavish</th></tr><tr><th></th><th>Date</th><th>Int64</th></tr></thead><tbody><p>1,288 rows × 2 columns</p><tr><th>1</th><td>2013-05-01</td><td>0</td></tr><tr><th>2</th><td>2013-05-02</td><td>0</td></tr><tr><th>3</th><td>2013-05-03</td><td>0</td></tr><tr><th>4</th><td>2013-05-04</td><td>0</td></tr><tr><th>5</th><td>2013-05-05</td><td>0</td></tr><tr><th>6</th><td>2013-05-06</td><td>0</td></tr><tr><th>7</th><td>2013-05-07</td><td>0</td></tr><tr><th>8</th><td>2013-05-08</td><td>0</td></tr><tr><th>9</th><td>2013-05-09</td><td>36</td></tr><tr><th>10</th><td>2013-05-10</td><td>30</td></tr><tr><th>11</th><td>2013-05-11</td><td>673</td></tr><tr><th>12</th><td>2013-05-12</td><td>12</td></tr><tr><th>13</th><td>2013-05-13</td><td>12</td></tr><tr><th>14</th><td>2013-05-14</td><td>0</td></tr><tr><th>15</th><td>2013-05-15</td><td>82</td></tr><tr><th>16</th><td>2013-05-16</td><td>0</td></tr><tr><th>17</th><td>2013-05-17</td><td>0</td></tr><tr><th>18</th><td>2013-05-18</td><td>0</td></tr><tr><th>19</th><td>2013-05-19</td><td>81</td></tr><tr><th>20</th><td>2013-05-20</td><td>263</td></tr><tr><th>21</th><td>2013-05-21</td><td>225</td></tr><tr><th>22</th><td>2013-05-22</td><td>32</td></tr><tr><th>23</th><td>2013-05-23</td><td>840</td></tr><tr><th>24</th><td>2013-05-24</td><td>305</td></tr><tr><th>25</th><td>2013-05-25</td><td>436</td></tr><tr><th>26</th><td>2013-05-26</td><td>723</td></tr><tr><th>27</th><td>2013-05-27</td><td>0</td></tr><tr><th>28</th><td>2013-05-28</td><td>55</td></tr><tr><th>29</th><td>2013-05-29</td><td>581</td></tr><tr><th>30</th><td>2013-05-30</td><td>0</td></tr><tr><th>&vellip;</th><td>&vellip;</td><td>&vellip;</td></tr></tbody></table>"
      ],
      "text/latex": [
       "\\begin{tabular}{r|cc}\n",
       "\t& date & McTavish\\\\\n",
       "\t\\hline\n",
       "\t& Date & Int64\\\\\n",
       "\t\\hline\n",
       "\t1 & 2013-05-01 & 0 \\\\\n",
       "\t2 & 2013-05-02 & 0 \\\\\n",
       "\t3 & 2013-05-03 & 0 \\\\\n",
       "\t4 & 2013-05-04 & 0 \\\\\n",
       "\t5 & 2013-05-05 & 0 \\\\\n",
       "\t6 & 2013-05-06 & 0 \\\\\n",
       "\t7 & 2013-05-07 & 0 \\\\\n",
       "\t8 & 2013-05-08 & 0 \\\\\n",
       "\t9 & 2013-05-09 & 36 \\\\\n",
       "\t10 & 2013-05-10 & 30 \\\\\n",
       "\t11 & 2013-05-11 & 673 \\\\\n",
       "\t12 & 2013-05-12 & 12 \\\\\n",
       "\t13 & 2013-05-13 & 12 \\\\\n",
       "\t14 & 2013-05-14 & 0 \\\\\n",
       "\t15 & 2013-05-15 & 82 \\\\\n",
       "\t16 & 2013-05-16 & 0 \\\\\n",
       "\t17 & 2013-05-17 & 0 \\\\\n",
       "\t18 & 2013-05-18 & 0 \\\\\n",
       "\t19 & 2013-05-19 & 81 \\\\\n",
       "\t20 & 2013-05-20 & 263 \\\\\n",
       "\t21 & 2013-05-21 & 225 \\\\\n",
       "\t22 & 2013-05-22 & 32 \\\\\n",
       "\t23 & 2013-05-23 & 840 \\\\\n",
       "\t24 & 2013-05-24 & 305 \\\\\n",
       "\t25 & 2013-05-25 & 436 \\\\\n",
       "\t26 & 2013-05-26 & 723 \\\\\n",
       "\t27 & 2013-05-27 & 0 \\\\\n",
       "\t28 & 2013-05-28 & 55 \\\\\n",
       "\t29 & 2013-05-29 & 581 \\\\\n",
       "\t30 & 2013-05-30 & 0 \\\\\n",
       "\t$\\dots$ & $\\dots$ & $\\dots$ \\\\\n",
       "\\end{tabular}\n"
      ],
      "text/plain": [
       "1288×2 DataFrame\n",
       "│ Row  │ date       │ McTavish │\n",
       "│      │ \u001b[90mDate\u001b[39m       │ \u001b[90mInt64\u001b[39m    │\n",
       "├──────┼────────────┼──────────┤\n",
       "│ 1    │ 2013-05-01 │ 0        │\n",
       "│ 2    │ 2013-05-02 │ 0        │\n",
       "│ 3    │ 2013-05-03 │ 0        │\n",
       "│ 4    │ 2013-05-04 │ 0        │\n",
       "│ 5    │ 2013-05-05 │ 0        │\n",
       "│ 6    │ 2013-05-06 │ 0        │\n",
       "│ 7    │ 2013-05-07 │ 0        │\n",
       "│ 8    │ 2013-05-08 │ 0        │\n",
       "│ 9    │ 2013-05-09 │ 36       │\n",
       "│ 10   │ 2013-05-10 │ 30       │\n",
       "⋮\n",
       "│ 1278 │ 2019-10-21 │ 0        │\n",
       "│ 1279 │ 2019-10-22 │ 541      │\n",
       "│ 1280 │ 2019-10-23 │ 691      │\n",
       "│ 1281 │ 2019-10-24 │ 0        │\n",
       "│ 1282 │ 2019-10-25 │ 0        │\n",
       "│ 1283 │ 2019-10-26 │ 0        │\n",
       "│ 1284 │ 2019-10-27 │ 1891     │\n",
       "│ 1285 │ 2019-10-28 │ 25       │\n",
       "│ 1286 │ 2019-10-29 │ 2        │\n",
       "│ 1287 │ 2019-10-30 │ 0        │\n",
       "│ 1288 │ 2019-10-31 │ 0        │"
      ]
     },
     "execution_count": 32,
     "metadata": {},
     "output_type": "execute_result"
    }
   ],
   "source": [
    "p = DataFrame(McTavish =Int64[])\n",
    "for j=1:size(pcp_sum,1)\n",
    "    alo = names(pcp_sum)\n",
    "    means = 0\n",
    "    sum = 0\n",
    "    for col in alo\n",
    "        if col != alo[1]\n",
    "            if !ismissing(pcp_sum[j, col]) \n",
    "                sum = sum +1\n",
    "                means = means + pcp_sum[j, col]\n",
    "            end\n",
    "        end\n",
    "    end\n",
    "    push!(p, means)\n",
    "end\n",
    "pcp_sum = DataFrame(date = pcp_sum[:date]; McTavish =p[:McTavish])"
   ]
  },
  {
   "cell_type": "markdown",
   "metadata": {},
   "source": [
    "#### Inclusion dans un dataframe de ces deux variables explicatives potentielles"
   ]
  },
  {
   "cell_type": "code",
   "execution_count": null,
   "metadata": {},
   "outputs": [],
   "source": []
  },
  {
   "cell_type": "code",
   "execution_count": 33,
   "metadata": {},
   "outputs": [],
   "source": [
    "ouvrage = \"4350-01D\"\n",
    "moyenneSumSurverses = Float64[]\n",
    "moyenneMaxSurverses = Float64[]\n",
    "moyenneSumBeforeSurverses = Float64[]\n",
    "moyenneMaxBeforeSurverses = Float64[]\n",
    "varianceSumSurverses = Float64[];\n",
    "varianceMaxSurverses = Float64[];\n",
    "varianceSumBeforeSurverses = Float64[]\n",
    "varianceMaxBeforeSurverses = Float64[]\n",
    "\n",
    "moyenneSumNonSurverses = Float64[]\n",
    "moyenneMaxNonSurverses = Float64[]\n",
    "moyenneSumBeforeNonSurverses = Float64[]\n",
    "moyenneMaxBeforeNonSurverses = Float64[]\n",
    "varianceSumNonSurverses = Float64[]\n",
    "varianceMaxNonSurverses = Float64[]\n",
    "varianceMaxBeforeNonSurverses = Float64[]\n",
    "varianceSumBeforeNonSurverses = Float64[]\n",
    "for j=1:size(filtervals,1)\n",
    "    dfSurverse = filter(row -> row.NO_OUVRAGE == filtervals[j]  && row.SURVERSE ==1, surverse_df)\n",
    "    dfNonSurverse = filter(row -> row.NO_OUVRAGE == filtervals[j]  && row.SURVERSE ==0, surverse_df)\n",
    "\n",
    "\n",
    "    moyenneSumSurverse = 0;\n",
    "    moyenneMaxSurverse = 0;\n",
    "    moyenneSumBeforeSurverse = 0;\n",
    "    moyenneMaxBeforeSurverse = 0;\n",
    "    for i=1:size(dfSurverse,1)\n",
    "\n",
    "        ind = findfirst(pcp_sum[:,:date] .== dfSurverse[i,:DATE])\n",
    "        moyenneSumSurverse = moyenneSumSurverse +  pcp_sum[ind,:McTavish]\n",
    "        \n",
    "        indmax = findfirst(pcp_max[:,:date] .== dfSurverse[i,:DATE])\n",
    "        moyenneMaxSurverse = moyenneMaxSurverse +  pcp_max[indmax,:McTavish]\n",
    "        \n",
    "        indx = findfirst(pcp_sum[:,:date] .== (dfSurverse[i,:DATE]-Dates.Day(1)))\n",
    "        sumBeforeToadd = 0;\n",
    "        if indx == nothing\n",
    "            indx = findfirst(pcpBefore_sum[:,:date] .== (dfSurverse[i,:DATE]-Dates.Day(1)))\n",
    "            sumBeforeToadd = pcpBefore_sum[indx,:McTavish]\n",
    "        else\n",
    "            sumBeforeToadd = pcp_sum[indx,:McTavish]\n",
    "        end\n",
    "        moyenneSumBeforeSurverse = moyenneSumBeforeSurverse +  sumBeforeToadd\n",
    "        \n",
    "        indx = findfirst(pcp_max[:,:date] .== (dfSurverse[i,:DATE]-Dates.Day(1)))\n",
    "        sumBeforeToadd = 0;\n",
    "        if indx == nothing\n",
    "            indx = findfirst(pcpBefore_max[:,:date] .== (dfSurverse[i,:DATE]-Dates.Day(1)))\n",
    "            sumBeforeToadd = pcpBefore_max[indx,:McTavish]\n",
    "        else\n",
    "            sumBeforeToadd = pcp_max[indx,:McTavish]\n",
    "        end\n",
    "        moyenneMaxBeforeSurverse = moyenneMaxBeforeSurverse +  sumBeforeToadd\n",
    "    end\n",
    "    moyenneSumSurverse = moyenneSumSurverse / size(dfSurverse,1)\n",
    "    push!(moyenneSumSurverses, moyenneSumSurverse)\n",
    "    moyenneMaxSurverse = moyenneMaxSurverse / size(dfSurverse,1)\n",
    "    push!(moyenneMaxSurverses, moyenneMaxSurverse)\n",
    "    moyenneSumBeforeSurverse = moyenneSumBeforeSurverse / size(dfSurverse,1)\n",
    "    push!(moyenneSumBeforeSurverses, moyenneSumBeforeSurverse)\n",
    "    moyenneMaxBeforeSurverse = moyenneMaxBeforeSurverse / size(dfSurverse,1)\n",
    "    push!(moyenneMaxBeforeSurverses, moyenneMaxBeforeSurverse)\n",
    "    \n",
    "    moyenneSumNonSurverse = 0;\n",
    "    moyenneMaxNonSurverse = 0;\n",
    "    moyenneSumBeforeNonSurverse = 0;\n",
    "    moyenneMaxBeforeNonSurverse = 0;\n",
    "    for i=1:size(dfNonSurverse,1)\n",
    "\n",
    "        ind = findfirst(pcp_sum[:,:date] .== dfNonSurverse[i,:DATE])\n",
    "        moyenneSumNonSurverse = moyenneSumNonSurverse +  pcp_sum[ind,:McTavish]\n",
    "        \n",
    "        ind = findfirst(pcp_max[:,:date] .== dfNonSurverse[i,:DATE])\n",
    "        moyenneMaxNonSurverse = moyenneMaxNonSurverse +  pcp_max[ind,:McTavish]\n",
    "        \n",
    "        indx = findfirst(pcp_sum[:,:date] .== (dfNonSurverse[i,:DATE]-Dates.Day(1)))\n",
    "        sumBeforeToadd = 0;\n",
    "        if indx == nothing\n",
    "            indx = findfirst(pcpBefore_sum[:,:date] .== (dfNonSurverse[i,:DATE]-Dates.Day(1)))\n",
    "            sumBeforeToadd = pcpBefore_sum[indx,:McTavish]\n",
    "        else\n",
    "            sumBeforeToadd = pcp_sum[indx,:McTavish]\n",
    "        end\n",
    "        moyenneSumBeforeNonSurverse = moyenneSumBeforeNonSurverse +  sumBeforeToadd\n",
    "        \n",
    "        indx = findfirst(pcp_max[:,:date] .== (dfNonSurverse[i,:DATE]-Dates.Day(1)))\n",
    "        sumBeforeToadd = 0;\n",
    "        if indx == nothing\n",
    "            indx = findfirst(pcpBefore_max[:,:date] .== (dfNonSurverse[i,:DATE]-Dates.Day(1)))\n",
    "            sumBeforeToadd = pcpBefore_max[indx,:McTavish]\n",
    "        else\n",
    "            sumBeforeToadd = pcp_max[indx,:McTavish]\n",
    "        end\n",
    "        moyenneMaxBeforeNonSurverse = moyenneMaxBeforeNonSurverse +  sumBeforeToadd\n",
    "    end\n",
    "    moyenneSumNonSurverse = moyenneSumNonSurverse / size(dfNonSurverse,1)\n",
    "    push!(moyenneSumNonSurverses, moyenneSumNonSurverse)\n",
    "    moyenneMaxNonSurverse = moyenneMaxNonSurverse / size(dfNonSurverse,1)\n",
    "    push!(moyenneMaxNonSurverses, moyenneMaxNonSurverse)\n",
    "    \n",
    "    moyenneSumBeforeNonSurverse = moyenneSumBeforeNonSurverse / size(dfNonSurverse,1)\n",
    "    push!(moyenneSumBeforeNonSurverses, moyenneSumBeforeNonSurverse)\n",
    "    moyenneMaxBeforeNonSurverse = moyenneMaxBeforeNonSurverse / size(dfNonSurverse,1)\n",
    "    push!(moyenneMaxBeforeNonSurverses, moyenneMaxBeforeNonSurverse)\n",
    "    \n",
    "    \n",
    "    #### maintenant la variance\n",
    "    varianceSumSurverse = 0;\n",
    "    varianceMaxSurverse = 0;\n",
    "    varianceSumBeforeSurverse = 0;\n",
    "    varianceMaxBeforeSurverse = 0;\n",
    "    for i=1:size(dfSurverse,1)\n",
    "\n",
    "        ind = findfirst(pcp_sum[:,:date] .== dfSurverse[i,:DATE])\n",
    "        varianceSumSurverse = varianceSumSurverse +  (pcp_sum[ind,:McTavish]-moyenneSumSurverse)^2\n",
    "\n",
    "        ind = findfirst(pcp_max[:,:date] .== dfSurverse[i,:DATE])\n",
    "        varianceMaxSurverse = varianceMaxSurverse +  (pcp_max[ind,:McTavish]-moyenneMaxSurverse)^2\n",
    "        \n",
    "         indx = findfirst(pcp_sum[:,:date] .== (dfSurverse[i,:DATE]-Dates.Day(1)))\n",
    "        sumBeforeToadd = 0;\n",
    "        if indx == nothing\n",
    "            indx = findfirst(pcpBefore_sum[:,:date] .== (dfSurverse[i,:DATE]-Dates.Day(1)))\n",
    "            sumBeforeToadd = pcpBefore_sum[indx,:McTavish]\n",
    "        else\n",
    "            sumBeforeToadd = pcp_sum[indx,:McTavish] \n",
    "        end\n",
    "        varianceSumBeforeSurverse = varianceSumBeforeSurverse +  (sumBeforeToadd - moyenneSumBeforeSurverse)^2\n",
    "        \n",
    "        indx = findfirst(pcp_max[:,:date] .== (dfSurverse[i,:DATE]-Dates.Day(1)))\n",
    "        sumBeforeToadd = 0;\n",
    "        if indx == nothing\n",
    "            indx = findfirst(pcpBefore_max[:,:date] .== (dfSurverse[i,:DATE]-Dates.Day(1)))\n",
    "            sumBeforeToadd = pcpBefore_max[indx,:McTavish]\n",
    "        else\n",
    "            sumBeforeToadd = pcp_max[indx,:McTavish]\n",
    "        end\n",
    "        varianceMaxBeforeSurverse = varianceMaxBeforeSurverse +  (sumBeforeToadd-moyenneMaxBeforeSurverse)^2\n",
    "    end\n",
    "    varianceSumSurverse = varianceSumSurverse / size(dfSurverse,1)\n",
    "    push!(varianceSumSurverses, varianceSumSurverse)\n",
    "    varianceMaxSurverse = varianceMaxSurverse / size(dfSurverse,1)\n",
    "    push!(varianceMaxSurverses, varianceMaxSurverse)\n",
    "\n",
    "    varianceSumBeforeSurverse = varianceSumBeforeSurverse / size(dfSurverse,1)\n",
    "    push!(varianceSumBeforeSurverses, varianceSumBeforeSurverse)\n",
    "    varianceMaxBeforeSurverse = varianceMaxBeforeSurverse / size(dfSurverse,1)\n",
    "    push!(varianceMaxBeforeSurverses,varianceMaxBeforeSurverse)\n",
    "    \n",
    "    varianceSumNonSurverse = 0;\n",
    "    varianceMaxNonSurverse = 0;\n",
    "    varianceSumBeforeNonSurverse = 0;\n",
    "    varianceMaxBeforeNonSurverse = 0;\n",
    "    for i=1:size(dfNonSurverse,1)\n",
    "\n",
    "        ind = findfirst(pcp_sum[:,:date] .== dfNonSurverse[i,:DATE])\n",
    "        varianceSumNonSurverse = varianceSumNonSurverse +  (pcp_sum[ind,:McTavish]-moyenneSumNonSurverse)^2\n",
    "\n",
    "        ind = findfirst(pcp_max[:,:date] .== dfNonSurverse[i,:DATE])\n",
    "        varianceMaxNonSurverse = varianceMaxNonSurverse +  (pcp_max[ind,:McTavish]-moyenneMaxNonSurverse)^2\n",
    "        \n",
    "        indx = findfirst(pcp_sum[:,:date] .== (dfNonSurverse[i,:DATE]-Dates.Day(1)))\n",
    "        sumBeforeToadd = 0;\n",
    "        if indx == nothing\n",
    "            indx = findfirst(pcpBefore_sum[:,:date] .== (dfNonSurverse[i,:DATE]-Dates.Day(1)))\n",
    "            sumBeforeToadd = pcpBefore_sum[indx,:McTavish]\n",
    "        else\n",
    "            sumBeforeToadd = pcp_sum[indx,:McTavish] \n",
    "        end\n",
    "        varianceSumBeforeNonSurverse = varianceSumBeforeNonSurverse +  (sumBeforeToadd - moyenneSumBeforeNonSurverse)^2\n",
    "        \n",
    "        indx = findfirst(pcp_max[:,:date] .== (dfNonSurverse[i,:DATE]-Dates.Day(1)))\n",
    "        sumBeforeToadd = 0;\n",
    "        if indx == nothing\n",
    "            indx = findfirst(pcpBefore_max[:,:date] .== (dfNonSurverse[i,:DATE]-Dates.Day(1)))\n",
    "            sumBeforeToadd = pcpBefore_max[indx,:McTavish]\n",
    "        else\n",
    "            sumBeforeToadd = pcp_max[indx,:McTavish]\n",
    "        end\n",
    "        varianceMaxBeforeNonSurverse = varianceMaxBeforeNonSurverse +  (sumBeforeToadd-moyenneMaxBeforeNonSurverse)^2\n",
    "    end\n",
    "    varianceSumNonSurverse = varianceSumNonSurverse / size(dfNonSurverse,1)\n",
    "    push!(varianceSumNonSurverses, varianceSumNonSurverse)\n",
    "    varianceMaxNonSurverse = varianceMaxNonSurverse / size(dfNonSurverse,1)\n",
    "    push!(varianceMaxNonSurverses, varianceMaxNonSurverse) \n",
    "    \n",
    "    varianceSumBeforeNonSurverse = varianceSumBeforeNonSurverse / size(dfNonSurverse,1)\n",
    "    push!(varianceSumBeforeNonSurverses, varianceSumBeforeNonSurverse)\n",
    "    varianceMaxBeforeNonSurverse = varianceMaxBeforeNonSurverse / size(dfNonSurverse,1)\n",
    "    push!(varianceMaxBeforeNonSurverses,varianceMaxBeforeNonSurverse)\n",
    "    \n",
    "   \n",
    "end"
   ]
  },
  {
   "cell_type": "code",
   "execution_count": null,
   "metadata": {},
   "outputs": [],
   "source": []
  },
  {
   "cell_type": "code",
   "execution_count": null,
   "metadata": {},
   "outputs": [],
   "source": []
  },
  {
   "cell_type": "markdown",
   "metadata": {},
   "source": [
    "#### Traçage des distribution de la somme des précipitations en fonction des surverses ou non\n",
    "\n",
    "On remarque que les deux distributions sont très différentes. Ceci suggère que la somme des précipitations à la station McTavish a un effet sur les surverses au Bota-Bota."
   ]
  },
  {
   "cell_type": "code",
   "execution_count": null,
   "metadata": {},
   "outputs": [],
   "source": []
  },
  {
   "cell_type": "markdown",
   "metadata": {},
   "source": [
    "#### Traçage des distribution de la somme des précipitations en fonction des surverses ou non\n",
    "\n",
    "On remarque que les deux distributions sont très différentes. Ceci suggère que le maximum journalier des précipitations à la station McTavish a un effet sur les surverses au Bota-Bota."
   ]
  },
  {
   "cell_type": "code",
   "execution_count": null,
   "metadata": {},
   "outputs": [],
   "source": []
  },
  {
   "cell_type": "markdown",
   "metadata": {},
   "source": [
    "# Création du fichier de prédictions pour soumettre sur Kaggle\n",
    "\n",
    "Dans ce cas-ci, nous prédirons une surverse avec une probabilité de 1/2 sans considérer aucune variable explicative."
   ]
  },
  {
   "cell_type": "code",
   "execution_count": 34,
   "metadata": {},
   "outputs": [
    {
     "data": {
      "text/html": [
       "<table class=\"data-frame\"><thead><tr><th></th><th>NO_OUVRAGE</th><th>DATE</th></tr><tr><th></th><th>String</th><th>Date</th></tr></thead><tbody><p>5 rows × 2 columns</p><tr><th>1</th><td>3260-01D</td><td>2019-05-02</td></tr><tr><th>2</th><td>3260-01D</td><td>2019-05-09</td></tr><tr><th>3</th><td>3260-01D</td><td>2019-05-10</td></tr><tr><th>4</th><td>3260-01D</td><td>2019-05-15</td></tr><tr><th>5</th><td>3260-01D</td><td>2019-05-20</td></tr></tbody></table>"
      ],
      "text/latex": [
       "\\begin{tabular}{r|cc}\n",
       "\t& NO\\_OUVRAGE & DATE\\\\\n",
       "\t\\hline\n",
       "\t& String & Date\\\\\n",
       "\t\\hline\n",
       "\t1 & 3260-01D & 2019-05-02 \\\\\n",
       "\t2 & 3260-01D & 2019-05-09 \\\\\n",
       "\t3 & 3260-01D & 2019-05-10 \\\\\n",
       "\t4 & 3260-01D & 2019-05-15 \\\\\n",
       "\t5 & 3260-01D & 2019-05-20 \\\\\n",
       "\\end{tabular}\n"
      ],
      "text/plain": [
       "5×2 DataFrame\n",
       "│ Row │ NO_OUVRAGE │ DATE       │\n",
       "│     │ \u001b[90mString\u001b[39m     │ \u001b[90mDate\u001b[39m       │\n",
       "├─────┼────────────┼────────────┤\n",
       "│ 1   │ 3260-01D   │ 2019-05-02 │\n",
       "│ 2   │ 3260-01D   │ 2019-05-09 │\n",
       "│ 3   │ 3260-01D   │ 2019-05-10 │\n",
       "│ 4   │ 3260-01D   │ 2019-05-15 │\n",
       "│ 5   │ 3260-01D   │ 2019-05-20 │"
      ]
     },
     "execution_count": 34,
     "metadata": {},
     "output_type": "execute_result"
    }
   ],
   "source": [
    "\n",
    "testfile = CSV.read(\"data/test.csv\")\n",
    "first(testfile,5)"
   ]
  },
  {
   "cell_type": "code",
   "execution_count": null,
   "metadata": {},
   "outputs": [],
   "source": []
  },
  {
   "cell_type": "code",
   "execution_count": null,
   "metadata": {},
   "outputs": [],
   "source": []
  },
  {
   "cell_type": "code",
   "execution_count": 38,
   "metadata": {},
   "outputs": [
    {
     "name": "stdout",
     "output_type": "stream",
     "text": [
      "1.0000578059770862\n",
      "0.003126720808828867\n",
      "2.63619406992115e-5\n",
      "0.9449883663592336\n",
      "0.09087755656427855\n",
      "1.6190469915825777e-5\n",
      "0.999959669098005\n",
      "1.00057918883087\n",
      "1.000337451664212\n",
      "0.0025690963588819488\n",
      "0.8553337308717641\n",
      "0.9767763769523249\n",
      "1.619911948534369e-5\n",
      "6.256245390326676e-7\n",
      "0.9832879525326955\n",
      "0.983049918512628\n",
      "0.00017787868188747397\n",
      "0.9832879525326955\n",
      "0.002037949963696987\n",
      "0.0016282146657070156\n",
      "8.749189998139588e-5\n",
      "0.8640455506688571\n",
      "0.9999095855893451\n",
      "0.9767763769523249\n",
      "1.0002863010174352\n",
      "0.8860935147697019\n",
      "0.004027139650166245\n",
      "2.1185036582195604e-5\n",
      "0.8800139899368767\n",
      "0.8978136240991087\n",
      "0.8800139899368767\n",
      "1.0156461241697855e-5\n",
      "1.0000496809053594\n",
      "0.9487793316143701\n",
      "0.9988187635875584\n",
      "0.9526992757962239\n",
      "0.9501471358744643\n",
      "0.9420314354830178\n",
      "5.99208700063668e-5\n",
      "0.9475184746397465\n",
      "0.9420314354830178\n",
      "0.9551750188650328\n",
      "0.9475184746397465\n",
      "1.3943152299392686e-8\n",
      "0.9475184746397465\n",
      "1.0002442842498382\n",
      "0.9999508708314546\n",
      "0.9496761320048768\n",
      "0.9337708710943313\n",
      "0.9337708710943313\n",
      "0.9337708710943313\n",
      "0.005250122425410124\n",
      "5.413174289804998e-5\n",
      "0.9867077624870702\n",
      "0.9420303713118399\n",
      "0.9901422020643279\n",
      "1.0003679395335507\n",
      "0.046625700404350906\n",
      "0.9371183706168149\n",
      "2.53437086063189e-7\n",
      "0.9371183706168149\n",
      "9.274032138833222e-6\n",
      "0.0007693376372559263\n",
      "0.9767763769523249\n",
      "0.9767763769523249\n",
      "2.6743547979723336e-5\n",
      "0.0012170905386156134\n",
      "9.473072728695194e-5\n",
      "0.9832879525326955\n",
      "0.9767763769523249\n",
      "0.9767763769523249\n",
      "0.9767763769523249\n",
      "0.9767763769523249\n",
      "-4.529693435757592e-9\n",
      "0.9955454536376478\n",
      "6.396608411106664e-7\n",
      "2.3202366672524425e-6\n",
      "0.867435902183414\n",
      "0.8800139899368767\n",
      "1.700916750039336e-8\n",
      "0.867435902183414\n",
      "0.9935855949726803\n",
      "2.343271280507769e-6\n",
      "0.00014151683544705039\n",
      "0.867435902183414\n",
      "1.0959146966561482e-5\n",
      "7.954159167773604e-5\n",
      "0.9475184746397465\n",
      "1.563446957986651e-6\n",
      "0.9958857612143359\n",
      "0.42497830943210707\n",
      "0.09544727444285128\n",
      "0.9475184746397465\n",
      "0.9420314354830178\n",
      "0.9420314354830178\n",
      "0.9420314354830178\n",
      "0.0028531849392693124\n",
      "0.9337708710943313\n",
      "-2.4376442948056515e-9\n",
      "0.9997076945617328\n",
      "0.9337708710943313\n",
      "-5.0053285975797314e-8\n",
      "0.9337708710943313\n",
      "0.00023667719535458496\n",
      "0.9626682159731728\n",
      "0.9337708710943313\n",
      "8.665531083115484e-6\n",
      "0.9371183706168149\n",
      "0.9371183706168149\n",
      "0.6637044540931145\n",
      "0.9371183706168149\n",
      "0.9371183706168149\n",
      "0.0001675767356862285\n",
      "0.9790425605045255\n",
      "0.016060424041917504\n",
      "0.9872380074332278\n",
      "0.8579712981878976\n",
      "0.955676295982261\n",
      "0.9767763769523249\n",
      "0.9767763769523249\n",
      "0.030382474689881714\n",
      "0.15575032054912458\n",
      "0.9767763769523249\n",
      "0.0002431621757497647\n",
      "0.09600673062572843\n",
      "0.0037782405899378117\n",
      "0.031796137040371465\n",
      "7.902887286146987e-5\n",
      "0.9767763769523249\n",
      "0.9906761741395881\n",
      "1.0010239090525659\n",
      "1.0005336631512962\n",
      "0.9767763769523249\n",
      "0.05532788774940076\n",
      "0.867435902183414\n",
      "0.867435902183414\n",
      "0.9963451077080073\n",
      "0.867435902183414\n",
      "0.867435902183414\n",
      "0.00013704965009885347\n",
      "0.9408102243274301\n",
      "0.867435902183414\n",
      "0.867435902183414\n",
      "0.022801171825138095\n",
      "0.8978136240991087\n",
      "0.867435902183414\n",
      "0.9759215276889897\n",
      "0.9420314354830178\n",
      "1.0008200635943323\n",
      "0.9420314354830178\n",
      "0.9420314354830178\n",
      "0.9420314354830178\n",
      "7.02039516870516e-5\n",
      "0.8566759520903037\n",
      "0.9971499400642482\n",
      "0.9420314354830178\n",
      "0.9420314354830178\n",
      "0.9985716295550499\n",
      "1.002782645877099\n",
      "0.9551750188650328\n",
      "0.9337708710943313\n",
      "0.9337708710943313\n",
      "9.870010565514465e-5\n",
      "0.30147187122761615\n",
      "0.8123450598408644\n",
      "0.029122832890754003\n",
      "0.9420303713118399\n",
      "0.9209000414070893\n",
      "0.9371183706168149\n",
      "0.0033567791540313687\n",
      "0.9942936973630365\n",
      "0.0010156921847864978\n",
      "0.7924223054453764\n",
      "0.9449883663592336\n",
      "0.9371183706168149\n",
      "0.9449883663592336\n",
      "0.9371183706168149\n",
      "6.797674164212182e-5\n",
      "0.00010745411778137587\n",
      "0.9832879525326955\n",
      "1.577135851246417e-5\n",
      "0.9767763769523249\n",
      "0.9832879525326955\n",
      "0.9767763769523249\n",
      "0.9767763769523249\n",
      "0.9832879525326955\n",
      "1.8041726925686874e-6\n",
      "8.367640594503576e-6\n",
      "0.867435902183414\n",
      "0.867435902183414\n",
      "0.9089249887735745\n",
      "0.0012945261766633017\n",
      "0.867435902183414\n",
      "0.904528086333588\n",
      "0.867435902183414\n",
      "0.00010909151855307634\n",
      "0.867435902183414\n",
      "0.9420314354830178\n",
      "0.9475184746397465\n",
      "0.9420314354830178\n",
      "0.04569909129865357\n",
      "0.9420314354830178\n",
      "0.9999937522147165\n",
      "0.9420314354830178\n",
      "0.026304267829032342\n",
      "0.9420314354830178\n",
      "0.9475184746397465\n",
      "0.9906392186780695\n",
      "0.9420314354830178\n",
      "0.9420314354830178\n",
      "0.9420314354830178\n",
      "0.9420314354830178\n",
      "0.9420314354830178\n",
      "0.9337708710943313\n",
      "0.9420303713118399\n",
      "0.9731102929195157\n",
      "0.007215946435983535\n",
      "0.005790223312159686\n",
      "1.0005618672544927\n",
      "1.0002359475232943\n",
      "0.9337708710943313\n",
      "0.9599986533694811\n",
      "0.9932512330311914\n",
      "0.002788551933324241\n",
      "0.9337708710943313\n",
      "0.9337708710943313\n",
      "0.9449883663592336\n",
      "2.7075364911275592e-5\n",
      "0.9449883663592336\n",
      "-8.564887315600241e-7\n",
      "0.01564930295895415\n",
      "0.9371183706168149\n",
      "0.9371183706168149\n",
      "0.9371183706168149\n",
      "0.9579413880185274\n",
      "0.9832879525326955\n",
      "1.551819244297289e-6\n",
      "4.6062240600430896e-5\n",
      "1.5750048479292505e-7\n",
      "0.9998567663992594\n",
      "0.9767763769523249\n",
      "0.9767763769523249\n",
      "0.0001997127978416296\n",
      "0.9767763769523249\n",
      "0.04778186631444574\n",
      "0.9919443176579218\n",
      "4.4055428901996267e-7\n",
      "0.006203325992491838\n",
      "0.9942062476027125\n",
      "-9.196254921165745e-8\n",
      "-1.2306564600474296e-6\n",
      "0.867435902183414\n",
      "0.867435902183414\n",
      "0.867435902183414\n",
      "0.867435902183414\n",
      "0.9782491829153324\n",
      "0.33983507520103373\n",
      "0.9475184746397465\n",
      "8.48578403049184e-5\n",
      "5.6168595158275835e-6\n",
      "0.9475184746397465\n",
      "0.9420314354830178\n",
      "0.00035695156865043543\n",
      "0.990796086357101\n",
      "0.9420314354830178\n",
      "1.000020460185625\n",
      "0.9420314354830178\n",
      "0.9420314354830178\n",
      "0.9420314354830178\n",
      "0.014343902457656087\n",
      "0.9604657952942768\n",
      "0.9420303713118399\n",
      "5.923583375534003e-5\n",
      "-5.078343918320955e-8\n",
      "0.9420303713118399\n",
      "0.9337708710943313\n",
      "0.9337708710943313\n",
      "0.9337708710943313\n",
      "0.9337708710943313\n",
      "0.0015206569166393291\n",
      "0.28446222212263006\n",
      "0.9607151499700021\n",
      "0.9599986533694811\n"
     ]
    },
    {
     "data": {
      "text/plain": [
       "283-element Array{String,1}:\n",
       " \"3260-01D_2019-05-02\"\n",
       " \"3260-01D_2019-05-09\"\n",
       " \"3260-01D_2019-05-10\"\n",
       " \"3260-01D_2019-05-15\"\n",
       " \"3260-01D_2019-05-20\"\n",
       " \"3260-01D_2019-05-23\"\n",
       " \"3260-01D_2019-05-24\"\n",
       " \"3260-01D_2019-05-26\"\n",
       " \"3260-01D_2019-05-30\"\n",
       " \"3350-07D_2019-05-01\"\n",
       " \"3350-07D_2019-05-02\"\n",
       " \"3350-07D_2019-05-08\"\n",
       " \"3350-07D_2019-05-09\"\n",
       " ⋮                    \n",
       " \"4380-01D_2019-09-01\"\n",
       " \"4380-01D_2019-09-02\"\n",
       " \"4380-01D_2019-09-04\"\n",
       " \"4380-01D_2019-09-05\"\n",
       " \"4380-01D_2019-09-12\"\n",
       " \"4380-01D_2019-09-13\"\n",
       " \"4380-01D_2019-09-16\"\n",
       " \"4380-01D_2019-09-22\"\n",
       " \"4380-01D_2019-09-26\"\n",
       " \"4380-01D_2019-09-28\"\n",
       " \"4380-01D_2019-09-29\"\n",
       " \"4380-01D_2019-09-30\""
      ]
     },
     "execution_count": 38,
     "metadata": {},
     "output_type": "execute_result"
    }
   ],
   "source": [
    "surverse = Int[]\n",
    "for i=1:size(testfile,1)\n",
    "    indproba = findfirst(filtervals[:] .== testfile[i,:NO_OUVRAGE])\n",
    "    ind = findfirst(pcp_sum[:,:date] .== testfile[i,:DATE])\n",
    "    sum = pcp_sum[ind,:McTavish]\n",
    "    ind = findfirst(pcp_max[:,:date] .== testfile[i,:DATE])\n",
    "    max = pcp_max[ind,:McTavish]\n",
    "\n",
    "    Psurverse = n₁[indproba]/n[indproba]\n",
    "\n",
    "    pSumSurverses = (1/sqrt(2*π*varianceSumSurverses[indproba])) - (1/2)*(((sum-moyenneSumSurverses[indproba])^2)/varianceSumSurverses[indproba])\n",
    "\n",
    "    pMaxSurverses = (1/sqrt(2*π*varianceMaxSurverses[indproba])) - (1/2)*(((max-moyenneMaxSurverses[indproba])^2)/varianceMaxSurverses[indproba])\n",
    "    pSumBeforeSurverses = (1/sqrt(2*π*varianceSumBeforeSurverses[indproba])) - (1/2)*(((sum-moyenneSumBeforeSurverses[indproba])^2)/varianceSumBeforeSurverses[indproba])\n",
    "\n",
    "    pMaxBeforeSurverses = (1/sqrt(2*π*varianceMaxBeforeSurverses[indproba])) - (1/2)*(((max-moyenneMaxBeforeSurverses[indproba])^2)/varianceMaxBeforeSurverses[indproba])\n",
    "     \n",
    "\n",
    "    Pnonsurverse = n₀[indproba]/n[indproba]\n",
    "    pSumNonSurverses = (1/sqrt(2*π*varianceSumNonSurverses[indproba])) - (1/2)*(((sum-moyenneSumNonSurverses[indproba])^2)/varianceSumNonSurverses[indproba])\n",
    "    pMaxNonSurverses = (1/sqrt(2*π*varianceMaxNonSurverses[indproba])) - (1/2)*(((max-moyenneMaxNonSurverses[indproba])^2)/varianceMaxNonSurverses[indproba])\n",
    "    pSumBeforeNonSurverses = (1/sqrt(2*π*varianceSumBeforeNonSurverses[indproba])) - (1/2)*(((sum-moyenneSumBeforeNonSurverses[indproba])^2)/varianceSumBeforeNonSurverses[indproba])\n",
    "    pMaxBeforeNonSurverses = (1/sqrt(2*π*varianceMaxBeforeNonSurverses[indproba])) - (1/2)*(((max-moyenneMaxBeforeNonSurverses[indproba])^2)/varianceMaxBeforeNonSurverses[indproba])\n",
    "\n",
    "    pxSsurverse = pSumSurverses * pMaxSurverses##* pSumBeforeSurverses * pMaxBeforeSurverses\n",
    "    \n",
    "    pxSnonsurverse = pSumNonSurverses * pMaxNonSurverses## * pSumBeforeNonSurverses * pMaxBeforeNonSurverses\n",
    "    \n",
    "    psurverse = (pxSsurverse * Psurverse)/(pxSsurverse * Psurverse + pxSnonsurverse*Pnonsurverse)\n",
    "    push!(surverse, (psurverse<0.5));\n",
    "    println(\"$psurverse\")\n",
    "end\n",
    "# Pour chacune des lignes du fichier test, comportant un ouvrage et une date, une prédiction est requise.\n",
    "# Dans ce cas-ci, utilisons une prédiction les plus naîve. \n",
    "# On prédit avec une chance sur deux qu'il y ait surverse, sans utiliser de variables explicatives\n",
    "\n",
    "\n",
    "\n",
    "# Création du fichier sampleSubmission.csv pour soumettre sur Kaggle\n",
    "ID = testfile[:,:NO_OUVRAGE].*\"_\".*string.(testfile[:,:DATE])\n",
    "sampleSubmission = DataFrame(ID = ID, Surverse=surverse)\n",
    "CSV.write(\"result4.csv\",sampleSubmission)\n",
    "\n",
    "# Vous pouvez par la suite déposer le fichier sampleSubmission.csv sur Kaggle.\n",
    "ID"
   ]
  },
  {
   "cell_type": "code",
   "execution_count": null,
   "metadata": {},
   "outputs": [],
   "source": []
  },
  {
   "cell_type": "code",
   "execution_count": null,
   "metadata": {},
   "outputs": [],
   "source": []
  }
 ],
 "metadata": {
  "@webio": {
   "lastCommId": null,
   "lastKernelId": null
  },
  "kernelspec": {
   "display_name": "Julia 1.3.0",
   "language": "julia",
   "name": "julia-1.3"
  },
  "language_info": {
   "file_extension": ".jl",
   "mimetype": "application/julia",
   "name": "julia",
   "version": "1.3.0"
  }
 },
 "nbformat": 4,
 "nbformat_minor": 2
}
